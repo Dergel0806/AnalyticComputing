{
 "cells": [
  {
   "cell_type": "markdown",
   "metadata": {},
   "source": [
    "![](https://www.nydailynews.com/resizer/0cDtqYztGY7aePTmeVdAdDCkLN8=/800x532/top/arc-anglerfish-arc2-prod-tronc.s3.amazonaws.com/public/5DHBFCGBWJFZFBEE3NWGUAKFAY.jpg)\n",
    "\n",
    "# <p style=\"text-align: center;\"> Crime in Context, 1975-2015 </p>\n",
    "## <p style=\"text-align: center;\"> Are violent crime rates rising or falling in American cities? </p>\n",
    "#### <p style=\"text-align: right;\"> Made by Ihor Markevych </p>"
   ]
  },
  {
   "cell_type": "markdown",
   "metadata": {},
   "source": [
    "## Table of content\n",
    "\n",
    "1. [**Objective of the Proposed Research**](#objective)\n",
    "1. [**Data Exploration**](#de)\n",
    "1. [**Plot**](#plot)\n",
    "1. [**Summary**](#summary)\n",
    "1. [**Recommendations**](#recommendations)"
   ]
  },
  {
   "cell_type": "markdown",
   "metadata": {},
   "source": [
    "<a id='objective'></a>\n",
    "\n",
    "## Objective of the Proposed Research\n",
    "\n",
    "We want to conduct research on [crimes dataset](https://www.kaggle.com/marshallproject/crime-rates) and analyze data to find answers to questions about crime in different regions across the years.  \n",
    "Research will be focused on comparing different agencies and states in terms of crime percapita and violent crimes. Other types of crimes will also be investigated.  \n",
    "  \n",
    "We'll investigate each type of crime separately and answer next questions. Those question will be researched from historical point of view, so, research will be conducted on both modern and historical data. \n",
    "What are the biggest and smallest values for each type of the crime in dataset, such as violent crimes, homicides, rapes, assaults and robberies?   \n",
    "  \n",
    "What are the safest states to live in and how much worse the situation is in the most dangerous states? Which states are the most dangerous and so, should have more attention from law enforcement?  \n",
    "Which cities have most crimes per capita and what is other available data about them?"
   ]
  },
  {
   "cell_type": "code",
   "execution_count": 1,
   "metadata": {},
   "outputs": [],
   "source": [
    "import pandas as pd\n",
    "import matplotlib.pyplot as plt\n",
    "import re"
   ]
  },
  {
   "cell_type": "code",
   "execution_count": 2,
   "metadata": {},
   "outputs": [],
   "source": [
    "d = pd.read_csv('./data/report.csv')"
   ]
  },
  {
   "cell_type": "markdown",
   "metadata": {},
   "source": [
    "<a id='de'></a>\n",
    "\n",
    "## Data Exploration"
   ]
  },
  {
   "cell_type": "markdown",
   "metadata": {},
   "source": [
    "Let's see first 10 rows of dataset."
   ]
  },
  {
   "cell_type": "code",
   "execution_count": 3,
   "metadata": {},
   "outputs": [
    {
     "data": {
      "text/html": [
       "<div>\n",
       "<style scoped>\n",
       "    .dataframe tbody tr th:only-of-type {\n",
       "        vertical-align: middle;\n",
       "    }\n",
       "\n",
       "    .dataframe tbody tr th {\n",
       "        vertical-align: top;\n",
       "    }\n",
       "\n",
       "    .dataframe thead th {\n",
       "        text-align: right;\n",
       "    }\n",
       "</style>\n",
       "<table border=\"1\" class=\"dataframe\">\n",
       "  <thead>\n",
       "    <tr style=\"text-align: right;\">\n",
       "      <th></th>\n",
       "      <th>report_year</th>\n",
       "      <th>agency_code</th>\n",
       "      <th>agency_jurisdiction</th>\n",
       "      <th>population</th>\n",
       "      <th>violent_crimes</th>\n",
       "      <th>homicides</th>\n",
       "      <th>rapes</th>\n",
       "      <th>assaults</th>\n",
       "      <th>robberies</th>\n",
       "      <th>months_reported</th>\n",
       "      <th>crimes_percapita</th>\n",
       "      <th>homicides_percapita</th>\n",
       "      <th>rapes_percapita</th>\n",
       "      <th>assaults_percapita</th>\n",
       "      <th>robberies_percapita</th>\n",
       "    </tr>\n",
       "  </thead>\n",
       "  <tbody>\n",
       "    <tr>\n",
       "      <th>0</th>\n",
       "      <td>1975</td>\n",
       "      <td>NM00101</td>\n",
       "      <td>Albuquerque, NM</td>\n",
       "      <td>286238.0</td>\n",
       "      <td>2383.0</td>\n",
       "      <td>30.0</td>\n",
       "      <td>181.0</td>\n",
       "      <td>1353.0</td>\n",
       "      <td>819.0</td>\n",
       "      <td>12.0</td>\n",
       "      <td>832.52</td>\n",
       "      <td>10.48</td>\n",
       "      <td>63.23</td>\n",
       "      <td>472.68</td>\n",
       "      <td>286.13</td>\n",
       "    </tr>\n",
       "    <tr>\n",
       "      <th>1</th>\n",
       "      <td>1975</td>\n",
       "      <td>TX22001</td>\n",
       "      <td>Arlington, TX</td>\n",
       "      <td>112478.0</td>\n",
       "      <td>278.0</td>\n",
       "      <td>5.0</td>\n",
       "      <td>28.0</td>\n",
       "      <td>132.0</td>\n",
       "      <td>113.0</td>\n",
       "      <td>12.0</td>\n",
       "      <td>247.16</td>\n",
       "      <td>4.45</td>\n",
       "      <td>24.89</td>\n",
       "      <td>117.36</td>\n",
       "      <td>100.46</td>\n",
       "    </tr>\n",
       "    <tr>\n",
       "      <th>2</th>\n",
       "      <td>1975</td>\n",
       "      <td>GAAPD00</td>\n",
       "      <td>Atlanta, GA</td>\n",
       "      <td>490584.0</td>\n",
       "      <td>8033.0</td>\n",
       "      <td>185.0</td>\n",
       "      <td>443.0</td>\n",
       "      <td>3518.0</td>\n",
       "      <td>3887.0</td>\n",
       "      <td>12.0</td>\n",
       "      <td>1637.44</td>\n",
       "      <td>37.71</td>\n",
       "      <td>90.30</td>\n",
       "      <td>717.10</td>\n",
       "      <td>792.32</td>\n",
       "    </tr>\n",
       "    <tr>\n",
       "      <th>3</th>\n",
       "      <td>1975</td>\n",
       "      <td>CO00101</td>\n",
       "      <td>Aurora, CO</td>\n",
       "      <td>116656.0</td>\n",
       "      <td>611.0</td>\n",
       "      <td>7.0</td>\n",
       "      <td>44.0</td>\n",
       "      <td>389.0</td>\n",
       "      <td>171.0</td>\n",
       "      <td>12.0</td>\n",
       "      <td>523.76</td>\n",
       "      <td>6.00</td>\n",
       "      <td>37.72</td>\n",
       "      <td>333.46</td>\n",
       "      <td>146.58</td>\n",
       "    </tr>\n",
       "    <tr>\n",
       "      <th>4</th>\n",
       "      <td>1975</td>\n",
       "      <td>TX22701</td>\n",
       "      <td>Austin, TX</td>\n",
       "      <td>300400.0</td>\n",
       "      <td>1215.0</td>\n",
       "      <td>33.0</td>\n",
       "      <td>190.0</td>\n",
       "      <td>463.0</td>\n",
       "      <td>529.0</td>\n",
       "      <td>12.0</td>\n",
       "      <td>404.46</td>\n",
       "      <td>10.99</td>\n",
       "      <td>63.25</td>\n",
       "      <td>154.13</td>\n",
       "      <td>176.10</td>\n",
       "    </tr>\n",
       "    <tr>\n",
       "      <th>5</th>\n",
       "      <td>1975</td>\n",
       "      <td>MD00301</td>\n",
       "      <td>Baltimore County, MD</td>\n",
       "      <td>642154.0</td>\n",
       "      <td>1259.0</td>\n",
       "      <td>25.0</td>\n",
       "      <td>137.0</td>\n",
       "      <td>347.0</td>\n",
       "      <td>750.0</td>\n",
       "      <td>12.0</td>\n",
       "      <td>196.06</td>\n",
       "      <td>3.89</td>\n",
       "      <td>21.33</td>\n",
       "      <td>54.04</td>\n",
       "      <td>116.79</td>\n",
       "    </tr>\n",
       "    <tr>\n",
       "      <th>6</th>\n",
       "      <td>1975</td>\n",
       "      <td>MDBPD00</td>\n",
       "      <td>Baltimore, MD</td>\n",
       "      <td>864100.0</td>\n",
       "      <td>16086.0</td>\n",
       "      <td>259.0</td>\n",
       "      <td>463.0</td>\n",
       "      <td>6309.0</td>\n",
       "      <td>9055.0</td>\n",
       "      <td>12.0</td>\n",
       "      <td>1861.59</td>\n",
       "      <td>29.97</td>\n",
       "      <td>53.58</td>\n",
       "      <td>730.12</td>\n",
       "      <td>1047.91</td>\n",
       "    </tr>\n",
       "    <tr>\n",
       "      <th>7</th>\n",
       "      <td>1975</td>\n",
       "      <td>MA01301</td>\n",
       "      <td>Boston, MA</td>\n",
       "      <td>616120.0</td>\n",
       "      <td>11386.0</td>\n",
       "      <td>119.0</td>\n",
       "      <td>453.0</td>\n",
       "      <td>3036.0</td>\n",
       "      <td>7778.0</td>\n",
       "      <td>12.0</td>\n",
       "      <td>1848.02</td>\n",
       "      <td>19.31</td>\n",
       "      <td>73.52</td>\n",
       "      <td>492.76</td>\n",
       "      <td>1262.42</td>\n",
       "    </tr>\n",
       "    <tr>\n",
       "      <th>8</th>\n",
       "      <td>1975</td>\n",
       "      <td>NY01401</td>\n",
       "      <td>Buffalo, NY</td>\n",
       "      <td>422276.0</td>\n",
       "      <td>3350.0</td>\n",
       "      <td>63.0</td>\n",
       "      <td>192.0</td>\n",
       "      <td>755.0</td>\n",
       "      <td>2340.0</td>\n",
       "      <td>12.0</td>\n",
       "      <td>793.32</td>\n",
       "      <td>14.92</td>\n",
       "      <td>45.47</td>\n",
       "      <td>178.79</td>\n",
       "      <td>554.14</td>\n",
       "    </tr>\n",
       "    <tr>\n",
       "      <th>9</th>\n",
       "      <td>1975</td>\n",
       "      <td>NC06001</td>\n",
       "      <td>Charlotte, NC</td>\n",
       "      <td>262103.0</td>\n",
       "      <td>1937.0</td>\n",
       "      <td>68.0</td>\n",
       "      <td>71.0</td>\n",
       "      <td>976.0</td>\n",
       "      <td>822.0</td>\n",
       "      <td>12.0</td>\n",
       "      <td>739.02</td>\n",
       "      <td>25.94</td>\n",
       "      <td>27.09</td>\n",
       "      <td>372.37</td>\n",
       "      <td>313.62</td>\n",
       "    </tr>\n",
       "  </tbody>\n",
       "</table>\n",
       "</div>"
      ],
      "text/plain": [
       "   report_year agency_code   agency_jurisdiction  population  violent_crimes  \\\n",
       "0         1975     NM00101       Albuquerque, NM    286238.0          2383.0   \n",
       "1         1975     TX22001         Arlington, TX    112478.0           278.0   \n",
       "2         1975     GAAPD00           Atlanta, GA    490584.0          8033.0   \n",
       "3         1975     CO00101            Aurora, CO    116656.0           611.0   \n",
       "4         1975     TX22701            Austin, TX    300400.0          1215.0   \n",
       "5         1975     MD00301  Baltimore County, MD    642154.0          1259.0   \n",
       "6         1975     MDBPD00         Baltimore, MD    864100.0         16086.0   \n",
       "7         1975     MA01301            Boston, MA    616120.0         11386.0   \n",
       "8         1975     NY01401           Buffalo, NY    422276.0          3350.0   \n",
       "9         1975     NC06001         Charlotte, NC    262103.0          1937.0   \n",
       "\n",
       "   homicides  rapes  assaults  robberies  months_reported  crimes_percapita  \\\n",
       "0       30.0  181.0    1353.0      819.0             12.0            832.52   \n",
       "1        5.0   28.0     132.0      113.0             12.0            247.16   \n",
       "2      185.0  443.0    3518.0     3887.0             12.0           1637.44   \n",
       "3        7.0   44.0     389.0      171.0             12.0            523.76   \n",
       "4       33.0  190.0     463.0      529.0             12.0            404.46   \n",
       "5       25.0  137.0     347.0      750.0             12.0            196.06   \n",
       "6      259.0  463.0    6309.0     9055.0             12.0           1861.59   \n",
       "7      119.0  453.0    3036.0     7778.0             12.0           1848.02   \n",
       "8       63.0  192.0     755.0     2340.0             12.0            793.32   \n",
       "9       68.0   71.0     976.0      822.0             12.0            739.02   \n",
       "\n",
       "   homicides_percapita  rapes_percapita  assaults_percapita  \\\n",
       "0                10.48            63.23              472.68   \n",
       "1                 4.45            24.89              117.36   \n",
       "2                37.71            90.30              717.10   \n",
       "3                 6.00            37.72              333.46   \n",
       "4                10.99            63.25              154.13   \n",
       "5                 3.89            21.33               54.04   \n",
       "6                29.97            53.58              730.12   \n",
       "7                19.31            73.52              492.76   \n",
       "8                14.92            45.47              178.79   \n",
       "9                25.94            27.09              372.37   \n",
       "\n",
       "   robberies_percapita  \n",
       "0               286.13  \n",
       "1               100.46  \n",
       "2               792.32  \n",
       "3               146.58  \n",
       "4               176.10  \n",
       "5               116.79  \n",
       "6              1047.91  \n",
       "7              1262.42  \n",
       "8               554.14  \n",
       "9               313.62  "
      ]
     },
     "execution_count": 3,
     "metadata": {},
     "output_type": "execute_result"
    }
   ],
   "source": [
    "d.iloc[:10]"
   ]
  },
  {
   "cell_type": "markdown",
   "metadata": {},
   "source": [
    "And also check types of values in columns."
   ]
  },
  {
   "cell_type": "code",
   "execution_count": 4,
   "metadata": {},
   "outputs": [
    {
     "name": "stdout",
     "output_type": "stream",
     "text": [
      "<class 'pandas.core.frame.DataFrame'>\n",
      "RangeIndex: 2829 entries, 0 to 2828\n",
      "Data columns (total 15 columns):\n",
      "report_year            2829 non-null int64\n",
      "agency_code            2788 non-null object\n",
      "agency_jurisdiction    2829 non-null object\n",
      "population             2760 non-null float64\n",
      "violent_crimes         2794 non-null float64\n",
      "homicides              2795 non-null float64\n",
      "rapes                  2754 non-null float64\n",
      "assaults               2753 non-null float64\n",
      "robberies              2754 non-null float64\n",
      "months_reported        2692 non-null float64\n",
      "crimes_percapita       2794 non-null float64\n",
      "homicides_percapita    2795 non-null float64\n",
      "rapes_percapita        2754 non-null float64\n",
      "assaults_percapita     2753 non-null float64\n",
      "robberies_percapita    2754 non-null float64\n",
      "dtypes: float64(12), int64(1), object(2)\n",
      "memory usage: 331.6+ KB\n"
     ]
    }
   ],
   "source": [
    "d.info()"
   ]
  },
  {
   "cell_type": "markdown",
   "metadata": {},
   "source": [
    "Now we want to know, which agencies do we have."
   ]
  },
  {
   "cell_type": "code",
   "execution_count": 5,
   "metadata": {},
   "outputs": [
    {
     "name": "stdout",
     "output_type": "stream",
     "text": [
      "['Albuquerque, NM' 'Arlington, TX' 'Atlanta, GA' 'Aurora, CO' 'Austin, TX'\n",
      " 'Baltimore County, MD' 'Baltimore, MD' 'Boston, MA' 'Buffalo, NY'\n",
      " 'Charlotte, NC' 'Chicago, IL' 'Cincinnati, OH' 'Cleveland, OH'\n",
      " 'Columbus, OH' 'Dallas, TX' 'Denver, CO' 'Detroit, MI' 'El Paso, TX'\n",
      " 'Fairfax County, VA' 'Fort Worth, TX' 'Fresno, CA' 'Honolulu, HI'\n",
      " 'Houston, TX' 'Indianapolis, IN' 'Jacksonville, FL' 'Kansas City, MO'\n",
      " 'Las Vegas, NV' 'Long Beach, CA' 'Los Angeles County, CA'\n",
      " 'Los Angeles, CA' 'Louisville, KY' 'Memphis, TN' 'Mesa, AZ'\n",
      " 'Miami-Dade County, FL' 'Miami, FL' 'Milwaukee, WI' 'Minneapolis, MN'\n",
      " 'Montgomery County, MD' 'Nashville, TN' 'Nassau County, NY'\n",
      " 'New Orleans, LA' 'New York City, NY' 'Newark, NJ' 'Oakland, CA'\n",
      " 'Oklahoma City, OK' 'Omaha, NE' 'Orlando, FL' 'Philadelphia, PA'\n",
      " 'Phoenix, AZ' 'Pittsburgh, PA' 'Portland, OR'\n",
      " \"Prince George's County, MD\" 'Raleigh, NC' 'Sacramento, CA'\n",
      " 'Salt Lake City, UT' 'San Antonio, TX' 'San Diego, CA'\n",
      " 'San Francisco, CA' 'San Jose, CA' 'Seattle, WA' 'St. Louis, MO'\n",
      " 'Suffolk County, NY' 'Tampa, FL' 'Tucson, AZ' 'Tulsa, OK'\n",
      " 'Virginia Beach, VA' 'Washington, DC' 'Wichita, KS' 'United States']\n"
     ]
    }
   ],
   "source": [
    "print(d['agency_jurisdiction'].unique())"
   ]
  },
  {
   "cell_type": "markdown",
   "metadata": {},
   "source": [
    "Let's find percentage of missing values for each column."
   ]
  },
  {
   "cell_type": "code",
   "execution_count": 6,
   "metadata": {},
   "outputs": [
    {
     "data": {
      "text/plain": [
       "report_year            0.000000\n",
       "agency_code            1.449275\n",
       "agency_jurisdiction    0.000000\n",
       "population             2.439024\n",
       "violent_crimes         1.237186\n",
       "homicides              1.201838\n",
       "rapes                  2.651113\n",
       "assaults               2.686462\n",
       "robberies              2.651113\n",
       "months_reported        4.842701\n",
       "crimes_percapita       1.237186\n",
       "homicides_percapita    1.201838\n",
       "rapes_percapita        2.651113\n",
       "assaults_percapita     2.686462\n",
       "robberies_percapita    2.651113\n",
       "dtype: float64"
      ]
     },
     "execution_count": 6,
     "metadata": {},
     "output_type": "execute_result"
    }
   ],
   "source": [
    "d.isnull().sum() * 100 / len(d)"
   ]
  },
  {
   "cell_type": "markdown",
   "metadata": {},
   "source": [
    "We almost don't have missing values."
   ]
  },
  {
   "cell_type": "markdown",
   "metadata": {},
   "source": [
    "How much rows for each agency do we have?"
   ]
  },
  {
   "cell_type": "code",
   "execution_count": 25,
   "metadata": {},
   "outputs": [
    {
     "data": {
      "text/plain": [
       "Fort Worth, TX                41\n",
       "Baltimore County, MD          41\n",
       "Houston, TX                   41\n",
       "San Antonio, TX               41\n",
       "Los Angeles, CA               41\n",
       "Honolulu, HI                  41\n",
       "Los Angeles County, CA        41\n",
       "Oakland, CA                   41\n",
       "San Francisco, CA             41\n",
       "Prince George's County, MD    41\n",
       "Name: agency_jurisdiction, dtype: int64"
      ]
     },
     "execution_count": 25,
     "metadata": {},
     "output_type": "execute_result"
    }
   ],
   "source": [
    "d['agency_jurisdiction'].value_counts().head(10)"
   ]
  },
  {
   "cell_type": "markdown",
   "metadata": {},
   "source": [
    "This is easily explainable by the fact that we have data for 41 years in this dataset. So, we have data for each year for all agencies."
   ]
  },
  {
   "cell_type": "markdown",
   "metadata": {},
   "source": [
    "Let's find, which state has most crimes."
   ]
  },
  {
   "cell_type": "markdown",
   "metadata": {},
   "source": [
    "_regex magic is happening down there!_"
   ]
  },
  {
   "cell_type": "code",
   "execution_count": 8,
   "metadata": {},
   "outputs": [],
   "source": [
    "def getState(s:str):\n",
    "    if(s == 'United States'):\n",
    "        return float('nan')\n",
    "    else:\n",
    "        return re.search('(.+), (..)', s).group(2)"
   ]
  },
  {
   "cell_type": "markdown",
   "metadata": {},
   "source": [
    "_next cell is mapping dataframe column into another column using function from a cell above to get state of each agency_"
   ]
  },
  {
   "cell_type": "code",
   "execution_count": 9,
   "metadata": {},
   "outputs": [],
   "source": [
    "d['state'] = d['agency_jurisdiction'].apply(getState)"
   ]
  },
  {
   "cell_type": "markdown",
   "metadata": {},
   "source": [
    "_then we group our dataset by newly created column to get total quantity of crimes of different types for each state across the years_"
   ]
  },
  {
   "cell_type": "code",
   "execution_count": 10,
   "metadata": {},
   "outputs": [],
   "source": [
    "states = d.groupby('state')[['violent_crimes', 'homicides', 'rapes', 'assaults', 'robberies']].sum()"
   ]
  },
  {
   "cell_type": "markdown",
   "metadata": {},
   "source": [
    "Let's see, which dataset we have created by grouping."
   ]
  },
  {
   "cell_type": "code",
   "execution_count": 11,
   "metadata": {
    "scrolled": false
   },
   "outputs": [
    {
     "data": {
      "text/html": [
       "<div>\n",
       "<style scoped>\n",
       "    .dataframe tbody tr th:only-of-type {\n",
       "        vertical-align: middle;\n",
       "    }\n",
       "\n",
       "    .dataframe tbody tr th {\n",
       "        vertical-align: top;\n",
       "    }\n",
       "\n",
       "    .dataframe thead th {\n",
       "        text-align: right;\n",
       "    }\n",
       "</style>\n",
       "<table border=\"1\" class=\"dataframe\">\n",
       "  <thead>\n",
       "    <tr style=\"text-align: right;\">\n",
       "      <th></th>\n",
       "      <th>violent_crimes</th>\n",
       "      <th>homicides</th>\n",
       "      <th>rapes</th>\n",
       "      <th>assaults</th>\n",
       "      <th>robberies</th>\n",
       "    </tr>\n",
       "    <tr>\n",
       "      <th>state</th>\n",
       "      <th></th>\n",
       "      <th></th>\n",
       "      <th></th>\n",
       "      <th></th>\n",
       "      <th></th>\n",
       "    </tr>\n",
       "  </thead>\n",
       "  <tbody>\n",
       "    <tr>\n",
       "      <th>AZ</th>\n",
       "      <td>582766.0</td>\n",
       "      <td>7931.0</td>\n",
       "      <td>35954.0</td>\n",
       "      <td>348572.0</td>\n",
       "      <td>190309.0</td>\n",
       "    </tr>\n",
       "    <tr>\n",
       "      <th>CA</th>\n",
       "      <td>3990220.0</td>\n",
       "      <td>51317.0</td>\n",
       "      <td>164424.0</td>\n",
       "      <td>2093002.0</td>\n",
       "      <td>1681477.0</td>\n",
       "    </tr>\n",
       "    <tr>\n",
       "      <th>CO</th>\n",
       "      <td>247616.0</td>\n",
       "      <td>3255.0</td>\n",
       "      <td>22848.0</td>\n",
       "      <td>138549.0</td>\n",
       "      <td>82964.0</td>\n",
       "    </tr>\n",
       "    <tr>\n",
       "      <th>DC</th>\n",
       "      <td>433937.0</td>\n",
       "      <td>9889.0</td>\n",
       "      <td>12195.0</td>\n",
       "      <td>187757.0</td>\n",
       "      <td>224096.0</td>\n",
       "    </tr>\n",
       "    <tr>\n",
       "      <th>FL</th>\n",
       "      <td>1503422.0</td>\n",
       "      <td>16424.0</td>\n",
       "      <td>61717.0</td>\n",
       "      <td>879203.0</td>\n",
       "      <td>551137.0</td>\n",
       "    </tr>\n",
       "  </tbody>\n",
       "</table>\n",
       "</div>"
      ],
      "text/plain": [
       "       violent_crimes  homicides     rapes   assaults  robberies\n",
       "state                                                           \n",
       "AZ           582766.0     7931.0   35954.0   348572.0   190309.0\n",
       "CA          3990220.0    51317.0  164424.0  2093002.0  1681477.0\n",
       "CO           247616.0     3255.0   22848.0   138549.0    82964.0\n",
       "DC           433937.0     9889.0   12195.0   187757.0   224096.0\n",
       "FL          1503422.0    16424.0   61717.0   879203.0   551137.0"
      ]
     },
     "execution_count": 11,
     "metadata": {},
     "output_type": "execute_result"
    }
   ],
   "source": [
    "states.head()"
   ]
  },
  {
   "cell_type": "markdown",
   "metadata": {},
   "source": [
    "_we have created new dataframe using grouping from original one. this dataframe has total number of crimes by type for each state for all years_"
   ]
  },
  {
   "cell_type": "markdown",
   "metadata": {},
   "source": [
    "###### Agencies with most crimes percapita for year 2015:"
   ]
  },
  {
   "cell_type": "code",
   "execution_count": 12,
   "metadata": {},
   "outputs": [
    {
     "data": {
      "text/html": [
       "<div>\n",
       "<style scoped>\n",
       "    .dataframe tbody tr th:only-of-type {\n",
       "        vertical-align: middle;\n",
       "    }\n",
       "\n",
       "    .dataframe tbody tr th {\n",
       "        vertical-align: top;\n",
       "    }\n",
       "\n",
       "    .dataframe thead th {\n",
       "        text-align: right;\n",
       "    }\n",
       "</style>\n",
       "<table border=\"1\" class=\"dataframe\">\n",
       "  <thead>\n",
       "    <tr style=\"text-align: right;\">\n",
       "      <th></th>\n",
       "      <th>report_year</th>\n",
       "      <th>agency_code</th>\n",
       "      <th>agency_jurisdiction</th>\n",
       "      <th>population</th>\n",
       "      <th>violent_crimes</th>\n",
       "      <th>homicides</th>\n",
       "      <th>rapes</th>\n",
       "      <th>assaults</th>\n",
       "      <th>robberies</th>\n",
       "      <th>months_reported</th>\n",
       "      <th>crimes_percapita</th>\n",
       "      <th>homicides_percapita</th>\n",
       "      <th>rapes_percapita</th>\n",
       "      <th>assaults_percapita</th>\n",
       "      <th>robberies_percapita</th>\n",
       "      <th>state</th>\n",
       "    </tr>\n",
       "  </thead>\n",
       "  <tbody>\n",
       "    <tr>\n",
       "      <th>2820</th>\n",
       "      <td>2015</td>\n",
       "      <td>MOSPD00</td>\n",
       "      <td>St. Louis, MO</td>\n",
       "      <td>317095.0</td>\n",
       "      <td>5762.0</td>\n",
       "      <td>188.0</td>\n",
       "      <td>263.0</td>\n",
       "      <td>3521.0</td>\n",
       "      <td>1790.0</td>\n",
       "      <td>NaN</td>\n",
       "      <td>1817.12</td>\n",
       "      <td>59.29</td>\n",
       "      <td>82.94</td>\n",
       "      <td>1110.39</td>\n",
       "      <td>564.50</td>\n",
       "      <td>MO</td>\n",
       "    </tr>\n",
       "    <tr>\n",
       "      <th>2776</th>\n",
       "      <td>2015</td>\n",
       "      <td>MI82349</td>\n",
       "      <td>Detroit, MI</td>\n",
       "      <td>673225.0</td>\n",
       "      <td>11846.0</td>\n",
       "      <td>295.0</td>\n",
       "      <td>530.0</td>\n",
       "      <td>7564.0</td>\n",
       "      <td>3457.0</td>\n",
       "      <td>NaN</td>\n",
       "      <td>1759.59</td>\n",
       "      <td>43.82</td>\n",
       "      <td>78.73</td>\n",
       "      <td>1123.55</td>\n",
       "      <td>513.50</td>\n",
       "      <td>MI</td>\n",
       "    </tr>\n",
       "    <tr>\n",
       "      <th>2791</th>\n",
       "      <td>2015</td>\n",
       "      <td>TNMPD00</td>\n",
       "      <td>Memphis, TN</td>\n",
       "      <td>657936.0</td>\n",
       "      <td>11449.0</td>\n",
       "      <td>135.0</td>\n",
       "      <td>530.0</td>\n",
       "      <td>7653.0</td>\n",
       "      <td>3131.0</td>\n",
       "      <td>NaN</td>\n",
       "      <td>1740.14</td>\n",
       "      <td>20.52</td>\n",
       "      <td>80.55</td>\n",
       "      <td>1163.18</td>\n",
       "      <td>475.88</td>\n",
       "      <td>TN</td>\n",
       "    </tr>\n",
       "    <tr>\n",
       "      <th>2795</th>\n",
       "      <td>2015</td>\n",
       "      <td>WIMPD00</td>\n",
       "      <td>Milwaukee, WI</td>\n",
       "      <td>600400.0</td>\n",
       "      <td>9583.0</td>\n",
       "      <td>145.0</td>\n",
       "      <td>436.0</td>\n",
       "      <td>5253.0</td>\n",
       "      <td>3749.0</td>\n",
       "      <td>NaN</td>\n",
       "      <td>1596.10</td>\n",
       "      <td>24.15</td>\n",
       "      <td>72.62</td>\n",
       "      <td>874.92</td>\n",
       "      <td>624.42</td>\n",
       "      <td>WI</td>\n",
       "    </tr>\n",
       "    <tr>\n",
       "      <th>2766</th>\n",
       "      <td>2015</td>\n",
       "      <td>MDBPD00</td>\n",
       "      <td>Baltimore, MD</td>\n",
       "      <td>621252.0</td>\n",
       "      <td>9542.0</td>\n",
       "      <td>344.0</td>\n",
       "      <td>287.0</td>\n",
       "      <td>4598.0</td>\n",
       "      <td>4313.0</td>\n",
       "      <td>NaN</td>\n",
       "      <td>1535.93</td>\n",
       "      <td>55.37</td>\n",
       "      <td>46.20</td>\n",
       "      <td>740.12</td>\n",
       "      <td>694.24</td>\n",
       "      <td>MD</td>\n",
       "    </tr>\n",
       "  </tbody>\n",
       "</table>\n",
       "</div>"
      ],
      "text/plain": [
       "      report_year agency_code agency_jurisdiction  population  violent_crimes  \\\n",
       "2820         2015     MOSPD00       St. Louis, MO    317095.0          5762.0   \n",
       "2776         2015     MI82349         Detroit, MI    673225.0         11846.0   \n",
       "2791         2015     TNMPD00         Memphis, TN    657936.0         11449.0   \n",
       "2795         2015     WIMPD00       Milwaukee, WI    600400.0          9583.0   \n",
       "2766         2015     MDBPD00       Baltimore, MD    621252.0          9542.0   \n",
       "\n",
       "      homicides  rapes  assaults  robberies  months_reported  \\\n",
       "2820      188.0  263.0    3521.0     1790.0              NaN   \n",
       "2776      295.0  530.0    7564.0     3457.0              NaN   \n",
       "2791      135.0  530.0    7653.0     3131.0              NaN   \n",
       "2795      145.0  436.0    5253.0     3749.0              NaN   \n",
       "2766      344.0  287.0    4598.0     4313.0              NaN   \n",
       "\n",
       "      crimes_percapita  homicides_percapita  rapes_percapita  \\\n",
       "2820           1817.12                59.29            82.94   \n",
       "2776           1759.59                43.82            78.73   \n",
       "2791           1740.14                20.52            80.55   \n",
       "2795           1596.10                24.15            72.62   \n",
       "2766           1535.93                55.37            46.20   \n",
       "\n",
       "      assaults_percapita  robberies_percapita state  \n",
       "2820             1110.39               564.50    MO  \n",
       "2776             1123.55               513.50    MI  \n",
       "2791             1163.18               475.88    TN  \n",
       "2795              874.92               624.42    WI  \n",
       "2766              740.12               694.24    MD  "
      ]
     },
     "execution_count": 12,
     "metadata": {},
     "output_type": "execute_result"
    }
   ],
   "source": [
    "topCrimes = d.loc[d['report_year'] == 2015].nlargest(5, ['crimes_percapita'])  \n",
    "topCrimes"
   ]
  },
  {
   "cell_type": "code",
   "execution_count": 13,
   "metadata": {},
   "outputs": [
    {
     "name": "stdout",
     "output_type": "stream",
     "text": [
      "['St. Louis, MO' 'Detroit, MI' 'Memphis, TN' 'Milwaukee, WI'\n",
      " 'Baltimore, MD']\n"
     ]
    }
   ],
   "source": [
    "print(topCrimes['agency_jurisdiction'].unique())"
   ]
  },
  {
   "cell_type": "markdown",
   "metadata": {},
   "source": [
    "As we can see, St. Louis and Detroit are very crimed comparing to other agencies."
   ]
  },
  {
   "cell_type": "markdown",
   "metadata": {},
   "source": [
    "###### States with most total violent crimes:"
   ]
  },
  {
   "cell_type": "code",
   "execution_count": 14,
   "metadata": {},
   "outputs": [
    {
     "data": {
      "text/html": [
       "<div>\n",
       "<style scoped>\n",
       "    .dataframe tbody tr th:only-of-type {\n",
       "        vertical-align: middle;\n",
       "    }\n",
       "\n",
       "    .dataframe tbody tr th {\n",
       "        vertical-align: top;\n",
       "    }\n",
       "\n",
       "    .dataframe thead th {\n",
       "        text-align: right;\n",
       "    }\n",
       "</style>\n",
       "<table border=\"1\" class=\"dataframe\">\n",
       "  <thead>\n",
       "    <tr style=\"text-align: right;\">\n",
       "      <th></th>\n",
       "      <th>violent_crimes</th>\n",
       "      <th>homicides</th>\n",
       "      <th>rapes</th>\n",
       "      <th>assaults</th>\n",
       "      <th>robberies</th>\n",
       "    </tr>\n",
       "    <tr>\n",
       "      <th>state</th>\n",
       "      <th></th>\n",
       "      <th></th>\n",
       "      <th></th>\n",
       "      <th></th>\n",
       "      <th></th>\n",
       "    </tr>\n",
       "  </thead>\n",
       "  <tbody>\n",
       "    <tr>\n",
       "      <th>NY</th>\n",
       "      <td>4590104.0</td>\n",
       "      <td>51176.0</td>\n",
       "      <td>117972.0</td>\n",
       "      <td>1943436.0</td>\n",
       "      <td>2477520.0</td>\n",
       "    </tr>\n",
       "    <tr>\n",
       "      <th>CA</th>\n",
       "      <td>3990220.0</td>\n",
       "      <td>51317.0</td>\n",
       "      <td>164424.0</td>\n",
       "      <td>2093002.0</td>\n",
       "      <td>1681477.0</td>\n",
       "    </tr>\n",
       "    <tr>\n",
       "      <th>TX</th>\n",
       "      <td>2209217.0</td>\n",
       "      <td>37799.0</td>\n",
       "      <td>137803.0</td>\n",
       "      <td>1107664.0</td>\n",
       "      <td>925951.0</td>\n",
       "    </tr>\n",
       "    <tr>\n",
       "      <th>IL</th>\n",
       "      <td>1960886.0</td>\n",
       "      <td>27727.0</td>\n",
       "      <td>90209.0</td>\n",
       "      <td>951805.0</td>\n",
       "      <td>891145.0</td>\n",
       "    </tr>\n",
       "    <tr>\n",
       "      <th>FL</th>\n",
       "      <td>1503422.0</td>\n",
       "      <td>16424.0</td>\n",
       "      <td>61717.0</td>\n",
       "      <td>879203.0</td>\n",
       "      <td>551137.0</td>\n",
       "    </tr>\n",
       "    <tr>\n",
       "      <th>MD</th>\n",
       "      <td>1136606.0</td>\n",
       "      <td>15927.0</td>\n",
       "      <td>43335.0</td>\n",
       "      <td>574301.0</td>\n",
       "      <td>503043.0</td>\n",
       "    </tr>\n",
       "    <tr>\n",
       "      <th>PA</th>\n",
       "      <td>921855.0</td>\n",
       "      <td>16652.0</td>\n",
       "      <td>44873.0</td>\n",
       "      <td>361437.0</td>\n",
       "      <td>498893.0</td>\n",
       "    </tr>\n",
       "    <tr>\n",
       "      <th>MI</th>\n",
       "      <td>918003.0</td>\n",
       "      <td>19497.0</td>\n",
       "      <td>40857.0</td>\n",
       "      <td>420940.0</td>\n",
       "      <td>436709.0</td>\n",
       "    </tr>\n",
       "    <tr>\n",
       "      <th>MO</th>\n",
       "      <td>691160.0</td>\n",
       "      <td>11527.0</td>\n",
       "      <td>28041.0</td>\n",
       "      <td>388511.0</td>\n",
       "      <td>263081.0</td>\n",
       "    </tr>\n",
       "    <tr>\n",
       "      <th>OH</th>\n",
       "      <td>670595.0</td>\n",
       "      <td>10896.0</td>\n",
       "      <td>59615.0</td>\n",
       "      <td>237203.0</td>\n",
       "      <td>362881.0</td>\n",
       "    </tr>\n",
       "  </tbody>\n",
       "</table>\n",
       "</div>"
      ],
      "text/plain": [
       "       violent_crimes  homicides     rapes   assaults  robberies\n",
       "state                                                           \n",
       "NY          4590104.0    51176.0  117972.0  1943436.0  2477520.0\n",
       "CA          3990220.0    51317.0  164424.0  2093002.0  1681477.0\n",
       "TX          2209217.0    37799.0  137803.0  1107664.0   925951.0\n",
       "IL          1960886.0    27727.0   90209.0   951805.0   891145.0\n",
       "FL          1503422.0    16424.0   61717.0   879203.0   551137.0\n",
       "MD          1136606.0    15927.0   43335.0   574301.0   503043.0\n",
       "PA           921855.0    16652.0   44873.0   361437.0   498893.0\n",
       "MI           918003.0    19497.0   40857.0   420940.0   436709.0\n",
       "MO           691160.0    11527.0   28041.0   388511.0   263081.0\n",
       "OH           670595.0    10896.0   59615.0   237203.0   362881.0"
      ]
     },
     "execution_count": 14,
     "metadata": {},
     "output_type": "execute_result"
    }
   ],
   "source": [
    "topStates = states.nlargest(10, ['violent_crimes']) \n",
    "topStates"
   ]
  },
  {
   "cell_type": "code",
   "execution_count": 15,
   "metadata": {},
   "outputs": [
    {
     "name": "stdout",
     "output_type": "stream",
     "text": [
      "['NY' 'CA' 'TX' 'IL' 'FL' 'MD' 'PA' 'MI' 'MO' 'OH']\n"
     ]
    }
   ],
   "source": [
    "print(topStates.index.values)"
   ]
  },
  {
   "cell_type": "markdown",
   "metadata": {},
   "source": [
    "So, NY and CA are the most crimed states not only for violent crimes, but for homicides, rapes, assaults and robberies. Twice as much crimes as in other states."
   ]
  },
  {
   "cell_type": "markdown",
   "metadata": {},
   "source": [
    "###### Let's find data about agencies with most crimes percapita:"
   ]
  },
  {
   "cell_type": "code",
   "execution_count": 16,
   "metadata": {},
   "outputs": [
    {
     "data": {
      "text/html": [
       "<div>\n",
       "<style scoped>\n",
       "    .dataframe tbody tr th:only-of-type {\n",
       "        vertical-align: middle;\n",
       "    }\n",
       "\n",
       "    .dataframe tbody tr th {\n",
       "        vertical-align: top;\n",
       "    }\n",
       "\n",
       "    .dataframe thead th {\n",
       "        text-align: right;\n",
       "    }\n",
       "</style>\n",
       "<table border=\"1\" class=\"dataframe\">\n",
       "  <thead>\n",
       "    <tr style=\"text-align: right;\">\n",
       "      <th></th>\n",
       "      <th>agency_jurisdiction</th>\n",
       "      <th>violent_crimes</th>\n",
       "      <th>homicides</th>\n",
       "      <th>assaults</th>\n",
       "      <th>robberies</th>\n",
       "    </tr>\n",
       "  </thead>\n",
       "  <tbody>\n",
       "    <tr>\n",
       "      <th>1069</th>\n",
       "      <td>Miami, FL</td>\n",
       "      <td>15607.0</td>\n",
       "      <td>129.0</td>\n",
       "      <td>7007.0</td>\n",
       "      <td>8172.0</td>\n",
       "    </tr>\n",
       "    <tr>\n",
       "      <th>1138</th>\n",
       "      <td>Miami, FL</td>\n",
       "      <td>15420.0</td>\n",
       "      <td>125.0</td>\n",
       "      <td>6582.0</td>\n",
       "      <td>8477.0</td>\n",
       "    </tr>\n",
       "    <tr>\n",
       "      <th>1037</th>\n",
       "      <td>Atlanta, GA</td>\n",
       "      <td>16097.0</td>\n",
       "      <td>231.0</td>\n",
       "      <td>9062.0</td>\n",
       "      <td>6109.0</td>\n",
       "    </tr>\n",
       "    <tr>\n",
       "      <th>1106</th>\n",
       "      <td>Atlanta, GA</td>\n",
       "      <td>16327.0</td>\n",
       "      <td>205.0</td>\n",
       "      <td>8967.0</td>\n",
       "      <td>6479.0</td>\n",
       "    </tr>\n",
       "    <tr>\n",
       "      <th>1244</th>\n",
       "      <td>Atlanta, GA</td>\n",
       "      <td>16281.0</td>\n",
       "      <td>203.0</td>\n",
       "      <td>9541.0</td>\n",
       "      <td>6045.0</td>\n",
       "    </tr>\n",
       "    <tr>\n",
       "      <th>1422</th>\n",
       "      <td>Newark, NJ</td>\n",
       "      <td>10371.0</td>\n",
       "      <td>102.0</td>\n",
       "      <td>4573.0</td>\n",
       "      <td>5480.0</td>\n",
       "    </tr>\n",
       "    <tr>\n",
       "      <th>968</th>\n",
       "      <td>Atlanta, GA</td>\n",
       "      <td>16852.0</td>\n",
       "      <td>246.0</td>\n",
       "      <td>9119.0</td>\n",
       "      <td>6796.0</td>\n",
       "    </tr>\n",
       "    <tr>\n",
       "      <th>1276</th>\n",
       "      <td>Miami, FL</td>\n",
       "      <td>14502.0</td>\n",
       "      <td>127.0</td>\n",
       "      <td>7089.0</td>\n",
       "      <td>7082.0</td>\n",
       "    </tr>\n",
       "    <tr>\n",
       "      <th>1077</th>\n",
       "      <td>Newark, NJ</td>\n",
       "      <td>10684.0</td>\n",
       "      <td>112.0</td>\n",
       "      <td>4225.0</td>\n",
       "      <td>6021.0</td>\n",
       "    </tr>\n",
       "    <tr>\n",
       "      <th>1302</th>\n",
       "      <td>St. Louis, MO</td>\n",
       "      <td>14998.0</td>\n",
       "      <td>267.0</td>\n",
       "      <td>8189.0</td>\n",
       "      <td>6223.0</td>\n",
       "    </tr>\n",
       "  </tbody>\n",
       "</table>\n",
       "</div>"
      ],
      "text/plain": [
       "     agency_jurisdiction  violent_crimes  homicides  assaults  robberies\n",
       "1069           Miami, FL         15607.0      129.0    7007.0     8172.0\n",
       "1138           Miami, FL         15420.0      125.0    6582.0     8477.0\n",
       "1037         Atlanta, GA         16097.0      231.0    9062.0     6109.0\n",
       "1106         Atlanta, GA         16327.0      205.0    8967.0     6479.0\n",
       "1244         Atlanta, GA         16281.0      203.0    9541.0     6045.0\n",
       "1422          Newark, NJ         10371.0      102.0    4573.0     5480.0\n",
       "968          Atlanta, GA         16852.0      246.0    9119.0     6796.0\n",
       "1276           Miami, FL         14502.0      127.0    7089.0     7082.0\n",
       "1077          Newark, NJ         10684.0      112.0    4225.0     6021.0\n",
       "1302       St. Louis, MO         14998.0      267.0    8189.0     6223.0"
      ]
     },
     "execution_count": 16,
     "metadata": {},
     "output_type": "execute_result"
    }
   ],
   "source": [
    "mostCrimes = d.sort_values(by=['crimes_percapita'], ascending=False) \\\n",
    "    [['agency_jurisdiction', 'violent_crimes', 'homicides', 'assaults', 'robberies']]\n",
    "mostCrimes.head(10)"
   ]
  },
  {
   "cell_type": "markdown",
   "metadata": {},
   "source": [
    "We can see that most crimed cities during history were Miami, Atlanta and Newark, St. Louis.  \n",
    "We can see number of different types of crime for those cities from a table above."
   ]
  },
  {
   "cell_type": "markdown",
   "metadata": {},
   "source": [
    "###### Let's find maximum and minimum values of different types of crime:"
   ]
  },
  {
   "cell_type": "code",
   "execution_count": 17,
   "metadata": {},
   "outputs": [
    {
     "name": "stdout",
     "output_type": "stream",
     "text": [
      "Maximum number of violent crimes is 1932274.0.\n",
      "Minimum number of violent crimes is 154.0.\n"
     ]
    }
   ],
   "source": [
    "print(f\"Maximum number of violent crimes is {d['violent_crimes'].max()}.\")\n",
    "print(f\"Minimum number of violent crimes is {d['violent_crimes'].min()}.\")"
   ]
  },
  {
   "cell_type": "code",
   "execution_count": 18,
   "metadata": {},
   "outputs": [
    {
     "name": "stdout",
     "output_type": "stream",
     "text": [
      "Maximum number of homicides is 24703.0.\n",
      "Minimum number of homicides is 1.0.\n"
     ]
    }
   ],
   "source": [
    "print(f\"Maximum number of homicides is {d['homicides'].max()}.\")\n",
    "print(f\"Minimum number of homicides is {d['homicides'].min()}.\")"
   ]
  },
  {
   "cell_type": "code",
   "execution_count": 19,
   "metadata": {},
   "outputs": [
    {
     "name": "stdout",
     "output_type": "stream",
     "text": [
      "Maximum number of assaults is 71030.0.\n",
      "Minimum number of assaults is 15.0.\n"
     ]
    }
   ],
   "source": [
    "print(f\"Maximum number of assaults is {d['assaults'].max()}.\")\n",
    "print(f\"Minimum number of assaults is {d['assaults'].min()}.\")"
   ]
  },
  {
   "cell_type": "code",
   "execution_count": 20,
   "metadata": {},
   "outputs": [
    {
     "name": "stdout",
     "output_type": "stream",
     "text": [
      "Maximum number of robberies is 107475.0.\n",
      "Minimum number of robberies is 83.0.\n"
     ]
    }
   ],
   "source": [
    "print(f\"Maximum number of robberies is {d['robberies'].max()}.\")\n",
    "print(f\"Minimum number of robberies is {d['robberies'].min()}.\")"
   ]
  },
  {
   "cell_type": "markdown",
   "metadata": {},
   "source": [
    "So, we have investigated maximum and minimum of different types of crimes during those years. As we can see, difference is very big.  \n",
    "Smallest maximum number is for homicides, while biggest maximum is for violent crimes."
   ]
  },
  {
   "cell_type": "markdown",
   "metadata": {},
   "source": [
    "###### For which years do we have data?"
   ]
  },
  {
   "cell_type": "code",
   "execution_count": 21,
   "metadata": {},
   "outputs": [
    {
     "name": "stdout",
     "output_type": "stream",
     "text": [
      "We have data for 41 years. \n",
      "From 1975 to 2015.\n"
     ]
    }
   ],
   "source": [
    "print(f\"\"\"We have data for {d['report_year'].max() - d['report_year'].min() + 1} years. \n",
    "From {d['report_year'].min()} to {d['report_year'].max()}.\"\"\")"
   ]
  },
  {
   "cell_type": "markdown",
   "metadata": {},
   "source": [
    "<a id='plot'></a>\n",
    "\n",
    "## Plot"
   ]
  },
  {
   "cell_type": "markdown",
   "metadata": {},
   "source": [
    "###### Let's visualize total number of violent crimes for each state:"
   ]
  },
  {
   "cell_type": "code",
   "execution_count": 22,
   "metadata": {},
   "outputs": [
    {
     "data": {
      "image/png": "[encoded data removed]",
      "text/plain": [
       "<Figure size 1152x648 with 1 Axes>"
      ]
     },
     "metadata": {
      "needs_background": "light"
     },
     "output_type": "display_data"
    }
   ],
   "source": [
    "states['violent_crimes'].plot.bar(figsize=(16,9))\n",
    "plt.title(\"Total numbers of violent crimes from 1975 to 2015\")\n",
    "plt.show()"
   ]
  },
  {
   "cell_type": "markdown",
   "metadata": {},
   "source": [
    "From this chart is is easy to compare states (and select safest one for living!).\n",
    "As we can see, safest states are:\n",
    "- CO,\n",
    "- HI,\n",
    "- KS,\n",
    "- KY,\n",
    "- NE,\n",
    "- UT,\n",
    "- VA;\n",
    "  \n",
    "We can also compare how worse is crime situation in CA and NY comparing to other states. In FL, IL and TX crime rate is also big."
   ]
  },
  {
   "cell_type": "markdown",
   "metadata": {},
   "source": [
    "<a id='summary'></a>\n",
    "\n",
    "## Summary"
   ]
  },
  {
   "cell_type": "markdown",
   "metadata": {},
   "source": [
    "During the research next important points were found:\n",
    "  \n",
    "- data is available for 40 years,\n",
    "    - from 1975 \n",
    "    - to 2015;\n",
    "  \n",
    "  \n",
    "- agencies, located in a most crimed regions fro year 2015 are:\n",
    "    - St. Louis, MO,\n",
    "    - Detroit, MI,\n",
    "    - Memphis, TN, \n",
    "    - Milwaukee, WI,\n",
    "    - Baltimore, MD;\n",
    "  \n",
    "- the most crimed states for all types of crime are\n",
    "        - NY and\n",
    "        - CA,\n",
    "    - with twice as much total crimes comparing to other states;\n",
    "  \n",
    "  \n",
    "- safest states are:\n",
    "    - CO,\n",
    "    - HI,\n",
    "    - KS,\n",
    "    - KY,\n",
    "    - NE,\n",
    "    - UT,\n",
    "    - VA;\n",
    "  \n",
    "      \n",
    "- Violent crimes:\n",
    "    - maximum number is 1932274.0.\n",
    "    - minimum number is 154.0.\n",
    "- Homicides:    \n",
    "    - maximum number is 24703.0.\n",
    "    - minimum number is 1.0.\n",
    "- Assaults:    \n",
    "    - maximum number is 71030.0.\n",
    "    - minimum number is 15.0.\n",
    "- Robberies:\n",
    "    - maximum number is 107475.0.\n",
    "    - minimum number is 83.0.\n",
    "    "
   ]
  },
  {
   "cell_type": "markdown",
   "metadata": {},
   "source": [
    "<a id='recommendations'></a>\n",
    "\n",
    "## Recommendations"
   ]
  },
  {
   "cell_type": "markdown",
   "metadata": {},
   "source": [
    "After conducting this research, next recommendations can be made.  \n",
    "  \n",
    "More attention in terms of law enforcement should be made for CA and NY states, since they have more than twice as much crimes as in other states. To be more specific, NY has around 460,000 violent crimes total, while CA has around 400,000 violent crimes total. In FL, IL and TX crime rate is also big, but smaller, than in CA and NY.   \n",
    "  \n",
    "However, such states, as CO, HI, KS, KY, NE, UT and VA are least dangerous states and so, they can be on lowest priority for law enforcement.   \n",
    "  \n",
    "To be more specific, St. Louis and Detroit agencies experienced high crime level (around 4,000 crimes per capita) in year 2015, so, there is sense in devoting more budget to those agencies.  \n",
    "\n",
    "Smallest maximum number of crime of different types for those years is for homicides, while biggest maximum is for violent crimes. So, police should be more careful about violent crimes.\n",
    "\n",
    "Next bar chart can be used as a visualization for comparing, how much worse is the crime situation in CA and NY and how good situation is in some other states.  \n",
    "  \n",
    "![](data:image/png;base64,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)\n"
   ]
  },
  {
   "cell_type": "code",
   "execution_count": null,
   "metadata": {},
   "outputs": [],
   "source": []
  }
 ],
 "metadata": {
  "kernelspec": {
   "display_name": "Python 3",
   "language": "python",
   "name": "python3"
  },
  "language_info": {
   "codemirror_mode": {
    "name": "ipython",
    "version": 3
   },
   "file_extension": ".py",
   "mimetype": "text/x-python",
   "name": "python",
   "nbconvert_exporter": "python",
   "pygments_lexer": "ipython3",
   "version": "3.7.3"
  }
 },
 "nbformat": 4,
 "nbformat_minor": 2
}
