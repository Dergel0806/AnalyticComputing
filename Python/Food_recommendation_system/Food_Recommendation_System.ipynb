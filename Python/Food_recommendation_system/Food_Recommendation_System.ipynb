{
 "cells": [
  {
   "cell_type": "markdown",
   "metadata": {},
   "source": [
    "![](https://www.medicalnewstoday.com/content/images/articles/324/324956/close-up-of-a-plate-of-food.jpg)"
   ]
  },
  {
   "cell_type": "markdown",
   "metadata": {},
   "source": [
    "# <div align=\"center\"> Personalized All-You-Can-Eat recommendations! </div>\n",
    "\n",
    "## <div align=\"center\"> Encouraging your customers to eat. </div>\n",
    "\n",
    "#### <div align=\"right\"> Made by Ihor Markevych </div>"
   ]
  },
  {
   "cell_type": "markdown",
   "metadata": {},
   "source": [
    "# Table of Content\n",
    "\n",
    "1. [**Objective of the Project**](#obj)\n",
    "1. [**Data Exploration**](#expl)\n",
    "    1. [Rows quantity in dataset](#de1)\n",
    "    1. [Head of data](#de2)\n",
    "    1. [Missing values percentage](#de3)\n",
    "    1. [Columns quantity and their types](#de4)\n",
    "1. [**Data Cleaning and Subsetting**](#clean)\n",
    "1. [**Dendrogram**](#dendro)\n",
    "1. [**t-SNE**](#tsne)\n",
    "1. [**Step-by-step K-Means**](#kmeans)\n",
    "    1. [Recursive K-Means](#rec)\n",
    "    1. [Iterative K-Mean](#iter)\n",
    "    1. [K-Means Class](#class)\n",
    "    1. [Basic Comparison](#comparison)\n",
    "1. [**sklearn-cluster**](#sklearn)\n",
    "1. [**Prediction**](#prediction)\n",
    "1. [**2D prediction mesh**](#mesh)\n",
    "1. [**Recommendations**](#recommendations)"
   ]
  },
  {
   "cell_type": "markdown",
   "metadata": {},
   "source": [
    "<a id='obj'></a>\n",
    "# Objective of the Project\n",
    "\n",
    "Main goal of this project is to create clustering algorithm based on 3-5 features of college student, which should be used for creation of recommendation engine. Dataset for this research can be found [here](https://www.kaggle.com/borapajo/food-choices/version/5).  \n",
    "  \n",
    "Data will be analyzed to find good variables for clustering, then subsetted and cleaned.  \n",
    "  \n",
    "After this, number of clusters will be defined by doing additional investigations.  \n",
    "  \n",
    "Then, three custom K-Means algorithms will be created (iterative, recursive and Class-based). Data will be clustered based on those algorithms and on `sklearn.cluster.KMeans`.  \n",
    "  \n",
    "Clustered data will be investigated to get initial understanding of what does each cluster represent.  \n",
    "Based on this, basic dummy text for coupons will be created and function for printing coupon based on cluster will be implemented and tested on 10 random datapoints.  \n",
    "  \n",
    "Results will be visualized by 2d prediction mesh with usage of t-SNE to reduce dimensions of training data."
   ]
  },
  {
   "cell_type": "code",
   "execution_count": 1,
   "metadata": {},
   "outputs": [],
   "source": [
    "import pandas as pd\n",
    "import numpy as np\n",
    "import matplotlib.pyplot as plt \n",
    "\n",
    "from scipy.cluster.hierarchy import linkage\n",
    "from scipy.cluster.hierarchy import dendrogram\n",
    "\n",
    "from sklearn.preprocessing import MinMaxScaler\n",
    "from sklearn.cluster import KMeans\n",
    "from sklearn.manifold import TSNE"
   ]
  },
  {
   "cell_type": "code",
   "execution_count": 2,
   "metadata": {},
   "outputs": [],
   "source": [
    "d = pd.read_csv('./data/food_coded.csv')"
   ]
  },
  {
   "cell_type": "markdown",
   "metadata": {},
   "source": [
    "<a id='expl'></a>\n",
    "# Data Exploration"
   ]
  },
  {
   "cell_type": "markdown",
   "metadata": {},
   "source": [
    "<a id='de1'></a>\n",
    "### Aspect 1: Rows quantity in dataset"
   ]
  },
  {
   "cell_type": "markdown",
   "metadata": {},
   "source": [
    "Let's see, how big is our sample size. The bigger it is, the more externally valid results we can get."
   ]
  },
  {
   "cell_type": "code",
   "execution_count": 3,
   "metadata": {},
   "outputs": [
    {
     "name": "stdout",
     "output_type": "stream",
     "text": [
      "There are 125 rows in a dataset.\n"
     ]
    }
   ],
   "source": [
    "print(f'There are {len(d)} rows in a dataset.')"
   ]
  },
  {
   "cell_type": "markdown",
   "metadata": {},
   "source": [
    "Dataset is not very big, but we can assume that results can be generalixed, since sample is taken from college students and our population is also students of same college. "
   ]
  },
  {
   "cell_type": "markdown",
   "metadata": {},
   "source": [
    "<a id='de2'></a>\n",
    "### Aspect 2: Head of data"
   ]
  },
  {
   "cell_type": "markdown",
   "metadata": {},
   "source": [
    "Basic dataset and variables understanding can be given by checking first few rows of dataset."
   ]
  },
  {
   "cell_type": "code",
   "execution_count": 4,
   "metadata": {},
   "outputs": [
    {
     "data": {
      "text/html": [
       "<div>\n",
       "<style scoped>\n",
       "    .dataframe tbody tr th:only-of-type {\n",
       "        vertical-align: middle;\n",
       "    }\n",
       "\n",
       "    .dataframe tbody tr th {\n",
       "        vertical-align: top;\n",
       "    }\n",
       "\n",
       "    .dataframe thead th {\n",
       "        text-align: right;\n",
       "    }\n",
       "</style>\n",
       "<table border=\"1\" class=\"dataframe\">\n",
       "  <thead>\n",
       "    <tr style=\"text-align: right;\">\n",
       "      <th></th>\n",
       "      <th>GPA</th>\n",
       "      <th>Gender</th>\n",
       "      <th>breakfast</th>\n",
       "      <th>calories_chicken</th>\n",
       "      <th>calories_day</th>\n",
       "      <th>calories_scone</th>\n",
       "      <th>coffee</th>\n",
       "      <th>comfort_food</th>\n",
       "      <th>comfort_food_reasons</th>\n",
       "      <th>comfort_food_reasons_coded</th>\n",
       "      <th>...</th>\n",
       "      <th>soup</th>\n",
       "      <th>sports</th>\n",
       "      <th>thai_food</th>\n",
       "      <th>tortilla_calories</th>\n",
       "      <th>turkey_calories</th>\n",
       "      <th>type_sports</th>\n",
       "      <th>veggies_day</th>\n",
       "      <th>vitamins</th>\n",
       "      <th>waffle_calories</th>\n",
       "      <th>weight</th>\n",
       "    </tr>\n",
       "  </thead>\n",
       "  <tbody>\n",
       "    <tr>\n",
       "      <th>0</th>\n",
       "      <td>2.4</td>\n",
       "      <td>2</td>\n",
       "      <td>1</td>\n",
       "      <td>430</td>\n",
       "      <td>NaN</td>\n",
       "      <td>315.0</td>\n",
       "      <td>1</td>\n",
       "      <td>none</td>\n",
       "      <td>we dont have comfort</td>\n",
       "      <td>9.0</td>\n",
       "      <td>...</td>\n",
       "      <td>1.0</td>\n",
       "      <td>1.0</td>\n",
       "      <td>1</td>\n",
       "      <td>1165.0</td>\n",
       "      <td>345</td>\n",
       "      <td>car racing</td>\n",
       "      <td>5</td>\n",
       "      <td>1</td>\n",
       "      <td>1315</td>\n",
       "      <td>187</td>\n",
       "    </tr>\n",
       "    <tr>\n",
       "      <th>1</th>\n",
       "      <td>3.654</td>\n",
       "      <td>1</td>\n",
       "      <td>1</td>\n",
       "      <td>610</td>\n",
       "      <td>3.0</td>\n",
       "      <td>420.0</td>\n",
       "      <td>2</td>\n",
       "      <td>chocolate, chips, ice cream</td>\n",
       "      <td>Stress, bored, anger</td>\n",
       "      <td>1.0</td>\n",
       "      <td>...</td>\n",
       "      <td>1.0</td>\n",
       "      <td>1.0</td>\n",
       "      <td>2</td>\n",
       "      <td>725.0</td>\n",
       "      <td>690</td>\n",
       "      <td>Basketball</td>\n",
       "      <td>4</td>\n",
       "      <td>2</td>\n",
       "      <td>900</td>\n",
       "      <td>155</td>\n",
       "    </tr>\n",
       "    <tr>\n",
       "      <th>2</th>\n",
       "      <td>3.3</td>\n",
       "      <td>1</td>\n",
       "      <td>1</td>\n",
       "      <td>720</td>\n",
       "      <td>4.0</td>\n",
       "      <td>420.0</td>\n",
       "      <td>2</td>\n",
       "      <td>frozen yogurt, pizza, fast food</td>\n",
       "      <td>stress, sadness</td>\n",
       "      <td>1.0</td>\n",
       "      <td>...</td>\n",
       "      <td>1.0</td>\n",
       "      <td>2.0</td>\n",
       "      <td>5</td>\n",
       "      <td>1165.0</td>\n",
       "      <td>500</td>\n",
       "      <td>none</td>\n",
       "      <td>5</td>\n",
       "      <td>1</td>\n",
       "      <td>900</td>\n",
       "      <td>I'm not answering this.</td>\n",
       "    </tr>\n",
       "    <tr>\n",
       "      <th>3</th>\n",
       "      <td>3.2</td>\n",
       "      <td>1</td>\n",
       "      <td>1</td>\n",
       "      <td>430</td>\n",
       "      <td>3.0</td>\n",
       "      <td>420.0</td>\n",
       "      <td>2</td>\n",
       "      <td>Pizza, Mac and cheese, ice cream</td>\n",
       "      <td>Boredom</td>\n",
       "      <td>2.0</td>\n",
       "      <td>...</td>\n",
       "      <td>1.0</td>\n",
       "      <td>2.0</td>\n",
       "      <td>5</td>\n",
       "      <td>725.0</td>\n",
       "      <td>690</td>\n",
       "      <td>NaN</td>\n",
       "      <td>3</td>\n",
       "      <td>1</td>\n",
       "      <td>1315</td>\n",
       "      <td>Not sure, 240</td>\n",
       "    </tr>\n",
       "    <tr>\n",
       "      <th>4</th>\n",
       "      <td>3.5</td>\n",
       "      <td>1</td>\n",
       "      <td>1</td>\n",
       "      <td>720</td>\n",
       "      <td>2.0</td>\n",
       "      <td>420.0</td>\n",
       "      <td>2</td>\n",
       "      <td>Ice cream, chocolate, chips</td>\n",
       "      <td>Stress, boredom, cravings</td>\n",
       "      <td>1.0</td>\n",
       "      <td>...</td>\n",
       "      <td>1.0</td>\n",
       "      <td>1.0</td>\n",
       "      <td>4</td>\n",
       "      <td>940.0</td>\n",
       "      <td>500</td>\n",
       "      <td>Softball</td>\n",
       "      <td>4</td>\n",
       "      <td>2</td>\n",
       "      <td>760</td>\n",
       "      <td>190</td>\n",
       "    </tr>\n",
       "  </tbody>\n",
       "</table>\n",
       "<p>5 rows × 61 columns</p>\n",
       "</div>"
      ],
      "text/plain": [
       "     GPA  Gender  breakfast  calories_chicken  calories_day  calories_scone  \\\n",
       "0    2.4       2          1               430           NaN           315.0   \n",
       "1  3.654       1          1               610           3.0           420.0   \n",
       "2    3.3       1          1               720           4.0           420.0   \n",
       "3    3.2       1          1               430           3.0           420.0   \n",
       "4    3.5       1          1               720           2.0           420.0   \n",
       "\n",
       "   coffee                      comfort_food        comfort_food_reasons  \\\n",
       "0       1                              none       we dont have comfort    \n",
       "1       2       chocolate, chips, ice cream        Stress, bored, anger   \n",
       "2       2   frozen yogurt, pizza, fast food             stress, sadness   \n",
       "3       2  Pizza, Mac and cheese, ice cream                     Boredom   \n",
       "4       2      Ice cream, chocolate, chips   Stress, boredom, cravings    \n",
       "\n",
       "   comfort_food_reasons_coded  ...  soup  sports  thai_food tortilla_calories  \\\n",
       "0                         9.0  ...   1.0     1.0          1            1165.0   \n",
       "1                         1.0  ...   1.0     1.0          2             725.0   \n",
       "2                         1.0  ...   1.0     2.0          5            1165.0   \n",
       "3                         2.0  ...   1.0     2.0          5             725.0   \n",
       "4                         1.0  ...   1.0     1.0          4             940.0   \n",
       "\n",
       "   turkey_calories  type_sports veggies_day  vitamins  waffle_calories  \\\n",
       "0              345   car racing           5         1             1315   \n",
       "1              690  Basketball            4         2              900   \n",
       "2              500         none           5         1              900   \n",
       "3              690          NaN           3         1             1315   \n",
       "4              500     Softball           4         2              760   \n",
       "\n",
       "                     weight  \n",
       "0                       187  \n",
       "1                       155  \n",
       "2  I'm not answering this.   \n",
       "3             Not sure, 240  \n",
       "4                       190  \n",
       "\n",
       "[5 rows x 61 columns]"
      ]
     },
     "execution_count": 4,
     "metadata": {},
     "output_type": "execute_result"
    }
   ],
   "source": [
    "d.head()"
   ]
  },
  {
   "cell_type": "markdown",
   "metadata": {},
   "source": [
    "<a id='de3'></a>\n",
    "### Aspect 3: Missing values percentage"
   ]
  },
  {
   "cell_type": "markdown",
   "metadata": {},
   "source": [
    "Important criterea for selecting variables for clustering is missing values percentage. Let's find it."
   ]
  },
  {
   "cell_type": "code",
   "execution_count": 5,
   "metadata": {},
   "outputs": [
    {
     "data": {
      "text/plain": [
       "type_sports                   16.8\n",
       "calories_day                  15.2\n",
       "comfort_food_reasons_coded    15.2\n",
       "cuisine                       13.6\n",
       "exercise                      10.4\n",
       "employment                     7.2\n",
       "cook                           2.4\n",
       "eating_changes                 2.4\n",
       "father_profession              2.4\n",
       "meals_dinner_friend            2.4\n",
       "dtype: float64"
      ]
     },
     "execution_count": 5,
     "metadata": {},
     "output_type": "execute_result"
    }
   ],
   "source": [
    "(d.isnull().sum() * 100 / len(d)).sort_values(ascending=False).head(10)"
   ]
  },
  {
   "cell_type": "markdown",
   "metadata": {},
   "source": [
    "As we can see, some columns contain more than 10% of missing values. Other columns contain less than 2.5%."
   ]
  },
  {
   "cell_type": "markdown",
   "metadata": {},
   "source": [
    "<a id='de4'></a>\n",
    "### Aspect 4: Columns quantity and their types"
   ]
  },
  {
   "cell_type": "markdown",
   "metadata": {},
   "source": [
    "As part of our data exploration, let's discover how many columns do we have and what types of data they contain."
   ]
  },
  {
   "cell_type": "code",
   "execution_count": 6,
   "metadata": {},
   "outputs": [
    {
     "name": "stdout",
     "output_type": "stream",
     "text": [
      "There are 61 columns.\n"
     ]
    }
   ],
   "source": [
    "print(f'There are {len(d.columns)} columns.')"
   ]
  },
  {
   "cell_type": "markdown",
   "metadata": {},
   "source": [
    "Our dataset has next types of data by columns:"
   ]
  },
  {
   "cell_type": "code",
   "execution_count": 7,
   "metadata": {
    "scrolled": true
   },
   "outputs": [
    {
     "name": "stdout",
     "output_type": "stream",
     "text": [
      "<class 'pandas.core.frame.DataFrame'>\n",
      "RangeIndex: 125 entries, 0 to 124\n",
      "Data columns (total 61 columns):\n",
      "GPA                             123 non-null object\n",
      "Gender                          125 non-null int64\n",
      "breakfast                       125 non-null int64\n",
      "calories_chicken                125 non-null int64\n",
      "calories_day                    106 non-null float64\n",
      "calories_scone                  124 non-null float64\n",
      "coffee                          125 non-null int64\n",
      "comfort_food                    124 non-null object\n",
      "comfort_food_reasons            124 non-null object\n",
      "comfort_food_reasons_coded      106 non-null float64\n",
      "cook                            122 non-null float64\n",
      "comfort_food_reasons_coded.1    125 non-null int64\n",
      "cuisine                         108 non-null float64\n",
      "diet_current                    124 non-null object\n",
      "diet_current_coded              125 non-null int64\n",
      "drink                           123 non-null float64\n",
      "eating_changes                  122 non-null object\n",
      "eating_changes_coded            125 non-null int64\n",
      "eating_changes_coded1           125 non-null int64\n",
      "eating_out                      125 non-null int64\n",
      "employment                      116 non-null float64\n",
      "ethnic_food                     125 non-null int64\n",
      "exercise                        112 non-null float64\n",
      "father_education                124 non-null float64\n",
      "father_profession               122 non-null object\n",
      "fav_cuisine                     123 non-null object\n",
      "fav_cuisine_coded               125 non-null int64\n",
      "fav_food                        123 non-null float64\n",
      "food_childhood                  124 non-null object\n",
      "fries                           125 non-null int64\n",
      "fruit_day                       125 non-null int64\n",
      "grade_level                     125 non-null int64\n",
      "greek_food                      125 non-null int64\n",
      "healthy_feeling                 125 non-null int64\n",
      "healthy_meal                    124 non-null object\n",
      "ideal_diet                      124 non-null object\n",
      "ideal_diet_coded                125 non-null int64\n",
      "income                          124 non-null float64\n",
      "indian_food                     125 non-null int64\n",
      "italian_food                    125 non-null int64\n",
      "life_rewarding                  124 non-null float64\n",
      "marital_status                  124 non-null float64\n",
      "meals_dinner_friend             122 non-null object\n",
      "mother_education                122 non-null float64\n",
      "mother_profession               123 non-null object\n",
      "nutritional_check               125 non-null int64\n",
      "on_off_campus                   124 non-null float64\n",
      "parents_cook                    125 non-null int64\n",
      "pay_meal_out                    125 non-null int64\n",
      "persian_food                    124 non-null float64\n",
      "self_perception_weight          124 non-null float64\n",
      "soup                            124 non-null float64\n",
      "sports                          123 non-null float64\n",
      "thai_food                       125 non-null int64\n",
      "tortilla_calories               124 non-null float64\n",
      "turkey_calories                 125 non-null int64\n",
      "type_sports                     104 non-null object\n",
      "veggies_day                     125 non-null int64\n",
      "vitamins                        125 non-null int64\n",
      "waffle_calories                 125 non-null int64\n",
      "weight                          123 non-null object\n",
      "dtypes: float64(20), int64(27), object(14)\n",
      "memory usage: 59.6+ KB\n"
     ]
    }
   ],
   "source": [
    "d.info()"
   ]
  },
  {
   "cell_type": "markdown",
   "metadata": {},
   "source": [
    "As it can be seen, we have 61 column, only some of them are numeric and so, only they fit our research. Also, we would like to use data without big percentage of missing values."
   ]
  },
  {
   "cell_type": "markdown",
   "metadata": {},
   "source": [
    "<a id='clean'></a>\n",
    "# Data Cleaning and Subsetting"
   ]
  },
  {
   "cell_type": "markdown",
   "metadata": {},
   "source": [
    "Let's use `GPA`, `calories_chicken`, `calories_scone`, `tortilla_calories`, `turkey_calories` for our clustering. Also, we need to perfrom data cleaning after subsetting. We will also scale data to $[0; 1]$ for better clustering results."
   ]
  },
  {
   "cell_type": "code",
   "execution_count": 8,
   "metadata": {},
   "outputs": [],
   "source": [
    "features = d[['GPA', 'calories_chicken', 'calories_scone', 'tortilla_calories', 'turkey_calories']]\n",
    "features = features[pd.to_numeric(features['GPA'], errors='coerce').notnull()].dropna()\n",
    "scaler = MinMaxScaler()\n",
    "features = pd.DataFrame(scaler.fit_transform(features), columns=features.columns)"
   ]
  },
  {
   "cell_type": "markdown",
   "metadata": {},
   "source": [
    "<a id='dendro'></a>\n",
    "# Dendrogram"
   ]
  },
  {
   "cell_type": "markdown",
   "metadata": {},
   "source": [
    "To decide on number of clusters, let's create a dendrogram. It can help us to visually guess number of clusters for our research."
   ]
  },
  {
   "cell_type": "code",
   "execution_count": 9,
   "metadata": {},
   "outputs": [
    {
     "data": {
      "image/png": "[encoded data removed]",
      "text/plain": [
       "<Figure size 3600x1800 with 1 Axes>"
      ]
     },
     "metadata": {
      "needs_background": "light"
     },
     "output_type": "display_data"
    }
   ],
   "source": [
    "clusters = linkage(features, method = 'complete')\n",
    "plt.figure(figsize=(50,25))\n",
    "dendrogram(clusters, leaf_rotation = 90, color_threshold = 0.9)\n",
    "plt.show()"
   ]
  },
  {
   "cell_type": "markdown",
   "metadata": {},
   "source": [
    "As it can be seen, all data can be split into two clusters.\n",
    "\n",
    "However, to make a recommendation engine, we need to be more specific. So, we can either with 4-5 or around 8-12 clusters.\n",
    "\n",
    "For our case, however, to make engine more specific, let's take **12 clusters**."
   ]
  },
  {
   "cell_type": "markdown",
   "metadata": {},
   "source": [
    "<a id='tsne'></a>\n",
    "# t-SNE"
   ]
  },
  {
   "cell_type": "markdown",
   "metadata": {},
   "source": [
    "Such decision can also be confirmed by seeing t-SNE transformed scatter plot:"
   ]
  },
  {
   "cell_type": "code",
   "execution_count": 10,
   "metadata": {},
   "outputs": [
    {
     "data": {
      "image/png": "[encoded data removed]",
      "text/plain": [
       "<Figure size 2160x1080 with 1 Axes>"
      ]
     },
     "metadata": {
      "needs_background": "light"
     },
     "output_type": "display_data"
    }
   ],
   "source": [
    "tsne = TSNE()\n",
    "transformedFeatures = tsne.fit_transform(features) \n",
    "plt.figure(figsize=(30,15))\n",
    "plt.scatter(transformedFeatures[:,0], transformedFeatures[:,1])\n",
    "plt.show()"
   ]
  },
  {
   "cell_type": "markdown",
   "metadata": {},
   "source": [
    "12 clusters can be visually separated from this chart."
   ]
  },
  {
   "cell_type": "markdown",
   "metadata": {},
   "source": [
    "<a id='kmeans'></a>\n",
    "# Step-by-step K-means"
   ]
  },
  {
   "cell_type": "markdown",
   "metadata": {},
   "source": [
    "<a id='rec'></a>\n",
    "## Recursive K-Means"
   ]
  },
  {
   "cell_type": "markdown",
   "metadata": {},
   "source": [
    "Let's implement recursive function that takes dataframe and number of clusters as parametes and returns labels for created clusters. Optional argument `labels` can be specified to set initial state of the algorythm."
   ]
  },
  {
   "cell_type": "code",
   "execution_count": 11,
   "metadata": {},
   "outputs": [],
   "source": [
    "def recursiveKMeans(d, k, *labels):\n",
    "    if labels == ():\n",
    "        labels = (pd.Series(np.random.randint(0, k, len(d))),)\n",
    "\n",
    "    labels = labels[0]\n",
    "    \n",
    "    def labelClusterInKMeans(point, centroids):\n",
    "        distances = np.array([np.linalg.norm(centroid - point) for centroid in centroids])\n",
    "        return np.argmin(distances)\n",
    "\n",
    "    def updateCentroids(labels):\n",
    "        return [d.iloc[labels[labels == i].index.tolist()].mean() for i in labels.unique()]         \n",
    "        \n",
    "    newLabels = pd.Series([labelClusterInKMeans(row, updateCentroids(labels)) for _, row in d.iterrows()])\n",
    "    \n",
    "    #     base\n",
    "    if labels.equals(newLabels):\n",
    "        return labels\n",
    "    \n",
    "    return recursiveKMeans(d, k, newLabels)"
   ]
  },
  {
   "cell_type": "code",
   "execution_count": 12,
   "metadata": {
    "scrolled": true
   },
   "outputs": [
    {
     "data": {
      "text/plain": [
       "0       0\n",
       "1       1\n",
       "2       2\n",
       "3       3\n",
       "4       4\n",
       "5       5\n",
       "6       3\n",
       "7       6\n",
       "8       7\n",
       "9       7\n",
       "10      5\n",
       "11      4\n",
       "12      8\n",
       "13      9\n",
       "14      0\n",
       "15      7\n",
       "16      5\n",
       "17      5\n",
       "18     10\n",
       "19      5\n",
       "20      4\n",
       "21      3\n",
       "22      3\n",
       "23      4\n",
       "24      9\n",
       "25      9\n",
       "26      5\n",
       "27      0\n",
       "28      7\n",
       "29      4\n",
       "       ..\n",
       "89      9\n",
       "90      9\n",
       "91      3\n",
       "92      8\n",
       "93      7\n",
       "94      2\n",
       "95      9\n",
       "96      8\n",
       "97      2\n",
       "98      6\n",
       "99      9\n",
       "100     7\n",
       "101     8\n",
       "102     7\n",
       "103     3\n",
       "104     1\n",
       "105    10\n",
       "106     4\n",
       "107     8\n",
       "108     3\n",
       "109     5\n",
       "110     6\n",
       "111     1\n",
       "112     7\n",
       "113     9\n",
       "114     4\n",
       "115    10\n",
       "116     1\n",
       "117     0\n",
       "118     7\n",
       "Length: 119, dtype: int64"
      ]
     },
     "execution_count": 12,
     "metadata": {},
     "output_type": "execute_result"
    }
   ],
   "source": [
    "recursiveKMeans(features, 12)"
   ]
  },
  {
   "cell_type": "markdown",
   "metadata": {},
   "source": [
    "<a id='iter'></a>\n",
    "## Iterative K-Means\n",
    "A functions kmeans() that accepts a dataframe and k as parameters, and returns the clusters created."
   ]
  },
  {
   "cell_type": "code",
   "execution_count": 13,
   "metadata": {},
   "outputs": [],
   "source": [
    "def kmeans(d, k):\n",
    "    \n",
    "    def labelClusterInKMeans(point):\n",
    "        distances = np.array([np.linalg.norm(centroid - point) for centroid in centroids])\n",
    "        return np.argmin(distances)\n",
    "\n",
    "    def updateCentroids():\n",
    "        return [d.iloc[labels[labels == i].index.tolist()].mean() for i in labels.unique()] \n",
    "    \n",
    "    #     random centroids\n",
    "    centroids = ['x'] #'x' is needed just for first initial comparison in a loop below\n",
    "    \n",
    "    centroidsNew = []\n",
    "    for i in range(k):\n",
    "        centroidsNew.append(np.random.uniform(features.min(), features.max()))\n",
    "    \n",
    "    while not all([np.array_equal(c1, c2) for c1, c2 in zip(centroidsNew, centroids)]):\n",
    "        centroids = centroidsNew\n",
    "    #     label clusters\n",
    "        labels = pd.Series([labelClusterInKMeans(row) for _, row in d.iterrows()])\n",
    "    \n",
    "    #     update centroids\n",
    "        centroidsNew = updateCentroids()\n",
    "    \n",
    "    return labels"
   ]
  },
  {
   "cell_type": "code",
   "execution_count": 14,
   "metadata": {
    "scrolled": true
   },
   "outputs": [
    {
     "data": {
      "text/plain": [
       "0      0\n",
       "1      1\n",
       "2      0\n",
       "3      1\n",
       "4      0\n",
       "5      2\n",
       "6      3\n",
       "7      4\n",
       "8      5\n",
       "9      5\n",
       "10     2\n",
       "11     0\n",
       "12     0\n",
       "13     3\n",
       "14     0\n",
       "15     5\n",
       "16     2\n",
       "17     6\n",
       "18     5\n",
       "19     6\n",
       "20     4\n",
       "21     3\n",
       "22     3\n",
       "23     0\n",
       "24     7\n",
       "25     3\n",
       "26     2\n",
       "27     0\n",
       "28     5\n",
       "29     0\n",
       "      ..\n",
       "89     7\n",
       "90     7\n",
       "91     3\n",
       "92     3\n",
       "93     4\n",
       "94     0\n",
       "95     3\n",
       "96     3\n",
       "97     0\n",
       "98     4\n",
       "99     7\n",
       "100    5\n",
       "101    3\n",
       "102    4\n",
       "103    3\n",
       "104    1\n",
       "105    2\n",
       "106    4\n",
       "107    3\n",
       "108    7\n",
       "109    6\n",
       "110    4\n",
       "111    1\n",
       "112    0\n",
       "113    7\n",
       "114    0\n",
       "115    5\n",
       "116    1\n",
       "117    0\n",
       "118    4\n",
       "Length: 119, dtype: int64"
      ]
     },
     "execution_count": 14,
     "metadata": {},
     "output_type": "execute_result"
    }
   ],
   "source": [
    "kmeans(features, 12)"
   ]
  },
  {
   "cell_type": "markdown",
   "metadata": {},
   "source": [
    "<a id='class'></a>\n",
    "## K-Means Class"
   ]
  },
  {
   "cell_type": "markdown",
   "metadata": {},
   "source": [
    "Let's now implement a class that will have similar behaviour as `sklearn.cluster.KMeans`.  \n",
    "It will be initialized by number of clusters.  \n",
    "`predict` function is used to predict cluster of point based on created cluster centers.  \n",
    "`fit` will initialize and fit cluster centers and label data.  \n",
    "[More about initialization methods.](https://en.wikipedia.org/wiki/K-means_clustering#Initialization_methods)"
   ]
  },
  {
   "cell_type": "code",
   "execution_count": 15,
   "metadata": {},
   "outputs": [],
   "source": [
    "class myKMeans:\n",
    "    \n",
    "    def __init__(self, n_clusters):\n",
    "        self.n_clusters = n_clusters\n",
    "    \n",
    "    def predict(self, point):\n",
    "        distances = np.array([np.linalg.norm(centroid - point) for centroid in self.cluster_centers_])\n",
    "        return np.argmin(distances)\n",
    "    \n",
    "    def fit(self, d, initializationMethod = 'Forgy'):\n",
    "        \n",
    "        def updateCentroids():\n",
    "            return [d.iloc[self.labels_[self.labels_ == i].index.tolist()].mean() for i in self.labels_.unique()] \n",
    "\n",
    "        self.cluster_centers_ = ['x'] #'x' is needed just for first initial comparison in a loop below\n",
    "\n",
    "        if initializationMethod == 'Random Points':\n",
    "            new_cluster_centers = []\n",
    "            for i in range(self.n_clusters):\n",
    "                new_cluster_centers.append(np.random.uniform(d.min(), d.max()))\n",
    "                \n",
    "        elif initializationMethod == 'Forgy':\n",
    "            new_cluster_centers = d.sample(self.n_clusters).as_matrix()\n",
    "            \n",
    "        elif initializationMethod == 'Random Partition':\n",
    "            self.labels_ = pd.Series(np.random.randint(0, self.n_clusters, len(d)))\n",
    "            new_cluster_centers = updateCentroids()\n",
    "\n",
    "        while not all([np.array_equal(c1, c2) for c1, c2 in zip(new_cluster_centers, self.cluster_centers_)]):\n",
    "            self.cluster_centers_ = new_cluster_centers\n",
    "    #     label clusters\n",
    "            self.labels_ = pd.Series([self.predict(row) for _, row in d.iterrows()])\n",
    "    #     update centroids\n",
    "            new_cluster_centers = updateCentroids()"
   ]
  },
  {
   "cell_type": "markdown",
   "metadata": {},
   "source": [
    "Let's try using this object:"
   ]
  },
  {
   "cell_type": "code",
   "execution_count": 16,
   "metadata": {},
   "outputs": [
    {
     "name": "stderr",
     "output_type": "stream",
     "text": [
      "C:\\Users\\Dergel\\Anaconda3\\lib\\site-packages\\ipykernel_launcher.py:23: FutureWarning: Method .as_matrix will be removed in a future version. Use .values instead.\n"
     ]
    }
   ],
   "source": [
    "myKMeansObject  = myKMeans(12)\n",
    "myKMeansObject.fit(features)"
   ]
  },
  {
   "cell_type": "code",
   "execution_count": 17,
   "metadata": {},
   "outputs": [
    {
     "name": "stdout",
     "output_type": "stream",
     "text": [
      "0    0\n",
      "1    1\n",
      "2    2\n",
      "3    3\n",
      "4    4\n",
      "dtype: int64\n",
      "[GPA                  0.486508\n",
      "calories_chicken     0.310832\n",
      "calories_scone       0.067669\n",
      "tortilla_calories    0.670330\n",
      "turkey_calories      0.131542\n",
      "dtype: float64, GPA                  0.870667\n",
      "calories_chicken     0.854945\n",
      "calories_scone       0.094737\n",
      "tortilla_calories    0.148718\n",
      "turkey_calories      0.683168\n",
      "dtype: float64, GPA                  0.530303\n",
      "calories_chicken     0.912088\n",
      "calories_scone       0.157895\n",
      "tortilla_calories    1.000000\n",
      "turkey_calories      0.512151\n",
      "dtype: float64, GPA                  0.667778\n",
      "calories_chicken     0.217582\n",
      "calories_scone       0.094737\n",
      "tortilla_calories    0.115670\n",
      "turkey_calories      0.147855\n",
      "dtype: float64, GPA                  0.694757\n",
      "calories_chicken     0.864011\n",
      "calories_scone       0.138158\n",
      "tortilla_calories    0.615385\n",
      "turkey_calories      0.287748\n",
      "dtype: float64, GPA                  0.180556\n",
      "calories_chicken     0.758242\n",
      "calories_scone       1.000000\n",
      "tortilla_calories    0.431624\n",
      "turkey_calories      0.000000\n",
      "dtype: float64, GPA                  0.768954\n",
      "calories_chicken     0.786684\n",
      "calories_scone       0.148607\n",
      "tortilla_calories    0.773756\n",
      "turkey_calories      0.794991\n",
      "dtype: float64, GPA                  0.688426\n",
      "calories_chicken     0.798535\n",
      "calories_scone       0.105263\n",
      "tortilla_calories    0.185897\n",
      "turkey_calories      0.204620\n",
      "dtype: float64, GPA                  0.595667\n",
      "calories_chicken     0.563736\n",
      "calories_scone       1.000000\n",
      "tortilla_calories    0.732479\n",
      "turkey_calories      0.153465\n",
      "dtype: float64, GPA                  0.616667\n",
      "calories_chicken     0.865690\n",
      "calories_scone       1.000000\n",
      "tortilla_calories    0.957265\n",
      "turkey_calories      0.788779\n",
      "dtype: float64, GPA                  0.879861\n",
      "calories_chicken     0.939560\n",
      "calories_scone       0.118421\n",
      "tortilla_calories    1.000000\n",
      "turkey_calories      0.448020\n",
      "dtype: float64, GPA                  0.764286\n",
      "calories_chicken     0.310832\n",
      "calories_scone       0.135338\n",
      "tortilla_calories    0.945055\n",
      "turkey_calories      0.629420\n",
      "dtype: float64]\n",
      "9\n"
     ]
    }
   ],
   "source": [
    "print(myKMeansObject.labels_[:5])\n",
    "print(myKMeansObject.cluster_centers_)\n",
    "print(myKMeansObject.predict([3.59, 284.81, 634.6, 781.95, 583.72]))"
   ]
  },
  {
   "cell_type": "markdown",
   "metadata": {},
   "source": [
    "<a id='sklearn'></a>\n",
    "# sklearn.cluster"
   ]
  },
  {
   "cell_type": "markdown",
   "metadata": {},
   "source": [
    "Next code simply takes `sklearn.cluster.KMeans` class and uses it."
   ]
  },
  {
   "cell_type": "code",
   "execution_count": 18,
   "metadata": {},
   "outputs": [],
   "source": [
    "model = KMeans(n_clusters=12)\n",
    "model.fit(features)\n",
    "clusters = pd.Series(model.labels_)"
   ]
  },
  {
   "cell_type": "markdown",
   "metadata": {},
   "source": [
    "Let's see means of each variable for each cluster:"
   ]
  },
  {
   "cell_type": "code",
   "execution_count": 19,
   "metadata": {
    "scrolled": true
   },
   "outputs": [
    {
     "name": "stdout",
     "output_type": "stream",
     "text": [
      "GPA                     2.3\n",
      "calories_chicken      430.0\n",
      "calories_scone        367.5\n",
      "tortilla_calories    1052.5\n",
      "turkey_calories       345.0\n",
      "dtype: float64\n",
      "=================\n",
      "GPA                    3.734000\n",
      "calories_chicken     614.444444\n",
      "calories_scone       373.333333\n",
      "tortilla_calories    692.777778\n",
      "turkey_calories      626.666667\n",
      "dtype: float64\n",
      "=================\n",
      "GPA                     3.458038\n",
      "calories_chicken      660.769231\n",
      "calories_scone        407.884615\n",
      "tortilla_calories    1026.538462\n",
      "turkey_calories       494.038462\n",
      "dtype: float64\n",
      "=================\n",
      "GPA                    2.975000\n",
      "calories_chicken     462.500000\n",
      "calories_scone       980.000000\n",
      "tortilla_calories    868.333333\n",
      "turkey_calories      370.833333\n",
      "dtype: float64\n",
      "=================\n",
      "GPA                    3.525\n",
      "calories_chicken     610.000\n",
      "calories_scone       409.500\n",
      "tortilla_calories    940.000\n",
      "turkey_calories      722.000\n",
      "dtype: float64\n",
      "=================\n",
      "GPA                    3.300000\n",
      "calories_chicken     634.444444\n",
      "calories_scone       396.666667\n",
      "tortilla_calories    676.666667\n",
      "turkey_calories      431.111111\n",
      "dtype: float64\n",
      "=================\n",
      "GPA                    3.416429\n",
      "calories_chicken     359.285714\n",
      "calories_scone       375.000000\n",
      "tortilla_calories    642.142857\n",
      "turkey_calories      400.357143\n",
      "dtype: float64\n",
      "=================\n",
      "GPA                     3.320333\n",
      "calories_chicken      610.000000\n",
      "calories_scone        980.000000\n",
      "tortilla_calories    1090.000000\n",
      "turkey_calories       448.333333\n",
      "dtype: float64\n",
      "=================\n",
      "GPA                    3.386\n",
      "calories_chicken     397.000\n",
      "calories_scone       357.000\n",
      "tortilla_calories    940.000\n",
      "turkey_calories      438.000\n",
      "dtype: float64\n",
      "=================\n",
      "GPA                     3.496875\n",
      "calories_chicken      678.750000\n",
      "calories_scone        413.437500\n",
      "tortilla_calories    1165.000000\n",
      "turkey_calories       730.000000\n",
      "dtype: float64\n",
      "=================\n",
      "GPA                     3.310000\n",
      "calories_chicken      658.888889\n",
      "calories_scone        980.000000\n",
      "tortilla_calories    1140.000000\n",
      "turkey_calories       743.333333\n",
      "dtype: float64\n",
      "=================\n",
      "GPA                     3.575714\n",
      "calories_chicken      406.428571\n",
      "calories_scone        405.000000\n",
      "tortilla_calories    1132.857143\n",
      "turkey_calories       662.857143\n",
      "dtype: float64\n",
      "=================\n"
     ]
    }
   ],
   "source": [
    "for group in clusters.unique():\n",
    "    print(pd.DataFrame(scaler.inverse_transform(\n",
    "        features.iloc[[x for x in clusters[clusters == group].index.tolist()]]),\n",
    "                 columns=features.columns).mean(axis=0))\n",
    "    print('=================')"
   ]
  },
  {
   "cell_type": "markdown",
   "metadata": {},
   "source": [
    "Basic idea of what represents each cluster can be got from here.  \n",
    "For example, first cluster has low GPA, thinks that turkey is very low calory food and tortilla is high calory food."
   ]
  },
  {
   "cell_type": "markdown",
   "metadata": {},
   "source": [
    "<a id='comparison'> </a>\n",
    "## Basic Comparison"
   ]
  },
  {
   "cell_type": "markdown",
   "metadata": {},
   "source": [
    "Let's do some very basic comparison of what our methods produce.  \n",
    "To do this we'll check sizes of each cluster for each method.  \n",
    "Note - for custom methods initial state can change clusters a bit, so, result can be changed on notebook rerun."
   ]
  },
  {
   "cell_type": "code",
   "execution_count": 20,
   "metadata": {},
   "outputs": [
    {
     "name": "stdout",
     "output_type": "stream",
     "text": [
      "sklearn\n",
      "1     26\n",
      "5     16\n",
      "7     14\n",
      "6     10\n",
      "10     9\n",
      "8      9\n",
      "2      9\n",
      "9      7\n",
      "4      6\n",
      "3      6\n",
      "0      5\n",
      "11     2\n",
      "dtype: int64\n",
      "\n",
      "Iterative\n",
      "1     23\n",
      "8     19\n",
      "5     17\n",
      "9     12\n",
      "7     11\n",
      "6     10\n",
      "4      9\n",
      "10     5\n",
      "2      5\n",
      "11     4\n",
      "3      2\n",
      "0      2\n",
      "dtype: int64\n",
      "\n",
      "Recursive\n",
      "5    24\n",
      "4    20\n",
      "1    18\n",
      "6    14\n",
      "7    12\n",
      "2     9\n",
      "0     8\n",
      "9     7\n",
      "3     5\n",
      "8     2\n",
      "dtype: int64\n",
      "\n",
      "Class (iterative)\n",
      "6     17\n",
      "4     16\n",
      "3     15\n",
      "7     12\n",
      "2     11\n",
      "8     10\n",
      "9      9\n",
      "10     8\n",
      "11     7\n",
      "0      7\n",
      "1      5\n",
      "5      2\n",
      "dtype: int64\n"
     ]
    }
   ],
   "source": [
    "print('sklearn')\n",
    "print(clusters.value_counts())\n",
    "print('')\n",
    "\n",
    "print('Iterative')\n",
    "print(kmeans(features, 12).value_counts())\n",
    "print('')\n",
    "\n",
    "print('Recursive')\n",
    "print(recursiveKMeans(features, 12).value_counts())\n",
    "print('')\n",
    "\n",
    "print('Class (iterative)')\n",
    "print(myKMeansObject.labels_.value_counts())"
   ]
  },
  {
   "cell_type": "markdown",
   "metadata": {},
   "source": [
    "<a id='prediction'></a>\n",
    "# Prediction"
   ]
  },
  {
   "cell_type": "markdown",
   "metadata": {},
   "source": [
    "Let's create a function `printCoupon` that accepts parameters, which represent the characteristics of the student, and will print coupons according to the cluster the student belongs to.  "
   ]
  },
  {
   "cell_type": "code",
   "execution_count": 21,
   "metadata": {},
   "outputs": [],
   "source": [
    "def predict(features):\n",
    "    return model.predict(scaler.transform(np.array(features).reshape(1, -1)))[0]\n",
    "\n",
    "def printCoupon(GPA, calories_chicken, calories_scone, tortilla_calories, turkey_calories):    \n",
    "    \n",
    "    coupons = [\n",
    "            \"Psss, our chicken with fresh vegetables is awaiting you! Check restaurant nearby or order a delivery!\",\n",
    "            \"You need more energy to keep good grades going! Try  our delicious scones! Tasty, but not too much calories\",\n",
    "            \"To score even better in your studies, try our new scone or our tasty chicken that can fulfil your brain with energy!\",\n",
    "            \"You know what is both tasty and low on calories? Right! That's our new turkey!\",\n",
    "            \"Go get your food today at new all-you-can-eat buffet at the University of the Pacific!\",\n",
    "            \"Wanna get a lot of food? Visit us!\",\n",
    "            \"Waiting for you to serve you best dishes.\",\n",
    "            \"How about nice and tasty cone for today's lunch?\",\n",
    "            \"Tasty and low on calories!\",\n",
    "            \"What can be better than our scone? Only our chicken!\",\n",
    "            \"Turkey - low on calories, but high on deliciosness!\",\n",
    "            \"Thinking what do you preffer, chicken or scone? Take both!\"\n",
    "            ]\n",
    "    \n",
    "    print(coupons[predict([GPA, calories_chicken, calories_scone, tortilla_calories, turkey_calories])])"
   ]
  },
  {
   "cell_type": "markdown",
   "metadata": {},
   "source": [
    "Let's run our coupon function for 10 random data points."
   ]
  },
  {
   "cell_type": "code",
   "execution_count": 22,
   "metadata": {},
   "outputs": [
    {
     "name": "stdout",
     "output_type": "stream",
     "text": [
      "GPA,\t calories_chicken,\t calories_scone,\t tortilla_calories,\t turkey_calories\n",
      "2.2\t\t  373.8\t\t  546.8\t\t  988.86\t\t  705.51\n",
      "Thinking what do you preffer, chicken or scone? Take both!\n",
      "==================================================================================================\n",
      "\n",
      "GPA,\t calories_chicken,\t calories_scone,\t tortilla_calories,\t turkey_calories\n",
      "3.14\t\t  515.17\t\t  361.11\t\t  644.48\t\t  721.95\n",
      "Tasty and low on calories!\n",
      "==================================================================================================\n",
      "\n",
      "GPA,\t calories_chicken,\t calories_scone,\t tortilla_calories,\t turkey_calories\n",
      "3.99\t\t  299.17\t\t  699.59\t\t  989.03\t\t  489.39\n",
      "Psss, our chicken with fresh vegetables is awaiting you! Check restaurant nearby or order a delivery!\n",
      "==================================================================================================\n",
      "\n",
      "GPA,\t calories_chicken,\t calories_scone,\t tortilla_calories,\t turkey_calories\n",
      "3.28\t\t  413.42\t\t  374.42\t\t  1057.94\t\t  518.7\n",
      "Psss, our chicken with fresh vegetables is awaiting you! Check restaurant nearby or order a delivery!\n",
      "==================================================================================================\n",
      "\n",
      "GPA,\t calories_chicken,\t calories_scone,\t tortilla_calories,\t turkey_calories\n",
      "2.45\t\t  522.7\t\t  971.37\t\t  887.84\t\t  640.14\n",
      "You know what is both tasty and low on calories? Right! That's our new turkey!\n",
      "==================================================================================================\n",
      "\n",
      "GPA,\t calories_chicken,\t calories_scone,\t tortilla_calories,\t turkey_calories\n",
      "3.67\t\t  565.28\t\t  771.43\t\t  1075.75\t\t  463.19\n",
      "Go get your food today at new all-you-can-eat buffet at the University of the Pacific!\n",
      "==================================================================================================\n",
      "\n",
      "GPA,\t calories_chicken,\t calories_scone,\t tortilla_calories,\t turkey_calories\n",
      "2.27\t\t  384.06\t\t  931.53\t\t  676.48\t\t  446.54\n",
      "You know what is both tasty and low on calories? Right! That's our new turkey!\n",
      "==================================================================================================\n",
      "\n",
      "GPA,\t calories_chicken,\t calories_scone,\t tortilla_calories,\t turkey_calories\n",
      "2.36\t\t  711.1\t\t  615.45\t\t  775.85\t\t  522.77\n",
      "To score even better in your studies, try our new scone or our tasty chicken that can fulfil your brain with energy!\n",
      "==================================================================================================\n",
      "\n",
      "GPA,\t calories_chicken,\t calories_scone,\t tortilla_calories,\t turkey_calories\n",
      "3.87\t\t  634.46\t\t  827.41\t\t  1105.31\t\t  774.88\n",
      "Turkey - low on calories, but high on deliciosness!\n",
      "==================================================================================================\n",
      "\n",
      "GPA,\t calories_chicken,\t calories_scone,\t tortilla_calories,\t turkey_calories\n",
      "3.95\t\t  314.57\t\t  428.24\t\t  893.08\t\t  420.58\n",
      "Psss, our chicken with fresh vegetables is awaiting you! Check restaurant nearby or order a delivery!\n",
      "==================================================================================================\n",
      "\n"
     ]
    }
   ],
   "source": [
    "for i in range(10):\n",
    "    x = np.round(np.random.uniform(scaler.data_min_, scaler.data_max_), 2)\n",
    "    print('GPA,\\t calories_chicken,\\t calories_scone,\\t tortilla_calories,\\t turkey_calories')\n",
    "    print(*x, sep='\\t\\t  ')\n",
    "    printCoupon(x[0], x[1], x[2], x[3], x[4])\n",
    "    print('==================================================================================================\\n')"
   ]
  },
  {
   "cell_type": "markdown",
   "metadata": {},
   "source": [
    "<a id='mesh'></a>\n",
    "# 2D prediction mesh"
   ]
  },
  {
   "cell_type": "markdown",
   "metadata": {},
   "source": [
    "Let's plot 2D prediction mesh."
   ]
  },
  {
   "cell_type": "code",
   "execution_count": 23,
   "metadata": {},
   "outputs": [],
   "source": [
    "def plotPredictionMesh(data, cluster_centers, nh=100, meshColor='Pastel2'):\n",
    "    #     plots colored mesh grid for each point after applying tSNE \n",
    "    #     based on cluster centers (from K-Means) and euclidian distance\n",
    "    \n",
    "    #     define to which cluster point belongs based on euclidian distance to cluster_centers\n",
    "    def predict(point, cluster_centers):\n",
    "        distances = np.array([np.linalg.norm(centroid - point) for centroid in cluster_centers])\n",
    "        return np.argmin(distances)\n",
    "    \n",
    "    #     transform all data together with cluster centers with tSNE\n",
    "    tsne = TSNE()\n",
    "    transformed = tsne.fit_transform(data.append(pd.DataFrame(model.cluster_centers_, columns=data.columns)))\n",
    "    #     separate cluster from other data (copy, to be precise)\n",
    "    clusterCenters = transformed[-len(cluster_centers):,:]\n",
    "    \n",
    "    #     get max and min values of both axis for mesh grid\n",
    "    x_min, x_max = transformed[:,0].min() - 1, transformed[:,0].max() + 1\n",
    "    y_min, y_max = transformed[:,1].min() - 1, transformed[:,1].max() + 1\n",
    "    \n",
    "    #     mesh step\n",
    "    h = min((x_max - x_min) / nh, (y_max - y_min) / nh)\n",
    "    \n",
    "    #     create mesh grip (grid of points) to color rectangular that are defined by points\n",
    "    xx, yy = np.meshgrid(np.arange(x_min, x_max, h), np.arange(y_min, y_max, h))\n",
    "    \n",
    "    #     find to which cluster each point belongs\n",
    "    clusteringForEachMeshPoint = np.array([predict([x,y], clusterCenters) for x,y in np.c_[xx.ravel(), yy.ravel()]])\n",
    "    \n",
    "    #     reshape it to fit plt.pcolor\n",
    "    clusteringForEachMeshPoint = clusteringForEachMeshPoint.reshape(xx.shape)\n",
    "\n",
    "    #     plot colors       \n",
    "    plt.figure(figsize=(20,10))\n",
    "    plt.pcolor(xx, yy, clusteringForEachMeshPoint, cmap=meshColor)\n",
    "    \n",
    "    #     and also points with cluster centers\n",
    "    plt.scatter(transformed[:,0], transformed[:,1])\n",
    "    plt.scatter(clusterCenters[:,0], clusterCenters[:,1], c='red')"
   ]
  },
  {
   "cell_type": "code",
   "execution_count": 24,
   "metadata": {},
   "outputs": [
    {
     "data": {
      "image/png": "[encoded data removed]",
      "text/plain": [
       "<Figure size 1440x720 with 1 Axes>"
      ]
     },
     "metadata": {
      "needs_background": "light"
     },
     "output_type": "display_data"
    }
   ],
   "source": [
    "plotPredictionMesh(features, model.cluster_centers_)"
   ]
  },
  {
   "cell_type": "markdown",
   "metadata": {},
   "source": [
    "It can be used to visualize clusters on plane and to represent algorithm concept and results."
   ]
  },
  {
   "cell_type": "markdown",
   "metadata": {},
   "source": [
    "<a id='recommendations'></a>\n",
    "# Recommendations\n",
    "During conducted research data exploration was performed. Based on its results five columns were selected as features for unsupervised K-Means clustering, namely `GPA`, `calories_chicken`, `calories_scone`, `tortilla_calories`, `turkey_calories`. After this features data was cleaned. Data was analyzed to find optimal number of clusters. 12 clusters were chosen for this research.  \n",
    "  \n",
    "K-Means clustering was implemented in several ways. Three custom types were implemented (recursive, iterative, Class-based) and one pre-built from `sklearn.clusters` was used. Found clusters were analyzed to see which characteristics they represent. \n",
    "  \n",
    "Based on created recommendation engine students can be targeted with different coupons, based on their GPA and guessed calories level. This engine can be extended to work with more variables and to work even if some variable is missing.  \n",
    "  \n",
    "Coupon text also should be adjusted to include pictures and be more based on psychometric features of the target audience.  \n",
    "Depending on goal, number of clusters (groups) can be adjusted to be more specific or more general.  \n",
    "Results can be visualized for presenting with created prediction mesh function.\n"
   ]
  },
  {
   "cell_type": "code",
   "execution_count": null,
   "metadata": {},
   "outputs": [],
   "source": []
  }
 ],
 "metadata": {
  "kernelspec": {
   "display_name": "Python 3",
   "language": "python",
   "name": "python3"
  },
  "language_info": {
   "codemirror_mode": {
    "name": "ipython",
    "version": 3
   },
   "file_extension": ".py",
   "mimetype": "text/x-python",
   "name": "python",
   "nbconvert_exporter": "python",
   "pygments_lexer": "ipython3",
   "version": "3.7.3"
  }
 },
 "nbformat": 4,
 "nbformat_minor": 2
}
