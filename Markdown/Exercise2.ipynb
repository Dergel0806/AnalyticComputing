{
 "cells": [
  {
   "cell_type": "markdown",
   "metadata": {},
   "source": [
    "### Made by Ihor Markevych"
   ]
  },
  {
   "cell_type": "markdown",
   "metadata": {},
   "source": [
    "# Assignment 1 - Acme Corporation"
   ]
  },
  {
   "cell_type": "markdown",
   "metadata": {},
   "source": [
    "The average salary for an employee at Acme Corporation is \\\\$30,000 per year, with a variance of 4,000,000. This year, management awards the following bonuses to every employee.\n",
    "\n",
    "* A Christmas bonus of \\\\$500. \n",
    "* An incentive bonus equal to 10 percent of the employee's salary.\n",
    "What is the standard deviation of the employee bonus?\n",
    "\n",
    "(A) \\\\$200    \n",
    "(B) \\\\$3,000         \n",
    "(C) \\\\$40,000       \n",
    "(D) None of the above.    \n",
    "(E) There is not enough information to answer this question.    "
   ]
  },
  {
   "cell_type": "markdown",
   "metadata": {},
   "source": [
    "# Solution"
   ]
  },
  {
   "cell_type": "markdown",
   "metadata": {},
   "source": [
    "The correct answer is A. \n",
    "\n",
    "To compute the bonus, management applies the following [linear transformation](http://mathworld.wolfram.com/LinearTransformation.html) to each employee's salary:\n",
    "\n",
    "$$Y = mX + b$$\n",
    "$$$$\n",
    "$$Y = 0.1 * X + 500$$\n",
    "\n",
    "where $Y$ is the transformed variable (the bonus), $X$  is the original variable (the salary), $m$ is the multiplicative constant $0.10$, and $b$ is the addictive constant $500$.  \n",
    "$$$$\n",
    "Since we know the variance of employee salaries $V(X)$, we can compute the variance of employee bonuses from the following equation:  \n",
    "\n",
    "$$Var(Y) = m^2 * var(X) = (0.1)^2 * 4,000,000 = 40,000$$  \n",
    "\n",
    "where $Var(Y)$ is the variance of employee bonuses, and $Var(X)$ is the variance of employee salaries. \n",
    "And finally, since the standard deviation is equal to the square root of the variance, the standard deviation of employee bonuses is equal to the square root of 40,000 or \\\\$200."
   ]
  },
  {
   "cell_type": "code",
   "execution_count": 1,
   "metadata": {},
   "outputs": [
    {
     "data": {
      "text/html": [
       "40000"
      ],
      "text/latex": [
       "40000"
      ],
      "text/markdown": [
       "40000"
      ],
      "text/plain": [
       "[1] 40000"
      ]
     },
     "metadata": {},
     "output_type": "display_data"
    }
   ],
   "source": [
    "m <- .1\n",
    "b <- 500\n",
    "mean <- 500\n",
    "varX <- 4000000\n",
    "m ** 2 * varX"
   ]
  }
 ],
 "metadata": {
  "kernelspec": {
   "display_name": "R",
   "language": "R",
   "name": "ir"
  },
  "language_info": {
   "codemirror_mode": "r",
   "file_extension": ".r",
   "mimetype": "text/x-r-source",
   "name": "R",
   "pygments_lexer": "r",
   "version": "3.6.1"
  }
 },
 "nbformat": 4,
 "nbformat_minor": 2
}
