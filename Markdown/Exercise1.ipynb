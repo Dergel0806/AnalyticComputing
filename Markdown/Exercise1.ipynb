{
 "cells": [
  {
   "cell_type": "markdown",
   "metadata": {},
   "source": [
    "__Made by Ihor Markevych__"
   ]
  },
  {
   "cell_type": "markdown",
   "metadata": {},
   "source": [
    "# Exercise - Voters"
   ]
  },
  {
   "cell_type": "markdown",
   "metadata": {},
   "source": [
    "## Problem"
   ]
  },
  {
   "cell_type": "markdown",
   "metadata": {},
   "source": [
    "In one state, 52% of the voters are Republicans, and 48% are Democrats. In a second state, 47% of the voters are Republicans, and 53% are Democrats. Suppose a simple random sample of 100 voters are surveyed from each state.\n",
    "\n",
    "What is the probability that the survey will show a greater percentage of Republican voters in the second state than in the first state?\n",
    "\n",
    "\n",
    "(A) 0.04   \n",
    "(B) 0.05   \n",
    "(C) 0.24   \n",
    "(D) 0.71   \n",
    "(E) 0.76  "
   ]
  },
  {
   "cell_type": "markdown",
   "metadata": {},
   "source": [
    "## Solution"
   ]
  },
  {
   "cell_type": "markdown",
   "metadata": {},
   "source": [
    "The correct answer is C. For this analysis, let $P_1 =$ the proportion of Republican voters in the first state, $P_2 =$ the proportion of Republican voters in the second state,$p_1 =$ the proportion of Republican voters in the sample from the first state, and $p_2 =$ the proportion of Republican voters in the sample from the second state.\n",
    "  \n",
    "    \n",
    "Let:\n",
    "* $P_1 = 0.52$, the proportion of Republicans in state 1\n",
    "* $P_2 = 0.47$, proportion of Republicans in state 2"
   ]
  },
  {
   "cell_type": "code",
   "execution_count": 1,
   "metadata": {},
   "outputs": [
    {
     "name": "stdout",
     "output_type": "stream",
     "text": [
      "P_1 = 0.52\n",
      "P_2 = 0.47"
     ]
    }
   ],
   "source": [
    "P1 <- .52\n",
    "P2 <- .47\n",
    "cat('P_1 =', P1)\n",
    "cat('\\nP_2 =', P2)"
   ]
  },
  {
   "cell_type": "markdown",
   "metadata": {},
   "source": [
    "## The solution involves four steps"
   ]
  },
  {
   "cell_type": "markdown",
   "metadata": {},
   "source": [
    "A- Make sure the sample size is big enough to model differences with a normal population.\n",
    "\n",
    "$$n_1P_1 = 100*.52 = 52$$\n",
    "$$n_1(1 - P_1) = 100*.48 = 48$$\n",
    "$$n_2P_2 = 100*.47 = 47$$\n",
    "$$n_2(1 - P_2) = 100*.53 = 53$$\n",
    "     \n",
    "    Conclussion: Each of the quantities above are greater than 10, \n",
    "    the sample size is large enough."
   ]
  },
  {
   "cell_type": "code",
   "execution_count": 2,
   "metadata": {},
   "outputs": [
    {
     "name": "stdout",
     "output_type": "stream",
     "text": [
      "n_1 * P_1 = 52\n",
      "n_1 * (1 - P_1) = 48\n",
      "n_2 * P_2 = 47\n",
      "n_2 * (1 - P_2) = 53"
     ]
    }
   ],
   "source": [
    "n1 <- 100\n",
    "n2 <- 100\n",
    "cat('n_1 * P_1 =', n1 * P1)\n",
    "cat('\\nn_1 * (1 - P_1) =', n1 * (1 - P1))\n",
    "cat('\\nn_2 * P_2 =', n2 * P2)\n",
    "cat('\\nn_2 * (1 - P_2) =', n2 * (1 - P2))"
   ]
  },
  {
   "cell_type": "markdown",
   "metadata": {},
   "source": [
    "B- Find the mean of the difference in sample proportions\n",
    "\n",
    "$$E(p_1-p_2) = P_1 - P_2 = 0.52 - 0.47 = 0.05$$"
   ]
  },
  {
   "cell_type": "code",
   "execution_count": 3,
   "metadata": {},
   "outputs": [
    {
     "name": "stdout",
     "output_type": "stream",
     "text": [
      "E(p_1-p_2) = P_1 - P_2 = 0.05"
     ]
    }
   ],
   "source": [
    "cat('E(p_1-p_2) = P_1 - P_2 =', P1 - P2)"
   ]
  },
  {
   "cell_type": "markdown",
   "metadata": {},
   "source": [
    "C- Find the standard deviation of the difference.\n",
    "\n",
    "$$\\sigma=\\sqrt{\\frac{P_1(1 - P_1)}{n_1} + \\frac{P_2(1 - P_2)}{n_2}}$$"
   ]
  },
  {
   "cell_type": "code",
   "execution_count": 4,
   "metadata": {},
   "outputs": [
    {
     "name": "stdout",
     "output_type": "stream",
     "text": [
      "sigma = 0.07061869"
     ]
    }
   ],
   "source": [
    "cat('sigma =', sqrt(P1 * (1 - P1) / n1 + P2 * (1 - P2) / n2))"
   ]
  },
  {
   "cell_type": "markdown",
   "metadata": {},
   "source": [
    "D- Find the probability. This problem requires us to find the probability that $p_1$ is less than $p_2$. This is equivalent to finding the probability that $p_1 - p_2$ is less than zero. To find this probability, we need to transform the random variable $(p_1 - p_2)$ into a z-score. That transformation appears below.\n",
    "\n",
    "$$z_{p_1 - p_2} = \\frac{x - \\mu_{p_1 - p_2}}{\\sigma_d} = \\frac{0 - 0.05}{0.07061869} = -0.7082$$\n",
    "\n",
    "Using any distribution calculator, we find that the probability of a z-score being -0.7082 or less is 0.24.\n",
    "\n",
    "\n",
    "Therefore, the probability that the survey will show a greater percentage of Republican voters in the second state than in the first state is 0.24."
   ]
  },
  {
   "cell_type": "code",
   "execution_count": 5,
   "metadata": {},
   "outputs": [
    {
     "name": "stdout",
     "output_type": "stream",
     "text": [
      "z_{p1 - p2} = 0.24"
     ]
    }
   ],
   "source": [
    "cat('z_{p1 - p2} =', round(pnorm(−0.7082), 2))"
   ]
  },
  {
   "cell_type": "code",
   "execution_count": null,
   "metadata": {},
   "outputs": [],
   "source": []
  }
 ],
 "metadata": {
  "kernelspec": {
   "display_name": "R",
   "language": "R",
   "name": "ir"
  },
  "language_info": {
   "codemirror_mode": "r",
   "file_extension": ".r",
   "mimetype": "text/x-r-source",
   "name": "R",
   "pygments_lexer": "r",
   "version": "3.6.1"
  }
 },
 "nbformat": 4,
 "nbformat_minor": 2
}
