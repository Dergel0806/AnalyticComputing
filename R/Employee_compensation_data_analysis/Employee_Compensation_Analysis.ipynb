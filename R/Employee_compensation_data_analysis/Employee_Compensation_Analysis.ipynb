{
 "cells": [
  {
   "cell_type": "markdown",
   "metadata": {},
   "source": [
    "![](https://www.lamarchaberkeley.com/wp-content/uploads/2016/02/paella-perfected.jpg)"
   ]
  },
  {
   "cell_type": "markdown",
   "metadata": {},
   "source": [
    "# <p style=\"text-align: center;\"> SF Employee Compensation </p>\n",
    "## <p style=\"text-align: center;\"> Main insights regarding the income in the city </p>\n",
    "#### <p style=\"text-align: right;\"> Made by Ihor Markevych </p>"
   ]
  },
  {
   "cell_type": "markdown",
   "metadata": {},
   "source": [
    "**Structure:**\n",
    "(clickable)\n",
    "\n",
    "1. [Objective of the Proposed Research](#objective)\n",
    "1. [Data Exploration](#data_exploration)\n",
    "    - [Aspect 1](#aspect1)\n",
    "    - [Aspect 2](#aspect2)\n",
    "    - [Aspect 3](#aspect3)\n",
    "    - [Aspect 4](#aspect4)\n",
    "    - [Aspect 5](#aspect5)\n",
    "    - [Aspect 6](#aspect6)\n",
    "    - [Aspect 7](#aspect7)\n",
    "    - [Aspect 8](#aspect8)\n",
    "    - [Aspect 9](#aspect9)\n",
    "1. [Summary](#summary)\n",
    "1. [Recommendations](#recommendations)\n"
   ]
  },
  {
   "cell_type": "markdown",
   "metadata": {},
   "source": [
    "From SF Office of the Controller:  \n",
    "_Generally negative salaries in this dataset represent an adjustment to the employee’s pay. One example where this would occur would be an employee being erroneously overpaid on the last pay period of one fiscal year, with an adjustment then being made to recapture the amount on the next pay period in the subsequent fiscal year. This would cause a negative value to appear on the record for the second fiscal year, assuming the employee did not receive sufficient additional pay for the same year, cost center, and type to offset the adjustment._"
   ]
  },
  {
   "cell_type": "markdown",
   "metadata": {},
   "source": [
    "<a id='objective'></a>\n",
    "<img src=\"https://www.aiip.org/resources/Pictures/AIIP%20Website%20Icons/AIIP%20Research%20Icon.png\" alt=\"Drawing\" style=\"width: 100px; hight: 100px; float:right; padding:10px\"/>\n",
    "## <span style=\"color:red\"> Objective of the Proposed Research: </span>"
   ]
  },
  {
   "cell_type": "markdown",
   "metadata": {},
   "source": [
    "We have the database of the salary and benefits paid to City employees since fiscal year 2013. Using this database, we are going to look at the total salary by job family groups, find most popular of them and visualize denisty of salaries for all of those groups. We'll find mean salary to understand general level of income.\n",
    "  \n",
    "Next, we are going to see health and dental benefits and find, which job families have those benefits above average.  \n",
    "  \n",
    "Then we are going to see the lowes paid jobs.\n",
    "\n",
    "After this we'll move to organisations and discover, which organization groups give most benefits to their workers.\n",
    "  \n",
    "We'll find biggest overtime values to see how much emploees overwork. We'll also discover how big retirements contributions are.  "
   ]
  },
  {
   "cell_type": "markdown",
   "metadata": {},
   "source": [
    "**<p style=\"text-align: center;\">Let's start out journey into data!</p>**\n",
    "![](https://media1.giphy.com/media/m8YFup5AVSW4/200w.webp?cid=790b7611ca914cb8a320ab088f8fdf099bd4c19990a6c34f&rid=200w.webp)"
   ]
  },
  {
   "cell_type": "markdown",
   "metadata": {},
   "source": [
    "<a id='data_exploration'></a>\n",
    "\n",
    "<img src=\"https://images-na.ssl-images-amazon.com/images/I/61WSgQaUVXL._SX466_.jpg\" alt=\"Drawing\" style=\"width: 100px; hight: 100px; float:right; padding:10px\"/>\n",
    "\n",
    "## <span style=\"color:red\"> Data exploration: </span>"
   ]
  },
  {
   "cell_type": "markdown",
   "metadata": {},
   "source": [
    "_load libraries_"
   ]
  },
  {
   "cell_type": "code",
   "execution_count": 1,
   "metadata": {},
   "outputs": [
    {
     "name": "stderr",
     "output_type": "stream",
     "text": [
      "Registered S3 method overwritten by 'rvest':\n",
      "  method            from\n",
      "  read_xml.response xml2\n",
      "-- Attaching packages --------------------------------------- tidyverse 1.2.1 --\n",
      "v ggplot2 3.2.1       v purrr   0.3.2  \n",
      "v tibble  2.1.1       v dplyr   0.8.0.1\n",
      "v tidyr   0.8.3       v stringr 1.4.0  \n",
      "v readr   1.3.1       v forcats 0.4.0  \n",
      "-- Conflicts ------------------------------------------ tidyverse_conflicts() --\n",
      "x dplyr::filter() masks stats::filter()\n",
      "x dplyr::lag()    masks stats::lag()\n",
      "\n",
      "Attaching package: 'pastecs'\n",
      "\n",
      "The following objects are masked from 'package:dplyr':\n",
      "\n",
      "    first, last\n",
      "\n",
      "The following object is masked from 'package:tidyr':\n",
      "\n",
      "    extract\n",
      "\n",
      "Loading required package: viridisLite\n"
     ]
    }
   ],
   "source": [
    "library(tidyverse)\n",
    "library(pastecs)\n",
    "library(viridis)"
   ]
  },
  {
   "cell_type": "markdown",
   "metadata": {},
   "source": [
    "_read data from csv_"
   ]
  },
  {
   "cell_type": "code",
   "execution_count": 2,
   "metadata": {},
   "outputs": [],
   "source": [
    "salaryData <- read.csv('./data/employee-compensation.csv')"
   ]
  },
  {
   "cell_type": "markdown",
   "metadata": {},
   "source": [
    "<a id='aspect1'></a>\n",
    "\n",
    "###  <span style=\"color:blue\"> Aspect 1: </span>"
   ]
  },
  {
   "cell_type": "markdown",
   "metadata": {},
   "source": [
    "Firstly, we need to get an understanding of our data. One of the way of getting initial one is to check **first rows of dataframe**."
   ]
  },
  {
   "cell_type": "code",
   "execution_count": 3,
   "metadata": {},
   "outputs": [
    {
     "data": {
      "text/html": [
       "<table>\n",
       "<thead><tr><th scope=col>Year.Type</th><th scope=col>Year</th><th scope=col>Organization.Group.Code</th><th scope=col>Organization.Group</th><th scope=col>Department.Code</th><th scope=col>Department</th><th scope=col>Union.Code</th><th scope=col>Union</th><th scope=col>Job.Family.Code</th><th scope=col>Job.Family</th><th scope=col>...</th><th scope=col>Employee.Identifier</th><th scope=col>Salaries</th><th scope=col>Overtime</th><th scope=col>Other.Salaries</th><th scope=col>Total.Salary</th><th scope=col>Retirement</th><th scope=col>Health.and.Dental</th><th scope=col>Other.Benefits</th><th scope=col>Total.Benefits</th><th scope=col>Total.Compensation</th></tr></thead>\n",
       "<tbody>\n",
       "\t<tr><td>Calendar                      </td><td>2028                          </td><td>7                             </td><td>General City Responsibilities </td><td>229259                        </td><td>                              </td><td>792                           </td><td>Utd Pub EmpL790 SEIU-Crt Clrks</td><td>0000                          </td><td>Untitled                      </td><td>...                           </td><td>8540990                       </td><td>   674.28                     </td><td>     0.00                     </td><td>    5.76                      </td><td>   680.04                     </td><td>  130.91                      </td><td>    0.00                      </td><td>   53.86                      </td><td>  184.77                      </td><td>   864.81                     </td></tr>\n",
       "\t<tr><td>Calendar                      </td><td>2028                          </td><td>1                             </td><td>Public Protection             </td><td>CRT                           </td><td>                              </td><td>792                           </td><td>Utd Pub EmpL790 SEIU-Crt Clrks</td><td>0000                          </td><td>Untitled                      </td><td>...                           </td><td>8540990                       </td><td>   674.28                     </td><td>     0.00                     </td><td>    5.76                      </td><td>   680.04                     </td><td>  130.91                      </td><td>    0.00                      </td><td>   53.86                      </td><td>  184.77                      </td><td>   864.81                     </td></tr>\n",
       "\t<tr><td>Fiscal                        </td><td>2028                          </td><td>1                             </td><td>Public Protection             </td><td>CRT                           </td><td>                              </td><td>792                           </td><td>Utd Pub EmpL790 SEIU-Crt Clrks</td><td>0000                          </td><td>Untitled                      </td><td>...                           </td><td>8540990                       </td><td>   674.28                     </td><td>     0.00                     </td><td>    5.76                      </td><td>   680.04                     </td><td>  130.91                      </td><td>    0.00                      </td><td>   53.86                      </td><td>  184.77                      </td><td>   864.81                     </td></tr>\n",
       "\t<tr><td>Calendar                      </td><td>2019                          </td><td>7                             </td><td>General City Responsibilities </td><td>232108                        </td><td>                              </td><td>911                           </td><td>POA                           </td><td>Q000                          </td><td>Police Services               </td><td>...                           </td><td>8577148                       </td><td>124709.01                     </td><td>100499.62                     </td><td> 5501.78                      </td><td>230710.41                     </td><td>23271.86                      </td><td>14293.60                      </td><td> 3934.00                      </td><td>55975.56                      </td><td>286685.97                     </td></tr>\n",
       "\t<tr><td>Calendar                                                              </td><td>2019                                                                  </td><td>1                                                                     </td><td><span style=white-space:pre-wrap>Public Protection            </span> </td><td><span style=white-space:pre-wrap>DAT   </span>                        </td><td>                                                                      </td><td>311                                                                   </td><td><span style=white-space:pre-wrap>Municipal Attorneys Assoc     </span></td><td>8100                                                                  </td><td><span style=white-space:pre-wrap>Legal &amp; Court   </span>          </td><td>...                                                                   </td><td>8603109                                                               </td><td>155489.01                                                             </td><td><span style=white-space:pre-wrap>     0.00</span>                     </td><td> 1500.00                                                              </td><td>156989.01                                                             </td><td>29239.75                                                              </td><td>14308.46                                                              </td><td>11100.60                                                              </td><td>69326.83                                                              </td><td>226315.84                                                             </td></tr>\n",
       "\t<tr><td>Calendar                      </td><td>2019                          </td><td>7                             </td><td>General City Responsibilities </td><td>102644                        </td><td>                              </td><td>130                           </td><td>Auto Machinist, Local 1414    </td><td>7300                          </td><td>Journeyman Trade              </td><td>...                           </td><td>8547213                       </td><td> 69490.84                     </td><td> 34969.05                     </td><td>13344.53                      </td><td>117804.42                     </td><td>16424.93                      </td><td>14308.44                      </td><td> 9651.75                      </td><td>48573.42                      </td><td>166377.84                     </td></tr>\n",
       "</tbody>\n",
       "</table>\n"
      ],
      "text/latex": [
       "\\begin{tabular}{r|llllllllllllllllllllll}\n",
       " Year.Type & Year & Organization.Group.Code & Organization.Group & Department.Code & Department & Union.Code & Union & Job.Family.Code & Job.Family & ... & Employee.Identifier & Salaries & Overtime & Other.Salaries & Total.Salary & Retirement & Health.and.Dental & Other.Benefits & Total.Benefits & Total.Compensation\\\\\n",
       "\\hline\n",
       "\t Calendar                       & 2028                           & 7                              & General City Responsibilities  & 229259                         &                                & 792                            & Utd Pub EmpL790 SEIU-Crt Clrks & 0000                           & Untitled                       & ...                            & 8540990                        &    674.28                      &      0.00                      &     5.76                       &    680.04                      &   130.91                       &     0.00                       &    53.86                       &   184.77                       &    864.81                     \\\\\n",
       "\t Calendar                       & 2028                           & 1                              & Public Protection              & CRT                            &                                & 792                            & Utd Pub EmpL790 SEIU-Crt Clrks & 0000                           & Untitled                       & ...                            & 8540990                        &    674.28                      &      0.00                      &     5.76                       &    680.04                      &   130.91                       &     0.00                       &    53.86                       &   184.77                       &    864.81                     \\\\\n",
       "\t Fiscal                         & 2028                           & 1                              & Public Protection              & CRT                            &                                & 792                            & Utd Pub EmpL790 SEIU-Crt Clrks & 0000                           & Untitled                       & ...                            & 8540990                        &    674.28                      &      0.00                      &     5.76                       &    680.04                      &   130.91                       &     0.00                       &    53.86                       &   184.77                       &    864.81                     \\\\\n",
       "\t Calendar                       & 2019                           & 7                              & General City Responsibilities  & 232108                         &                                & 911                            & POA                            & Q000                           & Police Services                & ...                            & 8577148                        & 124709.01                      & 100499.62                      &  5501.78                       & 230710.41                      & 23271.86                       & 14293.60                       &  3934.00                       & 55975.56                       & 286685.97                     \\\\\n",
       "\t Calendar                       & 2019                           & 1                              & Public Protection              & DAT                            &                                & 311                            & Municipal Attorneys Assoc      & 8100                           & Legal \\& Court                & ...                            & 8603109                        & 155489.01                      &      0.00                      &  1500.00                       & 156989.01                      & 29239.75                       & 14308.46                       & 11100.60                       & 69326.83                       & 226315.84                     \\\\\n",
       "\t Calendar                       & 2019                           & 7                              & General City Responsibilities  & 102644                         &                                & 130                            & Auto Machinist, Local 1414     & 7300                           & Journeyman Trade               & ...                            & 8547213                        &  69490.84                      &  34969.05                      & 13344.53                       & 117804.42                      & 16424.93                       & 14308.44                       &  9651.75                       & 48573.42                       & 166377.84                     \\\\\n",
       "\\end{tabular}\n"
      ],
      "text/markdown": [
       "\n",
       "| Year.Type | Year | Organization.Group.Code | Organization.Group | Department.Code | Department | Union.Code | Union | Job.Family.Code | Job.Family | ... | Employee.Identifier | Salaries | Overtime | Other.Salaries | Total.Salary | Retirement | Health.and.Dental | Other.Benefits | Total.Benefits | Total.Compensation |\n",
       "|---|---|---|---|---|---|---|---|---|---|---|---|---|---|---|---|---|---|---|---|---|\n",
       "| Calendar                       | 2028                           | 7                              | General City Responsibilities  | 229259                         |                                | 792                            | Utd Pub EmpL790 SEIU-Crt Clrks | 0000                           | Untitled                       | ...                            | 8540990                        |    674.28                      |      0.00                      |     5.76                       |    680.04                      |   130.91                       |     0.00                       |    53.86                       |   184.77                       |    864.81                      |\n",
       "| Calendar                       | 2028                           | 1                              | Public Protection              | CRT                            |                                | 792                            | Utd Pub EmpL790 SEIU-Crt Clrks | 0000                           | Untitled                       | ...                            | 8540990                        |    674.28                      |      0.00                      |     5.76                       |    680.04                      |   130.91                       |     0.00                       |    53.86                       |   184.77                       |    864.81                      |\n",
       "| Fiscal                         | 2028                           | 1                              | Public Protection              | CRT                            |                                | 792                            | Utd Pub EmpL790 SEIU-Crt Clrks | 0000                           | Untitled                       | ...                            | 8540990                        |    674.28                      |      0.00                      |     5.76                       |    680.04                      |   130.91                       |     0.00                       |    53.86                       |   184.77                       |    864.81                      |\n",
       "| Calendar                       | 2019                           | 7                              | General City Responsibilities  | 232108                         |                                | 911                            | POA                            | Q000                           | Police Services                | ...                            | 8577148                        | 124709.01                      | 100499.62                      |  5501.78                       | 230710.41                      | 23271.86                       | 14293.60                       |  3934.00                       | 55975.56                       | 286685.97                      |\n",
       "| Calendar                       | 2019                           | 1                              | Public Protection              | DAT                            |                                | 311                            | Municipal Attorneys Assoc      | 8100                           | Legal & Court                  | ...                            | 8603109                        | 155489.01                      |      0.00                      |  1500.00                       | 156989.01                      | 29239.75                       | 14308.46                       | 11100.60                       | 69326.83                       | 226315.84                      |\n",
       "| Calendar                       | 2019                           | 7                              | General City Responsibilities  | 102644                         |                                | 130                            | Auto Machinist, Local 1414     | 7300                           | Journeyman Trade               | ...                            | 8547213                        |  69490.84                      |  34969.05                      | 13344.53                       | 117804.42                      | 16424.93                       | 14308.44                       |  9651.75                       | 48573.42                       | 166377.84                      |\n",
       "\n"
      ],
      "text/plain": [
       "  Year.Type Year Organization.Group.Code Organization.Group           \n",
       "1 Calendar  2028 7                       General City Responsibilities\n",
       "2 Calendar  2028 1                       Public Protection            \n",
       "3 Fiscal    2028 1                       Public Protection            \n",
       "4 Calendar  2019 7                       General City Responsibilities\n",
       "5 Calendar  2019 1                       Public Protection            \n",
       "6 Calendar  2019 7                       General City Responsibilities\n",
       "  Department.Code Department Union.Code Union                         \n",
       "1 229259                     792        Utd Pub EmpL790 SEIU-Crt Clrks\n",
       "2 CRT                        792        Utd Pub EmpL790 SEIU-Crt Clrks\n",
       "3 CRT                        792        Utd Pub EmpL790 SEIU-Crt Clrks\n",
       "4 232108                     911        POA                           \n",
       "5 DAT                        311        Municipal Attorneys Assoc     \n",
       "6 102644                     130        Auto Machinist, Local 1414    \n",
       "  Job.Family.Code Job.Family       ... Employee.Identifier Salaries  Overtime \n",
       "1 0000            Untitled         ... 8540990                674.28      0.00\n",
       "2 0000            Untitled         ... 8540990                674.28      0.00\n",
       "3 0000            Untitled         ... 8540990                674.28      0.00\n",
       "4 Q000            Police Services  ... 8577148             124709.01 100499.62\n",
       "5 8100            Legal & Court    ... 8603109             155489.01      0.00\n",
       "6 7300            Journeyman Trade ... 8547213              69490.84  34969.05\n",
       "  Other.Salaries Total.Salary Retirement Health.and.Dental Other.Benefits\n",
       "1     5.76          680.04      130.91       0.00             53.86      \n",
       "2     5.76          680.04      130.91       0.00             53.86      \n",
       "3     5.76          680.04      130.91       0.00             53.86      \n",
       "4  5501.78       230710.41    23271.86   14293.60           3934.00      \n",
       "5  1500.00       156989.01    29239.75   14308.46          11100.60      \n",
       "6 13344.53       117804.42    16424.93   14308.44           9651.75      \n",
       "  Total.Benefits Total.Compensation\n",
       "1   184.77          864.81         \n",
       "2   184.77          864.81         \n",
       "3   184.77          864.81         \n",
       "4 55975.56       286685.97         \n",
       "5 69326.83       226315.84         \n",
       "6 48573.42       166377.84         "
      ]
     },
     "metadata": {},
     "output_type": "display_data"
    }
   ],
   "source": [
    "head(salaryData)"
   ]
  },
  {
   "cell_type": "markdown",
   "metadata": {},
   "source": [
    "<a id='aspect2'></a>\n",
    "\n",
    "###  <span style=\"color:blue\"> Aspect 2: </span>"
   ]
  },
  {
   "cell_type": "markdown",
   "metadata": {},
   "source": [
    "Then let's get **all row names and info re. their type**:"
   ]
  },
  {
   "cell_type": "code",
   "execution_count": 4,
   "metadata": {},
   "outputs": [
    {
     "name": "stdout",
     "output_type": "stream",
     "text": [
      "'data.frame':\t835307 obs. of  22 variables:\n",
      " $ Year.Type              : Factor w/ 2 levels \"Calendar\",\"Fiscal\": 1 1 2 1 1 1 1 1 1 1 ...\n",
      " $ Year                   : int  2028 2028 2028 2019 2019 2019 2019 2019 2019 2019 ...\n",
      " $ Organization.Group.Code: int  7 1 1 7 1 7 7 7 4 1 ...\n",
      " $ Organization.Group     : Factor w/ 7 levels \"Community Health\",..: 4 6 6 4 6 4 4 4 1 6 ...\n",
      " $ Department.Code        : Factor w/ 113 levels \"\",\"__NOT_APPLICABLE__\",..: 19 69 69 40 73 3 75 3 77 99 ...\n",
      " $ Department             : Factor w/ 57 levels \"\",\"AAM Asian Art Museum\",..: 1 1 1 1 1 1 1 1 1 1 ...\n",
      " $ Union.Code             : int  792 792 792 911 311 130 790 253 858 911 ...\n",
      " $ Union                  : Factor w/ 130 levels \"\",\"Auto Machinist, Local 1414\",..: 130 130 130 81 61 2 100 128 114 81 ...\n",
      " $ Job.Family.Code        : Factor w/ 59 levels \"__UNASSIGNED__\",..: 2 2 2 57 45 42 46 50 16 57 ...\n",
      " $ Job.Family             : Factor w/ 59 levels \"Administrative-DPW/PUC\",..: 59 59 59 38 27 25 43 55 34 38 ...\n",
      " $ Job.Code               : Factor w/ 1183 levels \"0109\",\"0111\",..: 563 563 563 1172 917 786 945 1048 314 1181 ...\n",
      " $ Job                    : Factor w/ 1322 levels \"\",\"Account Clerk\",..: 391 391 391 875 150 163 945 1247 795 674 ...\n",
      " $ Employee.Identifier    : int  8540990 8540990 8540990 8577148 8603109 8547213 8544058 8504938 8559329 8506973 ...\n",
      " $ Salaries               : num  674 674 674 124709 155489 ...\n",
      " $ Overtime               : num  0e+00 0e+00 0e+00 1e+05 0e+00 ...\n",
      " $ Other.Salaries         : num  5.76 5.76 5.76 5501.78 1500 ...\n",
      " $ Total.Salary           : num  680 680 680 230710 156989 ...\n",
      " $ Retirement             : num  131 131 131 23272 29240 ...\n",
      " $ Health.and.Dental      : num  0 0 0 14294 14308 ...\n",
      " $ Other.Benefits         : num  53.9 53.9 53.9 3934 11100.6 ...\n",
      " $ Total.Benefits         : num  185 185 185 55976 69327 ...\n",
      " $ Total.Compensation     : num  865 865 865 286686 226316 ...\n"
     ]
    }
   ],
   "source": [
    "str(salaryData)"
   ]
  },
  {
   "cell_type": "markdown",
   "metadata": {},
   "source": [
    "<a id='aspect3'></a>\n",
    "\n",
    "###  <span style=\"color:blue\"> Aspect 3: </span>"
   ]
  },
  {
   "cell_type": "markdown",
   "metadata": {},
   "source": [
    "Let's check for **mean for Salary** column:"
   ]
  },
  {
   "cell_type": "code",
   "execution_count": 5,
   "metadata": {},
   "outputs": [
    {
     "data": {
      "text/html": [
       "<strong>mean:</strong> 54096.8067953818"
      ],
      "text/latex": [
       "\\textbf{mean:} 54096.8067953818"
      ],
      "text/markdown": [
       "**mean:** 54096.8067953818"
      ],
      "text/plain": [
       "    mean \n",
       "54096.81 "
      ]
     },
     "metadata": {},
     "output_type": "display_data"
    }
   ],
   "source": [
    "salaries <- salaryData$Salaries\n",
    "stat.desc(salaries, basic=F)['mean']"
   ]
  },
  {
   "cell_type": "markdown",
   "metadata": {},
   "source": [
    "We can see mean here and from it we can get understanding about average salary level."
   ]
  },
  {
   "cell_type": "markdown",
   "metadata": {},
   "source": [
    "But what **types of jobs** do we actually have?"
   ]
  },
  {
   "cell_type": "markdown",
   "metadata": {},
   "source": [
    "_get all unique Job Families_"
   ]
  },
  {
   "cell_type": "code",
   "execution_count": 6,
   "metadata": {
    "scrolled": true
   },
   "outputs": [
    {
     "data": {
      "text/html": [
       "<ol class=list-inline>\n",
       "\t<li>Police Services</li>\n",
       "\t<li>Legal &amp; Court</li>\n",
       "\t<li>Journeyman Trade</li>\n",
       "\t<li>Protection &amp; Apprehension</li>\n",
       "\t<li>Street Transit</li>\n",
       "\t<li>Nursing</li>\n",
       "\t<li>Human Services</li>\n",
       "\t<li>Personnel</li>\n",
       "\t<li>Professional Engineering</li>\n",
       "\t<li>Budget, Admn &amp; Stats Analysis</li>\n",
       "\t<li>Management</li>\n",
       "\t<li>Correction &amp; Detention</li>\n",
       "\t<li>Semi-Skilled &amp; General Labor</li>\n",
       "\t<li>Housekeeping &amp; Laundry</li>\n",
       "\t<li>Public Service Aide</li>\n",
       "\t<li>Community Development</li>\n",
       "\t<li>Lab, Pharmacy &amp; Med Techs</li>\n",
       "\t<li>Clerical, Secretarial &amp; Steno</li>\n",
       "\t<li>Information Systems</li>\n",
       "\t<li>Sub-Professional Engineering</li>\n",
       "\t<li>Fire Services</li>\n",
       "\t<li>Payroll, Billing &amp; Accounting</li>\n",
       "\t<li>Supervisory-Labor &amp; Trade</li>\n",
       "\t<li>Medical &amp; Dental</li>\n",
       "\t<li>Agriculture &amp; Horticulture</li>\n",
       "\t<li>Construction Project Mgmt</li>\n",
       "\t<li>Revenue</li>\n",
       "\t<li>Library</li>\n",
       "\t<li>Construction Inspection</li>\n",
       "\t<li>Health &amp; Sanitation Inspection</li>\n",
       "\t<li>Recreation</li>\n",
       "\t<li>Med Therapy &amp; Auxiliary</li>\n",
       "\t<li>Appraisal &amp; Taxation</li>\n",
       "\t<li>Skilled Labor</li>\n",
       "\t<li>Airport Operation</li>\n",
       "\t<li>Public Safety Inspection</li>\n",
       "\t<li>Hospital Administration</li>\n",
       "\t<li>Museum &amp; Cultural Affairs</li>\n",
       "\t<li>Dietary &amp; Food</li>\n",
       "\t<li>Probation &amp; Parole</li>\n",
       "\t<li>Pub Relations &amp; Spec Assts</li>\n",
       "\t<li>Public Health</li>\n",
       "\t<li>Property Administration</li>\n",
       "\t<li>Park &amp; Zoo</li>\n",
       "\t<li>Emergency Coordination</li>\n",
       "\t<li>Purchasing &amp; Storekeeping</li>\n",
       "\t<li>Administrative-DPW/PUC</li>\n",
       "\t<li>Computer Operatns &amp; Repro Svcs</li>\n",
       "\t<li>Energy &amp; Environment</li>\n",
       "\t<li>Administrative-Labor &amp; Trades</li>\n",
       "\t<li>Port Operation</li>\n",
       "\t<li>MTA Operations</li>\n",
       "\t<li>Administrative Secretarial</li>\n",
       "\t<li>Unassigned</li>\n",
       "\t<li>Administrative &amp; Mgmt (Unrep)</li>\n",
       "\t<li>SF Superior Court</li>\n",
       "\t<li>Emergency Services</li>\n",
       "\t<li>SF Redevelopment Agency</li>\n",
       "</ol>\n",
       "\n",
       "<details>\n",
       "\t<summary style=display:list-item;cursor:pointer>\n",
       "\t\t<strong>Levels</strong>:\n",
       "\t</summary>\n",
       "\t<ol class=list-inline>\n",
       "\t\t<li>'Administrative-DPW/PUC'</li>\n",
       "\t\t<li>'Administrative-Labor &amp; Trades'</li>\n",
       "\t\t<li>'Administrative &amp; Mgmt (Unrep)'</li>\n",
       "\t\t<li>'Administrative Secretarial'</li>\n",
       "\t\t<li>'Agriculture &amp; Horticulture'</li>\n",
       "\t\t<li>'Airport Operation'</li>\n",
       "\t\t<li>'Appraisal &amp; Taxation'</li>\n",
       "\t\t<li>'Budget, Admn &amp; Stats Analysis'</li>\n",
       "\t\t<li>'Clerical, Secretarial &amp; Steno'</li>\n",
       "\t\t<li>'Community Development'</li>\n",
       "\t\t<li>'Computer Operatns &amp; Repro Svcs'</li>\n",
       "\t\t<li>'Construction Inspection'</li>\n",
       "\t\t<li>'Construction Project Mgmt'</li>\n",
       "\t\t<li>'Correction &amp; Detention'</li>\n",
       "\t\t<li>'Dietary &amp; Food'</li>\n",
       "\t\t<li>'Emergency Coordination'</li>\n",
       "\t\t<li>'Emergency Services'</li>\n",
       "\t\t<li>'Energy &amp; Environment'</li>\n",
       "\t\t<li>'Fire Services'</li>\n",
       "\t\t<li>'Health &amp; Sanitation Inspection'</li>\n",
       "\t\t<li>'Hospital Administration'</li>\n",
       "\t\t<li>'Housekeeping &amp; Laundry'</li>\n",
       "\t\t<li>'Human Services'</li>\n",
       "\t\t<li>'Information Systems'</li>\n",
       "\t\t<li>'Journeyman Trade'</li>\n",
       "\t\t<li>'Lab, Pharmacy &amp; Med Techs'</li>\n",
       "\t\t<li>'Legal &amp; Court'</li>\n",
       "\t\t<li>'Library'</li>\n",
       "\t\t<li>'Management'</li>\n",
       "\t\t<li>'Med Therapy &amp; Auxiliary'</li>\n",
       "\t\t<li>'Medical &amp; Dental'</li>\n",
       "\t\t<li>'MTA Operations'</li>\n",
       "\t\t<li>'Museum &amp; Cultural Affairs'</li>\n",
       "\t\t<li>'Nursing'</li>\n",
       "\t\t<li>'Park &amp; Zoo'</li>\n",
       "\t\t<li>'Payroll, Billing &amp; Accounting'</li>\n",
       "\t\t<li>'Personnel'</li>\n",
       "\t\t<li>'Police Services'</li>\n",
       "\t\t<li>'Port Operation'</li>\n",
       "\t\t<li>'Probation &amp; Parole'</li>\n",
       "\t\t<li>'Professional Engineering'</li>\n",
       "\t\t<li>'Property Administration'</li>\n",
       "\t\t<li>'Protection &amp; Apprehension'</li>\n",
       "\t\t<li>'Pub Relations &amp; Spec Assts'</li>\n",
       "\t\t<li>'Public Health'</li>\n",
       "\t\t<li>'Public Safety Inspection'</li>\n",
       "\t\t<li>'Public Service Aide'</li>\n",
       "\t\t<li>'Purchasing &amp; Storekeeping'</li>\n",
       "\t\t<li>'Recreation'</li>\n",
       "\t\t<li>'Revenue'</li>\n",
       "\t\t<li>'Semi-Skilled &amp; General Labor'</li>\n",
       "\t\t<li>'SF Redevelopment Agency'</li>\n",
       "\t\t<li>'SF Superior Court'</li>\n",
       "\t\t<li>'Skilled Labor'</li>\n",
       "\t\t<li>'Street Transit'</li>\n",
       "\t\t<li>'Sub-Professional Engineering'</li>\n",
       "\t\t<li>'Supervisory-Labor &amp; Trade'</li>\n",
       "\t\t<li>'Unassigned'</li>\n",
       "\t\t<li>'Untitled'</li>\n",
       "\t</ol>\n",
       "</details>"
      ],
      "text/latex": [
       "\\begin{enumerate*}\n",
       "\\item Police Services\n",
       "\\item Legal \\& Court\n",
       "\\item Journeyman Trade\n",
       "\\item Protection \\& Apprehension\n",
       "\\item Street Transit\n",
       "\\item Nursing\n",
       "\\item Human Services\n",
       "\\item Personnel\n",
       "\\item Professional Engineering\n",
       "\\item Budget, Admn \\& Stats Analysis\n",
       "\\item Management\n",
       "\\item Correction \\& Detention\n",
       "\\item Semi-Skilled \\& General Labor\n",
       "\\item Housekeeping \\& Laundry\n",
       "\\item Public Service Aide\n",
       "\\item Community Development\n",
       "\\item Lab, Pharmacy \\& Med Techs\n",
       "\\item Clerical, Secretarial \\& Steno\n",
       "\\item Information Systems\n",
       "\\item Sub-Professional Engineering\n",
       "\\item Fire Services\n",
       "\\item Payroll, Billing \\& Accounting\n",
       "\\item Supervisory-Labor \\& Trade\n",
       "\\item Medical \\& Dental\n",
       "\\item Agriculture \\& Horticulture\n",
       "\\item Construction Project Mgmt\n",
       "\\item Revenue\n",
       "\\item Library\n",
       "\\item Construction Inspection\n",
       "\\item Health \\& Sanitation Inspection\n",
       "\\item Recreation\n",
       "\\item Med Therapy \\& Auxiliary\n",
       "\\item Appraisal \\& Taxation\n",
       "\\item Skilled Labor\n",
       "\\item Airport Operation\n",
       "\\item Public Safety Inspection\n",
       "\\item Hospital Administration\n",
       "\\item Museum \\& Cultural Affairs\n",
       "\\item Dietary \\& Food\n",
       "\\item Probation \\& Parole\n",
       "\\item Pub Relations \\& Spec Assts\n",
       "\\item Public Health\n",
       "\\item Property Administration\n",
       "\\item Park \\& Zoo\n",
       "\\item Emergency Coordination\n",
       "\\item Purchasing \\& Storekeeping\n",
       "\\item Administrative-DPW/PUC\n",
       "\\item Computer Operatns \\& Repro Svcs\n",
       "\\item Energy \\& Environment\n",
       "\\item Administrative-Labor \\& Trades\n",
       "\\item Port Operation\n",
       "\\item MTA Operations\n",
       "\\item Administrative Secretarial\n",
       "\\item Unassigned\n",
       "\\item Administrative \\& Mgmt (Unrep)\n",
       "\\item SF Superior Court\n",
       "\\item Emergency Services\n",
       "\\item SF Redevelopment Agency\n",
       "\\end{enumerate*}\n",
       "\n",
       "\\emph{Levels}: \\begin{enumerate*}\n",
       "\\item 'Administrative-DPW/PUC'\n",
       "\\item 'Administrative-Labor \\& Trades'\n",
       "\\item 'Administrative \\& Mgmt (Unrep)'\n",
       "\\item 'Administrative Secretarial'\n",
       "\\item 'Agriculture \\& Horticulture'\n",
       "\\item 'Airport Operation'\n",
       "\\item 'Appraisal \\& Taxation'\n",
       "\\item 'Budget, Admn \\& Stats Analysis'\n",
       "\\item 'Clerical, Secretarial \\& Steno'\n",
       "\\item 'Community Development'\n",
       "\\item 'Computer Operatns \\& Repro Svcs'\n",
       "\\item 'Construction Inspection'\n",
       "\\item 'Construction Project Mgmt'\n",
       "\\item 'Correction \\& Detention'\n",
       "\\item 'Dietary \\& Food'\n",
       "\\item 'Emergency Coordination'\n",
       "\\item 'Emergency Services'\n",
       "\\item 'Energy \\& Environment'\n",
       "\\item 'Fire Services'\n",
       "\\item 'Health \\& Sanitation Inspection'\n",
       "\\item 'Hospital Administration'\n",
       "\\item 'Housekeeping \\& Laundry'\n",
       "\\item 'Human Services'\n",
       "\\item 'Information Systems'\n",
       "\\item 'Journeyman Trade'\n",
       "\\item 'Lab, Pharmacy \\& Med Techs'\n",
       "\\item 'Legal \\& Court'\n",
       "\\item 'Library'\n",
       "\\item 'Management'\n",
       "\\item 'Med Therapy \\& Auxiliary'\n",
       "\\item 'Medical \\& Dental'\n",
       "\\item 'MTA Operations'\n",
       "\\item 'Museum \\& Cultural Affairs'\n",
       "\\item 'Nursing'\n",
       "\\item 'Park \\& Zoo'\n",
       "\\item 'Payroll, Billing \\& Accounting'\n",
       "\\item 'Personnel'\n",
       "\\item 'Police Services'\n",
       "\\item 'Port Operation'\n",
       "\\item 'Probation \\& Parole'\n",
       "\\item 'Professional Engineering'\n",
       "\\item 'Property Administration'\n",
       "\\item 'Protection \\& Apprehension'\n",
       "\\item 'Pub Relations \\& Spec Assts'\n",
       "\\item 'Public Health'\n",
       "\\item 'Public Safety Inspection'\n",
       "\\item 'Public Service Aide'\n",
       "\\item 'Purchasing \\& Storekeeping'\n",
       "\\item 'Recreation'\n",
       "\\item 'Revenue'\n",
       "\\item 'Semi-Skilled \\& General Labor'\n",
       "\\item 'SF Redevelopment Agency'\n",
       "\\item 'SF Superior Court'\n",
       "\\item 'Skilled Labor'\n",
       "\\item 'Street Transit'\n",
       "\\item 'Sub-Professional Engineering'\n",
       "\\item 'Supervisory-Labor \\& Trade'\n",
       "\\item 'Unassigned'\n",
       "\\item 'Untitled'\n",
       "\\end{enumerate*}\n"
      ],
      "text/markdown": [
       "1. Police Services\n",
       "2. Legal &amp; Court\n",
       "3. Journeyman Trade\n",
       "4. Protection &amp; Apprehension\n",
       "5. Street Transit\n",
       "6. Nursing\n",
       "7. Human Services\n",
       "8. Personnel\n",
       "9. Professional Engineering\n",
       "10. Budget, Admn &amp; Stats Analysis\n",
       "11. Management\n",
       "12. Correction &amp; Detention\n",
       "13. Semi-Skilled &amp; General Labor\n",
       "14. Housekeeping &amp; Laundry\n",
       "15. Public Service Aide\n",
       "16. Community Development\n",
       "17. Lab, Pharmacy &amp; Med Techs\n",
       "18. Clerical, Secretarial &amp; Steno\n",
       "19. Information Systems\n",
       "20. Sub-Professional Engineering\n",
       "21. Fire Services\n",
       "22. Payroll, Billing &amp; Accounting\n",
       "23. Supervisory-Labor &amp; Trade\n",
       "24. Medical &amp; Dental\n",
       "25. Agriculture &amp; Horticulture\n",
       "26. Construction Project Mgmt\n",
       "27. Revenue\n",
       "28. Library\n",
       "29. Construction Inspection\n",
       "30. Health &amp; Sanitation Inspection\n",
       "31. Recreation\n",
       "32. Med Therapy &amp; Auxiliary\n",
       "33. Appraisal &amp; Taxation\n",
       "34. Skilled Labor\n",
       "35. Airport Operation\n",
       "36. Public Safety Inspection\n",
       "37. Hospital Administration\n",
       "38. Museum &amp; Cultural Affairs\n",
       "39. Dietary &amp; Food\n",
       "40. Probation &amp; Parole\n",
       "41. Pub Relations &amp; Spec Assts\n",
       "42. Public Health\n",
       "43. Property Administration\n",
       "44. Park &amp; Zoo\n",
       "45. Emergency Coordination\n",
       "46. Purchasing &amp; Storekeeping\n",
       "47. Administrative-DPW/PUC\n",
       "48. Computer Operatns &amp; Repro Svcs\n",
       "49. Energy &amp; Environment\n",
       "50. Administrative-Labor &amp; Trades\n",
       "51. Port Operation\n",
       "52. MTA Operations\n",
       "53. Administrative Secretarial\n",
       "54. Unassigned\n",
       "55. Administrative &amp; Mgmt (Unrep)\n",
       "56. SF Superior Court\n",
       "57. Emergency Services\n",
       "58. SF Redevelopment Agency\n",
       "\n",
       "\n",
       "\n",
       "**Levels**: 1. 'Administrative-DPW/PUC'\n",
       "2. 'Administrative-Labor &amp; Trades'\n",
       "3. 'Administrative &amp; Mgmt (Unrep)'\n",
       "4. 'Administrative Secretarial'\n",
       "5. 'Agriculture &amp; Horticulture'\n",
       "6. 'Airport Operation'\n",
       "7. 'Appraisal &amp; Taxation'\n",
       "8. 'Budget, Admn &amp; Stats Analysis'\n",
       "9. 'Clerical, Secretarial &amp; Steno'\n",
       "10. 'Community Development'\n",
       "11. 'Computer Operatns &amp; Repro Svcs'\n",
       "12. 'Construction Inspection'\n",
       "13. 'Construction Project Mgmt'\n",
       "14. 'Correction &amp; Detention'\n",
       "15. 'Dietary &amp; Food'\n",
       "16. 'Emergency Coordination'\n",
       "17. 'Emergency Services'\n",
       "18. 'Energy &amp; Environment'\n",
       "19. 'Fire Services'\n",
       "20. 'Health &amp; Sanitation Inspection'\n",
       "21. 'Hospital Administration'\n",
       "22. 'Housekeeping &amp; Laundry'\n",
       "23. 'Human Services'\n",
       "24. 'Information Systems'\n",
       "25. 'Journeyman Trade'\n",
       "26. 'Lab, Pharmacy &amp; Med Techs'\n",
       "27. 'Legal &amp; Court'\n",
       "28. 'Library'\n",
       "29. 'Management'\n",
       "30. 'Med Therapy &amp; Auxiliary'\n",
       "31. 'Medical &amp; Dental'\n",
       "32. 'MTA Operations'\n",
       "33. 'Museum &amp; Cultural Affairs'\n",
       "34. 'Nursing'\n",
       "35. 'Park &amp; Zoo'\n",
       "36. 'Payroll, Billing &amp; Accounting'\n",
       "37. 'Personnel'\n",
       "38. 'Police Services'\n",
       "39. 'Port Operation'\n",
       "40. 'Probation &amp; Parole'\n",
       "41. 'Professional Engineering'\n",
       "42. 'Property Administration'\n",
       "43. 'Protection &amp; Apprehension'\n",
       "44. 'Pub Relations &amp; Spec Assts'\n",
       "45. 'Public Health'\n",
       "46. 'Public Safety Inspection'\n",
       "47. 'Public Service Aide'\n",
       "48. 'Purchasing &amp; Storekeeping'\n",
       "49. 'Recreation'\n",
       "50. 'Revenue'\n",
       "51. 'Semi-Skilled &amp; General Labor'\n",
       "52. 'SF Redevelopment Agency'\n",
       "53. 'SF Superior Court'\n",
       "54. 'Skilled Labor'\n",
       "55. 'Street Transit'\n",
       "56. 'Sub-Professional Engineering'\n",
       "57. 'Supervisory-Labor &amp; Trade'\n",
       "58. 'Unassigned'\n",
       "59. 'Untitled'\n",
       "\n",
       "\n"
      ],
      "text/plain": [
       " [1] Police Services                Legal & Court                 \n",
       " [3] Journeyman Trade               Protection & Apprehension     \n",
       " [5] Street Transit                 Nursing                       \n",
       " [7] Human Services                 Personnel                     \n",
       " [9] Professional Engineering       Budget, Admn & Stats Analysis \n",
       "[11] Management                     Correction & Detention        \n",
       "[13] Semi-Skilled & General Labor   Housekeeping & Laundry        \n",
       "[15] Public Service Aide            Community Development         \n",
       "[17] Lab, Pharmacy & Med Techs      Clerical, Secretarial & Steno \n",
       "[19] Information Systems            Sub-Professional Engineering  \n",
       "[21] Fire Services                  Payroll, Billing & Accounting \n",
       "[23] Supervisory-Labor & Trade      Medical & Dental              \n",
       "[25] Agriculture & Horticulture     Construction Project Mgmt     \n",
       "[27] Revenue                        Library                       \n",
       "[29] Construction Inspection        Health & Sanitation Inspection\n",
       "[31] Recreation                     Med Therapy & Auxiliary       \n",
       "[33] Appraisal & Taxation           Skilled Labor                 \n",
       "[35] Airport Operation              Public Safety Inspection      \n",
       "[37] Hospital Administration        Museum & Cultural Affairs     \n",
       "[39] Dietary & Food                 Probation & Parole            \n",
       "[41] Pub Relations & Spec Assts     Public Health                 \n",
       "[43] Property Administration        Park & Zoo                    \n",
       "[45] Emergency Coordination         Purchasing & Storekeeping     \n",
       "[47] Administrative-DPW/PUC         Computer Operatns & Repro Svcs\n",
       "[49] Energy & Environment           Administrative-Labor & Trades \n",
       "[51] Port Operation                 MTA Operations                \n",
       "[53] Administrative Secretarial     Unassigned                    \n",
       "[55] Administrative & Mgmt (Unrep)  SF Superior Court             \n",
       "[57] Emergency Services             SF Redevelopment Agency       \n",
       "59 Levels: Administrative-DPW/PUC ... Untitled"
      ]
     },
     "metadata": {},
     "output_type": "display_data"
    }
   ],
   "source": [
    "jobFamilies <- unique(salaryData[,'Job.Family'])\n",
    "jobFamilies <- jobFamilies[jobFamilies!='Untitled']\n",
    "jobFamilies"
   ]
  },
  {
   "cell_type": "markdown",
   "metadata": {},
   "source": [
    "Let's get **top 5 most popular job families**."
   ]
  },
  {
   "cell_type": "code",
   "execution_count": 7,
   "metadata": {
    "scrolled": true
   },
   "outputs": [
    {
     "data": {
      "text/html": [
       "<table>\n",
       "<thead><tr><th scope=col>Job.Family</th><th scope=col>Popularity</th></tr></thead>\n",
       "<tbody>\n",
       "\t<tr><td>Nursing         </td><td>82526           </td></tr>\n",
       "\t<tr><td>Street Transit  </td><td>69190           </td></tr>\n",
       "\t<tr><td>Police Services </td><td>53443           </td></tr>\n",
       "\t<tr><td>Journeyman Trade</td><td>48907           </td></tr>\n",
       "\t<tr><td>Human Services  </td><td>43806           </td></tr>\n",
       "</tbody>\n",
       "</table>\n"
      ],
      "text/latex": [
       "\\begin{tabular}{r|ll}\n",
       " Job.Family & Popularity\\\\\n",
       "\\hline\n",
       "\t Nursing          & 82526           \\\\\n",
       "\t Street Transit   & 69190           \\\\\n",
       "\t Police Services  & 53443           \\\\\n",
       "\t Journeyman Trade & 48907           \\\\\n",
       "\t Human Services   & 43806           \\\\\n",
       "\\end{tabular}\n"
      ],
      "text/markdown": [
       "\n",
       "| Job.Family | Popularity |\n",
       "|---|---|\n",
       "| Nursing          | 82526            |\n",
       "| Street Transit   | 69190            |\n",
       "| Police Services  | 53443            |\n",
       "| Journeyman Trade | 48907            |\n",
       "| Human Services   | 43806            |\n",
       "\n"
      ],
      "text/plain": [
       "  Job.Family       Popularity\n",
       "1 Nursing          82526     \n",
       "2 Street Transit   69190     \n",
       "3 Police Services  53443     \n",
       "4 Journeyman Trade 48907     \n",
       "5 Human Services   43806     "
      ]
     },
     "metadata": {},
     "output_type": "display_data"
    }
   ],
   "source": [
    "jobPopularity <- data.frame('Job Family'=c(), 'Popularity'=c())\n",
    "for(job in jobFamilies){\n",
    "    jobPopularity <- rbind(jobPopularity, data.frame('Job Family'=job, \n",
    "                                                     'Popularity'=length(salaryData[salaryData$Job.Family==job,1])))\n",
    "}\n",
    "jobPopularity <- jobPopularity[order(-jobPopularity['Popularity']),]\n",
    "row.names(jobPopularity) <- NULL\n",
    "head(jobPopularity, 5)"
   ]
  },
  {
   "cell_type": "markdown",
   "metadata": {},
   "source": [
    "_storing top 5 most popular job families in vector to use them later in violin chart_"
   ]
  },
  {
   "cell_type": "code",
   "execution_count": 8,
   "metadata": {},
   "outputs": [],
   "source": [
    "jobPopularity <- as.vector(head(jobPopularity, 5)$Job.Family)"
   ]
  },
  {
   "cell_type": "markdown",
   "metadata": {},
   "source": [
    "_subsetting salary and grouping variable Job.Family, clearing all Untitled data_"
   ]
  },
  {
   "cell_type": "code",
   "execution_count": 9,
   "metadata": {},
   "outputs": [],
   "source": [
    "salaryByJobFamily <- salaryData[, c('Job.Family', 'Total.Salary')][salaryData$Job.Family!='Untitled',]"
   ]
  },
  {
   "cell_type": "markdown",
   "metadata": {},
   "source": [
    "<a id='aspect4'></a>\n",
    "\n",
    "###  <span style=\"color:blue\"> Aspect 4: </span>"
   ]
  },
  {
   "cell_type": "markdown",
   "metadata": {},
   "source": [
    "_clearing outliers - points, which are too far from main distribution. they might be some errors._"
   ]
  },
  {
   "cell_type": "code",
   "execution_count": 10,
   "metadata": {},
   "outputs": [],
   "source": [
    "topSalaryByFamily <- data.frame(Job.Family=c(),Total.Salary=c())\n",
    "for(job in jobPopularity){\n",
    "        currentJobSalary <- salaryByJobFamily[salaryByJobFamily$Job.Family==job,]\n",
    "        topSalaryByFamily <- rbind(topSalaryByFamily, \n",
    "                                   currentJobSalary[!currentJobSalary$Total.Salary %in% \n",
    "                                                     boxplot.stats(currentJobSalary$Total.Salary)$out,])\n",
    "}"
   ]
  },
  {
   "cell_type": "markdown",
   "metadata": {},
   "source": [
    "Let's see **salary distribution for each Job Family**!"
   ]
  },
  {
   "cell_type": "code",
   "execution_count": 11,
   "metadata": {
    "scrolled": false
   },
   "outputs": [
    {
     "data": {
      "image/png": "[encoded data removed]",
      "text/plain": [
       "plot without title"
      ]
     },
     "metadata": {},
     "output_type": "display_data"
    }
   ],
   "source": [
    "# Violin chart!\n",
    "\n",
    "p <- ggplot(topSalaryByFamily, \n",
    "            aes(x=Job.Family, y=Total.Salary, fill=Job.Family)) + \n",
    "geom_violin() +\n",
    "theme(axis.title.x=element_blank(),\n",
    "        axis.text.x=element_blank(),\n",
    "        axis.ticks.x=element_blank())\n",
    "\n",
    "p"
   ]
  },
  {
   "cell_type": "markdown",
   "metadata": {},
   "source": [
    "Some really interesting isights regarding densities of salaries can be drawn from here - most of the workers are either in low salary section or in slightly above average one. Only few percents are in top section."
   ]
  },
  {
   "cell_type": "markdown",
   "metadata": {},
   "source": [
    "<a id='aspect5'></a>\n",
    "\n",
    "###  <span style=\"color:blue\"> Aspect 5: </span>"
   ]
  },
  {
   "cell_type": "markdown",
   "metadata": {},
   "source": [
    "_get all organization groups to loop through them later_"
   ]
  },
  {
   "cell_type": "code",
   "execution_count": 12,
   "metadata": {},
   "outputs": [],
   "source": [
    "orgGroups <- unique(salaryData$Organization.Group)"
   ]
  },
  {
   "cell_type": "markdown",
   "metadata": {},
   "source": [
    "Let's check **which Organisation groups get best Health and Dental**:"
   ]
  },
  {
   "cell_type": "code",
   "execution_count": 13,
   "metadata": {},
   "outputs": [
    {
     "name": "stdout",
     "output_type": "stream",
     "text": [
      "For General City Responsibilities health and dental is not best one...\n",
      "For Public Protection health and dental is above average!\n",
      "For Community Health health and dental is not best one...\n",
      "For Public Works, Transportation & Commerce health and dental is above average!\n",
      "For General Administration & Finance health and dental is not best one...\n",
      "For Human Welfare & Neighborhood Development health and dental is not best one...\n",
      "For Culture & Recreation health and dental is not best one...\n"
     ]
    }
   ],
   "source": [
    "mean  <- stat.desc(salaryData$Health.and.Dental)[['mean']]\n",
    "\n",
    "for(group in orgGroups){\n",
    "  if(stat.desc(salaryData[salaryData$Organization.Group==group, 'Health.and.Dental'])[['mean']] >= mean){\n",
    "      cat('For', group, 'health and dental is above average!')\n",
    "  } else {\n",
    "      cat('For', group, 'health and dental is not best one...')\n",
    "  }\n",
    "  cat('\\n')\n",
    "}"
   ]
  },
  {
   "cell_type": "markdown",
   "metadata": {},
   "source": [
    "Only Public Protection and Public Works, Transportation & Commerce have health and dental that are above average."
   ]
  },
  {
   "cell_type": "markdown",
   "metadata": {},
   "source": [
    "<a id='aspect6'></a>\n",
    "\n",
    "###  <span style=\"color:blue\"> Aspect 6: </span>"
   ]
  },
  {
   "cell_type": "markdown",
   "metadata": {},
   "source": [
    "Let's now find **lowest paid jobs**:"
   ]
  },
  {
   "cell_type": "code",
   "execution_count": 14,
   "metadata": {},
   "outputs": [
    {
     "data": {
      "text/html": [
       "<ol class=list-inline>\n",
       "\t<li>'Public Service Trainee'</li>\n",
       "\t<li>'Police Officer 3'</li>\n",
       "\t<li>'Secretary 2'</li>\n",
       "\t<li>'StdntDsgn Train2/Arch/Eng/Plng'</li>\n",
       "\t<li>'PS Aide Health Services'</li>\n",
       "</ol>\n"
      ],
      "text/latex": [
       "\\begin{enumerate*}\n",
       "\\item 'Public Service Trainee'\n",
       "\\item 'Police Officer 3'\n",
       "\\item 'Secretary 2'\n",
       "\\item 'StdntDsgn Train2/Arch/Eng/Plng'\n",
       "\\item 'PS Aide Health Services'\n",
       "\\end{enumerate*}\n"
      ],
      "text/markdown": [
       "1. 'Public Service Trainee'\n",
       "2. 'Police Officer 3'\n",
       "3. 'Secretary 2'\n",
       "4. 'StdntDsgn Train2/Arch/Eng/Plng'\n",
       "5. 'PS Aide Health Services'\n",
       "\n",
       "\n"
      ],
      "text/plain": [
       "[1] \"Public Service Trainee\"         \"Police Officer 3\"              \n",
       "[3] \"Secretary 2\"                    \"StdntDsgn Train2/Arch/Eng/Plng\"\n",
       "[5] \"PS Aide Health Services\"       "
      ]
     },
     "metadata": {},
     "output_type": "display_data"
    }
   ],
   "source": [
    "mostLowestPaidJobs <- c()\n",
    "i <- 0\n",
    "lowestPaidJobs <- salaryData[order(salaryData[, 'Total.Salary']), c('Job', 'Total.Salary')]\n",
    "while(length(mostLowestPaidJobs)<5){\n",
    "    i <- i + 1\n",
    "    if(lowestPaidJobs[i,'Total.Salary'] > 0 & !lowestPaidJobs[i,'Job'] %in% mostLowestPaidJobs){\n",
    "        mostLowestPaidJobs <- c(mostLowestPaidJobs, as.character(lowestPaidJobs[i,'Job']))       \n",
    "    }\n",
    " \n",
    "}\n",
    "mostLowestPaidJobs"
   ]
  },
  {
   "cell_type": "markdown",
   "metadata": {},
   "source": [
    "Newspaper can draw attention to those important from sociological point of view roles, which got paid less than other!"
   ]
  },
  {
   "cell_type": "markdown",
   "metadata": {},
   "source": [
    "<a id='aspect7'></a>\n",
    "\n",
    "###  <span style=\"color:blue\"> Aspect 7: </span>"
   ]
  },
  {
   "cell_type": "markdown",
   "metadata": {},
   "source": [
    "Let's check **which Organisation groups give most benefits** to their workers:"
   ]
  },
  {
   "cell_type": "code",
   "execution_count": 15,
   "metadata": {},
   "outputs": [
    {
     "name": "stdout",
     "output_type": "stream",
     "text": [
      "For General City Responsibilities total benefits are not really best...\n",
      "For Public Protection total benefits are above average!\n",
      "For Community Health total benefits are above average!\n",
      "For Public Works, Transportation & Commerce total benefits are above average!\n",
      "For General Administration & Finance total benefits are above average!\n",
      "For Human Welfare & Neighborhood Development total benefits are not really best...\n",
      "For Culture & Recreation total benefits are not really best...\n"
     ]
    }
   ],
   "source": [
    "mean  <- stat.desc(salaryData$Total.Benefits)[['mean']]\n",
    "\n",
    "for(group in orgGroups){\n",
    "  if(stat.desc(salaryData[salaryData$Organization.Group==group, 'Total.Benefits'])[['mean']] >= mean){\n",
    "      cat('For', group, 'total benefits are above average!')\n",
    "  } else {\n",
    "      cat('For', group, 'total benefits are not really best...')\n",
    "  }\n",
    "  cat('\\n')\n",
    "}"
   ]
  },
  {
   "cell_type": "markdown",
   "metadata": {},
   "source": [
    "<a id='aspect8'></a>\n",
    "\n",
    "###  <span style=\"color:blue\"> Aspect 8: </span>"
   ]
  },
  {
   "cell_type": "markdown",
   "metadata": {},
   "source": [
    "Let's find **biggest overtime values**:"
   ]
  },
  {
   "cell_type": "code",
   "execution_count": 16,
   "metadata": {},
   "outputs": [
    {
     "data": {
      "text/html": [
       "<ol class=list-inline>\n",
       "\t<li>307042.94</li>\n",
       "\t<li>307042.94</li>\n",
       "\t<li>307042.94</li>\n",
       "\t<li>304546.25</li>\n",
       "\t<li>283660.18</li>\n",
       "\t<li>283660.18</li>\n",
       "</ol>\n"
      ],
      "text/latex": [
       "\\begin{enumerate*}\n",
       "\\item 307042.94\n",
       "\\item 307042.94\n",
       "\\item 307042.94\n",
       "\\item 304546.25\n",
       "\\item 283660.18\n",
       "\\item 283660.18\n",
       "\\end{enumerate*}\n"
      ],
      "text/markdown": [
       "1. 307042.94\n",
       "2. 307042.94\n",
       "3. 307042.94\n",
       "4. 304546.25\n",
       "5. 283660.18\n",
       "6. 283660.18\n",
       "\n",
       "\n"
      ],
      "text/plain": [
       "[1] 307042.9 307042.9 307042.9 304546.2 283660.2 283660.2"
      ]
     },
     "metadata": {},
     "output_type": "display_data"
    }
   ],
   "source": [
    "overtime <- salaryData$Overtime\n",
    "overtime <- overtime[order(-overtime)]\n",
    "head(overtime)"
   ]
  },
  {
   "cell_type": "markdown",
   "metadata": {},
   "source": [
    "Looks like some of the workers are really overdoing!"
   ]
  },
  {
   "cell_type": "markdown",
   "metadata": {},
   "source": [
    "<a id='aspect9'></a>\n",
    "\n",
    "###  <span style=\"color:blue\"> Aspect 9: </span>"
   ]
  },
  {
   "cell_type": "markdown",
   "metadata": {},
   "source": [
    "Now we want to see **biggest retirements contributions**:"
   ]
  },
  {
   "cell_type": "code",
   "execution_count": 17,
   "metadata": {},
   "outputs": [
    {
     "data": {
      "text/html": [
       "<ol class=list-inline>\n",
       "\t<li>120791.4</li>\n",
       "\t<li>120791.4</li>\n",
       "\t<li>120791.4</li>\n",
       "\t<li>120791.4</li>\n",
       "\t<li>120791.4</li>\n",
       "\t<li>120791.4</li>\n",
       "\t<li>105052.98</li>\n",
       "\t<li>101306.01</li>\n",
       "\t<li>98677.06</li>\n",
       "\t<li>98677.06</li>\n",
       "</ol>\n"
      ],
      "text/latex": [
       "\\begin{enumerate*}\n",
       "\\item 120791.4\n",
       "\\item 120791.4\n",
       "\\item 120791.4\n",
       "\\item 120791.4\n",
       "\\item 120791.4\n",
       "\\item 120791.4\n",
       "\\item 105052.98\n",
       "\\item 101306.01\n",
       "\\item 98677.06\n",
       "\\item 98677.06\n",
       "\\end{enumerate*}\n"
      ],
      "text/markdown": [
       "1. 120791.4\n",
       "2. 120791.4\n",
       "3. 120791.4\n",
       "4. 120791.4\n",
       "5. 120791.4\n",
       "6. 120791.4\n",
       "7. 105052.98\n",
       "8. 101306.01\n",
       "9. 98677.06\n",
       "10. 98677.06\n",
       "\n",
       "\n"
      ],
      "text/plain": [
       " [1] 120791.40 120791.40 120791.40 120791.40 120791.40 120791.40 105052.98\n",
       " [8] 101306.01  98677.06  98677.06"
      ]
     },
     "metadata": {},
     "output_type": "display_data"
    }
   ],
   "source": [
    "retirement <- salaryData$Retirement\n",
    "retirement <- retirement[order(-retirement)]\n",
    "head(retirement, 10)"
   ]
  },
  {
   "cell_type": "markdown",
   "metadata": {},
   "source": [
    "City contributions to employee retirement plans are quite huge!"
   ]
  },
  {
   "cell_type": "markdown",
   "metadata": {},
   "source": [
    "<a id='summary'></a>\n",
    "![](https://essay-lib.com/wp-content/uploads/2018/08/Summary-800x400.jpg)\n",
    " \n",
    "  \n",
    "During the research next points were found:\n",
    "\n",
    "- mean Salary is 54096\n",
    "- most popular job families are:\n",
    "    - Nursing\n",
    "    - Street Transit\n",
    "    - Police Services\n",
    "    - Journeyman Trade\n",
    "    - Human Services\n",
    "- most of the workers are either in low salary section or in slightly above average one\n",
    "- only Public Protection and Public Works, Transportation & Commerce have health and dental that are above average\n",
    "- next jobs got paid the lowest:\n",
    "    - Public Service Trainee\n",
    "    - Police Officer 3 \n",
    "    - Secretary 2 \n",
    "    - StdntDsgn \n",
    "    - Train2/Arch/Eng/Plng \n",
    "    - PS Aide Health Services\n",
    "- next Organisation groups give most benefits to their workers   \n",
    "    - Public Protection\n",
    "    - Community Health\n",
    "    - Public Works, Transportation & Commerce\n",
    "    - General Administration & Finance\n",
    "- biggest overtime value is 307043\n",
    "- biggest retirements contribution is 120791"
   ]
  },
  {
   "cell_type": "markdown",
   "metadata": {},
   "source": [
    "<a id='recommendations'></a>\n",
    "![](https://www.tibco.com/blog/wp-content/uploads/2015/01/TIBCO-Spotfire-Recommendations-Charting-a-Faster-Course-to-Analytic-Insights1.png)\n",
    "\n"
   ]
  },
  {
   "cell_type": "markdown",
   "metadata": {},
   "source": [
    "Based on this data, newspaper can turn attention on next social problems:\n",
    "- big overtiming;\n",
    "- most of the workers are either in low salary section or in slightly above average one;\n",
    "- only Public Protection and Public Works, Transportation & Commerce have health and dental that are above average;\n",
    "- some important from sociological point of view jobs got paid the lowest;  \n",
    "  \n",
    "  \n",
    "But also newspaper can speak about good things, such as\n",
    "- huge retirements contributions;\n",
    "- benefits to employees;\n",
    "\n",
    "There is also some visualization, that can be included to the publication to draw more attention to it!"
   ]
  }
 ],
 "metadata": {
  "kernelspec": {
   "display_name": "R",
   "language": "R",
   "name": "ir"
  },
  "language_info": {
   "codemirror_mode": "r",
   "file_extension": ".r",
   "mimetype": "text/x-r-source",
   "name": "R",
   "pygments_lexer": "r",
   "version": "3.6.1"
  }
 },
 "nbformat": 4,
 "nbformat_minor": 2
}
