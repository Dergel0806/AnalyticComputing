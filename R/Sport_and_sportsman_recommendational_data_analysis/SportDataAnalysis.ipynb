{
 "cells": [
  {
   "cell_type": "markdown",
   "metadata": {},
   "source": [
    "##### Made by Ihor Markevych\n",
    "\n",
    "-------\n",
    "**_Comments:_**\n",
    "1. Notebook is divided into two parts. They are marked with green headers.  \n",
    "First is for sportsman recommendation, second one is for country recommendation.\n",
    "   * Data Exploration and Recommendations are also divided into two parts, one for sport, second for sportsman.\n",
    "2. Rubric items names are in red.\n",
    "3. Text that explains code is in _italic_.\n",
    "4. Text that explains data/results is usual.\n",
    "5. Some sub-rubrics are bold.\n",
    "6. Some important aspects that should be stressed are bold.\n",
    "7. For \"two seconds\" match finding there is a clickable structure below, as the whole notebook is quite long.\n",
    "\n",
    "\n",
    "----------"
   ]
  },
  {
   "cell_type": "markdown",
   "metadata": {},
   "source": [
    "#### Structure \n",
    "(clickable)   \n",
    "\n",
    "1. [Objective of the Proposed Research](#objective)\n",
    "2. [Sportsman Selection](#sportsman)\n",
    "    * [Data Exploration](#sportsman)\n",
    "    * [Plots](#sportsman_plot)\n",
    "    * [Recommendations](#sportsman_recommendations)\n",
    "    \n",
    "3. [Sport Selection](#sport)    \n",
    "    * [Data Exploration](#sport)\n",
    "    * [Recommendations](#sport_recommendations)\n",
    "4. [Summary](#summary)    "
   ]
  },
  {
   "cell_type": "markdown",
   "metadata": {},
   "source": [
    "# Best sportsman and sport recommendations for Kellog\n",
    "## Sponsorship recommendational analysis\n",
    "\n",
    "\n",
    "### Data: [120 years of Olympic history: athletes and results](https://www.kaggle.com/heesoo37/120-years-of-olympic-history-athletes-and-results)\n",
    "\n",
    "#### basic bio data on athletes and medal results from Athens 1896 to Rio 2016\n",
    "\n",
    "\n",
    "\n",
    "------------------\n",
    "------------------\n"
   ]
  },
  {
   "cell_type": "markdown",
   "metadata": {},
   "source": [
    "<a id='objective'></a>\n",
    "## <span style=\"color:red\"> Objective of the Proposed Research: </span>\n",
    "\n",
    "We have a histrocical dataset with data about Olympic games and participants. Based on this dataset we should provide recommendations for best sport and sportsmen. We'll do some general investigations, such as percentage of participants, who got medals, their age and body metrics density, total quantity of medals.  \n",
    "   \n",
    "   \n",
    "For sportsman we'll firstly investigate data, firstly checking for dependencies between males and females success. We'll be looking for dependencies between age and sport success (medals), and between body metrics, such as height and weight (converted into body mass index to be more representative). We'll get such values, as max and min, and also mean for body metrics to understand usual body constitution of male and female participants. Next, we'll assign some points (weights) to each type of medal (Gold, Silver, Bronze) and evaluate general score for each sportsmen. Based on this score we'll find the most succesfull sportsman (or sportsmen) and check his body metrics and age, whether they are in a statistically good intervals. Also we'll compare this sportsman to other participant and visualize this comparison.\n",
    "   \n",
    "     \n",
    "For sports we'll check for all types of sport that took place at least once in our dataset, then for each of them we'll evaluate popularity, based on how much times this type of sport was hold during all years, how much teams participated in it during this time and how popular this sport was in last century (from 2000). Then we'll select top 10 by each popularity metric and print them to compare. Based on this comparison we'll recommend  the most popular sport to Kellogg.\n",
    "\n",
    "\n",
    "\n",
    "\n",
    "\n",
    "--------\n",
    "--------\n"
   ]
  },
  {
   "cell_type": "markdown",
   "metadata": {},
   "source": [
    "_installing additional packages (commented, as should be done only once)_"
   ]
  },
  {
   "cell_type": "code",
   "execution_count": 1,
   "metadata": {},
   "outputs": [],
   "source": [
    "# install.packages('sm')\n",
    "# install.packages('plyr')"
   ]
  },
  {
   "cell_type": "markdown",
   "metadata": {},
   "source": [
    "_connecting installed libraries and reading the data from csv file:_"
   ]
  },
  {
   "cell_type": "code",
   "execution_count": 2,
   "metadata": {},
   "outputs": [
    {
     "name": "stderr",
     "output_type": "stream",
     "text": [
      "Warning message:\n",
      "\"package 'sm' was built under R version 3.6.2\"Package 'sm', version 2.2-5.6: type help(sm) for summary information\n",
      "Warning message:\n",
      "\"package 'plyr' was built under R version 3.6.2\""
     ]
    }
   ],
   "source": [
    "library('sm')\n",
    "library('plyr')\n",
    "athletesData <- read.csv('./data/athlete_events.csv')"
   ]
  },
  {
   "cell_type": "markdown",
   "metadata": {},
   "source": [
    "---------------\n",
    "<a id='sportsman'></a>\n",
    "\n",
    "# <span style=\"color:green\"> Sportsman Selection: </span>\n",
    "\n",
    "## <span style=\"color:red\"> Data Exploration: </span>\n"
   ]
  },
  {
   "cell_type": "markdown",
   "metadata": {},
   "source": [
    "Let's see **what types of columns** we have."
   ]
  },
  {
   "cell_type": "markdown",
   "metadata": {},
   "source": [
    "_`str()` function shows structure of the object, in this case - data frame_"
   ]
  },
  {
   "cell_type": "code",
   "execution_count": 3,
   "metadata": {},
   "outputs": [
    {
     "name": "stdout",
     "output_type": "stream",
     "text": [
      "'data.frame':\t271116 obs. of  15 variables:\n",
      " $ ID    : int  1 2 3 4 5 5 5 5 5 5 ...\n",
      " $ Name  : Factor w/ 134732 levels \"  Gabrielle Marie \\\"Gabby\\\" Adcock (White-)\",..: 8 9 44318 29412 21470 21470 21470 21470 21470 21470 ...\n",
      " $ Sex   : Factor w/ 2 levels \"F\",\"M\": 2 2 2 2 1 1 1 1 1 1 ...\n",
      " $ Age   : int  24 23 24 34 21 21 25 25 27 27 ...\n",
      " $ Height: int  180 170 NA NA 185 185 185 185 185 185 ...\n",
      " $ Weight: num  80 60 NA NA 82 82 82 82 82 82 ...\n",
      " $ Team  : Factor w/ 1184 levels \"30. Februar\",..: 199 199 273 278 705 705 705 705 705 705 ...\n",
      " $ NOC   : Factor w/ 230 levels \"AFG\",\"AHO\",\"ALB\",..: 42 42 56 56 146 146 146 146 146 146 ...\n",
      " $ Games : Factor w/ 51 levels \"1896 Summer\",..: 38 49 7 2 37 37 39 39 40 40 ...\n",
      " $ Year  : int  1992 2012 1920 1900 1988 1988 1992 1992 1994 1994 ...\n",
      " $ Season: Factor w/ 2 levels \"Summer\",\"Winter\": 1 1 1 1 2 2 2 2 2 2 ...\n",
      " $ City  : Factor w/ 42 levels \"Albertville\",..: 6 18 3 27 9 9 1 1 17 17 ...\n",
      " $ Sport : Factor w/ 66 levels \"Aeronautics\",..: 9 33 25 62 54 54 54 54 54 54 ...\n",
      " $ Event : Factor w/ 765 levels \"Aeronautics Mixed Aeronautics\",..: 160 398 349 710 623 619 623 619 623 619 ...\n",
      " $ Medal : Factor w/ 3 levels \"Bronze\",\"Gold\",..: NA NA NA 2 NA NA NA NA NA NA ...\n"
     ]
    }
   ],
   "source": [
    "str(athletesData)"
   ]
  },
  {
   "cell_type": "markdown",
   "metadata": {},
   "source": [
    "Let's check for **alphabetically first 10 sportsmen**:"
   ]
  },
  {
   "cell_type": "markdown",
   "metadata": {},
   "source": [
    "_`head(df, X)` function shows first `X` items of `df` object_"
   ]
  },
  {
   "cell_type": "code",
   "execution_count": 4,
   "metadata": {
    "scrolled": true
   },
   "outputs": [
    {
     "data": {
      "text/html": [
       "<table>\n",
       "<thead><tr><th scope=col>ID</th><th scope=col>Name</th><th scope=col>Sex</th><th scope=col>Age</th><th scope=col>Height</th><th scope=col>Weight</th><th scope=col>Team</th><th scope=col>NOC</th><th scope=col>Games</th><th scope=col>Year</th><th scope=col>Season</th><th scope=col>City</th><th scope=col>Sport</th><th scope=col>Event</th><th scope=col>Medal</th></tr></thead>\n",
       "<tbody>\n",
       "\t<tr><td>1                                 </td><td>A Dijiang                         </td><td>M                                 </td><td>24                                </td><td>180                               </td><td>80                                </td><td>China                             </td><td>CHN                               </td><td>1992 Summer                       </td><td>1992                              </td><td>Summer                            </td><td>Barcelona                         </td><td>Basketball                        </td><td>Basketball Men's Basketball       </td><td>NA                                </td></tr>\n",
       "\t<tr><td>2                                 </td><td>A Lamusi                          </td><td>M                                 </td><td>23                                </td><td>170                               </td><td>60                                </td><td>China                             </td><td>CHN                               </td><td>2012 Summer                       </td><td>2012                              </td><td>Summer                            </td><td>London                            </td><td>Judo                              </td><td>Judo Men's Extra-Lightweight      </td><td>NA                                </td></tr>\n",
       "\t<tr><td>3                                 </td><td>Gunnar Nielsen Aaby               </td><td>M                                 </td><td>24                                </td><td> NA                               </td><td>NA                                </td><td>Denmark                           </td><td>DEN                               </td><td>1920 Summer                       </td><td>1920                              </td><td>Summer                            </td><td>Antwerpen                         </td><td>Football                          </td><td>Football Men's Football           </td><td>NA                                </td></tr>\n",
       "\t<tr><td>4                                 </td><td>Edgar Lindenau Aabye              </td><td>M                                 </td><td>34                                </td><td> NA                               </td><td>NA                                </td><td>Denmark/Sweden                    </td><td>DEN                               </td><td>1900 Summer                       </td><td>1900                              </td><td>Summer                            </td><td>Paris                             </td><td>Tug-Of-War                        </td><td>Tug-Of-War Men's Tug-Of-War       </td><td>Gold                              </td></tr>\n",
       "\t<tr><td>5                                 </td><td>Christine Jacoba Aaftink          </td><td>F                                 </td><td>21                                </td><td>185                               </td><td>82                                </td><td>Netherlands                       </td><td>NED                               </td><td>1988 Winter                       </td><td>1988                              </td><td>Winter                            </td><td>Calgary                           </td><td>Speed Skating                     </td><td>Speed Skating Women's 500 metres  </td><td>NA                                </td></tr>\n",
       "\t<tr><td>5                                 </td><td>Christine Jacoba Aaftink          </td><td>F                                 </td><td>21                                </td><td>185                               </td><td>82                                </td><td>Netherlands                       </td><td>NED                               </td><td>1988 Winter                       </td><td>1988                              </td><td>Winter                            </td><td>Calgary                           </td><td>Speed Skating                     </td><td>Speed Skating Women's 1,000 metres</td><td>NA                                </td></tr>\n",
       "\t<tr><td>5                                 </td><td>Christine Jacoba Aaftink          </td><td>F                                 </td><td>25                                </td><td>185                               </td><td>82                                </td><td>Netherlands                       </td><td>NED                               </td><td>1992 Winter                       </td><td>1992                              </td><td>Winter                            </td><td>Albertville                       </td><td>Speed Skating                     </td><td>Speed Skating Women's 500 metres  </td><td>NA                                </td></tr>\n",
       "\t<tr><td>5                                 </td><td>Christine Jacoba Aaftink          </td><td>F                                 </td><td>25                                </td><td>185                               </td><td>82                                </td><td>Netherlands                       </td><td>NED                               </td><td>1992 Winter                       </td><td>1992                              </td><td>Winter                            </td><td>Albertville                       </td><td>Speed Skating                     </td><td>Speed Skating Women's 1,000 metres</td><td>NA                                </td></tr>\n",
       "\t<tr><td>5                                 </td><td>Christine Jacoba Aaftink          </td><td>F                                 </td><td>27                                </td><td>185                               </td><td>82                                </td><td>Netherlands                       </td><td>NED                               </td><td>1994 Winter                       </td><td>1994                              </td><td>Winter                            </td><td>Lillehammer                       </td><td>Speed Skating                     </td><td>Speed Skating Women's 500 metres  </td><td>NA                                </td></tr>\n",
       "\t<tr><td>5                                 </td><td>Christine Jacoba Aaftink          </td><td>F                                 </td><td>27                                </td><td>185                               </td><td>82                                </td><td>Netherlands                       </td><td>NED                               </td><td>1994 Winter                       </td><td>1994                              </td><td>Winter                            </td><td>Lillehammer                       </td><td>Speed Skating                     </td><td>Speed Skating Women's 1,000 metres</td><td>NA                                </td></tr>\n",
       "</tbody>\n",
       "</table>\n"
      ],
      "text/latex": [
       "\\begin{tabular}{r|lllllllllllllll}\n",
       " ID & Name & Sex & Age & Height & Weight & Team & NOC & Games & Year & Season & City & Sport & Event & Medal\\\\\n",
       "\\hline\n",
       "\t 1                                  & A Dijiang                          & M                                  & 24                                 & 180                                & 80                                 & China                              & CHN                                & 1992 Summer                        & 1992                               & Summer                             & Barcelona                          & Basketball                         & Basketball Men's Basketball        & NA                                \\\\\n",
       "\t 2                                  & A Lamusi                           & M                                  & 23                                 & 170                                & 60                                 & China                              & CHN                                & 2012 Summer                        & 2012                               & Summer                             & London                             & Judo                               & Judo Men's Extra-Lightweight       & NA                                \\\\\n",
       "\t 3                                  & Gunnar Nielsen Aaby                & M                                  & 24                                 &  NA                                & NA                                 & Denmark                            & DEN                                & 1920 Summer                        & 1920                               & Summer                             & Antwerpen                          & Football                           & Football Men's Football            & NA                                \\\\\n",
       "\t 4                                  & Edgar Lindenau Aabye               & M                                  & 34                                 &  NA                                & NA                                 & Denmark/Sweden                     & DEN                                & 1900 Summer                        & 1900                               & Summer                             & Paris                              & Tug-Of-War                         & Tug-Of-War Men's Tug-Of-War        & Gold                              \\\\\n",
       "\t 5                                  & Christine Jacoba Aaftink           & F                                  & 21                                 & 185                                & 82                                 & Netherlands                        & NED                                & 1988 Winter                        & 1988                               & Winter                             & Calgary                            & Speed Skating                      & Speed Skating Women's 500 metres   & NA                                \\\\\n",
       "\t 5                                  & Christine Jacoba Aaftink           & F                                  & 21                                 & 185                                & 82                                 & Netherlands                        & NED                                & 1988 Winter                        & 1988                               & Winter                             & Calgary                            & Speed Skating                      & Speed Skating Women's 1,000 metres & NA                                \\\\\n",
       "\t 5                                  & Christine Jacoba Aaftink           & F                                  & 25                                 & 185                                & 82                                 & Netherlands                        & NED                                & 1992 Winter                        & 1992                               & Winter                             & Albertville                        & Speed Skating                      & Speed Skating Women's 500 metres   & NA                                \\\\\n",
       "\t 5                                  & Christine Jacoba Aaftink           & F                                  & 25                                 & 185                                & 82                                 & Netherlands                        & NED                                & 1992 Winter                        & 1992                               & Winter                             & Albertville                        & Speed Skating                      & Speed Skating Women's 1,000 metres & NA                                \\\\\n",
       "\t 5                                  & Christine Jacoba Aaftink           & F                                  & 27                                 & 185                                & 82                                 & Netherlands                        & NED                                & 1994 Winter                        & 1994                               & Winter                             & Lillehammer                        & Speed Skating                      & Speed Skating Women's 500 metres   & NA                                \\\\\n",
       "\t 5                                  & Christine Jacoba Aaftink           & F                                  & 27                                 & 185                                & 82                                 & Netherlands                        & NED                                & 1994 Winter                        & 1994                               & Winter                             & Lillehammer                        & Speed Skating                      & Speed Skating Women's 1,000 metres & NA                                \\\\\n",
       "\\end{tabular}\n"
      ],
      "text/markdown": [
       "\n",
       "| ID | Name | Sex | Age | Height | Weight | Team | NOC | Games | Year | Season | City | Sport | Event | Medal |\n",
       "|---|---|---|---|---|---|---|---|---|---|---|---|---|---|---|\n",
       "| 1                                  | A Dijiang                          | M                                  | 24                                 | 180                                | 80                                 | China                              | CHN                                | 1992 Summer                        | 1992                               | Summer                             | Barcelona                          | Basketball                         | Basketball Men's Basketball        | NA                                 |\n",
       "| 2                                  | A Lamusi                           | M                                  | 23                                 | 170                                | 60                                 | China                              | CHN                                | 2012 Summer                        | 2012                               | Summer                             | London                             | Judo                               | Judo Men's Extra-Lightweight       | NA                                 |\n",
       "| 3                                  | Gunnar Nielsen Aaby                | M                                  | 24                                 |  NA                                | NA                                 | Denmark                            | DEN                                | 1920 Summer                        | 1920                               | Summer                             | Antwerpen                          | Football                           | Football Men's Football            | NA                                 |\n",
       "| 4                                  | Edgar Lindenau Aabye               | M                                  | 34                                 |  NA                                | NA                                 | Denmark/Sweden                     | DEN                                | 1900 Summer                        | 1900                               | Summer                             | Paris                              | Tug-Of-War                         | Tug-Of-War Men's Tug-Of-War        | Gold                               |\n",
       "| 5                                  | Christine Jacoba Aaftink           | F                                  | 21                                 | 185                                | 82                                 | Netherlands                        | NED                                | 1988 Winter                        | 1988                               | Winter                             | Calgary                            | Speed Skating                      | Speed Skating Women's 500 metres   | NA                                 |\n",
       "| 5                                  | Christine Jacoba Aaftink           | F                                  | 21                                 | 185                                | 82                                 | Netherlands                        | NED                                | 1988 Winter                        | 1988                               | Winter                             | Calgary                            | Speed Skating                      | Speed Skating Women's 1,000 metres | NA                                 |\n",
       "| 5                                  | Christine Jacoba Aaftink           | F                                  | 25                                 | 185                                | 82                                 | Netherlands                        | NED                                | 1992 Winter                        | 1992                               | Winter                             | Albertville                        | Speed Skating                      | Speed Skating Women's 500 metres   | NA                                 |\n",
       "| 5                                  | Christine Jacoba Aaftink           | F                                  | 25                                 | 185                                | 82                                 | Netherlands                        | NED                                | 1992 Winter                        | 1992                               | Winter                             | Albertville                        | Speed Skating                      | Speed Skating Women's 1,000 metres | NA                                 |\n",
       "| 5                                  | Christine Jacoba Aaftink           | F                                  | 27                                 | 185                                | 82                                 | Netherlands                        | NED                                | 1994 Winter                        | 1994                               | Winter                             | Lillehammer                        | Speed Skating                      | Speed Skating Women's 500 metres   | NA                                 |\n",
       "| 5                                  | Christine Jacoba Aaftink           | F                                  | 27                                 | 185                                | 82                                 | Netherlands                        | NED                                | 1994 Winter                        | 1994                               | Winter                             | Lillehammer                        | Speed Skating                      | Speed Skating Women's 1,000 metres | NA                                 |\n",
       "\n"
      ],
      "text/plain": [
       "   ID Name                     Sex Age Height Weight Team           NOC\n",
       "1  1  A Dijiang                M   24  180    80     China          CHN\n",
       "2  2  A Lamusi                 M   23  170    60     China          CHN\n",
       "3  3  Gunnar Nielsen Aaby      M   24   NA    NA     Denmark        DEN\n",
       "4  4  Edgar Lindenau Aabye     M   34   NA    NA     Denmark/Sweden DEN\n",
       "5  5  Christine Jacoba Aaftink F   21  185    82     Netherlands    NED\n",
       "6  5  Christine Jacoba Aaftink F   21  185    82     Netherlands    NED\n",
       "7  5  Christine Jacoba Aaftink F   25  185    82     Netherlands    NED\n",
       "8  5  Christine Jacoba Aaftink F   25  185    82     Netherlands    NED\n",
       "9  5  Christine Jacoba Aaftink F   27  185    82     Netherlands    NED\n",
       "10 5  Christine Jacoba Aaftink F   27  185    82     Netherlands    NED\n",
       "   Games       Year Season City        Sport        \n",
       "1  1992 Summer 1992 Summer Barcelona   Basketball   \n",
       "2  2012 Summer 2012 Summer London      Judo         \n",
       "3  1920 Summer 1920 Summer Antwerpen   Football     \n",
       "4  1900 Summer 1900 Summer Paris       Tug-Of-War   \n",
       "5  1988 Winter 1988 Winter Calgary     Speed Skating\n",
       "6  1988 Winter 1988 Winter Calgary     Speed Skating\n",
       "7  1992 Winter 1992 Winter Albertville Speed Skating\n",
       "8  1992 Winter 1992 Winter Albertville Speed Skating\n",
       "9  1994 Winter 1994 Winter Lillehammer Speed Skating\n",
       "10 1994 Winter 1994 Winter Lillehammer Speed Skating\n",
       "   Event                              Medal\n",
       "1  Basketball Men's Basketball        NA   \n",
       "2  Judo Men's Extra-Lightweight       NA   \n",
       "3  Football Men's Football            NA   \n",
       "4  Tug-Of-War Men's Tug-Of-War        Gold \n",
       "5  Speed Skating Women's 500 metres   NA   \n",
       "6  Speed Skating Women's 1,000 metres NA   \n",
       "7  Speed Skating Women's 500 metres   NA   \n",
       "8  Speed Skating Women's 1,000 metres NA   \n",
       "9  Speed Skating Women's 500 metres   NA   \n",
       "10 Speed Skating Women's 1,000 metres NA   "
      ]
     },
     "metadata": {},
     "output_type": "display_data"
    }
   ],
   "source": [
    "head(athletesData, 10)"
   ]
  },
  {
   "cell_type": "markdown",
   "metadata": {},
   "source": [
    "Next, let's count **how many medals** of each kind were given to different people over those ages."
   ]
  },
  {
   "cell_type": "markdown",
   "metadata": {},
   "source": [
    "_`table()` function counts unique items (creates contingency table)_"
   ]
  },
  {
   "cell_type": "code",
   "execution_count": 5,
   "metadata": {},
   "outputs": [
    {
     "data": {
      "text/plain": [
       "\n",
       "Bronze   Gold Silver \n",
       " 13295  13372  13116 "
      ]
     },
     "metadata": {},
     "output_type": "display_data"
    }
   ],
   "source": [
    "table(athletesData['Medal']) "
   ]
  },
  {
   "cell_type": "markdown",
   "metadata": {},
   "source": [
    "One important thing for us to understand is how many participants have got medals in this dataset."
   ]
  },
  {
   "cell_type": "markdown",
   "metadata": {},
   "source": [
    "_here I am using the fact that TRUE is interpreted as 1 and FALSE as 0 to find all nonNA values_"
   ]
  },
  {
   "cell_type": "code",
   "execution_count": 6,
   "metadata": {},
   "outputs": [
    {
     "name": "stdout",
     "output_type": "stream",
     "text": [
      "14.67379 % of participants from this dataset got medals."
     ]
    }
   ],
   "source": [
    "cat(sum(!is.na(athletesData[, 'Medal'])) / length(athletesData[, 'Medal']) * 100, \n",
    "    '% of participants from this dataset got medals.')"
   ]
  },
  {
   "cell_type": "markdown",
   "metadata": {},
   "source": [
    "This makes this dataset quite representive for our exploration."
   ]
  },
  {
   "cell_type": "markdown",
   "metadata": {},
   "source": [
    "### Now let's check whether there is any connection between sex of a spostmen and medals."
   ]
  },
  {
   "cell_type": "markdown",
   "metadata": {},
   "source": [
    "_again, using `table()` fuction we can count unique items, in this case for each combination of medal type and sex_"
   ]
  },
  {
   "cell_type": "code",
   "execution_count": 7,
   "metadata": {},
   "outputs": [],
   "source": [
    "sexMedalTable <- table(athletesData[c('Sex', 'Medal')])"
   ]
  },
  {
   "cell_type": "markdown",
   "metadata": {},
   "source": [
    "Below we can see how many medals of each kind total have got sportsmen of different sexes."
   ]
  },
  {
   "cell_type": "code",
   "execution_count": 8,
   "metadata": {},
   "outputs": [
    {
     "data": {
      "text/plain": [
       "   Medal\n",
       "Sex Bronze Gold Silver\n",
       "  F   3771 3747   3735\n",
       "  M   9524 9625   9381"
      ]
     },
     "metadata": {},
     "output_type": "display_data"
    }
   ],
   "source": [
    "sexMedalTable"
   ]
  },
  {
   "cell_type": "markdown",
   "metadata": {},
   "source": [
    "_below we are just reusing data from previous two cells_"
   ]
  },
  {
   "cell_type": "code",
   "execution_count": 9,
   "metadata": {},
   "outputs": [
    {
     "name": "stdout",
     "output_type": "stream",
     "text": [
      "As can be seen, males got 2.535 times more medals in comparisson to females.\n",
      "\n",
      "To be more specific:\n",
      "For Bronze medals 2.526 times.\n",
      "For Gold medals 2.569 times.\n",
      "For Silver medals 2.512 times.\n"
     ]
    }
   ],
   "source": [
    "cat('As can be seen, males got',\n",
    "          round(sum(sexMedalTable[2,]) / sum(sexMedalTable[1,]), digits=3), \n",
    "          'times more medals in comparisson to females.\\n\\n')\n",
    "cat('To be more specific:\\n')\n",
    "\n",
    "malesVSFemales <- sexMedalTable[2,] / sexMedalTable[1,]\n",
    "\n",
    "for(x in names(malesVSFemales)){\n",
    "    cat('For', x, 'medals',\n",
    "          round(malesVSFemales[x], digits=3), \n",
    "          'times.\\n')\n",
    "}"
   ]
  },
  {
   "cell_type": "markdown",
   "metadata": {},
   "source": [
    "-----------\n",
    "Let's show those numbers explicitly."
   ]
  },
  {
   "cell_type": "markdown",
   "metadata": {},
   "source": [
    "_subsetting two columns from general dataset_"
   ]
  },
  {
   "cell_type": "code",
   "execution_count": 10,
   "metadata": {
    "scrolled": true
   },
   "outputs": [],
   "source": [
    "sexMedalData <- athletesData[c('Sex','Medal')]"
   ]
  },
  {
   "cell_type": "markdown",
   "metadata": {},
   "source": [
    "_that's a function for showing correct words for sexes instead of one letter_"
   ]
  },
  {
   "cell_type": "code",
   "execution_count": 11,
   "metadata": {},
   "outputs": [],
   "source": [
    "printSex <- function(sex) {\n",
    "   if(sex == 'F')\n",
    "       return('Female')\n",
    "    else if(sex == 'M')\n",
    "        return('Male') \n",
    "}"
   ]
  },
  {
   "cell_type": "markdown",
   "metadata": {},
   "source": [
    "_here is second way of counting unique values_"
   ]
  },
  {
   "cell_type": "code",
   "execution_count": 12,
   "metadata": {
    "scrolled": true
   },
   "outputs": [
    {
     "name": "stdout",
     "output_type": "stream",
     "text": [
      "Male participants have got 9625 Gold medals.\n",
      "\n",
      "Male participants have got 9524 Bronze medals.\n",
      "\n",
      "Male participants have got 9381 Silver medals.\n",
      "\n",
      "Female participants have got 3747 Gold medals.\n",
      "\n",
      "Female participants have got 3771 Bronze medals.\n",
      "\n",
      "Female participants have got 3735 Silver medals.\n",
      "\n"
     ]
    }
   ],
   "source": [
    "for (sex in unique(sexMedalData[,'Sex'])){\n",
    "    for (medal in na.omit(unique(sexMedalData[, 'Medal']))){\n",
    "        cat(printSex(sex), 'participants have got', \n",
    "            sum(sexMedalData['Sex'] == sex & \n",
    "                (sexMedalData['Medal'] == medal & \n",
    "                 !is.na(sexMedalData['Medal']))), \n",
    "            medal, \n",
    "            'medals.\\n')\n",
    "        cat('\\n')\n",
    "    }\n",
    "}"
   ]
  },
  {
   "cell_type": "markdown",
   "metadata": {},
   "source": [
    "But what if we check **frequency of participation of females vs males**?"
   ]
  },
  {
   "cell_type": "markdown",
   "metadata": {},
   "source": [
    "_we are using `table()` to calculate times of participations of sportsmen of different sexes_"
   ]
  },
  {
   "cell_type": "code",
   "execution_count": 13,
   "metadata": {},
   "outputs": [
    {
     "data": {
      "text/html": [
       "2.63806661120206"
      ],
      "text/latex": [
       "2.63806661120206"
      ],
      "text/markdown": [
       "2.63806661120206"
      ],
      "text/plain": [
       "[1] 2.638067"
      ]
     },
     "metadata": {},
     "output_type": "display_data"
    }
   ],
   "source": [
    "table(athletesData['Sex'])[[2]] / table(athletesData['Sex'])[[1]]"
   ]
  },
  {
   "cell_type": "markdown",
   "metadata": {},
   "source": [
    "This explains amazing difference in winning rate, as men and women in most of the sports do not compete against each other.   \n",
    "So, we can't say that men win more frequently than women and our recommendation should not be based on sex."
   ]
  },
  {
   "cell_type": "markdown",
   "metadata": {},
   "source": [
    "--------------\n",
    "Let's now check for **weight and height distribution**, separatly for men and women.   \n",
    "   \n",
    "\n",
    "Firstly, let's see general info about weight, e.g. min and max value and median."
   ]
  },
  {
   "cell_type": "markdown",
   "metadata": {},
   "source": [
    "_`summary()` is used for getting such data, as quantiles and min and max_"
   ]
  },
  {
   "cell_type": "code",
   "execution_count": 14,
   "metadata": {},
   "outputs": [
    {
     "data": {
      "text/plain": [
       "   Min. 1st Qu.  Median    Mean 3rd Qu.    Max.    NA's \n",
       "   25.0    60.0    70.0    70.7    79.0   214.0   62875 "
      ]
     },
     "metadata": {},
     "output_type": "display_data"
    }
   ],
   "source": [
    "summary(athletesData[,'Weight'])"
   ]
  },
  {
   "cell_type": "markdown",
   "metadata": {},
   "source": [
    "Now, let's see same info about heights of the sportsmen."
   ]
  },
  {
   "cell_type": "markdown",
   "metadata": {},
   "source": [
    "_`summary()` is used for getting such data, as quantiles and min and max_"
   ]
  },
  {
   "cell_type": "code",
   "execution_count": 15,
   "metadata": {},
   "outputs": [
    {
     "data": {
      "text/plain": [
       "   Min. 1st Qu.  Median    Mean 3rd Qu.    Max.    NA's \n",
       "  127.0   168.0   175.0   175.3   183.0   226.0   60171 "
      ]
     },
     "metadata": {},
     "output_type": "display_data"
    }
   ],
   "source": [
    "summary(athletesData[,'Height'])"
   ]
  },
  {
   "cell_type": "markdown",
   "metadata": {},
   "source": [
    "As can be seen, **most of the sportsmen were between 60 and 79 kg and between 1,68 and 1,83 meters**, so, if Kellogg will be sponsoring some kind of merchandise (e.g. T-shirts), most of them should be for those body measurments."
   ]
  },
  {
   "cell_type": "markdown",
   "metadata": {},
   "source": [
    "_function for creation of Body Mass Index column_"
   ]
  },
  {
   "cell_type": "code",
   "execution_count": 16,
   "metadata": {},
   "outputs": [],
   "source": [
    "createBMI <- function(df){\n",
    "    df['Body Mass Index'] <- df['Weight'] / (df['Height'] / 100) ** 2\n",
    "    return(df)\n",
    "}"
   ]
  },
  {
   "cell_type": "markdown",
   "metadata": {},
   "source": [
    "_here I am subsetting only the data that I'll need for this section_"
   ]
  },
  {
   "cell_type": "code",
   "execution_count": 17,
   "metadata": {},
   "outputs": [],
   "source": [
    "measurmentsData <- na.omit(athletesData[!duplicated(athletesData[,'ID']),][c('Height', 'Weight','Sex')])\n",
    "measurmentsData <- createBMI(measurmentsData)"
   ]
  },
  {
   "cell_type": "markdown",
   "metadata": {},
   "source": [
    "_separating data by sexes_"
   ]
  },
  {
   "cell_type": "code",
   "execution_count": 18,
   "metadata": {},
   "outputs": [],
   "source": [
    "malesData <- measurmentsData[measurmentsData['Sex']=='M',][c('Height', 'Weight', 'Body Mass Index')]\n",
    "femalesData <- measurmentsData[measurmentsData['Sex']=='F',][c('Height', 'Weight', 'Body Mass Index')]"
   ]
  },
  {
   "cell_type": "markdown",
   "metadata": {},
   "source": [
    "Below we can find some useful **statistical data about male participants body metrics**:"
   ]
  },
  {
   "cell_type": "code",
   "execution_count": 19,
   "metadata": {
    "scrolled": false
   },
   "outputs": [
    {
     "data": {
      "text/plain": [
       "     Height          Weight      Body Mass Index \n",
       " Min.   :127.0   Min.   : 28.0   Min.   : 8.361  \n",
       " 1st Qu.:173.0   1st Qu.: 68.0   1st Qu.:21.798  \n",
       " Median :180.0   Median : 75.0   Median :23.307  \n",
       " Mean   :179.5   Mean   : 76.5   Mean   :23.620  \n",
       " 3rd Qu.:185.0   3rd Qu.: 84.0   3rd Qu.:24.931  \n",
       " Max.   :226.0   Max.   :214.0   Max.   :63.902  "
      ]
     },
     "metadata": {},
     "output_type": "display_data"
    }
   ],
   "source": [
    "summary(malesData)"
   ]
  },
  {
   "cell_type": "markdown",
   "metadata": {},
   "source": [
    "And same **for female**:"
   ]
  },
  {
   "cell_type": "code",
   "execution_count": 20,
   "metadata": {},
   "outputs": [
    {
     "data": {
      "text/plain": [
       "     Height        Weight       Body Mass Index\n",
       " Min.   :127   Min.   : 25.00   Min.   :10.50  \n",
       " 1st Qu.:163   1st Qu.: 55.00   1st Qu.:19.81  \n",
       " Median :169   Median : 60.00   Median :21.15  \n",
       " Mean   :169   Mean   : 61.28   Mean   :21.37  \n",
       " 3rd Qu.:174   3rd Qu.: 67.00   3rd Qu.:22.63  \n",
       " Max.   :213   Max.   :167.00   Max.   :51.79  "
      ]
     },
     "metadata": {},
     "output_type": "display_data"
    }
   ],
   "source": [
    "summary(femalesData)"
   ]
  },
  {
   "cell_type": "markdown",
   "metadata": {},
   "source": [
    "<a id='sportsman_plot'></a>\n",
    "\n",
    "### <span style=\"color:red\"> Plots: </span>   \n",
    "\n",
    "_in next cell I have created a function for plotting densities of several vectors on the same chart_   \n",
    "\n",
    "_interesting problem was when max y values of a first dataframe in a list was lower then max y value of bext datasets_\n",
    "_this was leading to cutting top of graph, therefore I am searching for highest y value and plot dataframe with that value firstly_\n",
    "\n",
    "_then I use this function to plot densities (frequencies) of body measurments atht I already have subsetted earlier_"
   ]
  },
  {
   "cell_type": "code",
   "execution_count": 21,
   "metadata": {
    "scrolled": false
   },
   "outputs": [
    {
     "data": {
      "image/png": "[encoded data removed]",
      "text/plain": [
       "Plot with title \"Body Mass Index\""
      ]
     },
     "metadata": {},
     "output_type": "display_data"
    }
   ],
   "source": [
    "#inspired by https://www.statmethods.net/graphs/density.html\n",
    "\n",
    "plotDensities <- function(dfs, column, main=column, custom.legend, \n",
    "                          colors=c('blue', 'green','red'), \n",
    "                          xlabel='', position='topleft'){\n",
    "    maxs <- c()\n",
    "    for(df in dfs){\n",
    "        maxs <- c(maxs, density(df[[column]])$y[which.max(density(df[[column]])$y)])\n",
    "    }\n",
    "    plot(density(dfs[[which.max(maxs)]][[column]]), main=main, col=colors[which.max(maxs)], xlab=xlabel)\n",
    "    for(i in setdiff(1:length(dfs), which.max(maxs))){\n",
    "        lines(density(dfs[[i]][[column]])$x, density(dfs[[i]][[column]])$y, col=colors[i])\n",
    "    }\n",
    "    legend(x=position, legend=custom.legend, text.col=colors)  \n",
    "}\n",
    "\n",
    "par(mfrow=c(3,1))\n",
    "for(i in names(femalesData)){\n",
    "    if(i == 'Height'){\n",
    "        xlabel = 'cm'\n",
    "    } else if(i == 'Weight') {\n",
    "        xlabel = 'kg'\n",
    "    } else {\n",
    "        xlabel = ''\n",
    "    }\n",
    "    plotDensities(list(femalesData, malesData), i, xlabel=xlabel, custom.legend=c('Females', 'Males'))\n",
    "}"
   ]
  },
  {
   "cell_type": "markdown",
   "metadata": {},
   "source": [
    "As it can be seen, most of female sportsmen are slimmer. Which is explained naturally, of course.\n",
    "\n",
    "-------------"
   ]
  },
  {
   "cell_type": "markdown",
   "metadata": {},
   "source": [
    "And now, let's check **which bodytype sportsmen got more medals**."
   ]
  },
  {
   "cell_type": "markdown",
   "metadata": {},
   "source": [
    "_here I do quite similar subsetting as in previous part, only now I also add medals to the data_"
   ]
  },
  {
   "cell_type": "code",
   "execution_count": 22,
   "metadata": {},
   "outputs": [],
   "source": [
    "malesDataWithMedals <- na.omit(athletesData[athletesData['Sex']=='M',][c('Height', 'Weight', \"Medal\")])\n",
    "femalesDataWithMedals <- na.omit(athletesData[measurmentsData['Sex']=='F',][c('Height', 'Weight', \"Medal\")])\n",
    "malesDataWithMedals <- createBMI(malesDataWithMedals)\n",
    "femalesDataWithMedals <- createBMI(femalesDataWithMedals)"
   ]
  },
  {
   "cell_type": "markdown",
   "metadata": {},
   "source": [
    "_in next cell I have used my custom plotting function to plot charts of body measurments for each sex for each medal_\n",
    "_I also have created a small function to subset a sportsmen with some kind of a medal_"
   ]
  },
  {
   "cell_type": "code",
   "execution_count": 23,
   "metadata": {},
   "outputs": [
    {
     "data": {
      "image/png": "[encoded data removed]",
      "text/plain": [
       "Plot with title \"Body Mass Index of female sportsmen\""
      ]
     },
     "metadata": {},
     "output_type": "display_data"
    }
   ],
   "source": [
    "selectMedal <- function(df, medal){\n",
    "    return(df[df['Medal'] == medal,])\n",
    "}\n",
    "\n",
    "par(mfrow=c(2,1))\n",
    "plotDensities(dfs=list(selectMedal(malesDataWithMedals, 'Gold'),\n",
    "                       selectMedal(malesDataWithMedals, 'Silver'), \n",
    "                       selectMedal(malesDataWithMedals, 'Bronze')), \n",
    "             column='Body Mass Index',\n",
    "             custom.legend=c('Gold','Silver','Bronze'),\n",
    "             main='Body Mass Index of male sportsmen',\n",
    "             xlabel='Body Mass Index')\n",
    "\n",
    "plotDensities(dfs=list(selectMedal(femalesDataWithMedals, 'Gold'),\n",
    "                       selectMedal(femalesDataWithMedals, 'Silver'), \n",
    "                       selectMedal(femalesDataWithMedals, 'Bronze')), \n",
    "             column='Body Mass Index',\n",
    "             custom.legend=c('Gold','Silver','Bronze'),\n",
    "             main='Body Mass Index of female sportsmen',\n",
    "             xlabel='Body Mass Index')"
   ]
  },
  {
   "cell_type": "markdown",
   "metadata": {},
   "source": [
    "Looks like there is no noticable difference between body types of gold, silver and bronze medalists of both sexes. But most of the medalists were between 18-27 BMI. Let's keep this in mind.\n",
    "\n",
    "-------------------"
   ]
  },
  {
   "cell_type": "markdown",
   "metadata": {},
   "source": [
    "One more data aspect that will be interesting to know is **age density**. Let's find it out:"
   ]
  },
  {
   "cell_type": "markdown",
   "metadata": {},
   "source": [
    "Let's find out age for most of the sportsmen:"
   ]
  },
  {
   "cell_type": "code",
   "execution_count": 24,
   "metadata": {},
   "outputs": [
    {
     "data": {
      "text/plain": [
       "   Min. 1st Qu.  Median    Mean 3rd Qu.    Max.    NA's \n",
       "  10.00   21.00   24.00   25.56   28.00   97.00    9474 "
      ]
     },
     "metadata": {},
     "output_type": "display_data"
    }
   ],
   "source": [
    "summary(athletesData[,'Age'])"
   ]
  },
  {
   "cell_type": "markdown",
   "metadata": {},
   "source": [
    "While there are some surprising min and max values (we'll look closer at them later), most of the sporstmen are around 25. Let's investigate, if we can base our recommendation on age:"
   ]
  },
  {
   "cell_type": "markdown",
   "metadata": {},
   "source": [
    "_quite same, as in a cells before, reusing custom plotting function._"
   ]
  },
  {
   "cell_type": "code",
   "execution_count": 25,
   "metadata": {
    "scrolled": false
   },
   "outputs": [
    {
     "data": {
      "image/png": "[encoded data removed]",
      "text/plain": [
       "Plot with title \"Age distribution by medals\""
      ]
     },
     "metadata": {},
     "output_type": "display_data"
    }
   ],
   "source": [
    "par(mfrow=c(2,1))\n",
    "ageSex <- na.omit(athletesData[!duplicated(athletesData[,'ID']),][c('Age','Sex')])\n",
    "plotDensities(dfs=list(ageSex[ageSex['Sex']=='M',], \n",
    "                       ageSex[ageSex['Sex']=='F',]), \n",
    "             column='Age',\n",
    "             main='Age distribution',\n",
    "             custom.legend=c('Males', 'Females'), \n",
    "             position='topright',\n",
    "             xlabel='Age')\n",
    "\n",
    "ageSexMedal <- na.omit(athletesData[!duplicated(athletesData[,'ID']),][c('Age','Sex','Medal')])\n",
    "plotDensities(dfs=list(ageSexMedal[ageSexMedal['Medal']=='Gold',], \n",
    "                       ageSexMedal[ageSexMedal['Medal']=='Silver',],\n",
    "                       ageSexMedal[ageSexMedal['Medal']=='Bronze',]), \n",
    "             column='Age',\n",
    "             main='Age distribution by medals',\n",
    "             custom.legend=c('Gold', 'Silver', 'Bronze'), \n",
    "             position='topright',\n",
    "             xlabel='Age')"
   ]
  },
  {
   "cell_type": "markdown",
   "metadata": {},
   "source": [
    "Looks like statistically **best candidate should be around 22 years old**."
   ]
  },
  {
   "cell_type": "markdown",
   "metadata": {},
   "source": [
    "We can see that most of the sportsmen are between 16 and 30, while the biggest part of participants are around 25. Women tend to participate in younger age. Let's check for exact **max and min age values for each of the sexes**.  \n"
   ]
  },
  {
   "cell_type": "markdown",
   "metadata": {},
   "source": [
    "_I have ordered subsetted data with NA omitted, after this I have taken first or last row to show data with min and max values by age column_"
   ]
  },
  {
   "cell_type": "code",
   "execution_count": 26,
   "metadata": {
    "scrolled": false
   },
   "outputs": [
    {
     "name": "stdout",
     "output_type": "stream",
     "text": [
      "Oldest woman to participate was:"
     ]
    },
    {
     "data": {
      "text/html": [
       "<table>\n",
       "<thead><tr><th scope=col>Name</th><th scope=col>Sex</th><th scope=col>Age</th><th scope=col>Height</th><th scope=col>Weight</th><th scope=col>Team</th><th scope=col>NOC</th><th scope=col>Games</th><th scope=col>Year</th><th scope=col>Season</th><th scope=col>City</th><th scope=col>Sport</th><th scope=col>Event</th><th scope=col>Medal</th></tr></thead>\n",
       "<tbody>\n",
       "\t<tr><td>Ernestine Lonie Ernesta Robert-Mrignac</td><td>F                                     </td><td>74                                    </td><td>NA                                    </td><td>NA                                    </td><td>France                                </td><td>FRA                                   </td><td>1924 Summer                           </td><td>1924                                  </td><td>Summer                                </td><td>Paris                                 </td><td>Art Competitions                      </td><td>Art Competitions Mixed Sculpturing    </td><td>NA                                    </td></tr>\n",
       "</tbody>\n",
       "</table>\n"
      ],
      "text/latex": [
       "\\begin{tabular}{r|llllllllllllll}\n",
       " Name & Sex & Age & Height & Weight & Team & NOC & Games & Year & Season & City & Sport & Event & Medal\\\\\n",
       "\\hline\n",
       "\t Ernestine Lonie Ernesta Robert-Mrignac & F                                      & 74                                     & NA                                     & NA                                     & France                                 & FRA                                    & 1924 Summer                            & 1924                                   & Summer                                 & Paris                                  & Art Competitions                       & Art Competitions Mixed Sculpturing     & NA                                    \\\\\n",
       "\\end{tabular}\n"
      ],
      "text/markdown": [
       "\n",
       "| Name | Sex | Age | Height | Weight | Team | NOC | Games | Year | Season | City | Sport | Event | Medal |\n",
       "|---|---|---|---|---|---|---|---|---|---|---|---|---|---|\n",
       "| Ernestine Lonie Ernesta Robert-Mrignac | F                                      | 74                                     | NA                                     | NA                                     | France                                 | FRA                                    | 1924 Summer                            | 1924                                   | Summer                                 | Paris                                  | Art Competitions                       | Art Competitions Mixed Sculpturing     | NA                                     |\n",
       "\n"
      ],
      "text/plain": [
       "  Name                                   Sex Age Height Weight Team   NOC\n",
       "1 Ernestine Lonie Ernesta Robert-Mrignac F   74  NA     NA     France FRA\n",
       "  Games       Year Season City  Sport           \n",
       "1 1924 Summer 1924 Summer Paris Art Competitions\n",
       "  Event                              Medal\n",
       "1 Art Competitions Mixed Sculpturing NA   "
      ]
     },
     "metadata": {},
     "output_type": "display_data"
    },
    {
     "name": "stdout",
     "output_type": "stream",
     "text": [
      "\n",
      "Youngest woman to participate was:"
     ]
    },
    {
     "data": {
      "text/html": [
       "<table>\n",
       "<thead><tr><th scope=col>Name</th><th scope=col>Sex</th><th scope=col>Age</th><th scope=col>Height</th><th scope=col>Weight</th><th scope=col>Team</th><th scope=col>NOC</th><th scope=col>Games</th><th scope=col>Year</th><th scope=col>Season</th><th scope=col>City</th><th scope=col>Sport</th><th scope=col>Event</th><th scope=col>Medal</th></tr></thead>\n",
       "<tbody>\n",
       "\t<tr><td>Magdalena Cecilia Colledge    </td><td>F                             </td><td>11                            </td><td>152                           </td><td>NA                            </td><td>Great Britain                 </td><td>GBR                           </td><td>1932 Winter                   </td><td>1932                          </td><td>Winter                        </td><td>Lake Placid                   </td><td>Figure Skating                </td><td>Figure Skating Women's Singles</td><td>NA                            </td></tr>\n",
       "</tbody>\n",
       "</table>\n"
      ],
      "text/latex": [
       "\\begin{tabular}{r|llllllllllllll}\n",
       " Name & Sex & Age & Height & Weight & Team & NOC & Games & Year & Season & City & Sport & Event & Medal\\\\\n",
       "\\hline\n",
       "\t Magdalena Cecilia Colledge     & F                              & 11                             & 152                            & NA                             & Great Britain                  & GBR                            & 1932 Winter                    & 1932                           & Winter                         & Lake Placid                    & Figure Skating                 & Figure Skating Women's Singles & NA                            \\\\\n",
       "\\end{tabular}\n"
      ],
      "text/markdown": [
       "\n",
       "| Name | Sex | Age | Height | Weight | Team | NOC | Games | Year | Season | City | Sport | Event | Medal |\n",
       "|---|---|---|---|---|---|---|---|---|---|---|---|---|---|\n",
       "| Magdalena Cecilia Colledge     | F                              | 11                             | 152                            | NA                             | Great Britain                  | GBR                            | 1932 Winter                    | 1932                           | Winter                         | Lake Placid                    | Figure Skating                 | Figure Skating Women's Singles | NA                             |\n",
       "\n"
      ],
      "text/plain": [
       "  Name                       Sex Age Height Weight Team          NOC\n",
       "1 Magdalena Cecilia Colledge F   11  152    NA     Great Britain GBR\n",
       "  Games       Year Season City        Sport         \n",
       "1 1932 Winter 1932 Winter Lake Placid Figure Skating\n",
       "  Event                          Medal\n",
       "1 Figure Skating Women's Singles NA   "
      ]
     },
     "metadata": {},
     "output_type": "display_data"
    },
    {
     "name": "stdout",
     "output_type": "stream",
     "text": [
      "\n",
      "Oldest man to participate was:"
     ]
    },
    {
     "data": {
      "text/html": [
       "<table>\n",
       "<thead><tr><th scope=col>Name</th><th scope=col>Sex</th><th scope=col>Age</th><th scope=col>Height</th><th scope=col>Weight</th><th scope=col>Team</th><th scope=col>NOC</th><th scope=col>Games</th><th scope=col>Year</th><th scope=col>Season</th><th scope=col>City</th><th scope=col>Sport</th><th scope=col>Event</th><th scope=col>Medal</th></tr></thead>\n",
       "<tbody>\n",
       "\t<tr><td>John Quincy Adams Ward                     </td><td>M                                          </td><td>97                                         </td><td>NA                                         </td><td>NA                                         </td><td>United States                              </td><td>USA                                        </td><td>1928 Summer                                </td><td>1928                                       </td><td>Summer                                     </td><td>Amsterdam                                  </td><td>Art Competitions                           </td><td>Art Competitions Mixed Sculpturing, Statues</td><td>NA                                         </td></tr>\n",
       "</tbody>\n",
       "</table>\n"
      ],
      "text/latex": [
       "\\begin{tabular}{r|llllllllllllll}\n",
       " Name & Sex & Age & Height & Weight & Team & NOC & Games & Year & Season & City & Sport & Event & Medal\\\\\n",
       "\\hline\n",
       "\t John Quincy Adams Ward                      & M                                           & 97                                          & NA                                          & NA                                          & United States                               & USA                                         & 1928 Summer                                 & 1928                                        & Summer                                      & Amsterdam                                   & Art Competitions                            & Art Competitions Mixed Sculpturing, Statues & NA                                         \\\\\n",
       "\\end{tabular}\n"
      ],
      "text/markdown": [
       "\n",
       "| Name | Sex | Age | Height | Weight | Team | NOC | Games | Year | Season | City | Sport | Event | Medal |\n",
       "|---|---|---|---|---|---|---|---|---|---|---|---|---|---|\n",
       "| John Quincy Adams Ward                      | M                                           | 97                                          | NA                                          | NA                                          | United States                               | USA                                         | 1928 Summer                                 | 1928                                        | Summer                                      | Amsterdam                                   | Art Competitions                            | Art Competitions Mixed Sculpturing, Statues | NA                                          |\n",
       "\n"
      ],
      "text/plain": [
       "  Name                   Sex Age Height Weight Team          NOC Games      \n",
       "1 John Quincy Adams Ward M   97  NA     NA     United States USA 1928 Summer\n",
       "  Year Season City      Sport           \n",
       "1 1928 Summer Amsterdam Art Competitions\n",
       "  Event                                       Medal\n",
       "1 Art Competitions Mixed Sculpturing, Statues NA   "
      ]
     },
     "metadata": {},
     "output_type": "display_data"
    },
    {
     "name": "stdout",
     "output_type": "stream",
     "text": [
      "\n",
      "Youngest man to participate was:"
     ]
    },
    {
     "data": {
      "text/html": [
       "<table>\n",
       "<thead><tr><th scope=col>Name</th><th scope=col>Sex</th><th scope=col>Age</th><th scope=col>Height</th><th scope=col>Weight</th><th scope=col>Team</th><th scope=col>NOC</th><th scope=col>Games</th><th scope=col>Year</th><th scope=col>Season</th><th scope=col>City</th><th scope=col>Sport</th><th scope=col>Event</th><th scope=col>Medal</th></tr></thead>\n",
       "<tbody>\n",
       "\t<tr><td>Dimitrios Loundras                   </td><td>M                                    </td><td>10                                   </td><td>NA                                   </td><td>NA                                   </td><td>Ethnikos Gymnastikos Syllogos        </td><td>GRE                                  </td><td>1896 Summer                          </td><td>1896                                 </td><td>Summer                               </td><td>Athina                               </td><td>Gymnastics                           </td><td>Gymnastics Men's Parallel Bars, Teams</td><td>Bronze                               </td></tr>\n",
       "</tbody>\n",
       "</table>\n"
      ],
      "text/latex": [
       "\\begin{tabular}{r|llllllllllllll}\n",
       " Name & Sex & Age & Height & Weight & Team & NOC & Games & Year & Season & City & Sport & Event & Medal\\\\\n",
       "\\hline\n",
       "\t Dimitrios Loundras                    & M                                     & 10                                    & NA                                    & NA                                    & Ethnikos Gymnastikos Syllogos         & GRE                                   & 1896 Summer                           & 1896                                  & Summer                                & Athina                                & Gymnastics                            & Gymnastics Men's Parallel Bars, Teams & Bronze                               \\\\\n",
       "\\end{tabular}\n"
      ],
      "text/markdown": [
       "\n",
       "| Name | Sex | Age | Height | Weight | Team | NOC | Games | Year | Season | City | Sport | Event | Medal |\n",
       "|---|---|---|---|---|---|---|---|---|---|---|---|---|---|\n",
       "| Dimitrios Loundras                    | M                                     | 10                                    | NA                                    | NA                                    | Ethnikos Gymnastikos Syllogos         | GRE                                   | 1896 Summer                           | 1896                                  | Summer                                | Athina                                | Gymnastics                            | Gymnastics Men's Parallel Bars, Teams | Bronze                                |\n",
       "\n"
      ],
      "text/plain": [
       "  Name               Sex Age Height Weight Team                          NOC\n",
       "1 Dimitrios Loundras M   10  NA     NA     Ethnikos Gymnastikos Syllogos GRE\n",
       "  Games       Year Season City   Sport     \n",
       "1 1896 Summer 1896 Summer Athina Gymnastics\n",
       "  Event                                 Medal \n",
       "1 Gymnastics Men's Parallel Bars, Teams Bronze"
      ]
     },
     "metadata": {},
     "output_type": "display_data"
    }
   ],
   "source": [
    "oldestWomen <- athletesData[athletesData['Sex']=='F',][order(athletesData[athletesData['Sex']=='F',][['Age']], na.last=NA),]\n",
    "row.names(oldestWomen) <- NULL\n",
    "\n",
    "oldestMen <- athletesData[athletesData['Sex']=='M',][order(athletesData[athletesData['Sex']=='M',][['Age']], na.last=NA),]\n",
    "row.names(oldestMen) <- NULL\n",
    "\n",
    "# I used next two rows to get rid of row names, which tail() added automatically. \n",
    "# For some reason addrownums=FALSE was not working\n",
    "oldestWomen1 <- tail(oldestWomen[,-1], 1)\n",
    "row.names(oldestWomen1) <- NULL\n",
    "\n",
    "oldestMen1 <- tail(oldestMen[,-1], 1)\n",
    "row.names(oldestMen1) <- NULL\n",
    "\n",
    "cat('Oldest woman to participate was:')\n",
    "oldestWomen1\n",
    "cat('\\n')\n",
    "\n",
    "cat('Youngest woman to participate was:')\n",
    "head(oldestWomen[,-1], 1)\n",
    "cat('\\n')\n",
    "\n",
    "cat('Oldest man to participate was:')\n",
    "oldestMen1\n",
    "cat('\\n')\n",
    "\n",
    "cat('Youngest man to participate was:')\n",
    "head(oldestMen[,-1], 1)"
   ]
  },
  {
   "cell_type": "markdown",
   "metadata": {},
   "source": [
    "<a id='sportsman_recommendations'></a>\n",
    "\n",
    "## <span style=\"color:red\"> Recommendations: </span>\n",
    "\n",
    "Let's find **sportsman** (or sportsmen) with **highest sum of medals**. Let's assign weight to each of the medal:\n",
    "\n",
    "| Gold | Silver | Bronze |\n",
    "|------|:------:|--------|\n",
    "|  10  |    5   |   2    |"
   ]
  },
  {
   "cell_type": "markdown",
   "metadata": {},
   "source": [
    "_I have introduced weights to each of the medal and summed all of the sportsmen by those weights_   \n",
    "_score, which I got, I used for finding \"best\" sportsmen_   \n",
    "_worth noticing that those weight are merely emperical and should be changed depending on the context_"
   ]
  },
  {
   "cell_type": "code",
   "execution_count": 27,
   "metadata": {
    "scrolled": true
   },
   "outputs": [
    {
     "data": {
      "text/html": [
       "<table>\n",
       "<thead><tr><th scope=col>Name</th><th scope=col>Sex</th><th scope=col>Age</th><th scope=col>Height</th><th scope=col>Weight</th><th scope=col>Team</th><th scope=col>NOC</th><th scope=col>Games</th><th scope=col>Year</th><th scope=col>Season</th><th scope=col>City</th><th scope=col>Sport</th><th scope=col>Event</th><th scope=col>Medal</th><th scope=col>Body Mass Index</th></tr></thead>\n",
       "<tbody>\n",
       "\t<tr><td>Michael Fred Phelps, II                      </td><td>M                                            </td><td>15                                           </td><td>193                                          </td><td>91                                           </td><td>United States                                </td><td>USA                                          </td><td>2000 Summer                                  </td><td>2000                                         </td><td>Summer                                       </td><td>Sydney                                       </td><td>Swimming                                     </td><td>Swimming Men's 200 metres Butterfly          </td><td>NA                                           </td><td>24.43019                                     </td></tr>\n",
       "\t<tr><td>Michael Fred Phelps, II                      </td><td>M                                            </td><td>19                                           </td><td>193                                          </td><td>91                                           </td><td>United States                                </td><td>USA                                          </td><td>2004 Summer                                  </td><td>2004                                         </td><td>Summer                                       </td><td>Athina                                       </td><td>Swimming                                     </td><td>Swimming Men's 200 metres Freestyle          </td><td>Bronze                                       </td><td>24.43019                                     </td></tr>\n",
       "\t<tr><td>Michael Fred Phelps, II                      </td><td>M                                            </td><td>19                                           </td><td>193                                          </td><td>91                                           </td><td>United States                                </td><td>USA                                          </td><td>2004 Summer                                  </td><td>2004                                         </td><td>Summer                                       </td><td>Athina                                       </td><td>Swimming                                     </td><td>Swimming Men's 4 x 100 metres Freestyle Relay</td><td>Bronze                                       </td><td>24.43019                                     </td></tr>\n",
       "\t<tr><td>Michael Fred Phelps, II                      </td><td>M                                            </td><td>19                                           </td><td>193                                          </td><td>91                                           </td><td>United States                                </td><td>USA                                          </td><td>2004 Summer                                  </td><td>2004                                         </td><td>Summer                                       </td><td>Athina                                       </td><td>Swimming                                     </td><td>Swimming Men's 4 x 200 metres Freestyle Relay</td><td>Gold                                         </td><td>24.43019                                     </td></tr>\n",
       "\t<tr><td>Michael Fred Phelps, II                      </td><td>M                                            </td><td>19                                           </td><td>193                                          </td><td>91                                           </td><td>United States                                </td><td>USA                                          </td><td>2004 Summer                                  </td><td>2004                                         </td><td>Summer                                       </td><td>Athina                                       </td><td>Swimming                                     </td><td>Swimming Men's 100 metres Butterfly          </td><td>Gold                                         </td><td>24.43019                                     </td></tr>\n",
       "\t<tr><td>Michael Fred Phelps, II                      </td><td>M                                            </td><td>19                                           </td><td>193                                          </td><td>91                                           </td><td>United States                                </td><td>USA                                          </td><td>2004 Summer                                  </td><td>2004                                         </td><td>Summer                                       </td><td>Athina                                       </td><td>Swimming                                     </td><td>Swimming Men's 200 metres Butterfly          </td><td>Gold                                         </td><td>24.43019                                     </td></tr>\n",
       "\t<tr><td>Michael Fred Phelps, II                      </td><td>M                                            </td><td>19                                           </td><td>193                                          </td><td>91                                           </td><td>United States                                </td><td>USA                                          </td><td>2004 Summer                                  </td><td>2004                                         </td><td>Summer                                       </td><td>Athina                                       </td><td>Swimming                                     </td><td>Swimming Men's 200 metres Individual Medley  </td><td>Gold                                         </td><td>24.43019                                     </td></tr>\n",
       "\t<tr><td>Michael Fred Phelps, II                      </td><td>M                                            </td><td>19                                           </td><td>193                                          </td><td>91                                           </td><td>United States                                </td><td>USA                                          </td><td>2004 Summer                                  </td><td>2004                                         </td><td>Summer                                       </td><td>Athina                                       </td><td>Swimming                                     </td><td>Swimming Men's 400 metres Individual Medley  </td><td>Gold                                         </td><td>24.43019                                     </td></tr>\n",
       "\t<tr><td>Michael Fred Phelps, II                      </td><td>M                                            </td><td>19                                           </td><td>193                                          </td><td>91                                           </td><td>United States                                </td><td>USA                                          </td><td>2004 Summer                                  </td><td>2004                                         </td><td>Summer                                       </td><td>Athina                                       </td><td>Swimming                                     </td><td>Swimming Men's 4 x 100 metres Medley Relay   </td><td>Gold                                         </td><td>24.43019                                     </td></tr>\n",
       "\t<tr><td>Michael Fred Phelps, II                      </td><td>M                                            </td><td>23                                           </td><td>193                                          </td><td>91                                           </td><td>United States                                </td><td>USA                                          </td><td>2008 Summer                                  </td><td>2008                                         </td><td>Summer                                       </td><td>Beijing                                      </td><td>Swimming                                     </td><td>Swimming Men's 200 metres Freestyle          </td><td>Gold                                         </td><td>24.43019                                     </td></tr>\n",
       "\t<tr><td>Michael Fred Phelps, II                      </td><td>M                                            </td><td>23                                           </td><td>193                                          </td><td>91                                           </td><td>United States                                </td><td>USA                                          </td><td>2008 Summer                                  </td><td>2008                                         </td><td>Summer                                       </td><td>Beijing                                      </td><td>Swimming                                     </td><td>Swimming Men's 4 x 100 metres Freestyle Relay</td><td>Gold                                         </td><td>24.43019                                     </td></tr>\n",
       "\t<tr><td>Michael Fred Phelps, II                      </td><td>M                                            </td><td>23                                           </td><td>193                                          </td><td>91                                           </td><td>United States                                </td><td>USA                                          </td><td>2008 Summer                                  </td><td>2008                                         </td><td>Summer                                       </td><td>Beijing                                      </td><td>Swimming                                     </td><td>Swimming Men's 4 x 200 metres Freestyle Relay</td><td>Gold                                         </td><td>24.43019                                     </td></tr>\n",
       "\t<tr><td>Michael Fred Phelps, II                      </td><td>M                                            </td><td>23                                           </td><td>193                                          </td><td>91                                           </td><td>United States                                </td><td>USA                                          </td><td>2008 Summer                                  </td><td>2008                                         </td><td>Summer                                       </td><td>Beijing                                      </td><td>Swimming                                     </td><td>Swimming Men's 100 metres Butterfly          </td><td>Gold                                         </td><td>24.43019                                     </td></tr>\n",
       "\t<tr><td>Michael Fred Phelps, II                      </td><td>M                                            </td><td>23                                           </td><td>193                                          </td><td>91                                           </td><td>United States                                </td><td>USA                                          </td><td>2008 Summer                                  </td><td>2008                                         </td><td>Summer                                       </td><td>Beijing                                      </td><td>Swimming                                     </td><td>Swimming Men's 200 metres Butterfly          </td><td>Gold                                         </td><td>24.43019                                     </td></tr>\n",
       "\t<tr><td>Michael Fred Phelps, II                      </td><td>M                                            </td><td>23                                           </td><td>193                                          </td><td>91                                           </td><td>United States                                </td><td>USA                                          </td><td>2008 Summer                                  </td><td>2008                                         </td><td>Summer                                       </td><td>Beijing                                      </td><td>Swimming                                     </td><td>Swimming Men's 200 metres Individual Medley  </td><td>Gold                                         </td><td>24.43019                                     </td></tr>\n",
       "\t<tr><td>Michael Fred Phelps, II                      </td><td>M                                            </td><td>23                                           </td><td>193                                          </td><td>91                                           </td><td>United States                                </td><td>USA                                          </td><td>2008 Summer                                  </td><td>2008                                         </td><td>Summer                                       </td><td>Beijing                                      </td><td>Swimming                                     </td><td>Swimming Men's 400 metres Individual Medley  </td><td>Gold                                         </td><td>24.43019                                     </td></tr>\n",
       "\t<tr><td>Michael Fred Phelps, II                      </td><td>M                                            </td><td>23                                           </td><td>193                                          </td><td>91                                           </td><td>United States                                </td><td>USA                                          </td><td>2008 Summer                                  </td><td>2008                                         </td><td>Summer                                       </td><td>Beijing                                      </td><td>Swimming                                     </td><td>Swimming Men's 4 x 100 metres Medley Relay   </td><td>Gold                                         </td><td>24.43019                                     </td></tr>\n",
       "\t<tr><td>Michael Fred Phelps, II                      </td><td>M                                            </td><td>27                                           </td><td>193                                          </td><td>91                                           </td><td>United States                                </td><td>USA                                          </td><td>2012 Summer                                  </td><td>2012                                         </td><td>Summer                                       </td><td>London                                       </td><td>Swimming                                     </td><td>Swimming Men's 4 x 100 metres Freestyle Relay</td><td>Silver                                       </td><td>24.43019                                     </td></tr>\n",
       "\t<tr><td>Michael Fred Phelps, II                      </td><td>M                                            </td><td>27                                           </td><td>193                                          </td><td>91                                           </td><td>United States                                </td><td>USA                                          </td><td>2012 Summer                                  </td><td>2012                                         </td><td>Summer                                       </td><td>London                                       </td><td>Swimming                                     </td><td>Swimming Men's 4 x 200 metres Freestyle Relay</td><td>Gold                                         </td><td>24.43019                                     </td></tr>\n",
       "\t<tr><td>Michael Fred Phelps, II                      </td><td>M                                            </td><td>27                                           </td><td>193                                          </td><td>91                                           </td><td>United States                                </td><td>USA                                          </td><td>2012 Summer                                  </td><td>2012                                         </td><td>Summer                                       </td><td>London                                       </td><td>Swimming                                     </td><td>Swimming Men's 100 metres Butterfly          </td><td>Gold                                         </td><td>24.43019                                     </td></tr>\n",
       "\t<tr><td>Michael Fred Phelps, II                      </td><td>M                                            </td><td>27                                           </td><td>193                                          </td><td>91                                           </td><td>United States                                </td><td>USA                                          </td><td>2012 Summer                                  </td><td>2012                                         </td><td>Summer                                       </td><td>London                                       </td><td>Swimming                                     </td><td>Swimming Men's 200 metres Butterfly          </td><td>Silver                                       </td><td>24.43019                                     </td></tr>\n",
       "\t<tr><td>Michael Fred Phelps, II                      </td><td>M                                            </td><td>27                                           </td><td>193                                          </td><td>91                                           </td><td>United States                                </td><td>USA                                          </td><td>2012 Summer                                  </td><td>2012                                         </td><td>Summer                                       </td><td>London                                       </td><td>Swimming                                     </td><td>Swimming Men's 200 metres Individual Medley  </td><td>Gold                                         </td><td>24.43019                                     </td></tr>\n",
       "\t<tr><td>Michael Fred Phelps, II                      </td><td>M                                            </td><td>27                                           </td><td>193                                          </td><td>91                                           </td><td>United States                                </td><td>USA                                          </td><td>2012 Summer                                  </td><td>2012                                         </td><td>Summer                                       </td><td>London                                       </td><td>Swimming                                     </td><td>Swimming Men's 400 metres Individual Medley  </td><td>NA                                           </td><td>24.43019                                     </td></tr>\n",
       "\t<tr><td>Michael Fred Phelps, II                      </td><td>M                                            </td><td>27                                           </td><td>193                                          </td><td>91                                           </td><td>United States                                </td><td>USA                                          </td><td>2012 Summer                                  </td><td>2012                                         </td><td>Summer                                       </td><td>London                                       </td><td>Swimming                                     </td><td>Swimming Men's 4 x 100 metres Medley Relay   </td><td>Gold                                         </td><td>24.43019                                     </td></tr>\n",
       "\t<tr><td>Michael Fred Phelps, II                      </td><td>M                                            </td><td>31                                           </td><td>193                                          </td><td>91                                           </td><td>United States                                </td><td>USA                                          </td><td>2016 Summer                                  </td><td>2016                                         </td><td>Summer                                       </td><td>Rio de Janeiro                               </td><td>Swimming                                     </td><td>Swimming Men's 4 x 100 metres Freestyle Relay</td><td>Gold                                         </td><td>24.43019                                     </td></tr>\n",
       "\t<tr><td>Michael Fred Phelps, II                      </td><td>M                                            </td><td>31                                           </td><td>193                                          </td><td>91                                           </td><td>United States                                </td><td>USA                                          </td><td>2016 Summer                                  </td><td>2016                                         </td><td>Summer                                       </td><td>Rio de Janeiro                               </td><td>Swimming                                     </td><td>Swimming Men's 4 x 200 metres Freestyle Relay</td><td>Gold                                         </td><td>24.43019                                     </td></tr>\n",
       "\t<tr><td>Michael Fred Phelps, II                      </td><td>M                                            </td><td>31                                           </td><td>193                                          </td><td>91                                           </td><td>United States                                </td><td>USA                                          </td><td>2016 Summer                                  </td><td>2016                                         </td><td>Summer                                       </td><td>Rio de Janeiro                               </td><td>Swimming                                     </td><td>Swimming Men's 100 metres Butterfly          </td><td>Silver                                       </td><td>24.43019                                     </td></tr>\n",
       "\t<tr><td>Michael Fred Phelps, II                      </td><td>M                                            </td><td>31                                           </td><td>193                                          </td><td>91                                           </td><td>United States                                </td><td>USA                                          </td><td>2016 Summer                                  </td><td>2016                                         </td><td>Summer                                       </td><td>Rio de Janeiro                               </td><td>Swimming                                     </td><td>Swimming Men's 200 metres Butterfly          </td><td>Gold                                         </td><td>24.43019                                     </td></tr>\n",
       "\t<tr><td>Michael Fred Phelps, II                      </td><td>M                                            </td><td>31                                           </td><td>193                                          </td><td>91                                           </td><td>United States                                </td><td>USA                                          </td><td>2016 Summer                                  </td><td>2016                                         </td><td>Summer                                       </td><td>Rio de Janeiro                               </td><td>Swimming                                     </td><td>Swimming Men's 200 metres Individual Medley  </td><td>Gold                                         </td><td>24.43019                                     </td></tr>\n",
       "\t<tr><td>Michael Fred Phelps, II                      </td><td>M                                            </td><td>31                                           </td><td>193                                          </td><td>91                                           </td><td>United States                                </td><td>USA                                          </td><td>2016 Summer                                  </td><td>2016                                         </td><td>Summer                                       </td><td>Rio de Janeiro                               </td><td>Swimming                                     </td><td>Swimming Men's 4 x 100 metres Medley Relay   </td><td>Gold                                         </td><td>24.43019                                     </td></tr>\n",
       "</tbody>\n",
       "</table>\n"
      ],
      "text/latex": [
       "\\begin{tabular}{r|lllllllllllllll}\n",
       " Name & Sex & Age & Height & Weight & Team & NOC & Games & Year & Season & City & Sport & Event & Medal & Body Mass Index\\\\\n",
       "\\hline\n",
       "\t Michael Fred Phelps, II                       & M                                             & 15                                            & 193                                           & 91                                            & United States                                 & USA                                           & 2000 Summer                                   & 2000                                          & Summer                                        & Sydney                                        & Swimming                                      & Swimming Men's 200 metres Butterfly           & NA                                            & 24.43019                                     \\\\\n",
       "\t Michael Fred Phelps, II                       & M                                             & 19                                            & 193                                           & 91                                            & United States                                 & USA                                           & 2004 Summer                                   & 2004                                          & Summer                                        & Athina                                        & Swimming                                      & Swimming Men's 200 metres Freestyle           & Bronze                                        & 24.43019                                     \\\\\n",
       "\t Michael Fred Phelps, II                       & M                                             & 19                                            & 193                                           & 91                                            & United States                                 & USA                                           & 2004 Summer                                   & 2004                                          & Summer                                        & Athina                                        & Swimming                                      & Swimming Men's 4 x 100 metres Freestyle Relay & Bronze                                        & 24.43019                                     \\\\\n",
       "\t Michael Fred Phelps, II                       & M                                             & 19                                            & 193                                           & 91                                            & United States                                 & USA                                           & 2004 Summer                                   & 2004                                          & Summer                                        & Athina                                        & Swimming                                      & Swimming Men's 4 x 200 metres Freestyle Relay & Gold                                          & 24.43019                                     \\\\\n",
       "\t Michael Fred Phelps, II                       & M                                             & 19                                            & 193                                           & 91                                            & United States                                 & USA                                           & 2004 Summer                                   & 2004                                          & Summer                                        & Athina                                        & Swimming                                      & Swimming Men's 100 metres Butterfly           & Gold                                          & 24.43019                                     \\\\\n",
       "\t Michael Fred Phelps, II                       & M                                             & 19                                            & 193                                           & 91                                            & United States                                 & USA                                           & 2004 Summer                                   & 2004                                          & Summer                                        & Athina                                        & Swimming                                      & Swimming Men's 200 metres Butterfly           & Gold                                          & 24.43019                                     \\\\\n",
       "\t Michael Fred Phelps, II                       & M                                             & 19                                            & 193                                           & 91                                            & United States                                 & USA                                           & 2004 Summer                                   & 2004                                          & Summer                                        & Athina                                        & Swimming                                      & Swimming Men's 200 metres Individual Medley   & Gold                                          & 24.43019                                     \\\\\n",
       "\t Michael Fred Phelps, II                       & M                                             & 19                                            & 193                                           & 91                                            & United States                                 & USA                                           & 2004 Summer                                   & 2004                                          & Summer                                        & Athina                                        & Swimming                                      & Swimming Men's 400 metres Individual Medley   & Gold                                          & 24.43019                                     \\\\\n",
       "\t Michael Fred Phelps, II                       & M                                             & 19                                            & 193                                           & 91                                            & United States                                 & USA                                           & 2004 Summer                                   & 2004                                          & Summer                                        & Athina                                        & Swimming                                      & Swimming Men's 4 x 100 metres Medley Relay    & Gold                                          & 24.43019                                     \\\\\n",
       "\t Michael Fred Phelps, II                       & M                                             & 23                                            & 193                                           & 91                                            & United States                                 & USA                                           & 2008 Summer                                   & 2008                                          & Summer                                        & Beijing                                       & Swimming                                      & Swimming Men's 200 metres Freestyle           & Gold                                          & 24.43019                                     \\\\\n",
       "\t Michael Fred Phelps, II                       & M                                             & 23                                            & 193                                           & 91                                            & United States                                 & USA                                           & 2008 Summer                                   & 2008                                          & Summer                                        & Beijing                                       & Swimming                                      & Swimming Men's 4 x 100 metres Freestyle Relay & Gold                                          & 24.43019                                     \\\\\n",
       "\t Michael Fred Phelps, II                       & M                                             & 23                                            & 193                                           & 91                                            & United States                                 & USA                                           & 2008 Summer                                   & 2008                                          & Summer                                        & Beijing                                       & Swimming                                      & Swimming Men's 4 x 200 metres Freestyle Relay & Gold                                          & 24.43019                                     \\\\\n",
       "\t Michael Fred Phelps, II                       & M                                             & 23                                            & 193                                           & 91                                            & United States                                 & USA                                           & 2008 Summer                                   & 2008                                          & Summer                                        & Beijing                                       & Swimming                                      & Swimming Men's 100 metres Butterfly           & Gold                                          & 24.43019                                     \\\\\n",
       "\t Michael Fred Phelps, II                       & M                                             & 23                                            & 193                                           & 91                                            & United States                                 & USA                                           & 2008 Summer                                   & 2008                                          & Summer                                        & Beijing                                       & Swimming                                      & Swimming Men's 200 metres Butterfly           & Gold                                          & 24.43019                                     \\\\\n",
       "\t Michael Fred Phelps, II                       & M                                             & 23                                            & 193                                           & 91                                            & United States                                 & USA                                           & 2008 Summer                                   & 2008                                          & Summer                                        & Beijing                                       & Swimming                                      & Swimming Men's 200 metres Individual Medley   & Gold                                          & 24.43019                                     \\\\\n",
       "\t Michael Fred Phelps, II                       & M                                             & 23                                            & 193                                           & 91                                            & United States                                 & USA                                           & 2008 Summer                                   & 2008                                          & Summer                                        & Beijing                                       & Swimming                                      & Swimming Men's 400 metres Individual Medley   & Gold                                          & 24.43019                                     \\\\\n",
       "\t Michael Fred Phelps, II                       & M                                             & 23                                            & 193                                           & 91                                            & United States                                 & USA                                           & 2008 Summer                                   & 2008                                          & Summer                                        & Beijing                                       & Swimming                                      & Swimming Men's 4 x 100 metres Medley Relay    & Gold                                          & 24.43019                                     \\\\\n",
       "\t Michael Fred Phelps, II                       & M                                             & 27                                            & 193                                           & 91                                            & United States                                 & USA                                           & 2012 Summer                                   & 2012                                          & Summer                                        & London                                        & Swimming                                      & Swimming Men's 4 x 100 metres Freestyle Relay & Silver                                        & 24.43019                                     \\\\\n",
       "\t Michael Fred Phelps, II                       & M                                             & 27                                            & 193                                           & 91                                            & United States                                 & USA                                           & 2012 Summer                                   & 2012                                          & Summer                                        & London                                        & Swimming                                      & Swimming Men's 4 x 200 metres Freestyle Relay & Gold                                          & 24.43019                                     \\\\\n",
       "\t Michael Fred Phelps, II                       & M                                             & 27                                            & 193                                           & 91                                            & United States                                 & USA                                           & 2012 Summer                                   & 2012                                          & Summer                                        & London                                        & Swimming                                      & Swimming Men's 100 metres Butterfly           & Gold                                          & 24.43019                                     \\\\\n",
       "\t Michael Fred Phelps, II                       & M                                             & 27                                            & 193                                           & 91                                            & United States                                 & USA                                           & 2012 Summer                                   & 2012                                          & Summer                                        & London                                        & Swimming                                      & Swimming Men's 200 metres Butterfly           & Silver                                        & 24.43019                                     \\\\\n",
       "\t Michael Fred Phelps, II                       & M                                             & 27                                            & 193                                           & 91                                            & United States                                 & USA                                           & 2012 Summer                                   & 2012                                          & Summer                                        & London                                        & Swimming                                      & Swimming Men's 200 metres Individual Medley   & Gold                                          & 24.43019                                     \\\\\n",
       "\t Michael Fred Phelps, II                       & M                                             & 27                                            & 193                                           & 91                                            & United States                                 & USA                                           & 2012 Summer                                   & 2012                                          & Summer                                        & London                                        & Swimming                                      & Swimming Men's 400 metres Individual Medley   & NA                                            & 24.43019                                     \\\\\n",
       "\t Michael Fred Phelps, II                       & M                                             & 27                                            & 193                                           & 91                                            & United States                                 & USA                                           & 2012 Summer                                   & 2012                                          & Summer                                        & London                                        & Swimming                                      & Swimming Men's 4 x 100 metres Medley Relay    & Gold                                          & 24.43019                                     \\\\\n",
       "\t Michael Fred Phelps, II                       & M                                             & 31                                            & 193                                           & 91                                            & United States                                 & USA                                           & 2016 Summer                                   & 2016                                          & Summer                                        & Rio de Janeiro                                & Swimming                                      & Swimming Men's 4 x 100 metres Freestyle Relay & Gold                                          & 24.43019                                     \\\\\n",
       "\t Michael Fred Phelps, II                       & M                                             & 31                                            & 193                                           & 91                                            & United States                                 & USA                                           & 2016 Summer                                   & 2016                                          & Summer                                        & Rio de Janeiro                                & Swimming                                      & Swimming Men's 4 x 200 metres Freestyle Relay & Gold                                          & 24.43019                                     \\\\\n",
       "\t Michael Fred Phelps, II                       & M                                             & 31                                            & 193                                           & 91                                            & United States                                 & USA                                           & 2016 Summer                                   & 2016                                          & Summer                                        & Rio de Janeiro                                & Swimming                                      & Swimming Men's 100 metres Butterfly           & Silver                                        & 24.43019                                     \\\\\n",
       "\t Michael Fred Phelps, II                       & M                                             & 31                                            & 193                                           & 91                                            & United States                                 & USA                                           & 2016 Summer                                   & 2016                                          & Summer                                        & Rio de Janeiro                                & Swimming                                      & Swimming Men's 200 metres Butterfly           & Gold                                          & 24.43019                                     \\\\\n",
       "\t Michael Fred Phelps, II                       & M                                             & 31                                            & 193                                           & 91                                            & United States                                 & USA                                           & 2016 Summer                                   & 2016                                          & Summer                                        & Rio de Janeiro                                & Swimming                                      & Swimming Men's 200 metres Individual Medley   & Gold                                          & 24.43019                                     \\\\\n",
       "\t Michael Fred Phelps, II                       & M                                             & 31                                            & 193                                           & 91                                            & United States                                 & USA                                           & 2016 Summer                                   & 2016                                          & Summer                                        & Rio de Janeiro                                & Swimming                                      & Swimming Men's 4 x 100 metres Medley Relay    & Gold                                          & 24.43019                                     \\\\\n",
       "\\end{tabular}\n"
      ],
      "text/markdown": [
       "\n",
       "| Name | Sex | Age | Height | Weight | Team | NOC | Games | Year | Season | City | Sport | Event | Medal | Body Mass Index |\n",
       "|---|---|---|---|---|---|---|---|---|---|---|---|---|---|---|\n",
       "| Michael Fred Phelps, II                       | M                                             | 15                                            | 193                                           | 91                                            | United States                                 | USA                                           | 2000 Summer                                   | 2000                                          | Summer                                        | Sydney                                        | Swimming                                      | Swimming Men's 200 metres Butterfly           | NA                                            | 24.43019                                      |\n",
       "| Michael Fred Phelps, II                       | M                                             | 19                                            | 193                                           | 91                                            | United States                                 | USA                                           | 2004 Summer                                   | 2004                                          | Summer                                        | Athina                                        | Swimming                                      | Swimming Men's 200 metres Freestyle           | Bronze                                        | 24.43019                                      |\n",
       "| Michael Fred Phelps, II                       | M                                             | 19                                            | 193                                           | 91                                            | United States                                 | USA                                           | 2004 Summer                                   | 2004                                          | Summer                                        | Athina                                        | Swimming                                      | Swimming Men's 4 x 100 metres Freestyle Relay | Bronze                                        | 24.43019                                      |\n",
       "| Michael Fred Phelps, II                       | M                                             | 19                                            | 193                                           | 91                                            | United States                                 | USA                                           | 2004 Summer                                   | 2004                                          | Summer                                        | Athina                                        | Swimming                                      | Swimming Men's 4 x 200 metres Freestyle Relay | Gold                                          | 24.43019                                      |\n",
       "| Michael Fred Phelps, II                       | M                                             | 19                                            | 193                                           | 91                                            | United States                                 | USA                                           | 2004 Summer                                   | 2004                                          | Summer                                        | Athina                                        | Swimming                                      | Swimming Men's 100 metres Butterfly           | Gold                                          | 24.43019                                      |\n",
       "| Michael Fred Phelps, II                       | M                                             | 19                                            | 193                                           | 91                                            | United States                                 | USA                                           | 2004 Summer                                   | 2004                                          | Summer                                        | Athina                                        | Swimming                                      | Swimming Men's 200 metres Butterfly           | Gold                                          | 24.43019                                      |\n",
       "| Michael Fred Phelps, II                       | M                                             | 19                                            | 193                                           | 91                                            | United States                                 | USA                                           | 2004 Summer                                   | 2004                                          | Summer                                        | Athina                                        | Swimming                                      | Swimming Men's 200 metres Individual Medley   | Gold                                          | 24.43019                                      |\n",
       "| Michael Fred Phelps, II                       | M                                             | 19                                            | 193                                           | 91                                            | United States                                 | USA                                           | 2004 Summer                                   | 2004                                          | Summer                                        | Athina                                        | Swimming                                      | Swimming Men's 400 metres Individual Medley   | Gold                                          | 24.43019                                      |\n",
       "| Michael Fred Phelps, II                       | M                                             | 19                                            | 193                                           | 91                                            | United States                                 | USA                                           | 2004 Summer                                   | 2004                                          | Summer                                        | Athina                                        | Swimming                                      | Swimming Men's 4 x 100 metres Medley Relay    | Gold                                          | 24.43019                                      |\n",
       "| Michael Fred Phelps, II                       | M                                             | 23                                            | 193                                           | 91                                            | United States                                 | USA                                           | 2008 Summer                                   | 2008                                          | Summer                                        | Beijing                                       | Swimming                                      | Swimming Men's 200 metres Freestyle           | Gold                                          | 24.43019                                      |\n",
       "| Michael Fred Phelps, II                       | M                                             | 23                                            | 193                                           | 91                                            | United States                                 | USA                                           | 2008 Summer                                   | 2008                                          | Summer                                        | Beijing                                       | Swimming                                      | Swimming Men's 4 x 100 metres Freestyle Relay | Gold                                          | 24.43019                                      |\n",
       "| Michael Fred Phelps, II                       | M                                             | 23                                            | 193                                           | 91                                            | United States                                 | USA                                           | 2008 Summer                                   | 2008                                          | Summer                                        | Beijing                                       | Swimming                                      | Swimming Men's 4 x 200 metres Freestyle Relay | Gold                                          | 24.43019                                      |\n",
       "| Michael Fred Phelps, II                       | M                                             | 23                                            | 193                                           | 91                                            | United States                                 | USA                                           | 2008 Summer                                   | 2008                                          | Summer                                        | Beijing                                       | Swimming                                      | Swimming Men's 100 metres Butterfly           | Gold                                          | 24.43019                                      |\n",
       "| Michael Fred Phelps, II                       | M                                             | 23                                            | 193                                           | 91                                            | United States                                 | USA                                           | 2008 Summer                                   | 2008                                          | Summer                                        | Beijing                                       | Swimming                                      | Swimming Men's 200 metres Butterfly           | Gold                                          | 24.43019                                      |\n",
       "| Michael Fred Phelps, II                       | M                                             | 23                                            | 193                                           | 91                                            | United States                                 | USA                                           | 2008 Summer                                   | 2008                                          | Summer                                        | Beijing                                       | Swimming                                      | Swimming Men's 200 metres Individual Medley   | Gold                                          | 24.43019                                      |\n",
       "| Michael Fred Phelps, II                       | M                                             | 23                                            | 193                                           | 91                                            | United States                                 | USA                                           | 2008 Summer                                   | 2008                                          | Summer                                        | Beijing                                       | Swimming                                      | Swimming Men's 400 metres Individual Medley   | Gold                                          | 24.43019                                      |\n",
       "| Michael Fred Phelps, II                       | M                                             | 23                                            | 193                                           | 91                                            | United States                                 | USA                                           | 2008 Summer                                   | 2008                                          | Summer                                        | Beijing                                       | Swimming                                      | Swimming Men's 4 x 100 metres Medley Relay    | Gold                                          | 24.43019                                      |\n",
       "| Michael Fred Phelps, II                       | M                                             | 27                                            | 193                                           | 91                                            | United States                                 | USA                                           | 2012 Summer                                   | 2012                                          | Summer                                        | London                                        | Swimming                                      | Swimming Men's 4 x 100 metres Freestyle Relay | Silver                                        | 24.43019                                      |\n",
       "| Michael Fred Phelps, II                       | M                                             | 27                                            | 193                                           | 91                                            | United States                                 | USA                                           | 2012 Summer                                   | 2012                                          | Summer                                        | London                                        | Swimming                                      | Swimming Men's 4 x 200 metres Freestyle Relay | Gold                                          | 24.43019                                      |\n",
       "| Michael Fred Phelps, II                       | M                                             | 27                                            | 193                                           | 91                                            | United States                                 | USA                                           | 2012 Summer                                   | 2012                                          | Summer                                        | London                                        | Swimming                                      | Swimming Men's 100 metres Butterfly           | Gold                                          | 24.43019                                      |\n",
       "| Michael Fred Phelps, II                       | M                                             | 27                                            | 193                                           | 91                                            | United States                                 | USA                                           | 2012 Summer                                   | 2012                                          | Summer                                        | London                                        | Swimming                                      | Swimming Men's 200 metres Butterfly           | Silver                                        | 24.43019                                      |\n",
       "| Michael Fred Phelps, II                       | M                                             | 27                                            | 193                                           | 91                                            | United States                                 | USA                                           | 2012 Summer                                   | 2012                                          | Summer                                        | London                                        | Swimming                                      | Swimming Men's 200 metres Individual Medley   | Gold                                          | 24.43019                                      |\n",
       "| Michael Fred Phelps, II                       | M                                             | 27                                            | 193                                           | 91                                            | United States                                 | USA                                           | 2012 Summer                                   | 2012                                          | Summer                                        | London                                        | Swimming                                      | Swimming Men's 400 metres Individual Medley   | NA                                            | 24.43019                                      |\n",
       "| Michael Fred Phelps, II                       | M                                             | 27                                            | 193                                           | 91                                            | United States                                 | USA                                           | 2012 Summer                                   | 2012                                          | Summer                                        | London                                        | Swimming                                      | Swimming Men's 4 x 100 metres Medley Relay    | Gold                                          | 24.43019                                      |\n",
       "| Michael Fred Phelps, II                       | M                                             | 31                                            | 193                                           | 91                                            | United States                                 | USA                                           | 2016 Summer                                   | 2016                                          | Summer                                        | Rio de Janeiro                                | Swimming                                      | Swimming Men's 4 x 100 metres Freestyle Relay | Gold                                          | 24.43019                                      |\n",
       "| Michael Fred Phelps, II                       | M                                             | 31                                            | 193                                           | 91                                            | United States                                 | USA                                           | 2016 Summer                                   | 2016                                          | Summer                                        | Rio de Janeiro                                | Swimming                                      | Swimming Men's 4 x 200 metres Freestyle Relay | Gold                                          | 24.43019                                      |\n",
       "| Michael Fred Phelps, II                       | M                                             | 31                                            | 193                                           | 91                                            | United States                                 | USA                                           | 2016 Summer                                   | 2016                                          | Summer                                        | Rio de Janeiro                                | Swimming                                      | Swimming Men's 100 metres Butterfly           | Silver                                        | 24.43019                                      |\n",
       "| Michael Fred Phelps, II                       | M                                             | 31                                            | 193                                           | 91                                            | United States                                 | USA                                           | 2016 Summer                                   | 2016                                          | Summer                                        | Rio de Janeiro                                | Swimming                                      | Swimming Men's 200 metres Butterfly           | Gold                                          | 24.43019                                      |\n",
       "| Michael Fred Phelps, II                       | M                                             | 31                                            | 193                                           | 91                                            | United States                                 | USA                                           | 2016 Summer                                   | 2016                                          | Summer                                        | Rio de Janeiro                                | Swimming                                      | Swimming Men's 200 metres Individual Medley   | Gold                                          | 24.43019                                      |\n",
       "| Michael Fred Phelps, II                       | M                                             | 31                                            | 193                                           | 91                                            | United States                                 | USA                                           | 2016 Summer                                   | 2016                                          | Summer                                        | Rio de Janeiro                                | Swimming                                      | Swimming Men's 4 x 100 metres Medley Relay    | Gold                                          | 24.43019                                      |\n",
       "\n"
      ],
      "text/plain": [
       "   Name                    Sex Age Height Weight Team          NOC Games      \n",
       "1  Michael Fred Phelps, II M   15  193    91     United States USA 2000 Summer\n",
       "2  Michael Fred Phelps, II M   19  193    91     United States USA 2004 Summer\n",
       "3  Michael Fred Phelps, II M   19  193    91     United States USA 2004 Summer\n",
       "4  Michael Fred Phelps, II M   19  193    91     United States USA 2004 Summer\n",
       "5  Michael Fred Phelps, II M   19  193    91     United States USA 2004 Summer\n",
       "6  Michael Fred Phelps, II M   19  193    91     United States USA 2004 Summer\n",
       "7  Michael Fred Phelps, II M   19  193    91     United States USA 2004 Summer\n",
       "8  Michael Fred Phelps, II M   19  193    91     United States USA 2004 Summer\n",
       "9  Michael Fred Phelps, II M   19  193    91     United States USA 2004 Summer\n",
       "10 Michael Fred Phelps, II M   23  193    91     United States USA 2008 Summer\n",
       "11 Michael Fred Phelps, II M   23  193    91     United States USA 2008 Summer\n",
       "12 Michael Fred Phelps, II M   23  193    91     United States USA 2008 Summer\n",
       "13 Michael Fred Phelps, II M   23  193    91     United States USA 2008 Summer\n",
       "14 Michael Fred Phelps, II M   23  193    91     United States USA 2008 Summer\n",
       "15 Michael Fred Phelps, II M   23  193    91     United States USA 2008 Summer\n",
       "16 Michael Fred Phelps, II M   23  193    91     United States USA 2008 Summer\n",
       "17 Michael Fred Phelps, II M   23  193    91     United States USA 2008 Summer\n",
       "18 Michael Fred Phelps, II M   27  193    91     United States USA 2012 Summer\n",
       "19 Michael Fred Phelps, II M   27  193    91     United States USA 2012 Summer\n",
       "20 Michael Fred Phelps, II M   27  193    91     United States USA 2012 Summer\n",
       "21 Michael Fred Phelps, II M   27  193    91     United States USA 2012 Summer\n",
       "22 Michael Fred Phelps, II M   27  193    91     United States USA 2012 Summer\n",
       "23 Michael Fred Phelps, II M   27  193    91     United States USA 2012 Summer\n",
       "24 Michael Fred Phelps, II M   27  193    91     United States USA 2012 Summer\n",
       "25 Michael Fred Phelps, II M   31  193    91     United States USA 2016 Summer\n",
       "26 Michael Fred Phelps, II M   31  193    91     United States USA 2016 Summer\n",
       "27 Michael Fred Phelps, II M   31  193    91     United States USA 2016 Summer\n",
       "28 Michael Fred Phelps, II M   31  193    91     United States USA 2016 Summer\n",
       "29 Michael Fred Phelps, II M   31  193    91     United States USA 2016 Summer\n",
       "30 Michael Fred Phelps, II M   31  193    91     United States USA 2016 Summer\n",
       "   Year Season City           Sport   \n",
       "1  2000 Summer Sydney         Swimming\n",
       "2  2004 Summer Athina         Swimming\n",
       "3  2004 Summer Athina         Swimming\n",
       "4  2004 Summer Athina         Swimming\n",
       "5  2004 Summer Athina         Swimming\n",
       "6  2004 Summer Athina         Swimming\n",
       "7  2004 Summer Athina         Swimming\n",
       "8  2004 Summer Athina         Swimming\n",
       "9  2004 Summer Athina         Swimming\n",
       "10 2008 Summer Beijing        Swimming\n",
       "11 2008 Summer Beijing        Swimming\n",
       "12 2008 Summer Beijing        Swimming\n",
       "13 2008 Summer Beijing        Swimming\n",
       "14 2008 Summer Beijing        Swimming\n",
       "15 2008 Summer Beijing        Swimming\n",
       "16 2008 Summer Beijing        Swimming\n",
       "17 2008 Summer Beijing        Swimming\n",
       "18 2012 Summer London         Swimming\n",
       "19 2012 Summer London         Swimming\n",
       "20 2012 Summer London         Swimming\n",
       "21 2012 Summer London         Swimming\n",
       "22 2012 Summer London         Swimming\n",
       "23 2012 Summer London         Swimming\n",
       "24 2012 Summer London         Swimming\n",
       "25 2016 Summer Rio de Janeiro Swimming\n",
       "26 2016 Summer Rio de Janeiro Swimming\n",
       "27 2016 Summer Rio de Janeiro Swimming\n",
       "28 2016 Summer Rio de Janeiro Swimming\n",
       "29 2016 Summer Rio de Janeiro Swimming\n",
       "30 2016 Summer Rio de Janeiro Swimming\n",
       "   Event                                         Medal  Body Mass Index\n",
       "1  Swimming Men's 200 metres Butterfly           NA     24.43019       \n",
       "2  Swimming Men's 200 metres Freestyle           Bronze 24.43019       \n",
       "3  Swimming Men's 4 x 100 metres Freestyle Relay Bronze 24.43019       \n",
       "4  Swimming Men's 4 x 200 metres Freestyle Relay Gold   24.43019       \n",
       "5  Swimming Men's 100 metres Butterfly           Gold   24.43019       \n",
       "6  Swimming Men's 200 metres Butterfly           Gold   24.43019       \n",
       "7  Swimming Men's 200 metres Individual Medley   Gold   24.43019       \n",
       "8  Swimming Men's 400 metres Individual Medley   Gold   24.43019       \n",
       "9  Swimming Men's 4 x 100 metres Medley Relay    Gold   24.43019       \n",
       "10 Swimming Men's 200 metres Freestyle           Gold   24.43019       \n",
       "11 Swimming Men's 4 x 100 metres Freestyle Relay Gold   24.43019       \n",
       "12 Swimming Men's 4 x 200 metres Freestyle Relay Gold   24.43019       \n",
       "13 Swimming Men's 100 metres Butterfly           Gold   24.43019       \n",
       "14 Swimming Men's 200 metres Butterfly           Gold   24.43019       \n",
       "15 Swimming Men's 200 metres Individual Medley   Gold   24.43019       \n",
       "16 Swimming Men's 400 metres Individual Medley   Gold   24.43019       \n",
       "17 Swimming Men's 4 x 100 metres Medley Relay    Gold   24.43019       \n",
       "18 Swimming Men's 4 x 100 metres Freestyle Relay Silver 24.43019       \n",
       "19 Swimming Men's 4 x 200 metres Freestyle Relay Gold   24.43019       \n",
       "20 Swimming Men's 100 metres Butterfly           Gold   24.43019       \n",
       "21 Swimming Men's 200 metres Butterfly           Silver 24.43019       \n",
       "22 Swimming Men's 200 metres Individual Medley   Gold   24.43019       \n",
       "23 Swimming Men's 400 metres Individual Medley   NA     24.43019       \n",
       "24 Swimming Men's 4 x 100 metres Medley Relay    Gold   24.43019       \n",
       "25 Swimming Men's 4 x 100 metres Freestyle Relay Gold   24.43019       \n",
       "26 Swimming Men's 4 x 200 metres Freestyle Relay Gold   24.43019       \n",
       "27 Swimming Men's 100 metres Butterfly           Silver 24.43019       \n",
       "28 Swimming Men's 200 metres Butterfly           Gold   24.43019       \n",
       "29 Swimming Men's 200 metres Individual Medley   Gold   24.43019       \n",
       "30 Swimming Men's 4 x 100 metres Medley Relay    Gold   24.43019       "
      ]
     },
     "metadata": {},
     "output_type": "display_data"
    }
   ],
   "source": [
    "bestAthletesTempData <- na.omit(athletesData[c('ID','Medal')])\n",
    "medalsMapping <- data.frame(Medal=c('Gold', 'Silver', 'Bronze'), Points=c(10, 5, 2))\n",
    "bestAthletesTempData <- merge(bestAthletesTempData, medalsMapping)[c('ID','Points')]\n",
    "athletesWithSummedPoints <- ddply(bestAthletesTempData, \"ID\", numcolwise(sum)) \n",
    "#https://stackoverflow.com/questions/15047742/sum-of-rows-based-on-column-value\n",
    "\n",
    "#next row is for dealing with case when there are several best sportsmen\n",
    "bestAthletes <- athletesWithSummedPoints[athletesWithSummedPoints$Points == \n",
    "                                         athletesWithSummedPoints[which.max(athletesWithSummedPoints$Points),]$Points, ]\n",
    "topAthlet <- athletesData[athletesData['ID'] == bestAthletes$ID, ]\n",
    "topAthlet <- createBMI(topAthlet)\n",
    "row.names(topAthlet) <- NULL\n",
    "topAthlet[,-1]"
   ]
  },
  {
   "cell_type": "markdown",
   "metadata": {},
   "source": [
    "This man is amazing!   \n",
    "***Kellogg should definitely take a closer look on this person and considering sponsoring it.*** He is literaly best!   \n",
    "And next chart shows how much better he is."
   ]
  },
  {
   "cell_type": "markdown",
   "metadata": {},
   "source": [
    "_that's a barchart for vizualization of sportsmen scores_   \n",
    "_it should give a nice hint of how best \"best sportsmen\" is_"
   ]
  },
  {
   "cell_type": "code",
   "execution_count": 28,
   "metadata": {},
   "outputs": [
    {
     "data": {
      "image/png": "[encoded data removed]",
      "text/plain": [
       "Plot with title \"Total weighted count of medals\""
      ]
     },
     "metadata": {},
     "output_type": "display_data"
    }
   ],
   "source": [
    "barplot(athletesWithSummedPoints[['Points']], \n",
    "        main='Total weighted count of medals', \n",
    "        xlab='Sportsmen',\n",
    "        ylab='Total points')"
   ]
  },
  {
   "cell_type": "markdown",
   "metadata": {},
   "source": [
    "Pretty amazing!  \n",
    "Let's have closer look at **top 50 sportsmen**:"
   ]
  },
  {
   "cell_type": "markdown",
   "metadata": {},
   "source": [
    "_now I have created a function for subsetting top X sportsmen_    "
   ]
  },
  {
   "cell_type": "code",
   "execution_count": 29,
   "metadata": {},
   "outputs": [],
   "source": [
    "topSportsmen <- function(x){\n",
    "    topSportsmenUnsorted <- unique(merge(\n",
    "    head(athletesWithSummedPoints[order(athletesWithSummedPoints$Points, decreasing=TRUE),],x), \n",
    "    athletesData, \n",
    "    all.x=TRUE)[c('Name','Points')])\n",
    "\n",
    "    topSportsmen <- topSportsmenUnsorted[order(topSportsmenUnsorted$Points, decreasing=TRUE),]\n",
    "    row.names(topSportsmen) <- paste('Top', 1:x)\n",
    "    return(topSportsmen)\n",
    "}"
   ]
  },
  {
   "cell_type": "markdown",
   "metadata": {},
   "source": [
    "_same, as several cells above, only for top 50, not for all_"
   ]
  },
  {
   "cell_type": "code",
   "execution_count": 30,
   "metadata": {},
   "outputs": [
    {
     "data": {
      "image/png": "[encoded data removed]",
      "text/plain": [
       "Plot with title \"Total weighted count of medals for top 50 sportsmen\""
      ]
     },
     "metadata": {},
     "output_type": "display_data"
    }
   ],
   "source": [
    "bp <- barplot(topSportsmen(50)$Points, \n",
    "        main='Total weighted count of medals for top 50 sportsmen', \n",
    "        font.main = 4, \n",
    "        xlab='Top 50 sportsmen', \n",
    "        ylab='Total points')"
   ]
  },
  {
   "cell_type": "markdown",
   "metadata": {},
   "source": [
    "And finally, let's take a look on **top 10 sportsmen** and visualize their succeses!"
   ]
  },
  {
   "cell_type": "markdown",
   "metadata": {},
   "source": [
    "_I have used function for subsetting top X sportsmen again_  \n",
    "_after that I plot a barchart, but now with names_\n",
    "_code for showing their names was inspired by StachOverflow discussions, link is below_\n",
    "\n",
    "_here is printout for One column selection task_"
   ]
  },
  {
   "cell_type": "code",
   "execution_count": 31,
   "metadata": {
    "scrolled": false
   },
   "outputs": [
    {
     "data": {
      "text/html": [
       "<table>\n",
       "<thead><tr><th></th><th scope=col>Name</th><th scope=col>Points</th></tr></thead>\n",
       "<tbody>\n",
       "\t<tr><th scope=row>Top 1</th><td>Michael Fred Phelps, II                        </td><td>249                                            </td></tr>\n",
       "\t<tr><th scope=row>Top 2</th><td>Larysa Semenivna Latynina (Diriy-)             </td><td>123                                            </td></tr>\n",
       "\t<tr><th scope=row>Top 3</th><td>Paavo Johannes Nurmi                           </td><td>105                                            </td></tr>\n",
       "\t<tr><th scope=row>Top 4</th><td>Ole Einar Bjrndalen                            </td><td>102                                            </td></tr>\n",
       "\t<tr><th scope=row>Top 5</th><td>Nikolay Yefimovich Andrianov                   </td><td>101                                            </td></tr>\n",
       "\t<tr><th scope=row>Top 6</th><td>Raymond Clarence \"Ray\" Ewry                    </td><td>100                                            </td></tr>\n",
       "\t<tr><th scope=row>Top 7</th><td>Birgit Fischer-Schmidt                         </td><td>100                                            </td></tr>\n",
       "\t<tr><th scope=row>Top 8</th><td>Sawao Kato                                     </td><td> 97                                            </td></tr>\n",
       "\t<tr><th scope=row>Top 9</th><td>Mark Andrew Spitz                              </td><td> 97                                            </td></tr>\n",
       "\t<tr><th scope=row>Top 10</th><td>Jennifer Elisabeth \"Jenny\" Thompson (-Cumpelik)</td><td> 97                                            </td></tr>\n",
       "</tbody>\n",
       "</table>\n"
      ],
      "text/latex": [
       "\\begin{tabular}{r|ll}\n",
       "  & Name & Points\\\\\n",
       "\\hline\n",
       "\tTop 1 & Michael Fred Phelps, II                         & 249                                            \\\\\n",
       "\tTop 2 & Larysa Semenivna Latynina (Diriy-)              & 123                                            \\\\\n",
       "\tTop 3 & Paavo Johannes Nurmi                            & 105                                            \\\\\n",
       "\tTop 4 & Ole Einar Bjrndalen                             & 102                                            \\\\\n",
       "\tTop 5 & Nikolay Yefimovich Andrianov                    & 101                                            \\\\\n",
       "\tTop 6 & Raymond Clarence \"Ray\" Ewry                     & 100                                            \\\\\n",
       "\tTop 7 & Birgit Fischer-Schmidt                          & 100                                            \\\\\n",
       "\tTop 8 & Sawao Kato                                      &  97                                            \\\\\n",
       "\tTop 9 & Mark Andrew Spitz                               &  97                                            \\\\\n",
       "\tTop 10 & Jennifer Elisabeth \"Jenny\" Thompson (-Cumpelik) &  97                                            \\\\\n",
       "\\end{tabular}\n"
      ],
      "text/markdown": [
       "\n",
       "| <!--/--> | Name | Points |\n",
       "|---|---|---|\n",
       "| Top 1 | Michael Fred Phelps, II                         | 249                                             |\n",
       "| Top 2 | Larysa Semenivna Latynina (Diriy-)              | 123                                             |\n",
       "| Top 3 | Paavo Johannes Nurmi                            | 105                                             |\n",
       "| Top 4 | Ole Einar Bjrndalen                             | 102                                             |\n",
       "| Top 5 | Nikolay Yefimovich Andrianov                    | 101                                             |\n",
       "| Top 6 | Raymond Clarence \"Ray\" Ewry                     | 100                                             |\n",
       "| Top 7 | Birgit Fischer-Schmidt                          | 100                                             |\n",
       "| Top 8 | Sawao Kato                                      |  97                                             |\n",
       "| Top 9 | Mark Andrew Spitz                               |  97                                             |\n",
       "| Top 10 | Jennifer Elisabeth \"Jenny\" Thompson (-Cumpelik) |  97                                             |\n",
       "\n"
      ],
      "text/plain": [
       "       Name                                            Points\n",
       "Top 1  Michael Fred Phelps, II                         249   \n",
       "Top 2  Larysa Semenivna Latynina (Diriy-)              123   \n",
       "Top 3  Paavo Johannes Nurmi                            105   \n",
       "Top 4  Ole Einar Bjrndalen                             102   \n",
       "Top 5  Nikolay Yefimovich Andrianov                    101   \n",
       "Top 6  Raymond Clarence \"Ray\" Ewry                     100   \n",
       "Top 7  Birgit Fischer-Schmidt                          100   \n",
       "Top 8  Sawao Kato                                       97   \n",
       "Top 9  Mark Andrew Spitz                                97   \n",
       "Top 10 Jennifer Elisabeth \"Jenny\" Thompson (-Cumpelik)  97   "
      ]
     },
     "metadata": {},
     "output_type": "display_data"
    },
    {
     "data": {
      "image/png": "[encoded data removed]",
      "text/plain": [
       "Plot with title \"Total weighted count of medals for top 10 sportsmen\""
      ]
     },
     "metadata": {},
     "output_type": "display_data"
    }
   ],
   "source": [
    "top10Sportsmen <- topSportsmen(10)\n",
    "\n",
    "top10Sportsmen\n",
    "\n",
    "bp <- barplot(top10Sportsmen$Points, \n",
    "        main='Total weighted count of medals for top 10 sportsmen', \n",
    "        font.main = 4, \n",
    "        ylab='Total points')\n",
    "text(x=bp[,1], y=-2, adj=c(1, 1), top10Sportsmen[['Name']], cex=0.6, srt=25, xpd=TRUE)\n",
    "\n",
    "#https://stackoverflow.com/questions/31979449/how-do-i-get-x-axis-labels-to-show-in-r-barplot"
   ]
  },
  {
   "cell_type": "markdown",
   "metadata": {},
   "source": [
    "Michael Fred Phelps, II is like _two times better_ than even best of other participants!  \n",
    "\n",
    "![Michael Fred Phelps, II](https://myhero.com/images/guest/g292360/hero113960/Michael-Phelps-SI-cover-shoot-SI523_TK1_002902.jpg \"Michael Fred Phelps, II\")  \n",
    "Let's check how many medals he has total:  "
   ]
  },
  {
   "cell_type": "markdown",
   "metadata": {},
   "source": [
    "_now I just count rows in the column that contains his medals_"
   ]
  },
  {
   "cell_type": "code",
   "execution_count": 32,
   "metadata": {},
   "outputs": [
    {
     "name": "stdout",
     "output_type": "stream",
     "text": [
      "Aaand he has a total of 28 medals out of 30 attempts!"
     ]
    }
   ],
   "source": [
    "cat('Aaand he has a total of', \n",
    "    length(na.omit(topAthlet[, 'Medal'])), \n",
    "    'medals out of', \n",
    "    length(topAthlet[, 'Medal']), \n",
    "    'attempts!')"
   ]
  },
  {
   "cell_type": "markdown",
   "metadata": {},
   "source": [
    "(Which is confirmed by [Wikipedia](https://en.wikipedia.org/wiki/Michael_Phelps)...)\n",
    "\n",
    "-------\n",
    "\n",
    "He has got a total of **28 medals out of 30 attempts** for now, he has **started his sport career at the age of 15** and he is the most successful sportsmen that world knows.   \n",
    " \n",
    "He is a professional swimmer and even comparing with *best of the best sportsmen* during all of those years he is ***2,5 times more successful***.    \n",
    "His body measurments are same as for statically perfect candidates, exactly at the top of the densities over medalists charts.  \n",
    "His age is also quite in the density interval of winning sportsmen.  \n",
    "This makes him a **perfect candidate for sponsoring and close attention**!\n",
    "\n",
    "------------\n",
    "\n",
    "\n",
    "Wow!                                                           |  Amazing!\n",
    ":-------------------------------------------------------------:|:-------------------------:\n",
    "![Wow](https://media.giphy.com/media/vQqeT3AYg8S5O/giphy.gif)  |  ![Wow2](https://media.giphy.com/media/129fFfp0ZAMJYA/giphy.gif)"
   ]
  },
  {
   "cell_type": "markdown",
   "metadata": {},
   "source": [
    "--------------------------\n",
    "--------------------------\n",
    "--------------------------\n",
    "<a id='sport'></a>\n",
    "\n",
    "# <span style=\"color:green\"> Sport Selection </span>\n",
    "## <span style=\"color:red\"> Data Exploration </span>"
   ]
  },
  {
   "cell_type": "markdown",
   "metadata": {},
   "source": [
    "\n",
    "So, which **types of sport** do we have?"
   ]
  },
  {
   "cell_type": "markdown",
   "metadata": {},
   "source": [
    "_using `unique()` function to get all unique variables from one column_"
   ]
  },
  {
   "cell_type": "code",
   "execution_count": 33,
   "metadata": {
    "scrolled": true
   },
   "outputs": [
    {
     "data": {
      "text/html": [
       "<ol class=list-inline>\n",
       "\t<li>Basketball</li>\n",
       "\t<li>Judo</li>\n",
       "\t<li>Football</li>\n",
       "\t<li>Tug-Of-War</li>\n",
       "\t<li>Speed Skating</li>\n",
       "\t<li>Cross Country Skiing</li>\n",
       "\t<li>Athletics</li>\n",
       "\t<li>Ice Hockey</li>\n",
       "\t<li>Swimming</li>\n",
       "\t<li>Badminton</li>\n",
       "\t<li>Sailing</li>\n",
       "\t<li>Biathlon</li>\n",
       "\t<li>Gymnastics</li>\n",
       "\t<li>Art Competitions</li>\n",
       "\t<li>Alpine Skiing</li>\n",
       "\t<li>Handball</li>\n",
       "\t<li>Weightlifting</li>\n",
       "\t<li>Wrestling</li>\n",
       "\t<li>Luge</li>\n",
       "\t<li>Water Polo</li>\n",
       "\t<li>Hockey</li>\n",
       "\t<li>Rowing</li>\n",
       "\t<li>Bobsleigh</li>\n",
       "\t<li>Fencing</li>\n",
       "\t<li>Equestrianism</li>\n",
       "\t<li>Shooting</li>\n",
       "\t<li>Boxing</li>\n",
       "\t<li>Taekwondo</li>\n",
       "\t<li>Cycling</li>\n",
       "\t<li>Diving</li>\n",
       "\t<li>Canoeing</li>\n",
       "\t<li>Tennis</li>\n",
       "\t<li>Modern Pentathlon</li>\n",
       "\t<li>Figure Skating</li>\n",
       "\t<li>Golf</li>\n",
       "\t<li>Softball</li>\n",
       "\t<li>Archery</li>\n",
       "\t<li>Volleyball</li>\n",
       "\t<li>Synchronized Swimming</li>\n",
       "\t<li>Table Tennis</li>\n",
       "\t<li>Nordic Combined</li>\n",
       "\t<li>Baseball</li>\n",
       "\t<li>Rhythmic Gymnastics</li>\n",
       "\t<li>Freestyle Skiing</li>\n",
       "\t<li>Rugby Sevens</li>\n",
       "\t<li>Trampolining</li>\n",
       "\t<li>Beach Volleyball</li>\n",
       "\t<li>Triathlon</li>\n",
       "\t<li>Ski Jumping</li>\n",
       "\t<li>Curling</li>\n",
       "\t<li>Snowboarding</li>\n",
       "\t<li>Rugby</li>\n",
       "\t<li>Short Track Speed Skating</li>\n",
       "\t<li>Skeleton</li>\n",
       "\t<li>Lacrosse</li>\n",
       "\t<li>Polo</li>\n",
       "\t<li>Cricket</li>\n",
       "\t<li>Racquets</li>\n",
       "\t<li>Motorboating</li>\n",
       "\t<li>Military Ski Patrol</li>\n",
       "\t<li>Croquet</li>\n",
       "\t<li>Jeu De Paume</li>\n",
       "\t<li>Roque</li>\n",
       "\t<li>Alpinism</li>\n",
       "\t<li>Basque Pelota</li>\n",
       "\t<li>Aeronautics</li>\n",
       "</ol>\n",
       "\n",
       "<details>\n",
       "\t<summary style=display:list-item;cursor:pointer>\n",
       "\t\t<strong>Levels</strong>:\n",
       "\t</summary>\n",
       "\t<ol class=list-inline>\n",
       "\t\t<li>'Aeronautics'</li>\n",
       "\t\t<li>'Alpine Skiing'</li>\n",
       "\t\t<li>'Alpinism'</li>\n",
       "\t\t<li>'Archery'</li>\n",
       "\t\t<li>'Art Competitions'</li>\n",
       "\t\t<li>'Athletics'</li>\n",
       "\t\t<li>'Badminton'</li>\n",
       "\t\t<li>'Baseball'</li>\n",
       "\t\t<li>'Basketball'</li>\n",
       "\t\t<li>'Basque Pelota'</li>\n",
       "\t\t<li>'Beach Volleyball'</li>\n",
       "\t\t<li>'Biathlon'</li>\n",
       "\t\t<li>'Bobsleigh'</li>\n",
       "\t\t<li>'Boxing'</li>\n",
       "\t\t<li>'Canoeing'</li>\n",
       "\t\t<li>'Cricket'</li>\n",
       "\t\t<li>'Croquet'</li>\n",
       "\t\t<li>'Cross Country Skiing'</li>\n",
       "\t\t<li>'Curling'</li>\n",
       "\t\t<li>'Cycling'</li>\n",
       "\t\t<li>'Diving'</li>\n",
       "\t\t<li>'Equestrianism'</li>\n",
       "\t\t<li>'Fencing'</li>\n",
       "\t\t<li>'Figure Skating'</li>\n",
       "\t\t<li>'Football'</li>\n",
       "\t\t<li>'Freestyle Skiing'</li>\n",
       "\t\t<li>'Golf'</li>\n",
       "\t\t<li>'Gymnastics'</li>\n",
       "\t\t<li>'Handball'</li>\n",
       "\t\t<li>'Hockey'</li>\n",
       "\t\t<li>'Ice Hockey'</li>\n",
       "\t\t<li>'Jeu De Paume'</li>\n",
       "\t\t<li>'Judo'</li>\n",
       "\t\t<li>'Lacrosse'</li>\n",
       "\t\t<li>'Luge'</li>\n",
       "\t\t<li>'Military Ski Patrol'</li>\n",
       "\t\t<li>'Modern Pentathlon'</li>\n",
       "\t\t<li>'Motorboating'</li>\n",
       "\t\t<li>'Nordic Combined'</li>\n",
       "\t\t<li>'Polo'</li>\n",
       "\t\t<li>'Racquets'</li>\n",
       "\t\t<li>'Rhythmic Gymnastics'</li>\n",
       "\t\t<li>'Roque'</li>\n",
       "\t\t<li>'Rowing'</li>\n",
       "\t\t<li>'Rugby'</li>\n",
       "\t\t<li>'Rugby Sevens'</li>\n",
       "\t\t<li>'Sailing'</li>\n",
       "\t\t<li>'Shooting'</li>\n",
       "\t\t<li>'Short Track Speed Skating'</li>\n",
       "\t\t<li>'Skeleton'</li>\n",
       "\t\t<li>'Ski Jumping'</li>\n",
       "\t\t<li>'Snowboarding'</li>\n",
       "\t\t<li>'Softball'</li>\n",
       "\t\t<li>'Speed Skating'</li>\n",
       "\t\t<li>'Swimming'</li>\n",
       "\t\t<li>'Synchronized Swimming'</li>\n",
       "\t\t<li>'Table Tennis'</li>\n",
       "\t\t<li>'Taekwondo'</li>\n",
       "\t\t<li>'Tennis'</li>\n",
       "\t\t<li>'Trampolining'</li>\n",
       "\t\t<li>'Triathlon'</li>\n",
       "\t\t<li>'Tug-Of-War'</li>\n",
       "\t\t<li>'Volleyball'</li>\n",
       "\t\t<li>'Water Polo'</li>\n",
       "\t\t<li>'Weightlifting'</li>\n",
       "\t\t<li>'Wrestling'</li>\n",
       "\t</ol>\n",
       "</details>"
      ],
      "text/latex": [
       "\\begin{enumerate*}\n",
       "\\item Basketball\n",
       "\\item Judo\n",
       "\\item Football\n",
       "\\item Tug-Of-War\n",
       "\\item Speed Skating\n",
       "\\item Cross Country Skiing\n",
       "\\item Athletics\n",
       "\\item Ice Hockey\n",
       "\\item Swimming\n",
       "\\item Badminton\n",
       "\\item Sailing\n",
       "\\item Biathlon\n",
       "\\item Gymnastics\n",
       "\\item Art Competitions\n",
       "\\item Alpine Skiing\n",
       "\\item Handball\n",
       "\\item Weightlifting\n",
       "\\item Wrestling\n",
       "\\item Luge\n",
       "\\item Water Polo\n",
       "\\item Hockey\n",
       "\\item Rowing\n",
       "\\item Bobsleigh\n",
       "\\item Fencing\n",
       "\\item Equestrianism\n",
       "\\item Shooting\n",
       "\\item Boxing\n",
       "\\item Taekwondo\n",
       "\\item Cycling\n",
       "\\item Diving\n",
       "\\item Canoeing\n",
       "\\item Tennis\n",
       "\\item Modern Pentathlon\n",
       "\\item Figure Skating\n",
       "\\item Golf\n",
       "\\item Softball\n",
       "\\item Archery\n",
       "\\item Volleyball\n",
       "\\item Synchronized Swimming\n",
       "\\item Table Tennis\n",
       "\\item Nordic Combined\n",
       "\\item Baseball\n",
       "\\item Rhythmic Gymnastics\n",
       "\\item Freestyle Skiing\n",
       "\\item Rugby Sevens\n",
       "\\item Trampolining\n",
       "\\item Beach Volleyball\n",
       "\\item Triathlon\n",
       "\\item Ski Jumping\n",
       "\\item Curling\n",
       "\\item Snowboarding\n",
       "\\item Rugby\n",
       "\\item Short Track Speed Skating\n",
       "\\item Skeleton\n",
       "\\item Lacrosse\n",
       "\\item Polo\n",
       "\\item Cricket\n",
       "\\item Racquets\n",
       "\\item Motorboating\n",
       "\\item Military Ski Patrol\n",
       "\\item Croquet\n",
       "\\item Jeu De Paume\n",
       "\\item Roque\n",
       "\\item Alpinism\n",
       "\\item Basque Pelota\n",
       "\\item Aeronautics\n",
       "\\end{enumerate*}\n",
       "\n",
       "\\emph{Levels}: \\begin{enumerate*}\n",
       "\\item 'Aeronautics'\n",
       "\\item 'Alpine Skiing'\n",
       "\\item 'Alpinism'\n",
       "\\item 'Archery'\n",
       "\\item 'Art Competitions'\n",
       "\\item 'Athletics'\n",
       "\\item 'Badminton'\n",
       "\\item 'Baseball'\n",
       "\\item 'Basketball'\n",
       "\\item 'Basque Pelota'\n",
       "\\item 'Beach Volleyball'\n",
       "\\item 'Biathlon'\n",
       "\\item 'Bobsleigh'\n",
       "\\item 'Boxing'\n",
       "\\item 'Canoeing'\n",
       "\\item 'Cricket'\n",
       "\\item 'Croquet'\n",
       "\\item 'Cross Country Skiing'\n",
       "\\item 'Curling'\n",
       "\\item 'Cycling'\n",
       "\\item 'Diving'\n",
       "\\item 'Equestrianism'\n",
       "\\item 'Fencing'\n",
       "\\item 'Figure Skating'\n",
       "\\item 'Football'\n",
       "\\item 'Freestyle Skiing'\n",
       "\\item 'Golf'\n",
       "\\item 'Gymnastics'\n",
       "\\item 'Handball'\n",
       "\\item 'Hockey'\n",
       "\\item 'Ice Hockey'\n",
       "\\item 'Jeu De Paume'\n",
       "\\item 'Judo'\n",
       "\\item 'Lacrosse'\n",
       "\\item 'Luge'\n",
       "\\item 'Military Ski Patrol'\n",
       "\\item 'Modern Pentathlon'\n",
       "\\item 'Motorboating'\n",
       "\\item 'Nordic Combined'\n",
       "\\item 'Polo'\n",
       "\\item 'Racquets'\n",
       "\\item 'Rhythmic Gymnastics'\n",
       "\\item 'Roque'\n",
       "\\item 'Rowing'\n",
       "\\item 'Rugby'\n",
       "\\item 'Rugby Sevens'\n",
       "\\item 'Sailing'\n",
       "\\item 'Shooting'\n",
       "\\item 'Short Track Speed Skating'\n",
       "\\item 'Skeleton'\n",
       "\\item 'Ski Jumping'\n",
       "\\item 'Snowboarding'\n",
       "\\item 'Softball'\n",
       "\\item 'Speed Skating'\n",
       "\\item 'Swimming'\n",
       "\\item 'Synchronized Swimming'\n",
       "\\item 'Table Tennis'\n",
       "\\item 'Taekwondo'\n",
       "\\item 'Tennis'\n",
       "\\item 'Trampolining'\n",
       "\\item 'Triathlon'\n",
       "\\item 'Tug-Of-War'\n",
       "\\item 'Volleyball'\n",
       "\\item 'Water Polo'\n",
       "\\item 'Weightlifting'\n",
       "\\item 'Wrestling'\n",
       "\\end{enumerate*}\n"
      ],
      "text/markdown": [
       "1. Basketball\n",
       "2. Judo\n",
       "3. Football\n",
       "4. Tug-Of-War\n",
       "5. Speed Skating\n",
       "6. Cross Country Skiing\n",
       "7. Athletics\n",
       "8. Ice Hockey\n",
       "9. Swimming\n",
       "10. Badminton\n",
       "11. Sailing\n",
       "12. Biathlon\n",
       "13. Gymnastics\n",
       "14. Art Competitions\n",
       "15. Alpine Skiing\n",
       "16. Handball\n",
       "17. Weightlifting\n",
       "18. Wrestling\n",
       "19. Luge\n",
       "20. Water Polo\n",
       "21. Hockey\n",
       "22. Rowing\n",
       "23. Bobsleigh\n",
       "24. Fencing\n",
       "25. Equestrianism\n",
       "26. Shooting\n",
       "27. Boxing\n",
       "28. Taekwondo\n",
       "29. Cycling\n",
       "30. Diving\n",
       "31. Canoeing\n",
       "32. Tennis\n",
       "33. Modern Pentathlon\n",
       "34. Figure Skating\n",
       "35. Golf\n",
       "36. Softball\n",
       "37. Archery\n",
       "38. Volleyball\n",
       "39. Synchronized Swimming\n",
       "40. Table Tennis\n",
       "41. Nordic Combined\n",
       "42. Baseball\n",
       "43. Rhythmic Gymnastics\n",
       "44. Freestyle Skiing\n",
       "45. Rugby Sevens\n",
       "46. Trampolining\n",
       "47. Beach Volleyball\n",
       "48. Triathlon\n",
       "49. Ski Jumping\n",
       "50. Curling\n",
       "51. Snowboarding\n",
       "52. Rugby\n",
       "53. Short Track Speed Skating\n",
       "54. Skeleton\n",
       "55. Lacrosse\n",
       "56. Polo\n",
       "57. Cricket\n",
       "58. Racquets\n",
       "59. Motorboating\n",
       "60. Military Ski Patrol\n",
       "61. Croquet\n",
       "62. Jeu De Paume\n",
       "63. Roque\n",
       "64. Alpinism\n",
       "65. Basque Pelota\n",
       "66. Aeronautics\n",
       "\n",
       "\n",
       "\n",
       "**Levels**: 1. 'Aeronautics'\n",
       "2. 'Alpine Skiing'\n",
       "3. 'Alpinism'\n",
       "4. 'Archery'\n",
       "5. 'Art Competitions'\n",
       "6. 'Athletics'\n",
       "7. 'Badminton'\n",
       "8. 'Baseball'\n",
       "9. 'Basketball'\n",
       "10. 'Basque Pelota'\n",
       "11. 'Beach Volleyball'\n",
       "12. 'Biathlon'\n",
       "13. 'Bobsleigh'\n",
       "14. 'Boxing'\n",
       "15. 'Canoeing'\n",
       "16. 'Cricket'\n",
       "17. 'Croquet'\n",
       "18. 'Cross Country Skiing'\n",
       "19. 'Curling'\n",
       "20. 'Cycling'\n",
       "21. 'Diving'\n",
       "22. 'Equestrianism'\n",
       "23. 'Fencing'\n",
       "24. 'Figure Skating'\n",
       "25. 'Football'\n",
       "26. 'Freestyle Skiing'\n",
       "27. 'Golf'\n",
       "28. 'Gymnastics'\n",
       "29. 'Handball'\n",
       "30. 'Hockey'\n",
       "31. 'Ice Hockey'\n",
       "32. 'Jeu De Paume'\n",
       "33. 'Judo'\n",
       "34. 'Lacrosse'\n",
       "35. 'Luge'\n",
       "36. 'Military Ski Patrol'\n",
       "37. 'Modern Pentathlon'\n",
       "38. 'Motorboating'\n",
       "39. 'Nordic Combined'\n",
       "40. 'Polo'\n",
       "41. 'Racquets'\n",
       "42. 'Rhythmic Gymnastics'\n",
       "43. 'Roque'\n",
       "44. 'Rowing'\n",
       "45. 'Rugby'\n",
       "46. 'Rugby Sevens'\n",
       "47. 'Sailing'\n",
       "48. 'Shooting'\n",
       "49. 'Short Track Speed Skating'\n",
       "50. 'Skeleton'\n",
       "51. 'Ski Jumping'\n",
       "52. 'Snowboarding'\n",
       "53. 'Softball'\n",
       "54. 'Speed Skating'\n",
       "55. 'Swimming'\n",
       "56. 'Synchronized Swimming'\n",
       "57. 'Table Tennis'\n",
       "58. 'Taekwondo'\n",
       "59. 'Tennis'\n",
       "60. 'Trampolining'\n",
       "61. 'Triathlon'\n",
       "62. 'Tug-Of-War'\n",
       "63. 'Volleyball'\n",
       "64. 'Water Polo'\n",
       "65. 'Weightlifting'\n",
       "66. 'Wrestling'\n",
       "\n",
       "\n"
      ],
      "text/plain": [
       " [1] Basketball                Judo                     \n",
       " [3] Football                  Tug-Of-War               \n",
       " [5] Speed Skating             Cross Country Skiing     \n",
       " [7] Athletics                 Ice Hockey               \n",
       " [9] Swimming                  Badminton                \n",
       "[11] Sailing                   Biathlon                 \n",
       "[13] Gymnastics                Art Competitions         \n",
       "[15] Alpine Skiing             Handball                 \n",
       "[17] Weightlifting             Wrestling                \n",
       "[19] Luge                      Water Polo               \n",
       "[21] Hockey                    Rowing                   \n",
       "[23] Bobsleigh                 Fencing                  \n",
       "[25] Equestrianism             Shooting                 \n",
       "[27] Boxing                    Taekwondo                \n",
       "[29] Cycling                   Diving                   \n",
       "[31] Canoeing                  Tennis                   \n",
       "[33] Modern Pentathlon         Figure Skating           \n",
       "[35] Golf                      Softball                 \n",
       "[37] Archery                   Volleyball               \n",
       "[39] Synchronized Swimming     Table Tennis             \n",
       "[41] Nordic Combined           Baseball                 \n",
       "[43] Rhythmic Gymnastics       Freestyle Skiing         \n",
       "[45] Rugby Sevens              Trampolining             \n",
       "[47] Beach Volleyball          Triathlon                \n",
       "[49] Ski Jumping               Curling                  \n",
       "[51] Snowboarding              Rugby                    \n",
       "[53] Short Track Speed Skating Skeleton                 \n",
       "[55] Lacrosse                  Polo                     \n",
       "[57] Cricket                   Racquets                 \n",
       "[59] Motorboating              Military Ski Patrol      \n",
       "[61] Croquet                   Jeu De Paume             \n",
       "[63] Roque                     Alpinism                 \n",
       "[65] Basque Pelota             Aeronautics              \n",
       "66 Levels: Aeronautics Alpine Skiing Alpinism Archery ... Wrestling"
      ]
     },
     "metadata": {},
     "output_type": "display_data"
    }
   ],
   "source": [
    "sports <- unique(athletesData[, 'Sport'])\n",
    "unique(athletesData[, 'Sport'])"
   ]
  },
  {
   "cell_type": "markdown",
   "metadata": {},
   "source": [
    "Let's check for **how many times each type of sport was played**."
   ]
  },
  {
   "cell_type": "markdown",
   "metadata": {},
   "source": [
    "_here I am creating a dataframe with sports and number of games_"
   ]
  },
  {
   "cell_type": "code",
   "execution_count": 34,
   "metadata": {},
   "outputs": [],
   "source": [
    "contTableSports <- as.data.frame(table(athletesData[c('Sport','Event','Year')]))\n",
    "sportFreq <- data.frame('Sport'=c(), 'Games'=c())\n",
    "for(sport in sports){\n",
    "    sportFreq <- rbind(sportFreq, \n",
    "                       data.frame('Sport'=sport,\n",
    "                                   'Games'=\n",
    "                                  sum(contTableSports[contTableSports['Sport']==sport, 'Freq',])))\n",
    "}"
   ]
  },
  {
   "cell_type": "markdown",
   "metadata": {},
   "source": [
    " _I got permutations with function `order()`, applied them to dataframe, which contains Sports and their Frequencies, and then I have shown top 10 values_"
   ]
  },
  {
   "cell_type": "code",
   "execution_count": 35,
   "metadata": {
    "scrolled": true
   },
   "outputs": [
    {
     "data": {
      "text/html": [
       "<table>\n",
       "<thead><tr><th></th><th scope=col>Sport</th><th scope=col>Games</th></tr></thead>\n",
       "<tbody>\n",
       "\t<tr><th scope=row>Top 1</th><td>Athletics           </td><td>38624               </td></tr>\n",
       "\t<tr><th scope=row>Top 2</th><td>Gymnastics          </td><td>26707               </td></tr>\n",
       "\t<tr><th scope=row>Top 3</th><td>Swimming            </td><td>23195               </td></tr>\n",
       "\t<tr><th scope=row>Top 4</th><td>Shooting            </td><td>11448               </td></tr>\n",
       "\t<tr><th scope=row>Top 5</th><td>Cycling             </td><td>10859               </td></tr>\n",
       "\t<tr><th scope=row>Top 6</th><td>Fencing             </td><td>10735               </td></tr>\n",
       "\t<tr><th scope=row>Top 7</th><td>Rowing              </td><td>10595               </td></tr>\n",
       "\t<tr><th scope=row>Top 8</th><td>Cross Country Skiing</td><td> 9133               </td></tr>\n",
       "\t<tr><th scope=row>Top 9</th><td>Alpine Skiing       </td><td> 8829               </td></tr>\n",
       "\t<tr><th scope=row>Top 10</th><td>Wrestling           </td><td> 7154               </td></tr>\n",
       "</tbody>\n",
       "</table>\n"
      ],
      "text/latex": [
       "\\begin{tabular}{r|ll}\n",
       "  & Sport & Games\\\\\n",
       "\\hline\n",
       "\tTop 1 & Athletics            & 38624               \\\\\n",
       "\tTop 2 & Gymnastics           & 26707               \\\\\n",
       "\tTop 3 & Swimming             & 23195               \\\\\n",
       "\tTop 4 & Shooting             & 11448               \\\\\n",
       "\tTop 5 & Cycling              & 10859               \\\\\n",
       "\tTop 6 & Fencing              & 10735               \\\\\n",
       "\tTop 7 & Rowing               & 10595               \\\\\n",
       "\tTop 8 & Cross Country Skiing &  9133               \\\\\n",
       "\tTop 9 & Alpine Skiing        &  8829               \\\\\n",
       "\tTop 10 & Wrestling            &  7154               \\\\\n",
       "\\end{tabular}\n"
      ],
      "text/markdown": [
       "\n",
       "| <!--/--> | Sport | Games |\n",
       "|---|---|---|\n",
       "| Top 1 | Athletics            | 38624                |\n",
       "| Top 2 | Gymnastics           | 26707                |\n",
       "| Top 3 | Swimming             | 23195                |\n",
       "| Top 4 | Shooting             | 11448                |\n",
       "| Top 5 | Cycling              | 10859                |\n",
       "| Top 6 | Fencing              | 10735                |\n",
       "| Top 7 | Rowing               | 10595                |\n",
       "| Top 8 | Cross Country Skiing |  9133                |\n",
       "| Top 9 | Alpine Skiing        |  8829                |\n",
       "| Top 10 | Wrestling            |  7154                |\n",
       "\n"
      ],
      "text/plain": [
       "       Sport                Games\n",
       "Top 1  Athletics            38624\n",
       "Top 2  Gymnastics           26707\n",
       "Top 3  Swimming             23195\n",
       "Top 4  Shooting             11448\n",
       "Top 5  Cycling              10859\n",
       "Top 6  Fencing              10735\n",
       "Top 7  Rowing               10595\n",
       "Top 8  Cross Country Skiing  9133\n",
       "Top 9  Alpine Skiing         8829\n",
       "Top 10 Wrestling             7154"
      ]
     },
     "metadata": {},
     "output_type": "display_data"
    }
   ],
   "source": [
    "topGamesByPlays <- head(sportFreq[order(sportFreq['Games'], decreasing=TRUE),], 10)\n",
    "row.names(topGamesByPlays) <- paste('Top', 1:10)\n",
    "topGamesByPlays"
   ]
  },
  {
   "cell_type": "markdown",
   "metadata": {},
   "source": [
    "Next, let's find **number of participating teams** for each type of the sport."
   ]
  },
  {
   "cell_type": "markdown",
   "metadata": {},
   "source": [
    "_here I am creating a dataframe with sports and number of participated teams_"
   ]
  },
  {
   "cell_type": "code",
   "execution_count": 36,
   "metadata": {},
   "outputs": [],
   "source": [
    "sportTeamContTable <- as.data.frame(table(athletesData[c('Sport','Team')]))\n",
    "sportTeamFreq <- data.frame('Sport'=c(), 'Participated Teams'=c())\n",
    "\n",
    "for(sport in sports){\n",
    "    sportTeamFreq <- rbind(sportTeamFreq, \n",
    "                       data.frame('Sport'=sport,\n",
    "                                   'Participated Teams'=\n",
    "                                  sum(sportTeamContTable[sportTeamContTable['Sport']==sport, 'Freq',])))\n",
    "}\n",
    "colnames(sportTeamFreq) <- c('Sport', 'Participated Teams') \n",
    "# there is a bug, actually, without this I was getting `Participated.Teams` "
   ]
  },
  {
   "cell_type": "markdown",
   "metadata": {},
   "source": [
    "_and here we are displaying data_"
   ]
  },
  {
   "cell_type": "code",
   "execution_count": 37,
   "metadata": {},
   "outputs": [
    {
     "data": {
      "text/html": [
       "<table>\n",
       "<thead><tr><th></th><th scope=col>Sport</th><th scope=col>Participated Teams</th></tr></thead>\n",
       "<tbody>\n",
       "\t<tr><th scope=row>Top 1</th><td>Athletics           </td><td>38624               </td></tr>\n",
       "\t<tr><th scope=row>Top 2</th><td>Gymnastics          </td><td>26707               </td></tr>\n",
       "\t<tr><th scope=row>Top 3</th><td>Swimming            </td><td>23195               </td></tr>\n",
       "\t<tr><th scope=row>Top 4</th><td>Shooting            </td><td>11448               </td></tr>\n",
       "\t<tr><th scope=row>Top 5</th><td>Cycling             </td><td>10859               </td></tr>\n",
       "\t<tr><th scope=row>Top 6</th><td>Fencing             </td><td>10735               </td></tr>\n",
       "\t<tr><th scope=row>Top 7</th><td>Rowing              </td><td>10595               </td></tr>\n",
       "\t<tr><th scope=row>Top 8</th><td>Cross Country Skiing</td><td> 9133               </td></tr>\n",
       "\t<tr><th scope=row>Top 9</th><td>Alpine Skiing       </td><td> 8829               </td></tr>\n",
       "\t<tr><th scope=row>Top 10</th><td>Wrestling           </td><td> 7154               </td></tr>\n",
       "</tbody>\n",
       "</table>\n"
      ],
      "text/latex": [
       "\\begin{tabular}{r|ll}\n",
       "  & Sport & Participated Teams\\\\\n",
       "\\hline\n",
       "\tTop 1 & Athletics            & 38624               \\\\\n",
       "\tTop 2 & Gymnastics           & 26707               \\\\\n",
       "\tTop 3 & Swimming             & 23195               \\\\\n",
       "\tTop 4 & Shooting             & 11448               \\\\\n",
       "\tTop 5 & Cycling              & 10859               \\\\\n",
       "\tTop 6 & Fencing              & 10735               \\\\\n",
       "\tTop 7 & Rowing               & 10595               \\\\\n",
       "\tTop 8 & Cross Country Skiing &  9133               \\\\\n",
       "\tTop 9 & Alpine Skiing        &  8829               \\\\\n",
       "\tTop 10 & Wrestling            &  7154               \\\\\n",
       "\\end{tabular}\n"
      ],
      "text/markdown": [
       "\n",
       "| <!--/--> | Sport | Participated Teams |\n",
       "|---|---|---|\n",
       "| Top 1 | Athletics            | 38624                |\n",
       "| Top 2 | Gymnastics           | 26707                |\n",
       "| Top 3 | Swimming             | 23195                |\n",
       "| Top 4 | Shooting             | 11448                |\n",
       "| Top 5 | Cycling              | 10859                |\n",
       "| Top 6 | Fencing              | 10735                |\n",
       "| Top 7 | Rowing               | 10595                |\n",
       "| Top 8 | Cross Country Skiing |  9133                |\n",
       "| Top 9 | Alpine Skiing        |  8829                |\n",
       "| Top 10 | Wrestling            |  7154                |\n",
       "\n"
      ],
      "text/plain": [
       "       Sport                Participated Teams\n",
       "Top 1  Athletics            38624             \n",
       "Top 2  Gymnastics           26707             \n",
       "Top 3  Swimming             23195             \n",
       "Top 4  Shooting             11448             \n",
       "Top 5  Cycling              10859             \n",
       "Top 6  Fencing              10735             \n",
       "Top 7  Rowing               10595             \n",
       "Top 8  Cross Country Skiing  9133             \n",
       "Top 9  Alpine Skiing         8829             \n",
       "Top 10 Wrestling             7154             "
      ]
     },
     "metadata": {},
     "output_type": "display_data"
    }
   ],
   "source": [
    "topGamesByTeams <- head(sportTeamFreq[order(sportTeamFreq['Participated Teams'], decreasing=TRUE),],10)\n",
    "rownames(topGamesByTeams) <- paste('Top', 1:10)\n",
    "topGamesByTeams"
   ]
  },
  {
   "cell_type": "markdown",
   "metadata": {},
   "source": [
    "Let's now get **how many times each type of sport was played** for games that were played **after 2000**.   "
   ]
  },
  {
   "cell_type": "markdown",
   "metadata": {},
   "source": [
    "_same, as in cells above, but now with one additional filter_"
   ]
  },
  {
   "cell_type": "code",
   "execution_count": 38,
   "metadata": {},
   "outputs": [
    {
     "data": {
      "text/html": [
       "<table>\n",
       "<thead><tr><th></th><th scope=col>Sport</th><th scope=col>Freq</th></tr></thead>\n",
       "<tbody>\n",
       "\t<tr><th scope=row>Top 1</th><td>Athletics           </td><td>11673               </td></tr>\n",
       "\t<tr><th scope=row>Top 2</th><td>Swimming            </td><td> 8214               </td></tr>\n",
       "\t<tr><th scope=row>Top 3</th><td>Gymnastics          </td><td> 5000               </td></tr>\n",
       "\t<tr><th scope=row>Top 4</th><td>Cycling             </td><td> 3192               </td></tr>\n",
       "\t<tr><th scope=row>Top 5</th><td>Cross Country Skiing</td><td> 3076               </td></tr>\n",
       "\t<tr><th scope=row>Top 6</th><td>Shooting            </td><td> 2849               </td></tr>\n",
       "\t<tr><th scope=row>Top 7</th><td>Rowing              </td><td> 2783               </td></tr>\n",
       "\t<tr><th scope=row>Top 8</th><td>Biathlon            </td><td> 2631               </td></tr>\n",
       "\t<tr><th scope=row>Top 9</th><td>Alpine Skiing       </td><td> 2550               </td></tr>\n",
       "\t<tr><th scope=row>Top 10</th><td>Football            </td><td> 2225               </td></tr>\n",
       "</tbody>\n",
       "</table>\n"
      ],
      "text/latex": [
       "\\begin{tabular}{r|ll}\n",
       "  & Sport & Freq\\\\\n",
       "\\hline\n",
       "\tTop 1 & Athletics            & 11673               \\\\\n",
       "\tTop 2 & Swimming             &  8214               \\\\\n",
       "\tTop 3 & Gymnastics           &  5000               \\\\\n",
       "\tTop 4 & Cycling              &  3192               \\\\\n",
       "\tTop 5 & Cross Country Skiing &  3076               \\\\\n",
       "\tTop 6 & Shooting             &  2849               \\\\\n",
       "\tTop 7 & Rowing               &  2783               \\\\\n",
       "\tTop 8 & Biathlon             &  2631               \\\\\n",
       "\tTop 9 & Alpine Skiing        &  2550               \\\\\n",
       "\tTop 10 & Football             &  2225               \\\\\n",
       "\\end{tabular}\n"
      ],
      "text/markdown": [
       "\n",
       "| <!--/--> | Sport | Freq |\n",
       "|---|---|---|\n",
       "| Top 1 | Athletics            | 11673                |\n",
       "| Top 2 | Swimming             |  8214                |\n",
       "| Top 3 | Gymnastics           |  5000                |\n",
       "| Top 4 | Cycling              |  3192                |\n",
       "| Top 5 | Cross Country Skiing |  3076                |\n",
       "| Top 6 | Shooting             |  2849                |\n",
       "| Top 7 | Rowing               |  2783                |\n",
       "| Top 8 | Biathlon             |  2631                |\n",
       "| Top 9 | Alpine Skiing        |  2550                |\n",
       "| Top 10 | Football             |  2225                |\n",
       "\n"
      ],
      "text/plain": [
       "       Sport                Freq \n",
       "Top 1  Athletics            11673\n",
       "Top 2  Swimming              8214\n",
       "Top 3  Gymnastics            5000\n",
       "Top 4  Cycling               3192\n",
       "Top 5  Cross Country Skiing  3076\n",
       "Top 6  Shooting              2849\n",
       "Top 7  Rowing                2783\n",
       "Top 8  Biathlon              2631\n",
       "Top 9  Alpine Skiing         2550\n",
       "Top 10 Football              2225"
      ]
     },
     "metadata": {},
     "output_type": "display_data"
    }
   ],
   "source": [
    "sportTeamContTableLastYears <- as.data.frame(table(athletesData[athletesData['Year']>1999,][c('Sport','Team')]))\n",
    "sportTeamFreqLastYears <- data.frame('Sport'=c(), 'Freq'=c())\n",
    "for(sport in sports){\n",
    "    sportTeamFreqLastYears <- rbind(sportTeamFreqLastYears, \n",
    "                       data.frame('Sport'=sport,\n",
    "                                   'Freq'=sum(sportTeamContTableLastYears[\n",
    "                                       sportTeamContTableLastYears['Sport']==sport,\n",
    "                                       'Freq',])))\n",
    "}\n",
    "topGamesInLastYears <- head(sportTeamFreqLastYears[order(sportTeamFreqLastYears['Freq'], decreasing=TRUE),],10)\n",
    "rownames(topGamesInLastYears) <- paste('Top', 1:10)\n",
    "topGamesInLastYears"
   ]
  },
  {
   "cell_type": "markdown",
   "metadata": {},
   "source": [
    "<a id='sport_recommendations'></a>\n",
    "\n",
    "## <span style=\"color:red\"> Recommendations: </span>\n",
    "\n",
    "So, as we can see, **Athletics**, **Gymnastics** and **Swimming** are the _most popular_ types of sport, as for the whole timeline and also for modern  age.  \n",
    "Athletics were and still are the most popular type of the sport, almost twice as popular, as Gymnastics and Swimming.  \n",
    "Gymnastics moved from second most popular to third most popular type of sport.  \n",
    "\n",
    "However, as I already recommend to sponsor swimmer and Athletics are much more popular than Gymnastics, my **final recommendation is Athletics**."
   ]
  },
  {
   "cell_type": "markdown",
   "metadata": {},
   "source": [
    "<a id='summary'></a>\n",
    "\n",
    "## <span style=\"color:red\"> Summary: </span>\n",
    "  \n",
    "  \n",
    "  \n",
    "After researching this dataset next properties and dependencies were found:\n",
    "\n",
    "* around 15% of participants got medals;\n",
    "* quantity of medals is almost same;\n",
    "* males participated around 2,5 times more than females;\n",
    "* most of the sportsmen were between 60 and 79 kg and between 1,68 and 1,83 meters;\n",
    "* Body Mass Index of most of the medalists was between 18-27; \n",
    "* most of the sportsmen were between 16 and 30 y.o., \n",
    "    * while the biggest part of participants are around 25 y.o.\n",
    "* min and max ages of participant were:\n",
    "    * oldest woman - 74 y.o.,\n",
    "    * oldest man - 97 y.o.,\n",
    "    * youngest man - 10 y.o.,\n",
    "    * youngest woman - 11 y.o.\n",
    "* the most successfull sportsman of all times is Michael Fred Phelps, II,\n",
    "    * with a total of 28 medals\n",
    "    * out of 30 attempts;\n",
    "    * he is 2,5 times better than even best of other sportsmen.\n",
    "* three most popular sports were Athletics, Gymnastics, Swimming,\n",
    "    * but in recent time Swimming moved to the second place \n",
    "      and Gymnastics to the third place,\n",
    "    * with Athletics around 1.5-2.5 times more popular than Gymnastics and Swimming."
   ]
  }
 ],
 "metadata": {
  "kernelspec": {
   "display_name": "R",
   "language": "R",
   "name": "ir"
  },
  "language_info": {
   "codemirror_mode": "r",
   "file_extension": ".r",
   "mimetype": "text/x-r-source",
   "name": "R",
   "pygments_lexer": "r",
   "version": "3.6.1"
  }
 },
 "nbformat": 4,
 "nbformat_minor": 2
}
