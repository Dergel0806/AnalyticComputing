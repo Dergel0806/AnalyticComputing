{
 "cells": [
  {
   "cell_type": "markdown",
   "metadata": {},
   "source": [
    "![](data:image/png;base64,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)\n",
    "\n",
    "# <p style=\"text-align: center;\"> Retail Data Analytics - Looking For Predictors For Weekly Sales</p>\n",
    "## <p style=\"text-align: center;\"> Linear regression on historical sales data from 45 stores </p>\n",
    "#### <p style=\"text-align: right;\"> Made by Ihor Markevych </p>"
   ]
  },
  {
   "cell_type": "markdown",
   "metadata": {},
   "source": [
    "### Objective of the Project\n",
    "\n",
    "Let's investigate dataset of sales to get understanding of factors that can predict sales of shops. We'll try to answer questions like if temperature alone can predict sale, check same for fuel price and some other variables. For this we'll build several simple linear regression models and try to predict one row from the dataset, which we would not include in the training dataset. Before doing this we'll investigate data to have initial understanding of what we shoul include in a model.  \n",
    "  \n",
    "Next, we'll try to build multiple regression model and figure out, whether some of the variables together can predict sales better.   \n",
    "  \n",
    "After doing this we'll check assumptions (which should be done before modeling, but since we have a goal of doing research about linear regression, we can do this after). Those assumptions will give us understanding of whether this data is a good fit for linear regression."
   ]
  },
  {
   "cell_type": "markdown",
   "metadata": {},
   "source": [
    "-----------------------\n",
    "-----------------------"
   ]
  },
  {
   "cell_type": "code",
   "execution_count": 1,
   "metadata": {},
   "outputs": [],
   "source": [
    "library(psych)"
   ]
  },
  {
   "cell_type": "code",
   "execution_count": 2,
   "metadata": {},
   "outputs": [],
   "source": [
    "featuresData <- read.csv('./data/Features data set.csv')\n",
    "salesData <- read.csv('./data/sales data-set.csv')\n",
    "storesData <- read.csv('./data/stores data-set.csv')"
   ]
  },
  {
   "cell_type": "code",
   "execution_count": 3,
   "metadata": {},
   "outputs": [
    {
     "data": {
      "text/html": [
       "<table>\n",
       "<thead><tr><th scope=col>Store</th><th scope=col>Date</th><th scope=col>Temperature</th><th scope=col>Fuel_Price</th><th scope=col>MarkDown1</th><th scope=col>MarkDown2</th><th scope=col>MarkDown3</th><th scope=col>MarkDown4</th><th scope=col>MarkDown5</th><th scope=col>CPI</th><th scope=col>Unemployment</th><th scope=col>IsHoliday</th></tr></thead>\n",
       "<tbody>\n",
       "\t<tr><td>1         </td><td>05/02/2010</td><td>42.31     </td><td>2.572     </td><td>NA        </td><td>NA        </td><td>NA        </td><td>NA        </td><td>NA        </td><td>211.0964  </td><td>8.106     </td><td>FALSE     </td></tr>\n",
       "\t<tr><td>1         </td><td>12/02/2010</td><td>38.51     </td><td>2.548     </td><td>NA        </td><td>NA        </td><td>NA        </td><td>NA        </td><td>NA        </td><td>211.2422  </td><td>8.106     </td><td> TRUE     </td></tr>\n",
       "\t<tr><td>1         </td><td>19/02/2010</td><td>39.93     </td><td>2.514     </td><td>NA        </td><td>NA        </td><td>NA        </td><td>NA        </td><td>NA        </td><td>211.2891  </td><td>8.106     </td><td>FALSE     </td></tr>\n",
       "\t<tr><td>1         </td><td>26/02/2010</td><td>46.63     </td><td>2.561     </td><td>NA        </td><td>NA        </td><td>NA        </td><td>NA        </td><td>NA        </td><td>211.3196  </td><td>8.106     </td><td>FALSE     </td></tr>\n",
       "\t<tr><td>1         </td><td>05/03/2010</td><td>46.50     </td><td>2.625     </td><td>NA        </td><td>NA        </td><td>NA        </td><td>NA        </td><td>NA        </td><td>211.3501  </td><td>8.106     </td><td>FALSE     </td></tr>\n",
       "\t<tr><td>1         </td><td>12/03/2010</td><td>57.79     </td><td>2.667     </td><td>NA        </td><td>NA        </td><td>NA        </td><td>NA        </td><td>NA        </td><td>211.3806  </td><td>8.106     </td><td>FALSE     </td></tr>\n",
       "</tbody>\n",
       "</table>\n"
      ],
      "text/latex": [
       "\\begin{tabular}{r|llllllllllll}\n",
       " Store & Date & Temperature & Fuel\\_Price & MarkDown1 & MarkDown2 & MarkDown3 & MarkDown4 & MarkDown5 & CPI & Unemployment & IsHoliday\\\\\n",
       "\\hline\n",
       "\t 1          & 05/02/2010 & 42.31      & 2.572      & NA         & NA         & NA         & NA         & NA         & 211.0964   & 8.106      & FALSE     \\\\\n",
       "\t 1          & 12/02/2010 & 38.51      & 2.548      & NA         & NA         & NA         & NA         & NA         & 211.2422   & 8.106      &  TRUE     \\\\\n",
       "\t 1          & 19/02/2010 & 39.93      & 2.514      & NA         & NA         & NA         & NA         & NA         & 211.2891   & 8.106      & FALSE     \\\\\n",
       "\t 1          & 26/02/2010 & 46.63      & 2.561      & NA         & NA         & NA         & NA         & NA         & 211.3196   & 8.106      & FALSE     \\\\\n",
       "\t 1          & 05/03/2010 & 46.50      & 2.625      & NA         & NA         & NA         & NA         & NA         & 211.3501   & 8.106      & FALSE     \\\\\n",
       "\t 1          & 12/03/2010 & 57.79      & 2.667      & NA         & NA         & NA         & NA         & NA         & 211.3806   & 8.106      & FALSE     \\\\\n",
       "\\end{tabular}\n"
      ],
      "text/markdown": [
       "\n",
       "| Store | Date | Temperature | Fuel_Price | MarkDown1 | MarkDown2 | MarkDown3 | MarkDown4 | MarkDown5 | CPI | Unemployment | IsHoliday |\n",
       "|---|---|---|---|---|---|---|---|---|---|---|---|\n",
       "| 1          | 05/02/2010 | 42.31      | 2.572      | NA         | NA         | NA         | NA         | NA         | 211.0964   | 8.106      | FALSE      |\n",
       "| 1          | 12/02/2010 | 38.51      | 2.548      | NA         | NA         | NA         | NA         | NA         | 211.2422   | 8.106      |  TRUE      |\n",
       "| 1          | 19/02/2010 | 39.93      | 2.514      | NA         | NA         | NA         | NA         | NA         | 211.2891   | 8.106      | FALSE      |\n",
       "| 1          | 26/02/2010 | 46.63      | 2.561      | NA         | NA         | NA         | NA         | NA         | 211.3196   | 8.106      | FALSE      |\n",
       "| 1          | 05/03/2010 | 46.50      | 2.625      | NA         | NA         | NA         | NA         | NA         | 211.3501   | 8.106      | FALSE      |\n",
       "| 1          | 12/03/2010 | 57.79      | 2.667      | NA         | NA         | NA         | NA         | NA         | 211.3806   | 8.106      | FALSE      |\n",
       "\n"
      ],
      "text/plain": [
       "  Store Date       Temperature Fuel_Price MarkDown1 MarkDown2 MarkDown3\n",
       "1 1     05/02/2010 42.31       2.572      NA        NA        NA       \n",
       "2 1     12/02/2010 38.51       2.548      NA        NA        NA       \n",
       "3 1     19/02/2010 39.93       2.514      NA        NA        NA       \n",
       "4 1     26/02/2010 46.63       2.561      NA        NA        NA       \n",
       "5 1     05/03/2010 46.50       2.625      NA        NA        NA       \n",
       "6 1     12/03/2010 57.79       2.667      NA        NA        NA       \n",
       "  MarkDown4 MarkDown5 CPI      Unemployment IsHoliday\n",
       "1 NA        NA        211.0964 8.106        FALSE    \n",
       "2 NA        NA        211.2422 8.106         TRUE    \n",
       "3 NA        NA        211.2891 8.106        FALSE    \n",
       "4 NA        NA        211.3196 8.106        FALSE    \n",
       "5 NA        NA        211.3501 8.106        FALSE    \n",
       "6 NA        NA        211.3806 8.106        FALSE    "
      ]
     },
     "metadata": {},
     "output_type": "display_data"
    },
    {
     "data": {
      "text/html": [
       "<table>\n",
       "<thead><tr><th scope=col>Store</th><th scope=col>Dept</th><th scope=col>Date</th><th scope=col>Weekly_Sales</th><th scope=col>IsHoliday</th></tr></thead>\n",
       "<tbody>\n",
       "\t<tr><td>1         </td><td>1         </td><td>05/02/2010</td><td>24924.50  </td><td>FALSE     </td></tr>\n",
       "\t<tr><td>1         </td><td>1         </td><td>12/02/2010</td><td>46039.49  </td><td> TRUE     </td></tr>\n",
       "\t<tr><td>1         </td><td>1         </td><td>19/02/2010</td><td>41595.55  </td><td>FALSE     </td></tr>\n",
       "\t<tr><td>1         </td><td>1         </td><td>26/02/2010</td><td>19403.54  </td><td>FALSE     </td></tr>\n",
       "\t<tr><td>1         </td><td>1         </td><td>05/03/2010</td><td>21827.90  </td><td>FALSE     </td></tr>\n",
       "\t<tr><td>1         </td><td>1         </td><td>12/03/2010</td><td>21043.39  </td><td>FALSE     </td></tr>\n",
       "</tbody>\n",
       "</table>\n"
      ],
      "text/latex": [
       "\\begin{tabular}{r|lllll}\n",
       " Store & Dept & Date & Weekly\\_Sales & IsHoliday\\\\\n",
       "\\hline\n",
       "\t 1          & 1          & 05/02/2010 & 24924.50   & FALSE     \\\\\n",
       "\t 1          & 1          & 12/02/2010 & 46039.49   &  TRUE     \\\\\n",
       "\t 1          & 1          & 19/02/2010 & 41595.55   & FALSE     \\\\\n",
       "\t 1          & 1          & 26/02/2010 & 19403.54   & FALSE     \\\\\n",
       "\t 1          & 1          & 05/03/2010 & 21827.90   & FALSE     \\\\\n",
       "\t 1          & 1          & 12/03/2010 & 21043.39   & FALSE     \\\\\n",
       "\\end{tabular}\n"
      ],
      "text/markdown": [
       "\n",
       "| Store | Dept | Date | Weekly_Sales | IsHoliday |\n",
       "|---|---|---|---|---|\n",
       "| 1          | 1          | 05/02/2010 | 24924.50   | FALSE      |\n",
       "| 1          | 1          | 12/02/2010 | 46039.49   |  TRUE      |\n",
       "| 1          | 1          | 19/02/2010 | 41595.55   | FALSE      |\n",
       "| 1          | 1          | 26/02/2010 | 19403.54   | FALSE      |\n",
       "| 1          | 1          | 05/03/2010 | 21827.90   | FALSE      |\n",
       "| 1          | 1          | 12/03/2010 | 21043.39   | FALSE      |\n",
       "\n"
      ],
      "text/plain": [
       "  Store Dept Date       Weekly_Sales IsHoliday\n",
       "1 1     1    05/02/2010 24924.50     FALSE    \n",
       "2 1     1    12/02/2010 46039.49      TRUE    \n",
       "3 1     1    19/02/2010 41595.55     FALSE    \n",
       "4 1     1    26/02/2010 19403.54     FALSE    \n",
       "5 1     1    05/03/2010 21827.90     FALSE    \n",
       "6 1     1    12/03/2010 21043.39     FALSE    "
      ]
     },
     "metadata": {},
     "output_type": "display_data"
    },
    {
     "data": {
      "text/html": [
       "<table>\n",
       "<thead><tr><th scope=col>Store</th><th scope=col>Type</th><th scope=col>Size</th></tr></thead>\n",
       "<tbody>\n",
       "\t<tr><td>1     </td><td>A     </td><td>151315</td></tr>\n",
       "\t<tr><td>2     </td><td>A     </td><td>202307</td></tr>\n",
       "\t<tr><td>3     </td><td>B     </td><td> 37392</td></tr>\n",
       "\t<tr><td>4     </td><td>A     </td><td>205863</td></tr>\n",
       "\t<tr><td>5     </td><td>B     </td><td> 34875</td></tr>\n",
       "\t<tr><td>6     </td><td>A     </td><td>202505</td></tr>\n",
       "</tbody>\n",
       "</table>\n"
      ],
      "text/latex": [
       "\\begin{tabular}{r|lll}\n",
       " Store & Type & Size\\\\\n",
       "\\hline\n",
       "\t 1      & A      & 151315\\\\\n",
       "\t 2      & A      & 202307\\\\\n",
       "\t 3      & B      &  37392\\\\\n",
       "\t 4      & A      & 205863\\\\\n",
       "\t 5      & B      &  34875\\\\\n",
       "\t 6      & A      & 202505\\\\\n",
       "\\end{tabular}\n"
      ],
      "text/markdown": [
       "\n",
       "| Store | Type | Size |\n",
       "|---|---|---|\n",
       "| 1      | A      | 151315 |\n",
       "| 2      | A      | 202307 |\n",
       "| 3      | B      |  37392 |\n",
       "| 4      | A      | 205863 |\n",
       "| 5      | B      |  34875 |\n",
       "| 6      | A      | 202505 |\n",
       "\n"
      ],
      "text/plain": [
       "  Store Type Size  \n",
       "1 1     A    151315\n",
       "2 2     A    202307\n",
       "3 3     B     37392\n",
       "4 4     A    205863\n",
       "5 5     B     34875\n",
       "6 6     A    202505"
      ]
     },
     "metadata": {},
     "output_type": "display_data"
    }
   ],
   "source": [
    "head(featuresData)\n",
    "head(salesData)\n",
    "head(storesData)"
   ]
  },
  {
   "cell_type": "markdown",
   "metadata": {},
   "source": [
    "### Merge"
   ]
  },
  {
   "cell_type": "markdown",
   "metadata": {},
   "source": [
    "_we are merging those three datasets by common columns - `Store` for `featuresData` and `storesData` and `Store`, `Date`, `IsHoliday` for newly merged dataset and `salesData`_"
   ]
  },
  {
   "cell_type": "code",
   "execution_count": 4,
   "metadata": {},
   "outputs": [],
   "source": [
    "sales_all <- merge(featuresData, storesData, by='Store')\n",
    "sales_all <- merge(sales_all, salesData, by=c('Store', 'Date', 'IsHoliday'))"
   ]
  },
  {
   "cell_type": "markdown",
   "metadata": {},
   "source": [
    "Let's see which data we got."
   ]
  },
  {
   "cell_type": "code",
   "execution_count": 5,
   "metadata": {},
   "outputs": [
    {
     "data": {
      "text/html": [
       "<table>\n",
       "<thead><tr><th scope=col>Store</th><th scope=col>Date</th><th scope=col>IsHoliday</th><th scope=col>Temperature</th><th scope=col>Fuel_Price</th><th scope=col>MarkDown1</th><th scope=col>MarkDown2</th><th scope=col>MarkDown3</th><th scope=col>MarkDown4</th><th scope=col>MarkDown5</th><th scope=col>CPI</th><th scope=col>Unemployment</th><th scope=col>Type</th><th scope=col>Size</th><th scope=col>Dept</th><th scope=col>Weekly_Sales</th></tr></thead>\n",
       "<tbody>\n",
       "\t<tr><td>1         </td><td>01/04/2011</td><td>FALSE     </td><td>59.17     </td><td>3.524     </td><td>NA        </td><td>NA        </td><td>NA        </td><td>NA        </td><td>NA        </td><td>214.8372  </td><td>7.682     </td><td>A         </td><td>151315    </td><td>49        </td><td>13167.85  </td></tr>\n",
       "\t<tr><td>1         </td><td>01/04/2011</td><td>FALSE     </td><td>59.17     </td><td>3.524     </td><td>NA        </td><td>NA        </td><td>NA        </td><td>NA        </td><td>NA        </td><td>214.8372  </td><td>7.682     </td><td>A         </td><td>151315    </td><td>26        </td><td> 5946.53  </td></tr>\n",
       "\t<tr><td>1         </td><td>01/04/2011</td><td>FALSE     </td><td>59.17     </td><td>3.524     </td><td>NA        </td><td>NA        </td><td>NA        </td><td>NA        </td><td>NA        </td><td>214.8372  </td><td>7.682     </td><td>A         </td><td>151315    </td><td>81        </td><td>28545.23  </td></tr>\n",
       "\t<tr><td>1         </td><td>01/04/2011</td><td>FALSE     </td><td>59.17     </td><td>3.524     </td><td>NA        </td><td>NA        </td><td>NA        </td><td>NA        </td><td>NA        </td><td>214.8372  </td><td>7.682     </td><td>A         </td><td>151315    </td><td>34        </td><td> 9949.54  </td></tr>\n",
       "\t<tr><td>1         </td><td>01/04/2011</td><td>FALSE     </td><td>59.17     </td><td>3.524     </td><td>NA        </td><td>NA        </td><td>NA        </td><td>NA        </td><td>NA        </td><td>214.8372  </td><td>7.682     </td><td>A         </td><td>151315    </td><td>59        </td><td>  316.86  </td></tr>\n",
       "\t<tr><td>1         </td><td>01/04/2011</td><td>FALSE     </td><td>59.17     </td><td>3.524     </td><td>NA        </td><td>NA        </td><td>NA        </td><td>NA        </td><td>NA        </td><td>214.8372  </td><td>7.682     </td><td>A         </td><td>151315    </td><td>30        </td><td> 3897.48  </td></tr>\n",
       "</tbody>\n",
       "</table>\n"
      ],
      "text/latex": [
       "\\begin{tabular}{r|llllllllllllllll}\n",
       " Store & Date & IsHoliday & Temperature & Fuel\\_Price & MarkDown1 & MarkDown2 & MarkDown3 & MarkDown4 & MarkDown5 & CPI & Unemployment & Type & Size & Dept & Weekly\\_Sales\\\\\n",
       "\\hline\n",
       "\t 1          & 01/04/2011 & FALSE      & 59.17      & 3.524      & NA         & NA         & NA         & NA         & NA         & 214.8372   & 7.682      & A          & 151315     & 49         & 13167.85  \\\\\n",
       "\t 1          & 01/04/2011 & FALSE      & 59.17      & 3.524      & NA         & NA         & NA         & NA         & NA         & 214.8372   & 7.682      & A          & 151315     & 26         &  5946.53  \\\\\n",
       "\t 1          & 01/04/2011 & FALSE      & 59.17      & 3.524      & NA         & NA         & NA         & NA         & NA         & 214.8372   & 7.682      & A          & 151315     & 81         & 28545.23  \\\\\n",
       "\t 1          & 01/04/2011 & FALSE      & 59.17      & 3.524      & NA         & NA         & NA         & NA         & NA         & 214.8372   & 7.682      & A          & 151315     & 34         &  9949.54  \\\\\n",
       "\t 1          & 01/04/2011 & FALSE      & 59.17      & 3.524      & NA         & NA         & NA         & NA         & NA         & 214.8372   & 7.682      & A          & 151315     & 59         &   316.86  \\\\\n",
       "\t 1          & 01/04/2011 & FALSE      & 59.17      & 3.524      & NA         & NA         & NA         & NA         & NA         & 214.8372   & 7.682      & A          & 151315     & 30         &  3897.48  \\\\\n",
       "\\end{tabular}\n"
      ],
      "text/markdown": [
       "\n",
       "| Store | Date | IsHoliday | Temperature | Fuel_Price | MarkDown1 | MarkDown2 | MarkDown3 | MarkDown4 | MarkDown5 | CPI | Unemployment | Type | Size | Dept | Weekly_Sales |\n",
       "|---|---|---|---|---|---|---|---|---|---|---|---|---|---|---|---|\n",
       "| 1          | 01/04/2011 | FALSE      | 59.17      | 3.524      | NA         | NA         | NA         | NA         | NA         | 214.8372   | 7.682      | A          | 151315     | 49         | 13167.85   |\n",
       "| 1          | 01/04/2011 | FALSE      | 59.17      | 3.524      | NA         | NA         | NA         | NA         | NA         | 214.8372   | 7.682      | A          | 151315     | 26         |  5946.53   |\n",
       "| 1          | 01/04/2011 | FALSE      | 59.17      | 3.524      | NA         | NA         | NA         | NA         | NA         | 214.8372   | 7.682      | A          | 151315     | 81         | 28545.23   |\n",
       "| 1          | 01/04/2011 | FALSE      | 59.17      | 3.524      | NA         | NA         | NA         | NA         | NA         | 214.8372   | 7.682      | A          | 151315     | 34         |  9949.54   |\n",
       "| 1          | 01/04/2011 | FALSE      | 59.17      | 3.524      | NA         | NA         | NA         | NA         | NA         | 214.8372   | 7.682      | A          | 151315     | 59         |   316.86   |\n",
       "| 1          | 01/04/2011 | FALSE      | 59.17      | 3.524      | NA         | NA         | NA         | NA         | NA         | 214.8372   | 7.682      | A          | 151315     | 30         |  3897.48   |\n",
       "\n"
      ],
      "text/plain": [
       "  Store Date       IsHoliday Temperature Fuel_Price MarkDown1 MarkDown2\n",
       "1 1     01/04/2011 FALSE     59.17       3.524      NA        NA       \n",
       "2 1     01/04/2011 FALSE     59.17       3.524      NA        NA       \n",
       "3 1     01/04/2011 FALSE     59.17       3.524      NA        NA       \n",
       "4 1     01/04/2011 FALSE     59.17       3.524      NA        NA       \n",
       "5 1     01/04/2011 FALSE     59.17       3.524      NA        NA       \n",
       "6 1     01/04/2011 FALSE     59.17       3.524      NA        NA       \n",
       "  MarkDown3 MarkDown4 MarkDown5 CPI      Unemployment Type Size   Dept\n",
       "1 NA        NA        NA        214.8372 7.682        A    151315 49  \n",
       "2 NA        NA        NA        214.8372 7.682        A    151315 26  \n",
       "3 NA        NA        NA        214.8372 7.682        A    151315 81  \n",
       "4 NA        NA        NA        214.8372 7.682        A    151315 34  \n",
       "5 NA        NA        NA        214.8372 7.682        A    151315 59  \n",
       "6 NA        NA        NA        214.8372 7.682        A    151315 30  \n",
       "  Weekly_Sales\n",
       "1 13167.85    \n",
       "2  5946.53    \n",
       "3 28545.23    \n",
       "4  9949.54    \n",
       "5   316.86    \n",
       "6  3897.48    "
      ]
     },
     "metadata": {},
     "output_type": "display_data"
    }
   ],
   "source": [
    "head(sales_all)"
   ]
  },
  {
   "cell_type": "markdown",
   "metadata": {},
   "source": [
    "_since we don't want Stores and Departments to be interpreted as numbers, we'll convert them to factors_"
   ]
  },
  {
   "cell_type": "code",
   "execution_count": 6,
   "metadata": {},
   "outputs": [],
   "source": [
    "sales_all[, 'Store'] <- as.factor(sales_all[, 'Store'])\n",
    "sales_all[, 'Dept'] <- as.factor(sales_all[, 'Dept'])"
   ]
  },
  {
   "cell_type": "markdown",
   "metadata": {},
   "source": [
    "_and let's extract one row (without NAs) to use for prediction to check our models_"
   ]
  },
  {
   "cell_type": "code",
   "execution_count": 7,
   "metadata": {},
   "outputs": [],
   "source": [
    "rowToPredict  <- sales_all[72,]\n",
    "sales_all <- sales_all[-72,]"
   ]
  },
  {
   "cell_type": "markdown",
   "metadata": {},
   "source": [
    "### Data Exploration"
   ]
  },
  {
   "cell_type": "markdown",
   "metadata": {},
   "source": [
    "Let's see **how many departments** we have."
   ]
  },
  {
   "cell_type": "code",
   "execution_count": 8,
   "metadata": {},
   "outputs": [
    {
     "name": "stdout",
     "output_type": "stream",
     "text": [
      "We have 81 departments total."
     ]
    }
   ],
   "source": [
    "cat('We have', length(unique(sales_all[,'Dept'])), 'departments total.')"
   ]
  },
  {
   "cell_type": "markdown",
   "metadata": {},
   "source": [
    "Let's see **which types** we have."
   ]
  },
  {
   "cell_type": "code",
   "execution_count": 9,
   "metadata": {},
   "outputs": [
    {
     "data": {
      "text/html": [
       "<ol class=list-inline>\n",
       "\t<li>A</li>\n",
       "\t<li>B</li>\n",
       "\t<li>C</li>\n",
       "</ol>\n",
       "\n",
       "<details>\n",
       "\t<summary style=display:list-item;cursor:pointer>\n",
       "\t\t<strong>Levels</strong>:\n",
       "\t</summary>\n",
       "\t<ol class=list-inline>\n",
       "\t\t<li>'A'</li>\n",
       "\t\t<li>'B'</li>\n",
       "\t\t<li>'C'</li>\n",
       "\t</ol>\n",
       "</details>"
      ],
      "text/latex": [
       "\\begin{enumerate*}\n",
       "\\item A\n",
       "\\item B\n",
       "\\item C\n",
       "\\end{enumerate*}\n",
       "\n",
       "\\emph{Levels}: \\begin{enumerate*}\n",
       "\\item 'A'\n",
       "\\item 'B'\n",
       "\\item 'C'\n",
       "\\end{enumerate*}\n"
      ],
      "text/markdown": [
       "1. A\n",
       "2. B\n",
       "3. C\n",
       "\n",
       "\n",
       "\n",
       "**Levels**: 1. 'A'\n",
       "2. 'B'\n",
       "3. 'C'\n",
       "\n",
       "\n"
      ],
      "text/plain": [
       "[1] A B C\n",
       "Levels: A B C"
      ]
     },
     "metadata": {},
     "output_type": "display_data"
    }
   ],
   "source": [
    "unique(sales_all[,'Type'])"
   ]
  },
  {
   "cell_type": "markdown",
   "metadata": {},
   "source": [
    "We would like to know also **max weekly sale** value."
   ]
  },
  {
   "cell_type": "code",
   "execution_count": 10,
   "metadata": {},
   "outputs": [
    {
     "name": "stdout",
     "output_type": "stream",
     "text": [
      "Max Weekly Sales value is 693099.4"
     ]
    }
   ],
   "source": [
    "cat('Max Weekly Sales value is', max(sales_all[,'Weekly_Sales']))"
   ]
  },
  {
   "cell_type": "markdown",
   "metadata": {},
   "source": [
    "Let's check for **covariation**, as this will be useful for our future model."
   ]
  },
  {
   "cell_type": "code",
   "execution_count": 11,
   "metadata": {},
   "outputs": [
    {
     "data": {
      "image/png": "[encoded data removed]",
      "text/plain": [
       "plot without title"
      ]
     },
     "metadata": {},
     "output_type": "display_data"
    }
   ],
   "source": [
    "pairs.panels(sales_all[, c('Weekly_Sales', 'Date')])"
   ]
  },
  {
   "cell_type": "markdown",
   "metadata": {},
   "source": [
    "Weekly Sales almost do not correlate with date. Also, since we are not using timeseries analyse, we won't use Date in our future model."
   ]
  },
  {
   "cell_type": "code",
   "execution_count": 12,
   "metadata": {},
   "outputs": [
    {
     "data": {
      "image/png": "[encoded data removed]",
      "text/plain": [
       "plot without title"
      ]
     },
     "metadata": {},
     "output_type": "display_data"
    }
   ],
   "source": [
    "pairs.panels(sales_all[, c('Weekly_Sales', 'MarkDown1', 'MarkDown2', 'MarkDown3', 'MarkDown4', 'MarkDown5')])"
   ]
  },
  {
   "cell_type": "markdown",
   "metadata": {},
   "source": [
    "Weekly Sales correlate with MarkDowns a bit."
   ]
  },
  {
   "cell_type": "code",
   "execution_count": 13,
   "metadata": {},
   "outputs": [
    {
     "data": {
      "image/png": "[encoded data removed]",
      "text/plain": [
       "plot without title"
      ]
     },
     "metadata": {},
     "output_type": "display_data"
    }
   ],
   "source": [
    "pairs.panels(sales_all[, c('Weekly_Sales', 'Fuel_Price', 'Temperature')])"
   ]
  },
  {
   "cell_type": "markdown",
   "metadata": {},
   "source": [
    "Weekly sales do not correlate with Fuel_Price and Temperature."
   ]
  },
  {
   "cell_type": "code",
   "execution_count": 14,
   "metadata": {},
   "outputs": [
    {
     "data": {
      "image/png": "[encoded data removed]",
      "text/plain": [
       "plot without title"
      ]
     },
     "metadata": {},
     "output_type": "display_data"
    }
   ],
   "source": [
    "pairs.panels(sales_all[, c('Weekly_Sales', 'CPI', 'Unemployment')])"
   ]
  },
  {
   "cell_type": "markdown",
   "metadata": {},
   "source": [
    "Weekly sales are almost non-correlated with CPI and Unemployment."
   ]
  },
  {
   "cell_type": "code",
   "execution_count": 15,
   "metadata": {},
   "outputs": [
    {
     "data": {
      "image/png": "[encoded data removed]",
      "text/plain": [
       "plot without title"
      ]
     },
     "metadata": {},
     "output_type": "display_data"
    }
   ],
   "source": [
    "pairs.panels(sales_all[, c('Weekly_Sales', 'Size')])"
   ]
  },
  {
   "cell_type": "markdown",
   "metadata": {},
   "source": [
    "Weekly sales are quite correlated with size!"
   ]
  },
  {
   "cell_type": "code",
   "execution_count": 16,
   "metadata": {},
   "outputs": [
    {
     "data": {
      "image/png": "[encoded data removed]",
      "text/plain": [
       "plot without title"
      ]
     },
     "metadata": {},
     "output_type": "display_data"
    }
   ],
   "source": [
    "pairs.panels(sales_all[, c('Weekly_Sales', 'Dept', 'Type')])"
   ]
  },
  {
   "cell_type": "markdown",
   "metadata": {},
   "source": [
    "Sales are quite correlated with department number and with type."
   ]
  },
  {
   "cell_type": "code",
   "execution_count": 17,
   "metadata": {},
   "outputs": [
    {
     "data": {
      "image/png": "[encoded data removed]",
      "text/plain": [
       "plot without title"
      ]
     },
     "metadata": {},
     "output_type": "display_data"
    }
   ],
   "source": [
    "pairs.panels(sales_all[, c('Weekly_Sales', 'Store')])"
   ]
  },
  {
   "cell_type": "markdown",
   "metadata": {},
   "source": [
    "Sales and Store number is a bit correlated."
   ]
  },
  {
   "cell_type": "markdown",
   "metadata": {},
   "source": [
    "### Simple Linear Regression"
   ]
  },
  {
   "cell_type": "markdown",
   "metadata": {},
   "source": [
    "#### Model 1\n",
    "Model1 will contain Size as predictor."
   ]
  },
  {
   "cell_type": "code",
   "execution_count": 18,
   "metadata": {},
   "outputs": [],
   "source": [
    "model1 <- lm(Weekly_Sales ~ Size, data = sales_all) "
   ]
  },
  {
   "cell_type": "code",
   "execution_count": 19,
   "metadata": {
    "scrolled": true
   },
   "outputs": [
    {
     "data": {
      "text/plain": [
       "\n",
       "Call:\n",
       "lm(formula = Weekly_Sales ~ Size, data = sales_all)\n",
       "\n",
       "Residuals:\n",
       "   Min     1Q Median     3Q    Max \n",
       "-27288 -12872  -6620   4283 678046 \n",
       "\n",
       "Coefficients:\n",
       "             Estimate Std. Error t value Pr(>|t|)    \n",
       "(Intercept) 3.565e+03  8.328e+01   42.81   <2e-16 ***\n",
       "Size        9.081e-02  5.563e-04  163.24   <2e-16 ***\n",
       "---\n",
       "Signif. codes:  0 '***' 0.001 '**' 0.01 '*' 0.05 '.' 0.1 ' ' 1\n",
       "\n",
       "Residual standard error: 22030 on 421567 degrees of freedom\n",
       "Multiple R-squared:  0.05945,\tAdjusted R-squared:  0.05945 \n",
       "F-statistic: 2.665e+04 on 1 and 421567 DF,  p-value: < 2.2e-16\n"
      ]
     },
     "metadata": {},
     "output_type": "display_data"
    }
   ],
   "source": [
    "summary(model1)"
   ]
  },
  {
   "cell_type": "code",
   "execution_count": 20,
   "metadata": {},
   "outputs": [
    {
     "data": {
      "text/html": [
       "<table>\n",
       "<thead><tr><th></th><th scope=col>fit</th><th scope=col>lwr</th><th scope=col>upr</th></tr></thead>\n",
       "<tbody>\n",
       "\t<tr><th scope=row>72</th><td>17305.85</td><td>-25864  </td><td>60475.7 </td></tr>\n",
       "</tbody>\n",
       "</table>\n"
      ],
      "text/latex": [
       "\\begin{tabular}{r|lll}\n",
       "  & fit & lwr & upr\\\\\n",
       "\\hline\n",
       "\t72 & 17305.85 & -25864   & 60475.7 \\\\\n",
       "\\end{tabular}\n"
      ],
      "text/markdown": [
       "\n",
       "| <!--/--> | fit | lwr | upr |\n",
       "|---|---|---|---|\n",
       "| 72 | 17305.85 | -25864   | 60475.7  |\n",
       "\n"
      ],
      "text/plain": [
       "   fit      lwr    upr    \n",
       "72 17305.85 -25864 60475.7"
      ]
     },
     "metadata": {},
     "output_type": "display_data"
    },
    {
     "name": "stdout",
     "output_type": "stream",
     "text": [
      "Real value is 41039.74"
     ]
    }
   ],
   "source": [
    "predict.lm(model1, rowToPredict, interval = \"predict\")\n",
    "cat('Real value is', rowToPredict$Weekly_Sales)"
   ]
  },
  {
   "cell_type": "markdown",
   "metadata": {},
   "source": [
    "Looks like this model is not really good, due to low Adjusted R-squared and bad prediction accuracy."
   ]
  },
  {
   "cell_type": "markdown",
   "metadata": {},
   "source": [
    "$$Weekly\\_Sales = 3.565e^{03} + 9.081e^{02}*Size$$\n",
    "This means that due to this model increase in size by one point will result in increase of sales for $9.081e^{02}$."
   ]
  },
  {
   "cell_type": "markdown",
   "metadata": {},
   "source": [
    "#### Model 2\n",
    "Model2 will contain Temperature as predictor."
   ]
  },
  {
   "cell_type": "code",
   "execution_count": 21,
   "metadata": {},
   "outputs": [],
   "source": [
    "model2 <- lm(Weekly_Sales ~ Temperature, data = sales_all) "
   ]
  },
  {
   "cell_type": "code",
   "execution_count": 22,
   "metadata": {
    "scrolled": true
   },
   "outputs": [
    {
     "data": {
      "text/plain": [
       "\n",
       "Call:\n",
       "lm(formula = Weekly_Sales ~ Temperature, data = sales_all)\n",
       "\n",
       "Residuals:\n",
       "   Min     1Q Median     3Q    Max \n",
       "-20937 -13906  -8368   4224 677105 \n",
       "\n",
       "Coefficients:\n",
       "             Estimate Std. Error t value Pr(>|t|)    \n",
       "(Intercept) 16152.453    119.184 135.525   <2e-16 ***\n",
       "Temperature    -2.850      1.896  -1.503    0.133    \n",
       "---\n",
       "Signif. codes:  0 '***' 0.001 '**' 0.01 '*' 0.05 '.' 0.1 ' ' 1\n",
       "\n",
       "Residual standard error: 22710 on 421567 degrees of freedom\n",
       "Multiple R-squared:  5.359e-06,\tAdjusted R-squared:  2.987e-06 \n",
       "F-statistic: 2.259 on 1 and 421567 DF,  p-value: 0.1328\n"
      ]
     },
     "metadata": {},
     "output_type": "display_data"
    }
   ],
   "source": [
    "summary(model2)"
   ]
  },
  {
   "cell_type": "code",
   "execution_count": 23,
   "metadata": {},
   "outputs": [
    {
     "data": {
      "text/html": [
       "<table>\n",
       "<thead><tr><th></th><th scope=col>fit</th><th scope=col>lwr</th><th scope=col>upr</th></tr></thead>\n",
       "<tbody>\n",
       "\t<tr><th scope=row>72</th><td>15930.3  </td><td>-28582.96</td><td>60443.55 </td></tr>\n",
       "</tbody>\n",
       "</table>\n"
      ],
      "text/latex": [
       "\\begin{tabular}{r|lll}\n",
       "  & fit & lwr & upr\\\\\n",
       "\\hline\n",
       "\t72 & 15930.3   & -28582.96 & 60443.55 \\\\\n",
       "\\end{tabular}\n"
      ],
      "text/markdown": [
       "\n",
       "| <!--/--> | fit | lwr | upr |\n",
       "|---|---|---|---|\n",
       "| 72 | 15930.3   | -28582.96 | 60443.55  |\n",
       "\n"
      ],
      "text/plain": [
       "   fit     lwr       upr     \n",
       "72 15930.3 -28582.96 60443.55"
      ]
     },
     "metadata": {},
     "output_type": "display_data"
    },
    {
     "name": "stdout",
     "output_type": "stream",
     "text": [
      "Real value is 41039.74"
     ]
    }
   ],
   "source": [
    "predict.lm(model2, rowToPredict, interval = \"predict\")\n",
    "cat('Real value is', rowToPredict$Weekly_Sales)"
   ]
  },
  {
   "cell_type": "markdown",
   "metadata": {},
   "source": [
    "Looks like this model is even worse, due to low Adjusted R-squared and bad prediction accuracy."
   ]
  },
  {
   "cell_type": "markdown",
   "metadata": {},
   "source": [
    "$$Weekly\\_Sales = 16152.325 -2.847*Temperature$$\n",
    "This means that due to this model increase in Temperature by one point will result in decrease of sales for $2.850$."
   ]
  },
  {
   "cell_type": "markdown",
   "metadata": {},
   "source": [
    "#### Model 3\n",
    "Model3 will be based on CPI."
   ]
  },
  {
   "cell_type": "code",
   "execution_count": 24,
   "metadata": {},
   "outputs": [],
   "source": [
    "model3 <- lm(Weekly_Sales ~ CPI, data = sales_all) "
   ]
  },
  {
   "cell_type": "code",
   "execution_count": 25,
   "metadata": {},
   "outputs": [
    {
     "data": {
      "text/plain": [
       "\n",
       "Call:\n",
       "lm(formula = Weekly_Sales ~ CPI, data = sales_all)\n",
       "\n",
       "Residuals:\n",
       "   Min     1Q Median     3Q    Max \n",
       "-21515 -13842  -8358   4224 676578 \n",
       "\n",
       "Coefficients:\n",
       "              Estimate Std. Error t value Pr(>|t|)    \n",
       "(Intercept) 18058.8600   156.8407  115.14   <2e-16 ***\n",
       "CPI           -12.1357     0.8931  -13.59   <2e-16 ***\n",
       "---\n",
       "Signif. codes:  0 '***' 0.001 '**' 0.01 '*' 0.05 '.' 0.1 ' ' 1\n",
       "\n",
       "Residual standard error: 22710 on 421567 degrees of freedom\n",
       "Multiple R-squared:  0.0004378,\tAdjusted R-squared:  0.0004355 \n",
       "F-statistic: 184.7 on 1 and 421567 DF,  p-value: < 2.2e-16\n"
      ]
     },
     "metadata": {},
     "output_type": "display_data"
    }
   ],
   "source": [
    "summary(model3)"
   ]
  },
  {
   "cell_type": "code",
   "execution_count": 26,
   "metadata": {},
   "outputs": [
    {
     "data": {
      "text/html": [
       "<table>\n",
       "<thead><tr><th></th><th scope=col>fit</th><th scope=col>lwr</th><th scope=col>upr</th></tr></thead>\n",
       "<tbody>\n",
       "\t<tr><th scope=row>72</th><td>15367.79 </td><td>-29135.87</td><td>59871.46 </td></tr>\n",
       "</tbody>\n",
       "</table>\n"
      ],
      "text/latex": [
       "\\begin{tabular}{r|lll}\n",
       "  & fit & lwr & upr\\\\\n",
       "\\hline\n",
       "\t72 & 15367.79  & -29135.87 & 59871.46 \\\\\n",
       "\\end{tabular}\n"
      ],
      "text/markdown": [
       "\n",
       "| <!--/--> | fit | lwr | upr |\n",
       "|---|---|---|---|\n",
       "| 72 | 15367.79  | -29135.87 | 59871.46  |\n",
       "\n"
      ],
      "text/plain": [
       "   fit      lwr       upr     \n",
       "72 15367.79 -29135.87 59871.46"
      ]
     },
     "metadata": {},
     "output_type": "display_data"
    },
    {
     "name": "stdout",
     "output_type": "stream",
     "text": [
      "Real value is 41039.74"
     ]
    }
   ],
   "source": [
    "predict.lm(model3, rowToPredict, interval = \"predict\")\n",
    "cat('Real value is', rowToPredict$Weekly_Sales)"
   ]
  },
  {
   "cell_type": "markdown",
   "metadata": {},
   "source": [
    "Again, this model is very bad."
   ]
  },
  {
   "cell_type": "markdown",
   "metadata": {},
   "source": [
    "$$Weekly\\_Sales = 18058.5772 -12.1337*CPI$$\n",
    "This means that due to this model increase in CPI by one point will result in decrease of sales for $12.1337$."
   ]
  },
  {
   "cell_type": "markdown",
   "metadata": {},
   "source": [
    "#### Model 4\n",
    "Model4 is based on Unemployment."
   ]
  },
  {
   "cell_type": "code",
   "execution_count": 27,
   "metadata": {},
   "outputs": [],
   "source": [
    "model4 <- lm(Weekly_Sales ~ Unemployment, data = sales_all) "
   ]
  },
  {
   "cell_type": "code",
   "execution_count": 28,
   "metadata": {},
   "outputs": [
    {
     "data": {
      "text/plain": [
       "\n",
       "Call:\n",
       "lm(formula = Weekly_Sales ~ Unemployment, data = sales_all)\n",
       "\n",
       "Residuals:\n",
       "   Min     1Q Median     3Q    Max \n",
       "-19677 -13872  -8376   4244 677447 \n",
       "\n",
       "Coefficients:\n",
       "             Estimate Std. Error t value Pr(>|t|)    \n",
       "(Intercept)  18490.53     153.42   120.5   <2e-16 ***\n",
       "Unemployment  -315.23      18.77   -16.8   <2e-16 ***\n",
       "---\n",
       "Signif. codes:  0 '***' 0.001 '**' 0.01 '*' 0.05 '.' 0.1 ' ' 1\n",
       "\n",
       "Residual standard error: 22700 on 421567 degrees of freedom\n",
       "Multiple R-squared:  0.0006689,\tAdjusted R-squared:  0.0006665 \n",
       "F-statistic: 282.2 on 1 and 421567 DF,  p-value: < 2.2e-16\n"
      ]
     },
     "metadata": {},
     "output_type": "display_data"
    }
   ],
   "source": [
    "summary(model4)"
   ]
  },
  {
   "cell_type": "code",
   "execution_count": 29,
   "metadata": {},
   "outputs": [
    {
     "data": {
      "text/html": [
       "<table>\n",
       "<thead><tr><th></th><th scope=col>fit</th><th scope=col>lwr</th><th scope=col>upr</th></tr></thead>\n",
       "<tbody>\n",
       "\t<tr><th scope=row>72</th><td>16238.83 </td><td>-28259.61</td><td>60737.28 </td></tr>\n",
       "</tbody>\n",
       "</table>\n"
      ],
      "text/latex": [
       "\\begin{tabular}{r|lll}\n",
       "  & fit & lwr & upr\\\\\n",
       "\\hline\n",
       "\t72 & 16238.83  & -28259.61 & 60737.28 \\\\\n",
       "\\end{tabular}\n"
      ],
      "text/markdown": [
       "\n",
       "| <!--/--> | fit | lwr | upr |\n",
       "|---|---|---|---|\n",
       "| 72 | 16238.83  | -28259.61 | 60737.28  |\n",
       "\n"
      ],
      "text/plain": [
       "   fit      lwr       upr     \n",
       "72 16238.83 -28259.61 60737.28"
      ]
     },
     "metadata": {},
     "output_type": "display_data"
    },
    {
     "name": "stdout",
     "output_type": "stream",
     "text": [
      "Real value is 41039.74"
     ]
    }
   ],
   "source": [
    "predict.lm(model4, rowToPredict, interval = \"predict\")\n",
    "cat('Real value is', rowToPredict$Weekly_Sales)"
   ]
  },
  {
   "cell_type": "markdown",
   "metadata": {},
   "source": [
    "This model is also bad."
   ]
  },
  {
   "cell_type": "markdown",
   "metadata": {},
   "source": [
    "$$Weekly\\_Sales = 18490.7 -315.25*Unemployment$$\n",
    "This means that due to this model increase in Unemployment by one point will result in decrease of sales for $315.25$."
   ]
  },
  {
   "cell_type": "markdown",
   "metadata": {},
   "source": [
    "#### Model 5\n",
    "Model5 is based on Fuel prices."
   ]
  },
  {
   "cell_type": "code",
   "execution_count": 30,
   "metadata": {},
   "outputs": [
    {
     "data": {
      "text/plain": [
       "\n",
       "Call:\n",
       "lm(formula = Weekly_Sales ~ Fuel_Price, data = sales_all)\n",
       "\n",
       "Residuals:\n",
       "   Min     1Q Median     3Q    Max \n",
       "-20972 -13901  -8368   4225 677117 \n",
       "\n",
       "Coefficients:\n",
       "             Estimate Std. Error t value Pr(>|t|)    \n",
       "(Intercept) 16001.358    258.779  61.834   <2e-16 ***\n",
       "Fuel_Price     -5.998     76.287  -0.079    0.937    \n",
       "---\n",
       "Signif. codes:  0 '***' 0.001 '**' 0.01 '*' 0.05 '.' 0.1 ' ' 1\n",
       "\n",
       "Residual standard error: 22710 on 421567 degrees of freedom\n",
       "Multiple R-squared:  1.466e-08,\tAdjusted R-squared:  -2.357e-06 \n",
       "F-statistic: 0.006182 on 1 and 421567 DF,  p-value: 0.9373\n"
      ]
     },
     "metadata": {},
     "output_type": "display_data"
    }
   ],
   "source": [
    "model5 <- lm(Weekly_Sales ~ Fuel_Price, data = sales_all) \n",
    "summary(model5)"
   ]
  },
  {
   "cell_type": "code",
   "execution_count": 31,
   "metadata": {},
   "outputs": [
    {
     "data": {
      "text/html": [
       "<table>\n",
       "<thead><tr><th></th><th scope=col>fit</th><th scope=col>lwr</th><th scope=col>upr</th></tr></thead>\n",
       "<tbody>\n",
       "\t<tr><th scope=row>72</th><td>15980.36 </td><td>-28532.97</td><td>60493.69 </td></tr>\n",
       "</tbody>\n",
       "</table>\n"
      ],
      "text/latex": [
       "\\begin{tabular}{r|lll}\n",
       "  & fit & lwr & upr\\\\\n",
       "\\hline\n",
       "\t72 & 15980.36  & -28532.97 & 60493.69 \\\\\n",
       "\\end{tabular}\n"
      ],
      "text/markdown": [
       "\n",
       "| <!--/--> | fit | lwr | upr |\n",
       "|---|---|---|---|\n",
       "| 72 | 15980.36  | -28532.97 | 60493.69  |\n",
       "\n"
      ],
      "text/plain": [
       "   fit      lwr       upr     \n",
       "72 15980.36 -28532.97 60493.69"
      ]
     },
     "metadata": {},
     "output_type": "display_data"
    },
    {
     "name": "stdout",
     "output_type": "stream",
     "text": [
      "Real value is 41039.74"
     ]
    }
   ],
   "source": [
    "predict.lm(model5, rowToPredict, interval = \"predict\")\n",
    "cat('Real value is', rowToPredict$Weekly_Sales)"
   ]
  },
  {
   "cell_type": "markdown",
   "metadata": {},
   "source": [
    "And it is stil very bad."
   ]
  },
  {
   "cell_type": "markdown",
   "metadata": {},
   "source": [
    "$$Weekly\\_Sales = 16001.285 - 5.958*Fuel\\_Price$$\n",
    "This means that due to this model increase in Fuel Price by one point will result in decrease of sales for $5.958$."
   ]
  },
  {
   "cell_type": "markdown",
   "metadata": {},
   "source": [
    "#### Model 6\n",
    "Model6 is different, as it works on categorical binary variable IsHoliday."
   ]
  },
  {
   "cell_type": "code",
   "execution_count": 32,
   "metadata": {},
   "outputs": [
    {
     "data": {
      "text/plain": [
       "\n",
       "Call:\n",
       "lm(formula = Weekly_Sales ~ IsHoliday, data = sales_all)\n",
       "\n",
       "Residuals:\n",
       "   Min     1Q Median     3Q    Max \n",
       "-20890 -13897  -8356   4225 676064 \n",
       "\n",
       "Coefficients:\n",
       "              Estimate Std. Error t value Pr(>|t|)    \n",
       "(Intercept)   15901.38      36.28 438.351   <2e-16 ***\n",
       "IsHolidayTRUE  1134.44     136.76   8.295   <2e-16 ***\n",
       "---\n",
       "Signif. codes:  0 '***' 0.001 '**' 0.01 '*' 0.05 '.' 0.1 ' ' 1\n",
       "\n",
       "Residual standard error: 22710 on 421567 degrees of freedom\n",
       "Multiple R-squared:  0.0001632,\tAdjusted R-squared:  0.0001608 \n",
       "F-statistic: 68.81 on 1 and 421567 DF,  p-value: < 2.2e-16\n"
      ]
     },
     "metadata": {},
     "output_type": "display_data"
    }
   ],
   "source": [
    "model6 <- lm(Weekly_Sales ~ IsHoliday, data = sales_all) \n",
    "summary(model6)"
   ]
  },
  {
   "cell_type": "code",
   "execution_count": 33,
   "metadata": {},
   "outputs": [
    {
     "data": {
      "text/html": [
       "<table>\n",
       "<thead><tr><th></th><th scope=col>fit</th><th scope=col>lwr</th><th scope=col>upr</th></tr></thead>\n",
       "<tbody>\n",
       "\t<tr><th scope=row>72</th><td>15901.38 </td><td>-28608.31</td><td>60411.08 </td></tr>\n",
       "</tbody>\n",
       "</table>\n"
      ],
      "text/latex": [
       "\\begin{tabular}{r|lll}\n",
       "  & fit & lwr & upr\\\\\n",
       "\\hline\n",
       "\t72 & 15901.38  & -28608.31 & 60411.08 \\\\\n",
       "\\end{tabular}\n"
      ],
      "text/markdown": [
       "\n",
       "| <!--/--> | fit | lwr | upr |\n",
       "|---|---|---|---|\n",
       "| 72 | 15901.38  | -28608.31 | 60411.08  |\n",
       "\n"
      ],
      "text/plain": [
       "   fit      lwr       upr     \n",
       "72 15901.38 -28608.31 60411.08"
      ]
     },
     "metadata": {},
     "output_type": "display_data"
    },
    {
     "name": "stdout",
     "output_type": "stream",
     "text": [
      "Real value is 41039.74"
     ]
    }
   ],
   "source": [
    "predict.lm(model6, rowToPredict, interval = \"predict\")\n",
    "cat('Real value is', rowToPredict$Weekly_Sales)"
   ]
  },
  {
   "cell_type": "markdown",
   "metadata": {},
   "source": [
    "This one is still very bad."
   ]
  },
  {
   "cell_type": "markdown",
   "metadata": {},
   "source": [
    "$$Weekly\\_Sales = 15901.45 - 1134.38*(IsHoliday == TRUE)$$\n",
    "This means that due to this model on holidays sales are decreasing by $1134.38$."
   ]
  },
  {
   "cell_type": "markdown",
   "metadata": {},
   "source": [
    "### Model Comparison"
   ]
  },
  {
   "cell_type": "markdown",
   "metadata": {},
   "source": [
    "Model 1 explains 5.9% of the variation in the `Weekly_Sales` variable around its mean.\n",
    "Models 2-6 doesn't explain almost anything, however, model 6, which is based on binary `IsHoliday`, is better than models 2-5. based on adjusted $R^2$ value.\n",
    "  \n",
    "Model 1 is the best one from those six, but all of them are quite bad. Which was easily to predict from very low correlation levels. Looks like only `Size` can be at least a bit helpful in prediction of `Weekly_Sales`.  \n",
    "`Fuel_Price`, `Temperature`, `CPI` and `Unemployment`(surprisingly) can't be really used to predict `Weekly_Sales`."
   ]
  },
  {
   "cell_type": "markdown",
   "metadata": {},
   "source": [
    "_I have considered using `anova(model1, model2)`, but this will work only if we'll add more parameters too model2 comparing to model1. so, my comparison was based on adjusted $R^2$ values_"
   ]
  },
  {
   "cell_type": "markdown",
   "metadata": {},
   "source": [
    "### Multiple Linear Regression"
   ]
  },
  {
   "cell_type": "markdown",
   "metadata": {},
   "source": [
    "Let's take IsHoliday, Size, Type and Department as variables for the model."
   ]
  },
  {
   "cell_type": "code",
   "execution_count": 40,
   "metadata": {},
   "outputs": [
    {
     "data": {
      "text/plain": [
       "\n",
       "Call:\n",
       "lm(formula = Weekly_Sales ~ IsHoliday + Size + Type + Store + \n",
       "    Dept, data = sales_all)\n",
       "\n",
       "Residuals:\n",
       "   Min     1Q Median     3Q    Max \n",
       "-61291  -5830   -508   5025 629719 \n",
       "\n",
       "Coefficients: (3 not defined because of singularities)\n",
       "                Estimate Std. Error t value Pr(>|t|)    \n",
       "(Intercept)   -8.629e+05  2.964e+04 -29.112  < 2e-16 ***\n",
       "IsHolidayTRUE  1.209e+03  8.013e+01  15.083  < 2e-16 ***\n",
       "Size           5.879e+00  1.959e-01  30.012  < 2e-16 ***\n",
       "TypeB          1.837e+05  6.485e+03  28.332  < 2e-16 ***\n",
       "TypeC          6.343e+05  2.171e+04  29.211  < 2e-16 ***\n",
       "Store2        -2.946e+05  9.990e+03 -29.491  < 2e-16 ***\n",
       "Store3         4.696e+05  1.583e+04  29.659  < 2e-16 ***\n",
       "Store4        -3.132e+05  1.069e+04 -29.310  < 2e-16 ***\n",
       "Store5         4.830e+05  1.633e+04  29.584  < 2e-16 ***\n",
       "Store6        -3.008e+05  1.003e+04 -29.994  < 2e-16 ***\n",
       "Store7         2.761e+05  9.308e+03  29.660  < 2e-16 ***\n",
       "Store8        -3.110e+04  7.606e+02 -40.889  < 2e-16 ***\n",
       "Store9        -4.802e+04  1.504e+03 -31.931  < 2e-16 ***\n",
       "Store10       -3.303e+04  1.635e+03 -20.201  < 2e-16 ***\n",
       "Store11       -3.331e+05  1.101e+04 -30.260  < 2e-16 ***\n",
       "Store12        3.857e+04  1.187e+03  32.485  < 2e-16 ***\n",
       "Store13       -3.956e+05  1.338e+04 -29.561  < 2e-16 ***\n",
       "Store14       -2.846e+05  9.714e+03 -29.296  < 2e-16 ***\n",
       "Store15       -3.475e+04  1.097e+03 -31.676  < 2e-16 ***\n",
       "Store16        3.549e+05  1.195e+04  29.687  < 2e-16 ***\n",
       "Store17        1.490e+05  4.907e+03  30.360  < 2e-16 ***\n",
       "Store18       -9.850e+03  5.131e+02 -19.198  < 2e-16 ***\n",
       "Store19       -3.102e+05  1.029e+04 -30.155  < 2e-16 ***\n",
       "Store20       -3.002e+05  1.027e+04 -29.232  < 2e-16 ***\n",
       "Store21       -1.293e+05  4.303e+03 -30.055  < 2e-16 ***\n",
       "Store22       -4.209e+03  3.242e+02 -12.982  < 2e-16 ***\n",
       "Store23        3.041e+04  7.469e+02  40.720  < 2e-16 ***\n",
       "Store24       -3.115e+05  1.029e+04 -30.280  < 2e-16 ***\n",
       "Store25       -5.913e+04  1.946e+03 -30.389  < 2e-16 ***\n",
       "Store26       -1.487e+04  3.005e+02 -49.492  < 2e-16 ***\n",
       "Store27       -3.078e+05  1.036e+04 -29.715  < 2e-16 ***\n",
       "Store28       -3.265e+05  1.077e+04 -30.312  < 2e-16 ***\n",
       "Store29        1.409e+05  4.819e+03  29.239  < 2e-16 ***\n",
       "Store30       -1.522e+04  5.301e+02 -28.708  < 2e-16 ***\n",
       "Store31       -3.105e+05  1.027e+04 -30.227  < 2e-16 ***\n",
       "Store32       -3.094e+05  1.013e+04 -30.549  < 2e-16 ***\n",
       "Store33        6.346e+05  2.187e+04  29.021  < 2e-16 ***\n",
       "Store34       -4.889e+04  1.345e+03 -36.357  < 2e-16 ***\n",
       "Store35        8.759e+04  2.855e+03  30.684  < 2e-16 ***\n",
       "Store36        6.356e+05  2.182e+04  29.125  < 2e-16 ***\n",
       "Store37        4.427e+03  2.219e+02  19.948  < 2e-16 ***\n",
       "Store38        3.101e+03  2.450e+02  12.660  < 2e-16 ***\n",
       "Store39       -1.942e+05  6.426e+03 -30.216  < 2e-16 ***\n",
       "Store40       -3.044e+04  7.614e+02 -39.980  < 2e-16 ***\n",
       "Store41       -2.686e+05  8.818e+03 -30.463  < 2e-16 ***\n",
       "Store42        7.055e+03  2.479e+02  28.461  < 2e-16 ***\n",
       "Store43               NA         NA      NA       NA    \n",
       "Store44               NA         NA      NA       NA    \n",
       "Store45               NA         NA      NA       NA    \n",
       "Dept2          2.439e+04  2.345e+02 104.011  < 2e-16 ***\n",
       "Dept3         -7.420e+03  2.345e+02 -31.637  < 2e-16 ***\n",
       "Dept4          6.761e+03  2.345e+02  28.829  < 2e-16 ***\n",
       "Dept5          2.037e+03  2.353e+02   8.655  < 2e-16 ***\n",
       "Dept6         -1.526e+04  2.390e+02 -63.864  < 2e-16 ***\n",
       "Dept7          4.948e+03  2.345e+02  21.097  < 2e-16 ***\n",
       "Dept8          1.098e+04  2.345e+02  46.804  < 2e-16 ***\n",
       "Dept9          8.342e+02  2.353e+02   3.545 0.000392 ***\n",
       "Dept10        -8.922e+02  2.345e+02  -3.804 0.000142 ***\n",
       "Dept11        -4.710e+03  2.345e+02 -20.081  < 2e-16 ***\n",
       "Dept12        -1.509e+04  2.348e+02 -64.278  < 2e-16 ***\n",
       "Dept13         1.145e+04  2.345e+02  48.823  < 2e-16 ***\n",
       "Dept14        -4.343e+03  2.345e+02 -18.516  < 2e-16 ***\n",
       "Dept16        -4.968e+03  2.345e+02 -21.182  < 2e-16 ***\n",
       "Dept17        -9.063e+03  2.347e+02 -38.610  < 2e-16 ***\n",
       "Dept18        -1.257e+04  2.504e+02 -50.185  < 2e-16 ***\n",
       "Dept19        -2.041e+04  2.658e+02 -76.764  < 2e-16 ***\n",
       "Dept20        -1.433e+04  2.384e+02 -60.078  < 2e-16 ***\n",
       "Dept21        -1.423e+04  2.345e+02 -60.678  < 2e-16 ***\n",
       "Dept22        -1.010e+04  2.439e+02 -41.389  < 2e-16 ***\n",
       "Dept23         3.524e+03  2.412e+02  14.608  < 2e-16 ***\n",
       "Dept24        -1.481e+04  2.456e+02 -60.300  < 2e-16 ***\n",
       "Dept25        -1.039e+04  2.353e+02 -44.169  < 2e-16 ***\n",
       "Dept26        -1.269e+04  2.416e+02 -52.523  < 2e-16 ***\n",
       "Dept27        -1.917e+04  2.430e+02 -78.893  < 2e-16 ***\n",
       "Dept28        -1.923e+04  2.375e+02 -80.939  < 2e-16 ***\n",
       "Dept29        -1.576e+04  2.469e+02 -63.843  < 2e-16 ***\n",
       "Dept30        -1.734e+04  2.471e+02 -70.173  < 2e-16 ***\n",
       "Dept31        -1.759e+04  2.381e+02 -73.886  < 2e-16 ***\n",
       "Dept32        -1.323e+04  2.393e+02 -55.296  < 2e-16 ***\n",
       "Dept33        -1.474e+04  2.458e+02 -59.940  < 2e-16 ***\n",
       "Dept34        -5.743e+03  2.467e+02 -23.284  < 2e-16 ***\n",
       "Dept35        -1.852e+04  2.470e+02 -74.968  < 2e-16 ***\n",
       "Dept36        -1.942e+04  2.471e+02 -78.615  < 2e-16 ***\n",
       "Dept37        -2.242e+04  3.111e+02 -72.048  < 2e-16 ***\n",
       "Dept38         4.188e+04  2.345e+02 178.559  < 2e-16 ***\n",
       "Dept39        -2.740e+04  3.331e+03  -8.227  < 2e-16 ***\n",
       "Dept40         2.569e+04  2.345e+02 109.527  < 2e-16 ***\n",
       "Dept41        -1.918e+04  2.458e+02 -78.049  < 2e-16 ***\n",
       "Dept42        -1.409e+04  2.348e+02 -60.011  < 2e-16 ***\n",
       "Dept43        -1.787e+04  3.845e+03  -4.649 3.34e-06 ***\n",
       "Dept44        -1.639e+04  2.448e+02 -66.955  < 2e-16 ***\n",
       "Dept45        -2.224e+04  3.452e+02 -64.429  < 2e-16 ***\n",
       "Dept46         7.313e+02  2.345e+02   3.118 0.001821 ** \n",
       "Dept47        -2.257e+04  5.492e+02 -41.086  < 2e-16 ***\n",
       "Dept48        -2.372e+04  3.605e+02 -65.815  < 2e-16 ***\n",
       "Dept49        -1.431e+04  2.591e+02 -55.242  < 2e-16 ***\n",
       "Dept50        -2.329e+04  3.769e+02 -61.785  < 2e-16 ***\n",
       "Dept51        -2.131e+04  3.935e+02 -54.169  < 2e-16 ***\n",
       "Dept52        -1.762e+04  2.361e+02 -74.625  < 2e-16 ***\n",
       "Dept54        -2.184e+04  2.545e+02 -85.831  < 2e-16 ***\n",
       "Dept55        -9.942e+03  2.433e+02 -40.861  < 2e-16 ***\n",
       "Dept56        -1.642e+04  2.402e+02 -68.361  < 2e-16 ***\n",
       "Dept58        -1.919e+04  2.608e+02 -73.603  < 2e-16 ***\n",
       "Dept59        -1.905e+04  2.377e+02 -80.150  < 2e-16 ***\n",
       "Dept60        -1.874e+04  2.412e+02 -77.699  < 2e-16 ***\n",
       "Dept65         2.763e+04  1.132e+03  24.403  < 2e-16 ***\n",
       "Dept67        -1.177e+04  2.345e+02 -50.198  < 2e-16 ***\n",
       "Dept71        -1.570e+04  2.469e+02 -63.586  < 2e-16 ***\n",
       "Dept72         3.063e+04  2.383e+02 128.506  < 2e-16 ***\n",
       "Dept74        -5.412e+03  2.346e+02 -23.071  < 2e-16 ***\n",
       "Dept77        -2.235e+04  1.099e+03 -20.332  < 2e-16 ***\n",
       "Dept78        -2.314e+04  8.837e+02 -26.182  < 2e-16 ***\n",
       "Dept79         2.760e+03  2.345e+02  11.766  < 2e-16 ***\n",
       "Dept80        -7.677e+03  2.399e+02 -31.996  < 2e-16 ***\n",
       "Dept81        -3.743e+03  2.345e+02 -15.960  < 2e-16 ***\n",
       "Dept82        -3.744e+03  2.345e+02 -15.963  < 2e-16 ***\n",
       "Dept83        -1.655e+04  2.398e+02 -69.038  < 2e-16 ***\n",
       "Dept85        -1.767e+04  2.382e+02 -74.161  < 2e-16 ***\n",
       "Dept87        -5.860e+03  2.349e+02 -24.945  < 2e-16 ***\n",
       "Dept90         2.602e+04  2.345e+02 110.940  < 2e-16 ***\n",
       "Dept91         1.447e+04  2.345e+02  61.717  < 2e-16 ***\n",
       "Dept92         5.599e+04  2.345e+02 238.740  < 2e-16 ***\n",
       "Dept93         7.075e+03  2.397e+02  29.515  < 2e-16 ***\n",
       "Dept94         1.371e+04  2.422e+02  56.619  < 2e-16 ***\n",
       "Dept95         5.061e+04  2.345e+02 215.798  < 2e-16 ***\n",
       "Dept96        -3.770e+03  2.531e+02 -14.892  < 2e-16 ***\n",
       "Dept97        -5.128e+03  2.360e+02 -21.726  < 2e-16 ***\n",
       "Dept98        -1.295e+04  2.405e+02 -53.847  < 2e-16 ***\n",
       "Dept99        -2.486e+04  4.830e+02 -51.469  < 2e-16 ***\n",
       "---\n",
       "Signif. codes:  0 '***' 0.001 '**' 0.01 '*' 0.05 '.' 0.1 ' ' 1\n",
       "\n",
       "Residual standard error: 13300 on 421443 degrees of freedom\n",
       "Multiple R-squared:  0.657,\tAdjusted R-squared:  0.6569 \n",
       "F-statistic:  6458 on 125 and 421443 DF,  p-value: < 2.2e-16\n"
      ]
     },
     "metadata": {},
     "output_type": "display_data"
    }
   ],
   "source": [
    "model <- lm(Weekly_Sales ~ IsHoliday + Size + Type + Store + Dept, \n",
    "            data = sales_all) \n",
    "summary(model)"
   ]
  },
  {
   "cell_type": "code",
   "execution_count": 42,
   "metadata": {},
   "outputs": [
    {
     "name": "stderr",
     "output_type": "stream",
     "text": [
      "Warning message in predict.lm(model, rowToPredict, interval = \"predict\"):\n",
      "\"prediction from a rank-deficient fit may be misleading\""
     ]
    },
    {
     "data": {
      "text/html": [
       "<table>\n",
       "<thead><tr><th></th><th scope=col>fit</th><th scope=col>lwr</th><th scope=col>upr</th></tr></thead>\n",
       "<tbody>\n",
       "\t<tr><th scope=row>72</th><td>37623.47</td><td>11546.37</td><td>63700.57</td></tr>\n",
       "</tbody>\n",
       "</table>\n"
      ],
      "text/latex": [
       "\\begin{tabular}{r|lll}\n",
       "  & fit & lwr & upr\\\\\n",
       "\\hline\n",
       "\t72 & 37623.47 & 11546.37 & 63700.57\\\\\n",
       "\\end{tabular}\n"
      ],
      "text/markdown": [
       "\n",
       "| <!--/--> | fit | lwr | upr |\n",
       "|---|---|---|---|\n",
       "| 72 | 37623.47 | 11546.37 | 63700.57 |\n",
       "\n"
      ],
      "text/plain": [
       "   fit      lwr      upr     \n",
       "72 37623.47 11546.37 63700.57"
      ]
     },
     "metadata": {},
     "output_type": "display_data"
    },
    {
     "name": "stdout",
     "output_type": "stream",
     "text": [
      "Real value is 41039.74"
     ]
    }
   ],
   "source": [
    "predict.lm(model, rowToPredict, interval = \"predict\")\n",
    "cat('Real value is', rowToPredict$Weekly_Sales)"
   ]
  },
  {
   "cell_type": "markdown",
   "metadata": {},
   "source": [
    "Let's take all MarkDowns as predictors."
   ]
  },
  {
   "cell_type": "code",
   "execution_count": 43,
   "metadata": {},
   "outputs": [
    {
     "data": {
      "text/plain": [
       "\n",
       "Call:\n",
       "lm(formula = Weekly_Sales ~ MarkDown1 + MarkDown2 + MarkDown3 + \n",
       "    MarkDown4 + MarkDown5, data = sales_all)\n",
       "\n",
       "Residuals:\n",
       "   Min     1Q Median     3Q    Max \n",
       "-40799 -14670  -8984   4895 592607 \n",
       "\n",
       "Coefficients:\n",
       "              Estimate Std. Error t value Pr(>|t|)    \n",
       "(Intercept)  1.516e+04  1.339e+02 113.242  < 2e-16 ***\n",
       "MarkDown1    1.357e-01  1.537e-02   8.830  < 2e-16 ***\n",
       "MarkDown2    5.107e-02  7.869e-03   6.490 8.62e-11 ***\n",
       "MarkDown3    1.622e-01  7.273e-03  22.299  < 2e-16 ***\n",
       "MarkDown4   -4.298e-02  1.973e-02  -2.179   0.0293 *  \n",
       "MarkDown5    2.236e-01  1.217e-02  18.372  < 2e-16 ***\n",
       "---\n",
       "Signif. codes:  0 '***' 0.001 '**' 0.01 '*' 0.05 '.' 0.1 ' ' 1\n",
       "\n",
       "Residual standard error: 24610 on 97049 degrees of freedom\n",
       "  (324514 observations deleted due to missingness)\n",
       "Multiple R-squared:  0.009908,\tAdjusted R-squared:  0.009857 \n",
       "F-statistic: 194.2 on 5 and 97049 DF,  p-value: < 2.2e-16\n"
      ]
     },
     "metadata": {},
     "output_type": "display_data"
    }
   ],
   "source": [
    "model <- lm(Weekly_Sales ~ MarkDown1 + MarkDown2 + MarkDown3 + MarkDown4 + MarkDown5, data = sales_all) \n",
    "summary(model)"
   ]
  },
  {
   "cell_type": "code",
   "execution_count": 44,
   "metadata": {},
   "outputs": [
    {
     "data": {
      "text/html": [
       "<table>\n",
       "<thead><tr><th></th><th scope=col>fit</th><th scope=col>lwr</th><th scope=col>upr</th></tr></thead>\n",
       "<tbody>\n",
       "\t<tr><th scope=row>72</th><td>16864.92 </td><td>-31370.64</td><td>65100.49 </td></tr>\n",
       "</tbody>\n",
       "</table>\n"
      ],
      "text/latex": [
       "\\begin{tabular}{r|lll}\n",
       "  & fit & lwr & upr\\\\\n",
       "\\hline\n",
       "\t72 & 16864.92  & -31370.64 & 65100.49 \\\\\n",
       "\\end{tabular}\n"
      ],
      "text/markdown": [
       "\n",
       "| <!--/--> | fit | lwr | upr |\n",
       "|---|---|---|---|\n",
       "| 72 | 16864.92  | -31370.64 | 65100.49  |\n",
       "\n"
      ],
      "text/plain": [
       "   fit      lwr       upr     \n",
       "72 16864.92 -31370.64 65100.49"
      ]
     },
     "metadata": {},
     "output_type": "display_data"
    },
    {
     "name": "stdout",
     "output_type": "stream",
     "text": [
      "Real value is 41039.74"
     ]
    }
   ],
   "source": [
    "predict.lm(model, rowToPredict, interval = \"predict\")\n",
    "cat('Real value is', rowToPredict$Weekly_Sales)"
   ]
  },
  {
   "cell_type": "markdown",
   "metadata": {},
   "source": [
    "Let's take IsHoliday, Size, Type and Department, Fuel Price, MarkDown2-5 as variables for the model."
   ]
  },
  {
   "cell_type": "code",
   "execution_count": 34,
   "metadata": {},
   "outputs": [
    {
     "data": {
      "text/plain": [
       "\n",
       "Call:\n",
       "lm(formula = Weekly_Sales ~ IsHoliday + Size + CPI + Unemployment + \n",
       "    MarkDown2 + MarkDown3 + MarkDown4 + MarkDown5 + Fuel_Price + \n",
       "    Type + Store + Dept, data = sales_all)\n",
       "\n",
       "Residuals:\n",
       "   Min     1Q Median     3Q    Max \n",
       "-71998  -6106   -658   4990 546884 \n",
       "\n",
       "Coefficients: (3 not defined because of singularities)\n",
       "                Estimate Std. Error t value Pr(>|t|)    \n",
       "(Intercept)   -3.784e+06  7.737e+05  -4.891 1.00e-06 ***\n",
       "IsHolidayTRUE  7.490e+02  1.812e+02   4.134 3.57e-05 ***\n",
       "Size           2.569e+01  5.198e+00   4.942 7.74e-07 ***\n",
       "CPI           -3.317e+02  6.352e+01  -5.222 1.77e-07 ***\n",
       "Unemployment   1.139e+03  1.764e+02   6.454 1.10e-10 ***\n",
       "MarkDown2     -7.923e-02  5.373e-03 -14.747  < 2e-16 ***\n",
       "MarkDown3      7.417e-02  4.905e-03  15.121  < 2e-16 ***\n",
       "MarkDown4     -3.509e-02  6.524e-03  -5.379 7.51e-08 ***\n",
       "MarkDown5     -1.184e-02  7.722e-03  -1.533 0.125390    \n",
       "Fuel_Price    -2.944e+03  2.582e+02 -11.400  < 2e-16 ***\n",
       "TypeB          8.279e+05  1.704e+05   4.860 1.18e-06 ***\n",
       "TypeC          2.812e+06  5.732e+05   4.905 9.34e-07 ***\n",
       "Store2        -1.305e+06  2.651e+05  -4.921 8.62e-07 ***\n",
       "Store3         2.083e+06  4.220e+05   4.937 7.96e-07 ***\n",
       "Store4        -1.420e+06  2.890e+05  -4.912 9.01e-07 ***\n",
       "Store5         2.147e+06  4.349e+05   4.936 7.99e-07 ***\n",
       "Store6        -1.313e+06  2.661e+05  -4.935 8.04e-07 ***\n",
       "Store7         1.220e+06  2.474e+05   4.932 8.15e-07 ***\n",
       "Store8        -1.032e+05  1.949e+04  -5.297 1.18e-07 ***\n",
       "Store9        -1.849e+05  3.783e+04  -4.889 1.02e-06 ***\n",
       "Store10       -2.146e+05  4.666e+04  -4.599 4.26e-06 ***\n",
       "Store11       -1.445e+06  2.919e+05  -4.949 7.46e-07 ***\n",
       "Store12        1.347e+05  2.796e+04   4.819 1.45e-06 ***\n",
       "Store13       -1.777e+06  3.604e+05  -4.930 8.24e-07 ***\n",
       "Store14       -1.280e+06  2.594e+05  -4.935 8.04e-07 ***\n",
       "Store15       -1.610e+05  3.180e+04  -5.064 4.11e-07 ***\n",
       "Store16        1.568e+06  3.174e+05   4.939 7.85e-07 ***\n",
       "Store17        6.272e+05  1.266e+05   4.956 7.20e-07 ***\n",
       "Store18       -7.534e+04  1.576e+04  -4.781 1.74e-06 ***\n",
       "Store19       -1.379e+06  2.777e+05  -4.964 6.92e-07 ***\n",
       "Store20       -1.340e+06  2.730e+05  -4.910 9.14e-07 ***\n",
       "Store21       -5.533e+05  1.125e+05  -4.920 8.65e-07 ***\n",
       "Store22       -4.591e+04  9.911e+03  -4.632 3.62e-06 ***\n",
       "Store23        9.155e+04  1.588e+04   5.764 8.24e-09 ***\n",
       "Store24       -1.380e+06  2.777e+05  -4.972 6.64e-07 ***\n",
       "Store25       -2.457e+05  5.016e+04  -4.897 9.73e-07 ***\n",
       "Store26       -6.643e+04  1.127e+04  -5.895 3.76e-09 ***\n",
       "Store27       -1.382e+06  2.794e+05  -4.948 7.50e-07 ***\n",
       "Store28       -1.451e+06  2.907e+05  -4.989 6.08e-07 ***\n",
       "Store29        6.091e+05  1.248e+05   4.879 1.07e-06 ***\n",
       "Store30       -4.799e+04  1.029e+04  -4.664 3.11e-06 ***\n",
       "Store31       -1.349e+06  2.726e+05  -4.949 7.46e-07 ***\n",
       "Store32       -1.342e+06  2.700e+05  -4.972 6.65e-07 ***\n",
       "Store33        2.814e+06  5.751e+05   4.894 9.91e-07 ***\n",
       "Store34       -2.168e+05  4.043e+04  -5.361 8.29e-08 ***\n",
       "Store35        3.576e+05  7.281e+04   4.911 9.06e-07 ***\n",
       "Store36        2.839e+06  5.790e+05   4.903 9.44e-07 ***\n",
       "Store37        3.070e+04  6.201e+03   4.951 7.40e-07 ***\n",
       "Store38        3.147e+03  3.103e+03   1.014 0.310390    \n",
       "Store39       -8.428e+05  1.706e+05  -4.941 7.77e-07 ***\n",
       "Store40       -1.293e+05  2.476e+04  -5.221 1.78e-07 ***\n",
       "Store41       -1.167e+06  2.354e+05  -4.957 7.16e-07 ***\n",
       "Store42        9.372e+03  2.907e+03   3.224 0.001264 ** \n",
       "Store43               NA         NA      NA       NA    \n",
       "Store44               NA         NA      NA       NA    \n",
       "Store45               NA         NA      NA       NA    \n",
       "Dept2          2.980e+04  5.289e+02  56.356  < 2e-16 ***\n",
       "Dept3         -6.827e+03  5.289e+02 -12.910  < 2e-16 ***\n",
       "Dept4          8.208e+03  5.289e+02  15.520  < 2e-16 ***\n",
       "Dept5          4.449e+03  5.289e+02   8.412  < 2e-16 ***\n",
       "Dept6         -1.751e+04  5.296e+02 -33.065  < 2e-16 ***\n",
       "Dept7          1.052e+04  5.289e+02  19.890  < 2e-16 ***\n",
       "Dept8          1.339e+04  5.290e+02  25.310  < 2e-16 ***\n",
       "Dept9          2.256e+03  5.291e+02   4.265 2.00e-05 ***\n",
       "Dept10         6.909e+02  5.289e+02   1.306 0.191431    \n",
       "Dept11        -4.543e+03  5.289e+02  -8.590  < 2e-16 ***\n",
       "Dept12        -1.733e+04  5.289e+02 -32.777  < 2e-16 ***\n",
       "Dept13         1.282e+04  5.289e+02  24.243  < 2e-16 ***\n",
       "Dept14        -3.061e+03  5.289e+02  -5.787 7.18e-09 ***\n",
       "Dept16        -7.251e+03  5.289e+02 -13.710  < 2e-16 ***\n",
       "Dept17        -9.755e+03  5.289e+02 -18.445  < 2e-16 ***\n",
       "Dept18        -1.239e+04  5.512e+02 -22.468  < 2e-16 ***\n",
       "Dept19        -2.143e+04  5.637e+02 -38.008  < 2e-16 ***\n",
       "Dept20        -1.591e+04  5.295e+02 -30.047  < 2e-16 ***\n",
       "Dept21        -1.635e+04  5.289e+02 -30.920  < 2e-16 ***\n",
       "Dept22        -1.035e+04  5.296e+02 -19.549  < 2e-16 ***\n",
       "Dept23         5.221e+03  5.294e+02   9.862  < 2e-16 ***\n",
       "Dept24        -1.556e+04  5.306e+02 -29.331  < 2e-16 ***\n",
       "Dept25        -1.151e+04  5.290e+02 -21.755  < 2e-16 ***\n",
       "Dept26        -1.412e+04  5.302e+02 -26.633  < 2e-16 ***\n",
       "Dept27        -2.043e+04  5.299e+02 -38.547  < 2e-16 ***\n",
       "Dept28        -2.155e+04  5.292e+02 -40.715  < 2e-16 ***\n",
       "Dept29        -1.631e+04  5.307e+02 -30.738  < 2e-16 ***\n",
       "Dept30        -1.849e+04  5.308e+02 -34.825  < 2e-16 ***\n",
       "Dept31        -1.956e+04  5.294e+02 -36.946  < 2e-16 ***\n",
       "Dept32        -1.422e+04  5.294e+02 -26.854  < 2e-16 ***\n",
       "Dept33        -1.551e+04  5.304e+02 -29.246  < 2e-16 ***\n",
       "Dept34        -6.570e+03  5.308e+02 -12.377  < 2e-16 ***\n",
       "Dept35        -1.948e+04  5.308e+02 -36.697  < 2e-16 ***\n",
       "Dept36        -2.041e+04  5.309e+02 -38.436  < 2e-16 ***\n",
       "Dept37        -2.301e+04  6.418e+02 -35.852  < 2e-16 ***\n",
       "Dept38         4.323e+04  5.289e+02  81.736  < 2e-16 ***\n",
       "Dept39        -2.615e+04  6.997e+03  -3.737 0.000186 ***\n",
       "Dept40         3.081e+04  5.289e+02  58.254  < 2e-16 ***\n",
       "Dept41        -2.025e+04  5.310e+02 -38.128  < 2e-16 ***\n",
       "Dept42        -1.573e+04  5.289e+02 -29.745  < 2e-16 ***\n",
       "Dept43        -1.683e+04  6.262e+03  -2.688 0.007196 ** \n",
       "Dept44        -1.723e+04  5.304e+02 -32.491  < 2e-16 ***\n",
       "Dept45        -2.307e+04  8.437e+02 -27.339  < 2e-16 ***\n",
       "Dept46         2.270e+03  5.289e+02   4.292 1.77e-05 ***\n",
       "Dept47        -2.348e+04  1.107e+03 -21.214  < 2e-16 ***\n",
       "Dept48        -2.355e+04  7.128e+02 -33.031  < 2e-16 ***\n",
       "Dept49        -1.490e+04  5.346e+02 -27.863  < 2e-16 ***\n",
       "Dept50        -2.358e+04  7.699e+02 -30.632  < 2e-16 ***\n",
       "Dept51        -2.465e+04  1.749e+03 -14.092  < 2e-16 ***\n",
       "Dept52        -1.993e+04  5.290e+02 -37.681  < 2e-16 ***\n",
       "Dept54        -2.325e+04  5.577e+02 -41.681  < 2e-16 ***\n",
       "Dept55        -1.039e+04  5.304e+02 -19.595  < 2e-16 ***\n",
       "Dept56        -1.891e+04  5.297e+02 -35.696  < 2e-16 ***\n",
       "Dept58        -1.977e+04  5.562e+02 -35.542  < 2e-16 ***\n",
       "Dept59        -2.196e+04  5.344e+02 -41.086  < 2e-16 ***\n",
       "Dept60        -2.184e+04  5.290e+02 -41.298  < 2e-16 ***\n",
       "Dept65         2.462e+04  2.283e+03  10.784  < 2e-16 ***\n",
       "Dept67        -1.320e+04  5.289e+02 -24.954  < 2e-16 ***\n",
       "Dept71        -1.633e+04  5.308e+02 -30.770  < 2e-16 ***\n",
       "Dept72         3.897e+04  5.292e+02  73.642  < 2e-16 ***\n",
       "Dept74        -5.194e+03  5.289e+02  -9.821  < 2e-16 ***\n",
       "Dept77        -2.532e+04  1.321e+03 -19.166  < 2e-16 ***\n",
       "Dept78        -2.411e+04  2.297e+03 -10.492  < 2e-16 ***\n",
       "Dept79         3.042e+03  5.289e+02   5.753 8.82e-09 ***\n",
       "Dept80        -9.864e+03  5.366e+02 -18.382  < 2e-16 ***\n",
       "Dept81        -4.984e+03  5.289e+02  -9.424  < 2e-16 ***\n",
       "Dept82        -2.010e+03  5.289e+02  -3.800 0.000145 ***\n",
       "Dept83        -1.924e+04  5.372e+02 -35.815  < 2e-16 ***\n",
       "Dept85        -1.969e+04  5.292e+02 -37.208  < 2e-16 ***\n",
       "Dept87        -3.633e+03  5.289e+02  -6.869 6.51e-12 ***\n",
       "Dept90         2.958e+04  5.289e+02  55.941  < 2e-16 ***\n",
       "Dept91         1.628e+04  5.289e+02  30.777  < 2e-16 ***\n",
       "Dept92         6.748e+04  5.289e+02 127.592  < 2e-16 ***\n",
       "Dept93         7.374e+03  5.372e+02  13.727  < 2e-16 ***\n",
       "Dept94         1.158e+04  5.404e+02  21.433  < 2e-16 ***\n",
       "Dept95         5.604e+04  5.289e+02 105.968  < 2e-16 ***\n",
       "Dept96        -6.899e+03  5.694e+02 -12.116  < 2e-16 ***\n",
       "Dept97        -6.545e+03  5.311e+02 -12.323  < 2e-16 ***\n",
       "Dept98        -1.543e+04  5.358e+02 -28.799  < 2e-16 ***\n",
       "Dept99        -2.573e+04  7.270e+02 -35.390  < 2e-16 ***\n",
       "---\n",
       "Signif. codes:  0 '***' 0.001 '**' 0.01 '*' 0.05 '.' 0.1 ' ' 1\n",
       "\n",
       "Residual standard error: 13970 on 96922 degrees of freedom\n",
       "  (324514 observations deleted due to missingness)\n",
       "Multiple R-squared:  0.6815,\tAdjusted R-squared:  0.6811 \n",
       "F-statistic:  1571 on 132 and 96922 DF,  p-value: < 2.2e-16\n"
      ]
     },
     "metadata": {},
     "output_type": "display_data"
    }
   ],
   "source": [
    "model <- lm(Weekly_Sales ~ IsHoliday + Size + CPI \n",
    "            + Unemployment + MarkDown2 + MarkDown3 + MarkDown4 + MarkDown5\n",
    "            + Fuel_Price + Type + Store + Dept, \n",
    "            data = sales_all) \n",
    "summary(model)"
   ]
  },
  {
   "cell_type": "code",
   "execution_count": 35,
   "metadata": {},
   "outputs": [
    {
     "name": "stderr",
     "output_type": "stream",
     "text": [
      "Warning message in predict.lm(model, rowToPredict, interval = \"predict\"):\n",
      "\"prediction from a rank-deficient fit may be misleading\""
     ]
    },
    {
     "data": {
      "text/html": [
       "<table>\n",
       "<thead><tr><th></th><th scope=col>fit</th><th scope=col>lwr</th><th scope=col>upr</th></tr></thead>\n",
       "<tbody>\n",
       "\t<tr><th scope=row>72</th><td>40610.15</td><td>13219.9 </td><td>68000.4 </td></tr>\n",
       "</tbody>\n",
       "</table>\n"
      ],
      "text/latex": [
       "\\begin{tabular}{r|lll}\n",
       "  & fit & lwr & upr\\\\\n",
       "\\hline\n",
       "\t72 & 40610.15 & 13219.9  & 68000.4 \\\\\n",
       "\\end{tabular}\n"
      ],
      "text/markdown": [
       "\n",
       "| <!--/--> | fit | lwr | upr |\n",
       "|---|---|---|---|\n",
       "| 72 | 40610.15 | 13219.9  | 68000.4  |\n",
       "\n"
      ],
      "text/plain": [
       "   fit      lwr     upr    \n",
       "72 40610.15 13219.9 68000.4"
      ]
     },
     "metadata": {},
     "output_type": "display_data"
    },
    {
     "name": "stdout",
     "output_type": "stream",
     "text": [
      "Real value is 41039.74"
     ]
    }
   ],
   "source": [
    "predict.lm(model, rowToPredict, interval = \"predict\")\n",
    "cat('Real value is', rowToPredict$Weekly_Sales)"
   ]
  },
  {
   "cell_type": "code",
   "execution_count": 36,
   "metadata": {},
   "outputs": [
    {
     "name": "stdout",
     "output_type": "stream",
     "text": [
      "This prediction is 1.046766 % accurate!"
     ]
    }
   ],
   "source": [
    "cat('This prediction is', (41039.74 - 40610.15) / 41039.74 * 100, '% accurate!')"
   ]
  },
  {
   "cell_type": "markdown",
   "metadata": {},
   "source": [
    "This model is much better than simple regression models and better than previous multiple regression models (comparing by adjusted $R^2$ and prediction accuracy, since previous two models have values of adjusted $R^2$ 0.009857 and 0.6569).  \n",
    "This model has adjusted $R^2$ of 0.6811.   \n",
    "Predicted value is very close to actual value.   \n",
    "This model explains around 68% of variance."
   ]
  },
  {
   "cell_type": "markdown",
   "metadata": {},
   "source": [
    "### Assumptions:\n",
    "\n",
    "##### Linearity\n",
    "As it is not very likely to have linear dependency for any of the variables and weekly sales, we would still assume this for research purposes.  \n",
    "  \n",
    "#####  Independence  \n",
    "Variables that will be used in Multiple Linear Regression are quite obviously independant, as there is no reason to believe that e.g. fuel price and temperature may be directly connected. (Not taking into account butterfly effect from chaos theory).\n",
    "\n",
    "##### Normality"
   ]
  },
  {
   "cell_type": "code",
   "execution_count": 37,
   "metadata": {
    "scrolled": false
   },
   "outputs": [
    {
     "data": {
      "image/png": "[encoded data removed]",
      "text/plain": [
       "Plot with title \"Q-Q Plot of Residuals\""
      ]
     },
     "metadata": {},
     "output_type": "display_data"
    }
   ],
   "source": [
    "par(mfrow = c(1, 2)) \n",
    "hist(model$residuals, xlab = \"Residuals\", col = \"gray\", \n",
    "     main = \"Residuals Distribution\") \n",
    "qqnorm(model$residuals, main = \"Q-Q Plot of Residuals\") \n",
    "qqline(model$residuals)"
   ]
  },
  {
   "cell_type": "markdown",
   "metadata": {},
   "source": [
    "From the chart above looks like assumption is violated... But still, for the research purpose we'll investigate the model."
   ]
  },
  {
   "cell_type": "markdown",
   "metadata": {},
   "source": [
    "##### Equal variance\n"
   ]
  },
  {
   "cell_type": "code",
   "execution_count": 38,
   "metadata": {},
   "outputs": [
    {
     "data": {
      "image/png": "[encoded data removed]",
      "text/plain": [
       "Plot with title \"Residuals Distribution\""
      ]
     },
     "metadata": {},
     "output_type": "display_data"
    }
   ],
   "source": [
    "plot(model$fitted.values, model$residuals, ylab = \"Residuals\", \n",
    "     xlab = \"Fitted Values\", main=\"Residuals Distribution\") "
   ]
  },
  {
   "cell_type": "markdown",
   "metadata": {},
   "source": [
    "From the chart above looks like assumption is also violated... But again, for the research purpose we'll investigate the model."
   ]
  },
  {
   "cell_type": "markdown",
   "metadata": {},
   "source": [
    "### Summary\n",
    "\n",
    "We have investigated covariance of different variable to find the most appropriate ones. We have done some initial investigation to have better understanding of data before modeling.\n",
    "\n",
    "We have found that separate values can not be used to predict weekly sales. However, next formula of multiple regression describes data with quite good accuracy:  \n",
    "  \n",
    "$$Weekly\\_Sales = IsHoliday + Size + CPI + Unemployment + MarkDown2 + MarkDown3 + MarkDown4 + MarkDown5 + Fuel_Price + Type + Store + Dept$$  \n",
    "  \n",
    "It has adjusted $R^2$ of 0.6811. This means that interaction effects are very important for this data.  \n",
    "  \n",
    "We tested this model on one of the row from original dataset (which we have exluded from training set in advance).\n",
    "However, most of the assumptions were violated, but even despite this model gave 1% accurate prediction."
   ]
  },
  {
   "cell_type": "markdown",
   "metadata": {},
   "source": [
    "### Recommendations"
   ]
  },
  {
   "cell_type": "markdown",
   "metadata": {},
   "source": [
    "Considering model and its coefficients, we can say that\n",
    "- some departments perform much better than another ones,\n",
    "    - for instance, departments 72 and 56 are good,\n",
    "    - while department 81 does not give good results.\n",
    "- holidays are also good for sales,\n",
    "- size of stores is important for sales,\n",
    "- unemployment has postive effect on sales,\n",
    "    - since people have more time to browse and buy.\n",
    "- the consumer price index has negative impact on sales.\n",
    "  \n",
    "Model that we got can be used for testing new stores and departments.\n",
    "Also, Amazon can check how holidays will impact on sales.\n",
    "This model can be used to check whether it makes sense to open new one, or not."
   ]
  },
  {
   "cell_type": "code",
   "execution_count": null,
   "metadata": {},
   "outputs": [],
   "source": []
  }
 ],
 "metadata": {
  "kernelspec": {
   "display_name": "R",
   "language": "R",
   "name": "ir"
  },
  "language_info": {
   "codemirror_mode": "r",
   "file_extension": ".r",
   "mimetype": "text/x-r-source",
   "name": "R",
   "pygments_lexer": "r",
   "version": "3.6.1"
  }
 },
 "nbformat": 4,
 "nbformat_minor": 2
}
